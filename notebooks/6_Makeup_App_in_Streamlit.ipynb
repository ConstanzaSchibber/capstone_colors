{
  "cells": [
    {
      "cell_type": "markdown",
      "metadata": {
        "id": "view-in-github",
        "colab_type": "text"
      },
      "source": [
        "<a href=\"https://colab.research.google.com/github/ConstanzaSchibber/capstone_colors/blob/main/notebooks/6_Makeup_App_in_Streamlit.ipynb\" target=\"_parent\"><img src=\"https://colab.research.google.com/assets/colab-badge.svg\" alt=\"Open In Colab\"/></a>"
      ]
    },
    {
      "cell_type": "markdown",
      "metadata": {
        "id": "G2q4GqYpHnLM"
      },
      "source": [
        "# App for Makeup Color Search Using Streamlit\n",
        "\n",
        "In this Jupyter notebook, I development a makeup color search application using Streamlit. This app allows users to filter and find makeup products, offering a more nuanced and extensive color selection process compared to major retailers like Sephora and Ulta.\n",
        "\n",
        "In the world of makeup, finding the perfect shade can be a challenge. While many online retailers offer basic color filtering, this app takes it a step further by providing a more granular and visually intuitive color selection process.\n",
        "\n",
        "### Key Features:\n",
        "1. **Color Filtering**: Users can choose from over 10 color groups, significantly more than typical e-commerce platforms.\n",
        "2. **Multiple Filter Options**: Products can be filtered by color, brand, and category (lipstick, blush, lipliner, lipgloss).\n",
        "3. **Visual Color Selection**: Color swatches are provided for users to click and filter by color intuitively.\n",
        "4. **AI-Powered Color Prediction**: The colors are predicted from product images using advanced methods (detailed in separate notebooks).\n",
        "\n",
        "### How It Works:\n",
        "- The app uses Streamlit to create an interactive web interface.\n",
        "- Color data is pre-processed and grouped by similarity.\n",
        "- Users interact with color swatches, brand selections, and product categories to filter results.\n",
        "- The filtered results are displayed in a dynamic, user-friendly table.\n",
        "\n",
        "### Streamlit\n",
        "\n",
        "1. **Setup and Styling**:\n",
        "   - The app uses Streamlit's page configuration to set the layout and sidebar state.\n",
        "   - Custom CSS is applied to style the page, including the sidebar and table.\n",
        "\n",
        "2. **Data Loading and Preparation**:\n",
        "   - The makeup data is loaded from a CSV file and relevant columns are selected.\n",
        "\n",
        "3. **Dynamic Filters**:\n",
        "   - The `DynamicFilters` class is used to create filters for category and brand.\n",
        "\n",
        "4. **Color Swatch Selection**:\n",
        "   - Color swatches are loaded and displayed as clickable images.\n",
        "   - When a color is clicked, it filters the dataset by that color.\n",
        "\n",
        "5. **Result Display**:\n",
        "   - The filtered results are displayed in a table with product images.\n",
        "\n",
        "This app leverages Streamlit's interactive features and custom styling to create a user-friendly interface. The color prediction and grouping (done in separate processes) allow for a more refined color selection than typically found in e-commerce platforms.\n"
      ]
    },
    {
      "cell_type": "markdown",
      "metadata": {
        "id": "TNxL6adfHvDG"
      },
      "source": [
        "# Libraries"
      ]
    },
    {
      "cell_type": "code",
      "execution_count": 1,
      "metadata": {
        "colab": {
          "base_uri": "https://localhost:8080/"
        },
        "id": "alaLq1E7GCJK",
        "outputId": "fd690c09-cac2-496f-ac4c-893d979a0a9a"
      },
      "outputs": [
        {
          "output_type": "stream",
          "name": "stdout",
          "text": [
            "\u001b[2K   \u001b[90m━━━━━━━━━━━━━━━━━━━━━━━━━━━━━━━━━━━━━━━━\u001b[0m \u001b[32m8.7/8.7 MB\u001b[0m \u001b[31m23.4 MB/s\u001b[0m eta \u001b[36m0:00:00\u001b[0m\n",
            "\u001b[2K   \u001b[90m━━━━━━━━━━━━━━━━━━━━━━━━━━━━━━━━━━━━━━━━\u001b[0m \u001b[32m207.3/207.3 kB\u001b[0m \u001b[31m7.8 MB/s\u001b[0m eta \u001b[36m0:00:00\u001b[0m\n",
            "\u001b[2K   \u001b[90m━━━━━━━━━━━━━━━━━━━━━━━━━━━━━━━━━━━━━━━━\u001b[0m \u001b[32m6.9/6.9 MB\u001b[0m \u001b[31m27.4 MB/s\u001b[0m eta \u001b[36m0:00:00\u001b[0m\n",
            "\u001b[2K   \u001b[90m━━━━━━━━━━━━━━━━━━━━━━━━━━━━━━━━━━━━━━━━\u001b[0m \u001b[32m82.9/82.9 kB\u001b[0m \u001b[31m1.8 MB/s\u001b[0m eta \u001b[36m0:00:00\u001b[0m\n",
            "\u001b[2K   \u001b[90m━━━━━━━━━━━━━━━━━━━━━━━━━━━━━━━━━━━━━━━━\u001b[0m \u001b[32m62.7/62.7 kB\u001b[0m \u001b[31m2.1 MB/s\u001b[0m eta \u001b[36m0:00:00\u001b[0m\n",
            "\u001b[?25h"
          ]
        }
      ],
      "source": [
        "!pip install -q streamlit"
      ]
    },
    {
      "cell_type": "code",
      "execution_count": 2,
      "metadata": {
        "colab": {
          "base_uri": "https://localhost:8080/"
        },
        "id": "s7TT-ojwG2e_",
        "outputId": "c029568f-5b73-4951-a350-64759744f39d"
      },
      "outputs": [
        {
          "output_type": "stream",
          "name": "stdout",
          "text": [
            "Collecting streamlit_dynamic_filters\n",
            "  Downloading streamlit_dynamic_filters-0.1.9-py3-none-any.whl.metadata (5.2 kB)\n",
            "Requirement already satisfied: streamlit in /usr/local/lib/python3.10/dist-packages (from streamlit_dynamic_filters) (1.38.0)\n",
            "Requirement already satisfied: altair<6,>=4.0 in /usr/local/lib/python3.10/dist-packages (from streamlit->streamlit_dynamic_filters) (4.2.2)\n",
            "Requirement already satisfied: blinker<2,>=1.0.0 in /usr/lib/python3/dist-packages (from streamlit->streamlit_dynamic_filters) (1.4)\n",
            "Requirement already satisfied: cachetools<6,>=4.0 in /usr/local/lib/python3.10/dist-packages (from streamlit->streamlit_dynamic_filters) (5.5.0)\n",
            "Requirement already satisfied: click<9,>=7.0 in /usr/local/lib/python3.10/dist-packages (from streamlit->streamlit_dynamic_filters) (8.1.7)\n",
            "Requirement already satisfied: numpy<3,>=1.20 in /usr/local/lib/python3.10/dist-packages (from streamlit->streamlit_dynamic_filters) (1.26.4)\n",
            "Requirement already satisfied: packaging<25,>=20 in /usr/local/lib/python3.10/dist-packages (from streamlit->streamlit_dynamic_filters) (24.1)\n",
            "Requirement already satisfied: pandas<3,>=1.3.0 in /usr/local/lib/python3.10/dist-packages (from streamlit->streamlit_dynamic_filters) (2.1.4)\n",
            "Requirement already satisfied: pillow<11,>=7.1.0 in /usr/local/lib/python3.10/dist-packages (from streamlit->streamlit_dynamic_filters) (9.4.0)\n",
            "Requirement already satisfied: protobuf<6,>=3.20 in /usr/local/lib/python3.10/dist-packages (from streamlit->streamlit_dynamic_filters) (3.20.3)\n",
            "Requirement already satisfied: pyarrow>=7.0 in /usr/local/lib/python3.10/dist-packages (from streamlit->streamlit_dynamic_filters) (14.0.2)\n",
            "Requirement already satisfied: requests<3,>=2.27 in /usr/local/lib/python3.10/dist-packages (from streamlit->streamlit_dynamic_filters) (2.32.3)\n",
            "Requirement already satisfied: rich<14,>=10.14.0 in /usr/local/lib/python3.10/dist-packages (from streamlit->streamlit_dynamic_filters) (13.8.0)\n",
            "Requirement already satisfied: tenacity<9,>=8.1.0 in /usr/local/lib/python3.10/dist-packages (from streamlit->streamlit_dynamic_filters) (8.5.0)\n",
            "Requirement already satisfied: toml<2,>=0.10.1 in /usr/local/lib/python3.10/dist-packages (from streamlit->streamlit_dynamic_filters) (0.10.2)\n",
            "Requirement already satisfied: typing-extensions<5,>=4.3.0 in /usr/local/lib/python3.10/dist-packages (from streamlit->streamlit_dynamic_filters) (4.12.2)\n",
            "Requirement already satisfied: gitpython!=3.1.19,<4,>=3.0.7 in /usr/local/lib/python3.10/dist-packages (from streamlit->streamlit_dynamic_filters) (3.1.43)\n",
            "Requirement already satisfied: pydeck<1,>=0.8.0b4 in /usr/local/lib/python3.10/dist-packages (from streamlit->streamlit_dynamic_filters) (0.9.1)\n",
            "Requirement already satisfied: tornado<7,>=6.0.3 in /usr/local/lib/python3.10/dist-packages (from streamlit->streamlit_dynamic_filters) (6.3.3)\n",
            "Requirement already satisfied: watchdog<5,>=2.1.5 in /usr/local/lib/python3.10/dist-packages (from streamlit->streamlit_dynamic_filters) (4.0.2)\n",
            "Requirement already satisfied: entrypoints in /usr/local/lib/python3.10/dist-packages (from altair<6,>=4.0->streamlit->streamlit_dynamic_filters) (0.4)\n",
            "Requirement already satisfied: jinja2 in /usr/local/lib/python3.10/dist-packages (from altair<6,>=4.0->streamlit->streamlit_dynamic_filters) (3.1.4)\n",
            "Requirement already satisfied: jsonschema>=3.0 in /usr/local/lib/python3.10/dist-packages (from altair<6,>=4.0->streamlit->streamlit_dynamic_filters) (4.23.0)\n",
            "Requirement already satisfied: toolz in /usr/local/lib/python3.10/dist-packages (from altair<6,>=4.0->streamlit->streamlit_dynamic_filters) (0.12.1)\n",
            "Requirement already satisfied: gitdb<5,>=4.0.1 in /usr/local/lib/python3.10/dist-packages (from gitpython!=3.1.19,<4,>=3.0.7->streamlit->streamlit_dynamic_filters) (4.0.11)\n",
            "Requirement already satisfied: python-dateutil>=2.8.2 in /usr/local/lib/python3.10/dist-packages (from pandas<3,>=1.3.0->streamlit->streamlit_dynamic_filters) (2.8.2)\n",
            "Requirement already satisfied: pytz>=2020.1 in /usr/local/lib/python3.10/dist-packages (from pandas<3,>=1.3.0->streamlit->streamlit_dynamic_filters) (2024.1)\n",
            "Requirement already satisfied: tzdata>=2022.1 in /usr/local/lib/python3.10/dist-packages (from pandas<3,>=1.3.0->streamlit->streamlit_dynamic_filters) (2024.1)\n",
            "Requirement already satisfied: charset-normalizer<4,>=2 in /usr/local/lib/python3.10/dist-packages (from requests<3,>=2.27->streamlit->streamlit_dynamic_filters) (3.3.2)\n",
            "Requirement already satisfied: idna<4,>=2.5 in /usr/local/lib/python3.10/dist-packages (from requests<3,>=2.27->streamlit->streamlit_dynamic_filters) (3.8)\n",
            "Requirement already satisfied: urllib3<3,>=1.21.1 in /usr/local/lib/python3.10/dist-packages (from requests<3,>=2.27->streamlit->streamlit_dynamic_filters) (2.0.7)\n",
            "Requirement already satisfied: certifi>=2017.4.17 in /usr/local/lib/python3.10/dist-packages (from requests<3,>=2.27->streamlit->streamlit_dynamic_filters) (2024.7.4)\n",
            "Requirement already satisfied: markdown-it-py>=2.2.0 in /usr/local/lib/python3.10/dist-packages (from rich<14,>=10.14.0->streamlit->streamlit_dynamic_filters) (3.0.0)\n",
            "Requirement already satisfied: pygments<3.0.0,>=2.13.0 in /usr/local/lib/python3.10/dist-packages (from rich<14,>=10.14.0->streamlit->streamlit_dynamic_filters) (2.16.1)\n",
            "Requirement already satisfied: smmap<6,>=3.0.1 in /usr/local/lib/python3.10/dist-packages (from gitdb<5,>=4.0.1->gitpython!=3.1.19,<4,>=3.0.7->streamlit->streamlit_dynamic_filters) (5.0.1)\n",
            "Requirement already satisfied: MarkupSafe>=2.0 in /usr/local/lib/python3.10/dist-packages (from jinja2->altair<6,>=4.0->streamlit->streamlit_dynamic_filters) (2.1.5)\n",
            "Requirement already satisfied: attrs>=22.2.0 in /usr/local/lib/python3.10/dist-packages (from jsonschema>=3.0->altair<6,>=4.0->streamlit->streamlit_dynamic_filters) (24.2.0)\n",
            "Requirement already satisfied: jsonschema-specifications>=2023.03.6 in /usr/local/lib/python3.10/dist-packages (from jsonschema>=3.0->altair<6,>=4.0->streamlit->streamlit_dynamic_filters) (2023.12.1)\n",
            "Requirement already satisfied: referencing>=0.28.4 in /usr/local/lib/python3.10/dist-packages (from jsonschema>=3.0->altair<6,>=4.0->streamlit->streamlit_dynamic_filters) (0.35.1)\n",
            "Requirement already satisfied: rpds-py>=0.7.1 in /usr/local/lib/python3.10/dist-packages (from jsonschema>=3.0->altair<6,>=4.0->streamlit->streamlit_dynamic_filters) (0.20.0)\n",
            "Requirement already satisfied: mdurl~=0.1 in /usr/local/lib/python3.10/dist-packages (from markdown-it-py>=2.2.0->rich<14,>=10.14.0->streamlit->streamlit_dynamic_filters) (0.1.2)\n",
            "Requirement already satisfied: six>=1.5 in /usr/local/lib/python3.10/dist-packages (from python-dateutil>=2.8.2->pandas<3,>=1.3.0->streamlit->streamlit_dynamic_filters) (1.16.0)\n",
            "Downloading streamlit_dynamic_filters-0.1.9-py3-none-any.whl (6.8 kB)\n",
            "Installing collected packages: streamlit_dynamic_filters\n",
            "Successfully installed streamlit_dynamic_filters-0.1.9\n"
          ]
        }
      ],
      "source": [
        "!pip install streamlit_dynamic_filters"
      ]
    },
    {
      "cell_type": "code",
      "execution_count": 3,
      "metadata": {
        "id": "Z3S_yRbsvC1U"
      },
      "outputs": [],
      "source": [
        "import streamlit as st\n",
        "import pandas as pd\n",
        "from streamlit_dynamic_filters import DynamicFilters"
      ]
    },
    {
      "cell_type": "code",
      "source": [
        "!pip install st_clickable_images"
      ],
      "metadata": {
        "colab": {
          "base_uri": "https://localhost:8080/"
        },
        "id": "rIfVC8Qd7gLv",
        "outputId": "8205017c-9a51-405e-e2da-2d1899800015"
      },
      "execution_count": 4,
      "outputs": [
        {
          "output_type": "stream",
          "name": "stdout",
          "text": [
            "Collecting st_clickable_images\n",
            "  Downloading st_clickable_images-0.0.3-py3-none-any.whl.metadata (418 bytes)\n",
            "Requirement already satisfied: streamlit>=0.63 in /usr/local/lib/python3.10/dist-packages (from st_clickable_images) (1.38.0)\n",
            "Requirement already satisfied: altair<6,>=4.0 in /usr/local/lib/python3.10/dist-packages (from streamlit>=0.63->st_clickable_images) (4.2.2)\n",
            "Requirement already satisfied: blinker<2,>=1.0.0 in /usr/lib/python3/dist-packages (from streamlit>=0.63->st_clickable_images) (1.4)\n",
            "Requirement already satisfied: cachetools<6,>=4.0 in /usr/local/lib/python3.10/dist-packages (from streamlit>=0.63->st_clickable_images) (5.5.0)\n",
            "Requirement already satisfied: click<9,>=7.0 in /usr/local/lib/python3.10/dist-packages (from streamlit>=0.63->st_clickable_images) (8.1.7)\n",
            "Requirement already satisfied: numpy<3,>=1.20 in /usr/local/lib/python3.10/dist-packages (from streamlit>=0.63->st_clickable_images) (1.26.4)\n",
            "Requirement already satisfied: packaging<25,>=20 in /usr/local/lib/python3.10/dist-packages (from streamlit>=0.63->st_clickable_images) (24.1)\n",
            "Requirement already satisfied: pandas<3,>=1.3.0 in /usr/local/lib/python3.10/dist-packages (from streamlit>=0.63->st_clickable_images) (2.1.4)\n",
            "Requirement already satisfied: pillow<11,>=7.1.0 in /usr/local/lib/python3.10/dist-packages (from streamlit>=0.63->st_clickable_images) (9.4.0)\n",
            "Requirement already satisfied: protobuf<6,>=3.20 in /usr/local/lib/python3.10/dist-packages (from streamlit>=0.63->st_clickable_images) (3.20.3)\n",
            "Requirement already satisfied: pyarrow>=7.0 in /usr/local/lib/python3.10/dist-packages (from streamlit>=0.63->st_clickable_images) (14.0.2)\n",
            "Requirement already satisfied: requests<3,>=2.27 in /usr/local/lib/python3.10/dist-packages (from streamlit>=0.63->st_clickable_images) (2.32.3)\n",
            "Requirement already satisfied: rich<14,>=10.14.0 in /usr/local/lib/python3.10/dist-packages (from streamlit>=0.63->st_clickable_images) (13.8.0)\n",
            "Requirement already satisfied: tenacity<9,>=8.1.0 in /usr/local/lib/python3.10/dist-packages (from streamlit>=0.63->st_clickable_images) (8.5.0)\n",
            "Requirement already satisfied: toml<2,>=0.10.1 in /usr/local/lib/python3.10/dist-packages (from streamlit>=0.63->st_clickable_images) (0.10.2)\n",
            "Requirement already satisfied: typing-extensions<5,>=4.3.0 in /usr/local/lib/python3.10/dist-packages (from streamlit>=0.63->st_clickable_images) (4.12.2)\n",
            "Requirement already satisfied: gitpython!=3.1.19,<4,>=3.0.7 in /usr/local/lib/python3.10/dist-packages (from streamlit>=0.63->st_clickable_images) (3.1.43)\n",
            "Requirement already satisfied: pydeck<1,>=0.8.0b4 in /usr/local/lib/python3.10/dist-packages (from streamlit>=0.63->st_clickable_images) (0.9.1)\n",
            "Requirement already satisfied: tornado<7,>=6.0.3 in /usr/local/lib/python3.10/dist-packages (from streamlit>=0.63->st_clickable_images) (6.3.3)\n",
            "Requirement already satisfied: watchdog<5,>=2.1.5 in /usr/local/lib/python3.10/dist-packages (from streamlit>=0.63->st_clickable_images) (4.0.2)\n",
            "Requirement already satisfied: entrypoints in /usr/local/lib/python3.10/dist-packages (from altair<6,>=4.0->streamlit>=0.63->st_clickable_images) (0.4)\n",
            "Requirement already satisfied: jinja2 in /usr/local/lib/python3.10/dist-packages (from altair<6,>=4.0->streamlit>=0.63->st_clickable_images) (3.1.4)\n",
            "Requirement already satisfied: jsonschema>=3.0 in /usr/local/lib/python3.10/dist-packages (from altair<6,>=4.0->streamlit>=0.63->st_clickable_images) (4.23.0)\n",
            "Requirement already satisfied: toolz in /usr/local/lib/python3.10/dist-packages (from altair<6,>=4.0->streamlit>=0.63->st_clickable_images) (0.12.1)\n",
            "Requirement already satisfied: gitdb<5,>=4.0.1 in /usr/local/lib/python3.10/dist-packages (from gitpython!=3.1.19,<4,>=3.0.7->streamlit>=0.63->st_clickable_images) (4.0.11)\n",
            "Requirement already satisfied: python-dateutil>=2.8.2 in /usr/local/lib/python3.10/dist-packages (from pandas<3,>=1.3.0->streamlit>=0.63->st_clickable_images) (2.8.2)\n",
            "Requirement already satisfied: pytz>=2020.1 in /usr/local/lib/python3.10/dist-packages (from pandas<3,>=1.3.0->streamlit>=0.63->st_clickable_images) (2024.1)\n",
            "Requirement already satisfied: tzdata>=2022.1 in /usr/local/lib/python3.10/dist-packages (from pandas<3,>=1.3.0->streamlit>=0.63->st_clickable_images) (2024.1)\n",
            "Requirement already satisfied: charset-normalizer<4,>=2 in /usr/local/lib/python3.10/dist-packages (from requests<3,>=2.27->streamlit>=0.63->st_clickable_images) (3.3.2)\n",
            "Requirement already satisfied: idna<4,>=2.5 in /usr/local/lib/python3.10/dist-packages (from requests<3,>=2.27->streamlit>=0.63->st_clickable_images) (3.8)\n",
            "Requirement already satisfied: urllib3<3,>=1.21.1 in /usr/local/lib/python3.10/dist-packages (from requests<3,>=2.27->streamlit>=0.63->st_clickable_images) (2.0.7)\n",
            "Requirement already satisfied: certifi>=2017.4.17 in /usr/local/lib/python3.10/dist-packages (from requests<3,>=2.27->streamlit>=0.63->st_clickable_images) (2024.7.4)\n",
            "Requirement already satisfied: markdown-it-py>=2.2.0 in /usr/local/lib/python3.10/dist-packages (from rich<14,>=10.14.0->streamlit>=0.63->st_clickable_images) (3.0.0)\n",
            "Requirement already satisfied: pygments<3.0.0,>=2.13.0 in /usr/local/lib/python3.10/dist-packages (from rich<14,>=10.14.0->streamlit>=0.63->st_clickable_images) (2.16.1)\n",
            "Requirement already satisfied: smmap<6,>=3.0.1 in /usr/local/lib/python3.10/dist-packages (from gitdb<5,>=4.0.1->gitpython!=3.1.19,<4,>=3.0.7->streamlit>=0.63->st_clickable_images) (5.0.1)\n",
            "Requirement already satisfied: MarkupSafe>=2.0 in /usr/local/lib/python3.10/dist-packages (from jinja2->altair<6,>=4.0->streamlit>=0.63->st_clickable_images) (2.1.5)\n",
            "Requirement already satisfied: attrs>=22.2.0 in /usr/local/lib/python3.10/dist-packages (from jsonschema>=3.0->altair<6,>=4.0->streamlit>=0.63->st_clickable_images) (24.2.0)\n",
            "Requirement already satisfied: jsonschema-specifications>=2023.03.6 in /usr/local/lib/python3.10/dist-packages (from jsonschema>=3.0->altair<6,>=4.0->streamlit>=0.63->st_clickable_images) (2023.12.1)\n",
            "Requirement already satisfied: referencing>=0.28.4 in /usr/local/lib/python3.10/dist-packages (from jsonschema>=3.0->altair<6,>=4.0->streamlit>=0.63->st_clickable_images) (0.35.1)\n",
            "Requirement already satisfied: rpds-py>=0.7.1 in /usr/local/lib/python3.10/dist-packages (from jsonschema>=3.0->altair<6,>=4.0->streamlit>=0.63->st_clickable_images) (0.20.0)\n",
            "Requirement already satisfied: mdurl~=0.1 in /usr/local/lib/python3.10/dist-packages (from markdown-it-py>=2.2.0->rich<14,>=10.14.0->streamlit>=0.63->st_clickable_images) (0.1.2)\n",
            "Requirement already satisfied: six>=1.5 in /usr/local/lib/python3.10/dist-packages (from python-dateutil>=2.8.2->pandas<3,>=1.3.0->streamlit>=0.63->st_clickable_images) (1.16.0)\n",
            "Downloading st_clickable_images-0.0.3-py3-none-any.whl (375 kB)\n",
            "\u001b[2K   \u001b[90m━━━━━━━━━━━━━━━━━━━━━━━━━━━━━━━━━━━━━━━━\u001b[0m \u001b[32m376.0/376.0 kB\u001b[0m \u001b[31m6.9 MB/s\u001b[0m eta \u001b[36m0:00:00\u001b[0m\n",
            "\u001b[?25hInstalling collected packages: st_clickable_images\n",
            "Successfully installed st_clickable_images-0.0.3\n"
          ]
        }
      ]
    },
    {
      "cell_type": "markdown",
      "source": [
        "Read that from public link:"
      ],
      "metadata": {
        "id": "pVVbvaid9FH5"
      }
    },
    {
      "cell_type": "code",
      "source": [
        "import pandas as pd\n",
        "\n",
        "url = 'https://drive.google.com/file/d/1DhCe1Kqtckk9zD8FApsswjB_sUrfP_YQ/view?usp=sharing'\n",
        "path = 'https://drive.google.com/uc?export=download&id='+url.split('/')[-2]\n",
        "df = pd.read_csv(path)"
      ],
      "metadata": {
        "id": "5rfW8ndr8g2F"
      },
      "execution_count": 8,
      "outputs": []
    },
    {
      "cell_type": "markdown",
      "source": [
        "# Generate Color Swatch\n",
        "\n",
        "The following will generate the color swatch image and save it in a color folder. It will then be read into the Streamlit app."
      ],
      "metadata": {
        "id": "yoLdWZkq9Kci"
      }
    },
    {
      "cell_type": "code",
      "source": [
        "from PIL import Image\n",
        "\n",
        "def generate_color_square(hex_color, size=100, output_path=None):\n",
        "    # Create an image with the given color\n",
        "    img = Image.new('RGB', (size, size), hex_color)\n",
        "\n",
        "    # Save the image\n",
        "    if output_path:\n",
        "        img.save(output_path)\n",
        "    return img\n",
        "\n",
        "# Example usage\n",
        "colors = df.median_hex_group.unique()\n",
        "size = 100  # 100x100 pixels\n",
        "\n",
        "output_file_list = []\n",
        "\n",
        "for color in colors:\n",
        "    color_name = color.lstrip('#')  # Remove the '#' for the filename\n",
        "    output_file = f\"{color_name}.png\"\n",
        "    generate_color_square(color, size, output_file)\n",
        "    output_file_list.append(output_file)\n",
        "    print(f\"Generated {output_file}\")"
      ],
      "metadata": {
        "colab": {
          "base_uri": "https://localhost:8080/"
        },
        "id": "CzgaUC6V5d5t",
        "outputId": "5ef24e3c-d051-44b1-9bff-eaaaca94057a"
      },
      "execution_count": 9,
      "outputs": [
        {
          "output_type": "stream",
          "name": "stdout",
          "text": [
            "Generated c13744.png\n",
            "Generated f3a3a7.png\n",
            "Generated 8c251e.png\n",
            "Generated ffd9d5.png\n",
            "Generated dd4b7a.png\n",
            "Generated 5e1920.png\n",
            "Generated da7670.png\n",
            "Generated f9c2b5.png\n",
            "Generated e5817c.png\n",
            "Generated aa1642.png\n"
          ]
        }
      ]
    },
    {
      "cell_type": "code",
      "source": [
        "output_file_list"
      ],
      "metadata": {
        "colab": {
          "base_uri": "https://localhost:8080/"
        },
        "id": "u8mpNCn75i3i",
        "outputId": "66a40929-e37e-49e9-9126-cb03b462a326"
      },
      "execution_count": 10,
      "outputs": [
        {
          "output_type": "execute_result",
          "data": {
            "text/plain": [
              "['c13744.png',\n",
              " 'f3a3a7.png',\n",
              " '8c251e.png',\n",
              " 'ffd9d5.png',\n",
              " 'dd4b7a.png',\n",
              " '5e1920.png',\n",
              " 'da7670.png',\n",
              " 'f9c2b5.png',\n",
              " 'e5817c.png',\n",
              " 'aa1642.png']"
            ]
          },
          "metadata": {},
          "execution_count": 10
        }
      ]
    },
    {
      "cell_type": "markdown",
      "source": [
        "# Streamlit Code"
      ],
      "metadata": {
        "id": "GxpOqdJN5fGw"
      }
    },
    {
      "cell_type": "code",
      "source": [
        "%%writefile app.py\n",
        "\n",
        "import streamlit as st\n",
        "from st_clickable_images import clickable_images\n",
        "import pandas as pd\n",
        "from streamlit_dynamic_filters import DynamicFilters\n",
        "from PIL import Image\n",
        "import base64\n",
        "\n",
        "\n",
        "# Set page config\n",
        "st.set_page_config(\n",
        "    page_title=\"Makeup Filter App\",\n",
        "    page_icon=\"💄\",\n",
        "    layout=\"wide\",\n",
        "    initial_sidebar_state=\"expanded\",\n",
        ")\n",
        "\n",
        "\n",
        "st.markdown(\n",
        "    \"\"\"\n",
        "    <style>\n",
        "\n",
        "    /* Change background color */\n",
        "    .main {\n",
        "        background-color: #f5f5f5; /* Light grey background */\n",
        "    }\n",
        "\n",
        "    /* Change font color and style */\n",
        "    h1, h2, h3, h4, h5, h6, p, li {\n",
        "        color: #333333; /* Dark grey font color */\n",
        "        font-family: 'Arial', sans-serif;\n",
        "    }\n",
        "\n",
        "    /* Target the entire sidebar */\n",
        "    [data-testid=\"stSidebar\"] {\n",
        "        background-color: #210340;\n",
        "    }\n",
        "\n",
        "    /* Target all text elements within the sidebar */\n",
        "    [data-testid=\"stSidebar\"] * {\n",
        "        color: white !important;\n",
        "    }\n",
        "\n",
        "    /* Specific selectors for different text elements */\n",
        "    [data-testid=\"stSidebar\"] .stMarkdown p {\n",
        "        color: white !important;\n",
        "    }\n",
        "\n",
        "    [data-testid=\"stSidebar\"] .stSelectbox label {\n",
        "        color: white !important;\n",
        "    }\n",
        "\n",
        "    [data-testid=\"stSidebar\"] .stMultiSelect label {\n",
        "        color: white !important;\n",
        "    }\n",
        "\n",
        "    /* Style for sidebar header */\n",
        "    [data-testid=\"stSidebarNav\"] {\n",
        "        color: white !important;\n",
        "    }\n",
        "\n",
        "    /* Style for dropdown menus in sidebar */\n",
        "    [data-testid=\"stSidebar\"] .stSelectbox div[data-baseweb=\"select\"] > div,\n",
        "    [data-testid=\"stSidebar\"] .stMultiSelect div[data-baseweb=\"select\"] > div {\n",
        "    background-color: #87034e !important;\n",
        "      }\n",
        "\n",
        "    /* Style for dropdown options */\n",
        "    [data-testid=\"stSidebar\"] ul[data-baseweb=\"menu\"] {\n",
        "    background-color: white !important;\n",
        "    }\n",
        "\n",
        "    /* Style for dropdown text */\n",
        "    [data-testid=\"stSidebar\"] .stSelectbox div[data-baseweb=\"select\"] span,\n",
        "    [data-testid=\"stSidebar\"] .stMultiSelect div[data-baseweb=\"select\"] span,\n",
        "    [data-testid=\"stSidebar\"] ul[data-baseweb=\"menu\"] li {\n",
        "    color: #87034e !important;\n",
        "    }\n",
        "\n",
        "    /* Table styles */\n",
        "    .dataframe {\n",
        "        color: #333333 !important;\n",
        "    }\n",
        "    .dataframe th {\n",
        "        background-color: #210340;\n",
        "        color: white !important;\n",
        "    }\n",
        "    .dataframe td {\n",
        "        background-color: #f5f5f5;\n",
        "    }\n",
        "    </style>\n",
        "    \"\"\",\n",
        "    unsafe_allow_html=True\n",
        ")\n",
        "\n",
        "with st.sidebar:\n",
        "    \"## Filter Makeup Options!\"\n",
        "# Title and Introduction\n",
        "st.title(\"Makeup Filter App 💄\")\n",
        "st.markdown(\"\"\"\n",
        "Welcome to the Makeup Filter App! This tool allows you to filter a makeup by color shade, product category, and brand. Use the filters in the sidebar to narrow down the table and explore the data.\n",
        "\"\"\")\n",
        "\n",
        "# Instructions\n",
        "st.header(\"Instructions\")\n",
        "st.markdown(\"\"\"\n",
        "1. **Select Filters:** Use the filters in the sidebar to filter the table by color shade, product category, and brand.\n",
        "2. **View the Table:** The filtered table will be displayed below the filters.\n",
        "3. **Explore:** You can experiment with different combinations of filters to explore the dataset.\n",
        "\n",
        "This app is designed to help you easily navigate through the makeup options by providing dynamic filtering options.\n",
        "\"\"\")\n",
        "\n",
        "## DATA\n",
        "\n",
        "# Read and sample data\n",
        "\n",
        "df = pd.read_csv('/content/drive/My Drive/df_for_streamlit.csv')\n",
        "df = df[df.ground_truth == 1]\n",
        "df = df[['category', 'brand', 'median_hex_circle', 'Circle', 'img_url']]\n",
        "\n",
        "\n",
        "# Filter Sidebar\n",
        "\n",
        "dynamic_filters = DynamicFilters(df=df, filters=['category', 'brand'])\n",
        "#dynamic_filters.display_filters(location='sidebar')\n",
        "\n",
        "# save filtered df as new variable\n",
        "new_df = dynamic_filters.filter_df()\n",
        "\n",
        "# Color pick\n",
        "\n",
        "list_images = ['c13744.png',\n",
        " 'f3a3a7.png',\n",
        " '8c251e.png',\n",
        " 'ffd9d5.png',\n",
        " 'dd4b7a.png',\n",
        " '5e1920.png',\n",
        " 'da7670.png',\n",
        " 'f9c2b5.png',\n",
        " 'e5817c.png',\n",
        " 'aa1642.png']\n",
        "\n",
        "images = []\n",
        "for file in list_images:\n",
        "    with open(file, \"rb\") as image:\n",
        "        encoded = base64.b64encode(image.read()).decode()\n",
        "        images.append(f\"data:image/jpeg;base64,{encoded}\")\n",
        "\n",
        "### Create color bar\n",
        "clicked = clickable_images(\n",
        "    images,\n",
        "    titles=[f\"Image #{str(i)}\" for i in range(10)],\n",
        "    div_style={\"display\": \"flex\", \"justify-content\": \"center\", \"flex-wrap\": \"wrap\"},\n",
        "    img_style={\"margin\": \"5px\", \"height\": \"50px\"},\n",
        ")\n",
        "\n",
        "## Filter by color\n",
        "if clicked == 0:\n",
        "  cat = df.median_hex_circle.unique()[0]\n",
        "  new_df = new_df[new_df.median_hex_circle == cat]\n",
        "  dynamic_filters = DynamicFilters(df=new_df, filters=['category', 'brand'])\n",
        "\n",
        "elif clicked == 1:\n",
        "  cat = df.median_hex_circle.unique()[1]\n",
        "  new_df = new_df[new_df.median_hex_circle == cat]\n",
        "  dynamic_filters = DynamicFilters(df=new_df, filters=['category', 'brand'])\n",
        "\n",
        "elif clicked == 2:\n",
        "  cat = df.median_hex_circle.unique()[2]\n",
        "  new_df = new_df[new_df.median_hex_circle == cat]\n",
        "  #dynamic_filters = DynamicFilters(df=new_df, filters=['category', 'brand'])\n",
        "\n",
        "elif clicked == 3:\n",
        "  cat = df.median_hex_circle.unique()[3]\n",
        "  new_df = new_df[new_df.median_hex_circle == cat]\n",
        "  #dynamic_filters = DynamicFilters(df=new_df, filters=['category', 'brand'])\n",
        "\n",
        "elif clicked == 4:\n",
        "  cat = df.median_hex_circle.unique()[4]\n",
        "  new_df = new_df[new_df.median_hex_circle == cat]\n",
        "  #dynamic_filters = DynamicFilters(df=new_df, filters=['category', 'brand'])\n",
        "\n",
        "elif clicked == 5:\n",
        "  cat = df.median_hex_circle.unique()[5]\n",
        "  new_df = new_df[new_df.median_hex_circle == cat]\n",
        "  #dynamic_filters = DynamicFilters(df=new_df, filters=['category', 'brand'])\n",
        "\n",
        "elif clicked == 6:\n",
        "  cat = df.median_hex_circle.unique()[6]\n",
        "  new_df = new_df[new_df.median_hex_circle == cat]\n",
        "  #dynamic_filters = DynamicFilters(df=new_df, filters=['category', 'brand'])\n",
        "\n",
        "elif clicked == 7:\n",
        "  cat = df.median_hex_circle.unique()[7]\n",
        "  new_df = new_df[new_df.median_hex_circle == cat]\n",
        "  #dynamic_filters = DynamicFilters(df=new_df, filters=['category', 'brand'])\n",
        "\n",
        "elif clicked == 8:\n",
        "  cat = df.median_hex_circle.unique()[8]\n",
        "  new_df = new_df[new_df.median_hex_circle == cat]\n",
        "  #dynamic_filters = DynamicFilters(df=new_df, filters=['category', 'brand'])\n",
        "\n",
        "elif clicked == 9:\n",
        "  cat = df.median_hex_circle.unique()[9]\n",
        "  new_df = new_df[new_df.median_hex_circle == cat]\n",
        "  #dynamic_filters = DynamicFilters(df=new_df, filters=['category', 'brand'])\n",
        "\n",
        "dynamic_filters.display_filters(location='sidebar')\n",
        "\n",
        "# Converting links to html tags\n",
        "def path_to_image_html(path):\n",
        "    return '<img src=\"' + path + '\" height=\"60\" >'\n",
        "\n",
        "\n",
        "if len(new_df) < len(df):\n",
        "    # Apply the color_square function to the 'District' column\n",
        "    #new_df['District'] = new_df['District'].apply(color_square)\n",
        "    new_df = new_df.sort_values(by = ['category','brand'])\n",
        "    # Display the dataframe with HTML\n",
        "    #st.write(new_df.to_html(escape=False, index=False), formatters=dict(img_url=path_to_image_html), unsafe_allow_html=True)\n",
        "\n",
        "    def convert_df(input_df):\n",
        "     # IMPORTANT: Cache the conversion to prevent computation on every rerun\n",
        "     return input_df.to_html(escape=False, formatters=dict(img_url=path_to_image_html))\n",
        "\n",
        "    html = convert_df(new_df)\n",
        "\n",
        "    st.markdown(\n",
        "    html,\n",
        "    unsafe_allow_html=True\n",
        "    )\n",
        "\n",
        "else:\n",
        "    st.write(\"Please select at least one filter to display the data.\")\n",
        "\n",
        "\n"
      ],
      "metadata": {
        "colab": {
          "base_uri": "https://localhost:8080/"
        },
        "id": "qXnGcq6gxaLY",
        "outputId": "141bc2b5-7c04-44a9-ef5e-2e25287b39d1"
      },
      "execution_count": 20,
      "outputs": [
        {
          "output_type": "stream",
          "name": "stdout",
          "text": [
            "Overwriting app.py\n"
          ]
        }
      ]
    },
    {
      "cell_type": "markdown",
      "source": [
        "# Deploying and Sharing the Streamlit App\n",
        "\n",
        "The following set of commands is typically used to run a Streamlit app and make it accessible over the internet. Here's a brief explanation:\n",
        "\n",
        "- `!npm install localtunnel`: Installs the localtunnel package, which is used to expose local servers to the internet.\n",
        "\n",
        "\n",
        "- `!curl ipv4.icanhazip.com`: Retrieves the public IP address of the machine running the command.\n",
        "\n",
        "\n",
        "- `!streamlit run app.py &>./logs.txt &`: Runs the Streamlit app defined in `'app.py'.`\n",
        "\n",
        "- `&>./logs.txt`: redirects both standard output and error to a log file.\n",
        "The & at the end runs the command in the background.\n",
        "\n",
        "\n",
        "- `npx localtunnel --port 8501`: Uses localtunnel to expose the Streamlit app (which typically runs on port 8501) to the internet.\n",
        "\n",
        "\n",
        "This combination of commands is often used in Google Colab to run and share Streamlit apps. It allows others to access your locally running Streamlit app through a public URL provided by localtunnel."
      ],
      "metadata": {
        "id": "20rNjvcx6MXy"
      }
    },
    {
      "cell_type": "code",
      "execution_count": 12,
      "metadata": {
        "colab": {
          "base_uri": "https://localhost:8080/"
        },
        "id": "E3UGuSO0GQTP",
        "outputId": "1f4729b1-044d-4cef-b102-694ce242179f"
      },
      "outputs": [
        {
          "output_type": "stream",
          "name": "stdout",
          "text": [
            "\u001b[K\u001b[?25h\n",
            "added 22 packages, and audited 23 packages in 2s\n",
            "\n",
            "3 packages are looking for funding\n",
            "  run `npm fund` for details\n",
            "\n",
            "2 \u001b[33m\u001b[1mmoderate\u001b[22m\u001b[39m severity vulnerabilities\n",
            "\n",
            "To address all issues, run:\n",
            "  npm audit fix\n",
            "\n",
            "Run `npm audit` for details.\n"
          ]
        }
      ],
      "source": [
        "!npm install localtunnel"
      ]
    },
    {
      "cell_type": "code",
      "execution_count": 13,
      "metadata": {
        "colab": {
          "base_uri": "https://localhost:8080/"
        },
        "id": "6ENpXHTTpWWQ",
        "outputId": "95d4ec28-c0d6-4f7d-8cd0-9d141aac4f42"
      },
      "outputs": [
        {
          "output_type": "stream",
          "name": "stdout",
          "text": [
            "35.197.97.31\n"
          ]
        }
      ],
      "source": [
        "# Your public ip is the password to the localtunnel\n",
        "!curl ipv4.icanhazip.com"
      ]
    },
    {
      "cell_type": "markdown",
      "source": [
        "After running this, you will have a link. Click the link and input the IP address provided right above into the text box, click enter."
      ],
      "metadata": {
        "id": "fMQCvhud6rhz"
      }
    },
    {
      "cell_type": "code",
      "execution_count": 21,
      "metadata": {
        "colab": {
          "base_uri": "https://localhost:8080/"
        },
        "id": "OSCKGhNsGTJw",
        "outputId": "82e2b07f-64a1-4d24-fb0f-30028e05acec"
      },
      "outputs": [
        {
          "output_type": "stream",
          "name": "stdout",
          "text": [
            "your url is: https://eighty-memes-pump.loca.lt\n",
            "^C\n"
          ]
        }
      ],
      "source": [
        "!streamlit run app.py &>./logs.txt & npx localtunnel --port 8501"
      ]
    }
  ],
  "metadata": {
    "colab": {
      "provenance": [],
      "authorship_tag": "ABX9TyM7IBOVUFsWZrYJe+cGyQwE",
      "include_colab_link": true
    },
    "kernelspec": {
      "display_name": "Python 3",
      "name": "python3"
    },
    "language_info": {
      "name": "python"
    }
  },
  "nbformat": 4,
  "nbformat_minor": 0
}