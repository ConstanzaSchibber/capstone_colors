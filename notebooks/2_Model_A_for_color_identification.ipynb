{
  "nbformat": 4,
  "nbformat_minor": 0,
  "metadata": {
    "colab": {
      "provenance": [],
      "collapsed_sections": [
        "eMkuYtH6XdaU"
      ],
      "toc_visible": true,
      "authorship_tag": "ABX9TyMPDTfUMdbMwojmyw0Cskie",
      "include_colab_link": true
    },
    "kernelspec": {
      "name": "python3",
      "display_name": "Python 3"
    },
    "language_info": {
      "name": "python"
    }
  },
  "cells": [
    {
      "cell_type": "markdown",
      "metadata": {
        "id": "view-in-github",
        "colab_type": "text"
      },
      "source": [
        "<a href=\"https://colab.research.google.com/github/ConstanzaSchibber/capstone_colors/blob/main/notebooks/2_Model_A_for_color_identification.ipynb\" target=\"_parent\"><img src=\"https://colab.research.google.com/assets/colab-badge.svg\" alt=\"Open In Colab\"/></a>"
      ]
    },
    {
      "cell_type": "markdown",
      "source": [
        "# Model A: Identifying CIELAB Shade Leveraging Image Clustering"
      ],
      "metadata": {
        "id": "b3QS-7bRGmRK"
      }
    },
    {
      "cell_type": "markdown",
      "source": [
        "In this notebook, I explore a method for identifying CIELAB color shades in images using image clustering techniques. By leveraging the perceptual uniformity of the CIELAB color space, I aim to achieve more accurate color identification and analysis, which is crucial for makeup where precise color matching is required. This approach allows me to cluster and analyze images based on their color distributions, providing a robust framework for identifying and categorizing shades in a way that aligns with human visual perception.\n",
        "\n",
        "First, I apply a k-means clustering algorithm to two test images to extract the colors of each cluster, determine the average color across clusters, and identify the peak (most frequent) color.\n",
        "\n",
        "Next, I scale this approach to the entire dataset, beginning with a training set of images. I validate the algorithm's performance using a validation set, iteratively refining the model to minimize the distance between the color retrieve and the 'ground truth' color.\n",
        "\n",
        "Finally, I evaluate the optimized algorithm on a test set to assess its effectiveness.\n",
        "\n"
      ],
      "metadata": {
        "id": "N_biDrBCsmxa"
      }
    },
    {
      "cell_type": "markdown",
      "source": [
        "# Libraries"
      ],
      "metadata": {
        "id": "F6O1XpKdH7ZK"
      }
    },
    {
      "cell_type": "code",
      "source": [
        "!pip freeze > requirements2.txt\n",
        "!pip list --format=freeze > requirements2.txt"
      ],
      "metadata": {
        "id": "FuIfrp9SH6kp"
      },
      "execution_count": 21,
      "outputs": []
    },
    {
      "cell_type": "code",
      "source": [
        "import os\n",
        "from getpass import getpass\n",
        "import urllib\n",
        "import requests\n",
        "import pandas as pd\n",
        "import matplotlib.pyplot as plt\n",
        "import seaborn as sns\n",
        "import glob\n",
        "from PIL import Image\n",
        "import numpy as np"
      ],
      "metadata": {
        "id": "B7ikFH1AJ45B"
      },
      "execution_count": 22,
      "outputs": []
    },
    {
      "cell_type": "code",
      "source": [
        "import cv2"
      ],
      "metadata": {
        "id": "aekVZZvkevfy"
      },
      "execution_count": 23,
      "outputs": []
    },
    {
      "cell_type": "code",
      "source": [
        "from skimage.color import rgb2lab, lab2rgb"
      ],
      "metadata": {
        "id": "mLwhOVdIujSc"
      },
      "execution_count": 24,
      "outputs": []
    },
    {
      "cell_type": "code",
      "source": [
        "from skimage import color"
      ],
      "metadata": {
        "id": "12XnUyTeO2GO"
      },
      "execution_count": 42,
      "outputs": []
    },
    {
      "cell_type": "code",
      "source": [
        "import binascii\n",
        "import struct\n",
        "import scipy\n",
        "import scipy.misc\n",
        "import scipy.cluster"
      ],
      "metadata": {
        "id": "AkNI1EoCCg8G"
      },
      "execution_count": 25,
      "outputs": []
    },
    {
      "cell_type": "code",
      "source": [
        "from warnings import simplefilter\n",
        "simplefilter(action=\"ignore\", category=pd.errors.PerformanceWarning)"
      ],
      "metadata": {
        "id": "ui9MNh6x8Hj7"
      },
      "execution_count": 26,
      "outputs": []
    },
    {
      "cell_type": "code",
      "source": [
        "flags = [i for i in dir(cv2) if i.startswith('COLOR_')]"
      ],
      "metadata": {
        "id": "R-iwf2ofOpr-"
      },
      "execution_count": 40,
      "outputs": []
    },
    {
      "cell_type": "markdown",
      "source": [
        "# Test case 1"
      ],
      "metadata": {
        "id": "eUqwFF1sH8sJ"
      }
    },
    {
      "cell_type": "markdown",
      "source": [
        "Before scaling up to multiple images, I applied the process to a single image. I used k-means clustering to identify dominant colors in the image, then converted the mean CIELAB color of these clusters to RGB, created a small square with this color, and overlaid it on the image.\n",
        "\n",
        "K-means clustering is a good approach because it efficiently groups similar colors, making it easier to identify the most representative shades. However, a downside is that it requires deciding the number of clusters beforehand, which may not always reflect the actual color diversity in the image. However, most images are not color diverse (per the exploratory data analysis) and I can also identify which images are color diverse for further analysis."
      ],
      "metadata": {
        "id": "J_bbrhBK8EEi"
      }
    },
    {
      "cell_type": "code",
      "execution_count": 27,
      "metadata": {
        "id": "QAYi3HacGatq",
        "colab": {
          "base_uri": "https://localhost:8080/"
        },
        "outputId": "1b3ebc60-cebb-46b9-f5e5-07af29f53424"
      },
      "outputs": [
        {
          "output_type": "stream",
          "name": "stdout",
          "text": [
            "Mounted at /content/drive\n"
          ]
        }
      ],
      "source": [
        "from google.colab import drive\n",
        "\n",
        "# Mount Google Drive to access files stored there\n",
        "# The 'force_remount=True' option ensures that the drive is remounted even if it is already mounted\n",
        "drive.mount('/content/drive', force_remount=True)"
      ]
    },
    {
      "cell_type": "code",
      "source": [
        "# path to test image\n",
        "path = '/content/sample_data/1CBM_Fruit_Pigmented_Blush_Mauvette_Swatch_1260x.jpg'"
      ],
      "metadata": {
        "id": "uPoF8tgbKMur"
      },
      "execution_count": 172,
      "outputs": []
    },
    {
      "cell_type": "code",
      "source": [
        "# read test image\n",
        "swatch = cv2.imread(path)"
      ],
      "metadata": {
        "id": "K0_VYIGReEGt"
      },
      "execution_count": 33,
      "outputs": []
    },
    {
      "cell_type": "markdown",
      "source": [
        "OpenCV uses BGR as its default colour order for images, matplotlib uses RGB. When displaying an image loaded with OpenCv in matplotlib the channels will be back to front.\n",
        "\n",
        "The easiest way of fixing this is to use OpenCV to explicitly convert it back to RGB."
      ],
      "metadata": {
        "id": "VUEqIleZmdMT"
      }
    },
    {
      "cell_type": "code",
      "source": [
        "plt.imshow(swatch)\n",
        "plt.show()"
      ],
      "metadata": {
        "colab": {
          "base_uri": "https://localhost:8080/",
          "height": 435
        },
        "id": "ZWTmxlLvTGif",
        "outputId": "9ee120b4-3ac5-40f8-e6a1-879b25968808"
      },
      "execution_count": 34,
      "outputs": [
        {
          "output_type": "display_data",
          "data": {
            "text/plain": [
              "<Figure size 640x480 with 1 Axes>"
            ],
            "image/png": "[encoded data removed]"
          },
          "metadata": {}
        }
      ]
    },
    {
      "cell_type": "code",
      "source": [
        "RGB_img = cv2.cvtColor(swatch, cv2.COLOR_BGR2RGB)\n"
      ],
      "metadata": {
        "id": "XkAP1N5xmWu3"
      },
      "execution_count": 35,
      "outputs": []
    },
    {
      "cell_type": "code",
      "source": [
        "plt.imshow(RGB_img)\n",
        "plt.show()"
      ],
      "metadata": {
        "colab": {
          "base_uri": "https://localhost:8080/",
          "height": 435
        },
        "id": "qq6d9ebPfDJx",
        "outputId": "161c5fda-0b03-4f8e-b4e4-7663264df6a6"
      },
      "execution_count": 36,
      "outputs": [
        {
          "output_type": "display_data",
          "data": {
            "text/plain": [
              "<Figure size 640x480 with 1 Axes>"
            ],
            "image/png": "[encoded data removed]"
          },
          "metadata": {}
        }
      ]
    },
    {
      "cell_type": "markdown",
      "source": [
        "The `rgb2lab()` function is utilized to convert the RGB image into the Lab color space, separating luminosity from color."
      ],
      "metadata": {
        "id": "HC3kzOeauqXT"
      }
    },
    {
      "cell_type": "code",
      "source": [
        "im1 = rgb2lab(RGB_img)"
      ],
      "metadata": {
        "id": "CjYGLwt5uZba"
      },
      "execution_count": 37,
      "outputs": []
    },
    {
      "cell_type": "code",
      "source": [
        "im1.shape"
      ],
      "metadata": {
        "colab": {
          "base_uri": "https://localhost:8080/"
        },
        "id": "8w5QHVT3ulmH",
        "outputId": "efdf61c8-9289-4e9a-8630-ee9b8a6284bb"
      },
      "execution_count": 38,
      "outputs": [
        {
          "output_type": "execute_result",
          "data": {
            "text/plain": [
              "(1260, 1260, 3)"
            ]
          },
          "metadata": {},
          "execution_count": 38
        }
      ]
    },
    {
      "cell_type": "markdown",
      "source": [
        "## K-Means Clustering\n",
        "\n",
        "This code reads an image, resizes it for efficiency, and then converts it into a numpy array. It uses k-means clustering to identify color clusters within the image, with the number of clusters set to 3. After determining the cluster centers, it assigns each pixel to a cluster and counts the occurrences of each cluster. Finally, the code identifies the color of the five clusters, averages over five colors, and also identifies the most frequent color cluster in the image (which in this case, is white because of the background). It also converts the mean color and the most frequent color to the CIELAB color scale."
      ],
      "metadata": {
        "id": "1NsropsZtQy2"
      }
    },
    {
      "cell_type": "code",
      "source": [
        "# Number of cluster\n",
        "NUM_CLUSTERS = 4\n",
        "\n",
        "# Read the image\n",
        "im = Image.open(path)\n",
        "\n",
        "# Optionally resize the image to reduce processing time\n",
        "im = im.resize((150, 150))\n",
        "\n",
        "# Convert the image to a numpy array\n",
        "ar = np.asarray(im)\n",
        "\n",
        "# Store the shape of the array\n",
        "shape = ar.shape\n",
        "\n",
        "# Reshape the array for clustering\n",
        "ar = ar.reshape(np.prod(shape[:2]), shape[2]).astype(float)\n",
        "\n",
        "# Perform k-means clustering to find color clusters\n",
        "codes, dist = scipy.cluster.vq.kmeans(ar, NUM_CLUSTERS)\n",
        "\n",
        "# Print the RGB values of the cluster centers\n",
        "print('cluster centres in RGB:\\n', codes)\n",
        "\n",
        "# Assign each pixel to a cluster and count occurrences\n",
        "vecs, dist = scipy.cluster.vq.vq(ar, codes)\n",
        "counts, bins = np.histogram(vecs, len(codes))\n",
        "\n",
        "# Find the index of the most frequent cluster\n",
        "index_max = np.argmax(counts)\n",
        "peak = codes[index_max]\n",
        "\n",
        "# Print all the cluster centers\n",
        "#print(codes)\n",
        "\n",
        "# Average over the color of the clusters\n",
        "columns_average = codes.mean(axis=0)\n",
        "\n",
        "# Convert the peak color from RGB to CIELAB\n",
        "mean_rgb = np.array(columns_average).reshape(1, 1, 3) / 255  # normalize RGB values to [0, 1]\n",
        "mean_xyz = color.rgb2xyz(mean_rgb)  # convert to XYZ\n",
        "mean_lab = color.xyz2lab(mean_xyz)  # convert to CIELAB\n",
        "\n",
        "print('average color in CIELAB:', mean_lab[0][0])\n",
        "\n",
        "# Convert the most frequent color from RGB to CIELAB\n",
        "peak_rgb = np.array(peak).reshape(1, 1, 3) / 255  # normalize RGB values to [0, 1]\n",
        "peak_xyz = color.rgb2xyz(peak_rgb)  # convert to XYZ\n",
        "peak_lab = color.xyz2lab(peak_xyz)  # convert to CIELAB\n",
        "\n",
        "print('most frequent color in CIELAB:', peak_lab[0][0])"
      ],
      "metadata": {
        "colab": {
          "base_uri": "https://localhost:8080/"
        },
        "id": "sdMU8JI5U5Z8",
        "outputId": "a8a46b29-2cc9-4e35-ce36-aa3d13cb4240"
      },
      "execution_count": 173,
      "outputs": [
        {
          "output_type": "stream",
          "name": "stdout",
          "text": [
            "cluster centres in RGB:\n",
            " [[180.0993007   87.22657343  83.43636364]\n",
            " [126.01156069  43.80057803  41.38872832]\n",
            " [227.54484733 155.82585878 153.40458015]\n",
            " [254.88939941 254.51679247 254.51815994]]\n",
            "average color in CIELAB: [62.51884385 23.38958893 10.75796929]\n",
            "most frequent color in CIELAB: [9.98606866e+01 1.20454023e-01 4.72355199e-02]\n"
          ]
        }
      ]
    },
    {
      "cell_type": "markdown",
      "source": [
        "## Comparing Color Identified from K-Means Clustering and Image"
      ],
      "metadata": {
        "id": "xLALjnSH8wsD"
      }
    },
    {
      "cell_type": "markdown",
      "source": [
        "Below, I created a small square filled with the average color in the top-left corner on the original image. This allows me to visually compare the mean color with the colors in the image."
      ],
      "metadata": {
        "id": "UwSIq7oL7AiL"
      }
    },
    {
      "cell_type": "code",
      "source": [
        "# Display the original image\n",
        "plt.imshow(RGB_img)\n",
        "\n",
        "# Overlay a square with the mean RGB color\n",
        "# Here, we create a small patch of color in the top-left corner\n",
        "height, width, _ = RGB_img.shape\n",
        "square_size = min(height, width) // 5  # Size of the square relative to the image size\n",
        "square_patch = np.ones((square_size, square_size, 3)) * mean_rgb *255 # Create the square with the mean RGB color\n",
        "\n",
        "# Place the square patch on the image\n",
        "RGB_img[:square_size, :square_size] = square_patch\n",
        "\n",
        "# Display the image with the overlay\n",
        "plt.imshow(RGB_img)\n",
        "plt.show()"
      ],
      "metadata": {
        "colab": {
          "base_uri": "https://localhost:8080/",
          "height": 435
        },
        "id": "YwtAd9Fm42ad",
        "outputId": "2abaa8e6-ae8b-463f-8355-6c2ff85ffa49"
      },
      "execution_count": 44,
      "outputs": [
        {
          "output_type": "display_data",
          "data": {
            "text/plain": [
              "<Figure size 640x480 with 1 Axes>"
            ],
            "image/png": "[encoded data removed]"
          },
          "metadata": {}
        }
      ]
    },
    {
      "cell_type": "markdown",
      "source": [
        "# Test 2 (`.png` Image)\n",
        "\n",
        "PNG images, like the one below, include an alpha channel, which represents transparency. This is common in PNG images but can cause issues when displaying or processing the image if the software or code isn't prepared to handle the additional channel. The alpha channel is not necessary for color analysis and might interfere with visualization or processing.\n",
        "\n",
        "I performed a second test with a PNG image to ensure that the code handles images with an alpha channel properly. I added an `if` statement to delete the alpha channel. In this way,the image processing and display functions work correctly regardless of whether the image has an alpha channel or not.\n"
      ],
      "metadata": {
        "id": "eMkuYtH6XdaU"
      }
    },
    {
      "cell_type": "code",
      "source": [
        "# path to test image\n",
        "path = '/content/sample_data/juicypangwaterblusherCR01.png'"
      ],
      "metadata": {
        "id": "j3zyNYSoXfO0"
      },
      "execution_count": 236,
      "outputs": []
    },
    {
      "cell_type": "code",
      "source": [
        "# read test image\n",
        "swatch2 = cv2.imread(path)\n",
        "RGB_img2 = cv2.cvtColor(swatch2, cv2.COLOR_BGR2RGB)"
      ],
      "metadata": {
        "id": "bRrv6bKbXfO0"
      },
      "execution_count": 237,
      "outputs": []
    },
    {
      "cell_type": "code",
      "source": [
        "# Number of cluster\n",
        "NUM_CLUSTERS = 4\n",
        "\n",
        "# Read the image\n",
        "im = Image.open(path)\n",
        "\n",
        "# Optionally resize the image to reduce processing time\n",
        "im = im.resize((150, 150))\n",
        "\n",
        "# Convert the image to a numpy array\n",
        "ar = np.asarray(im)\n",
        "\n",
        "# Store the shape of the array\n",
        "shape = ar.shape\n",
        "\n",
        "if len(shape) == 2:\n",
        "    # No need to convert to RGB; use grayscale values directly\n",
        "    num_channels = 1\n",
        "elif len(shape) == 3 and shape[2] in [3, 4]:\n",
        "    # RGB or RGBA image\n",
        "    if shape[2] == 4:\n",
        "    # Remove the alpha channel\n",
        "      ar = ar[:, :, :3]\n",
        "    num_channels = 3\n",
        "else:\n",
        "    raise ValueError(\"Unsupported image format\")\n",
        "\n",
        "shape = ar.shape\n",
        "\n",
        "# Reshape the array for clustering\n",
        "ar = ar.reshape(np.prod(shape[:2]), num_channels).astype(float)\n",
        "\n",
        "# Perform k-means clustering to find color clusters\n",
        "codes, dist = scipy.cluster.vq.kmeans(ar, NUM_CLUSTERS)\n",
        "\n",
        "# Print the RGB values of the cluster centers\n",
        "print('cluster centres in RGB:\\n', codes)\n",
        "\n",
        "# Assign each pixel to a cluster and count occurrences\n",
        "vecs, dist = scipy.cluster.vq.vq(ar, codes)\n",
        "counts, bins = np.histogram(vecs, len(codes))\n",
        "\n",
        "# Find the index of the most frequent cluster\n",
        "index_max = np.argmax(counts)\n",
        "peak = codes[index_max]\n",
        "\n",
        "# Print all the cluster centers\n",
        "#print(codes)\n",
        "\n",
        "# Average over the color of the clusters\n",
        "columns_average = codes.mean(axis=0)\n",
        "\n",
        "# Convert the average color from RGB or grayscale to CIELAB\n",
        "if num_channels == 1:\n",
        "  # For grayscale, directly use the average intensity value\n",
        "  mean_lab = np.array([columns_average.mean(), 0, 0])  # Dummy LAB values\n",
        "  print('Average color in CIELAB:', mean_lab)\n",
        "else:\n",
        "  mean_rgb = np.array(columns_average).reshape(1, 1, num_channels) / 255  # Normalize RGB values to [0, 1]\n",
        "  mean_xyz = color.rgb2xyz(mean_rgb)  # Convert to XYZ\n",
        "  mean_lab = color.xyz2lab(mean_xyz)  # Convert to CIELAB\n",
        "  print('Average color in CIELAB:', mean_lab[0][0])\n",
        "\n",
        "# Convert the most frequent color from RGB or grayscale to CIELAB\n",
        "if num_channels == 1:\n",
        "  # For grayscale, directly use the peak intensity value\n",
        "  peak_lab = np.array([peak.mean(), 0, 0])  # Dummy LAB values\n",
        "  print('Most frequent color in CIELAB:', peak_lab)\n",
        "else:\n",
        "  peak_rgb = np.array(peak).reshape(1, 1, num_channels) / 255  # Normalize RGB values to [0, 1]\n",
        "  peak_xyz = color.rgb2xyz(peak_rgb)  # Convert to XYZ\n",
        "  peak_lab = color.xyz2lab(peak_xyz)  # Convert to CIELAB\n",
        "  print('Most frequent color in CIELAB:', peak_lab[0][0])"
      ],
      "metadata": {
        "colab": {
          "base_uri": "https://localhost:8080/"
        },
        "outputId": "005da936-d430-44fb-ddfa-01dcc2ce28fa",
        "id": "5lrpUH2SXfO2"
      },
      "execution_count": 238,
      "outputs": [
        {
          "output_type": "stream",
          "name": "stdout",
          "text": [
            "cluster centres in RGB:\n",
            " [[253.63989124 253.22081233 253.20976605]\n",
            " [241.00936937 104.06522523  85.71135135]\n",
            " [229.8503861  139.47586873 131.74324324]]\n",
            "Average color in CIELAB: [75.04245714 26.95509481 15.89110902]\n",
            "Most frequent color in CIELAB: [9.94163985e+01 1.33729474e-01 5.85799803e-02]\n"
          ]
        }
      ]
    },
    {
      "cell_type": "code",
      "source": [
        "variance = np.var(ar)"
      ],
      "metadata": {
        "id": "1l4aeNFg6Kb4"
      },
      "execution_count": 265,
      "outputs": []
    },
    {
      "cell_type": "code",
      "source": [
        "# Display the original image\n",
        "plt.imshow(RGB_img2)\n",
        "\n",
        "# Overlay a square with the mean RGB color\n",
        "# Here, we create a small patch of color in the top-left corner\n",
        "height, width, _ = RGB_img2.shape\n",
        "square_size = min(height, width) // 5  # Size of the square relative to the image size\n",
        "square_patch = np.ones((square_size, square_size, 3)) * mean_rgb * 255 # Create the square with the mean RGB color\n",
        "\n",
        "# Place the square patch on the image\n",
        "RGB_img2[:square_size, :square_size] = square_patch\n",
        "\n",
        "# Display the image with the overlay\n",
        "plt.imshow(RGB_img2)\n",
        "plt.show()"
      ],
      "metadata": {
        "colab": {
          "base_uri": "https://localhost:8080/",
          "height": 435
        },
        "id": "mHA7rCuYZn2A",
        "outputId": "456fbc9e-4ad0-4226-9917-9fd87eecbca7"
      },
      "execution_count": 239,
      "outputs": [
        {
          "output_type": "display_data",
          "data": {
            "text/plain": [
              "<Figure size 640x480 with 1 Axes>"
            ],
            "image/png": "[encoded data removed]"
          },
          "metadata": {}
        }
      ]
    },
    {
      "cell_type": "markdown",
      "source": [
        "# Scaling to All of the Images"
      ],
      "metadata": {
        "id": "pFkNZnX9CKkK"
      }
    },
    {
      "cell_type": "markdown",
      "source": [
        "In this section, I scale up the approach I developed with 1 image to all the images. First, I read the images and then split them into training, validation, and test sets. Then, I implement scale the algorithm, and finally I conduct validate and test them."
      ],
      "metadata": {
        "id": "MnIM0bxZ9rzK"
      }
    },
    {
      "cell_type": "markdown",
      "source": [
        "## Reading Data"
      ],
      "metadata": {
        "id": "Efap0ZjMCPeE"
      }
    },
    {
      "cell_type": "markdown",
      "source": [
        "First, I read a table in which I have metadata for each image as well as the name of the image. If I read all of the images directly, it would take too much RAM, so with this information, I can then read one image at a time."
      ],
      "metadata": {
        "id": "_1SUCBPjA5Za"
      }
    },
    {
      "cell_type": "code",
      "source": [
        "df = pd.read_csv('/content/drive/MyDrive/data/processed/data_1.csv')\n",
        "df.columns"
      ],
      "metadata": {
        "id": "tdd5OUicCYN0",
        "colab": {
          "base_uri": "https://localhost:8080/"
        },
        "outputId": "1ba46ac8-125e-4553-b4a0-6d11741337f6"
      },
      "execution_count": 45,
      "outputs": [
        {
          "output_type": "execute_result",
          "data": {
            "text/plain": [
              "Index(['Unnamed: 0', 'level_0', 'index', 'category', 'joined', 'brand',\n",
              "       'product', 'shade', 'img_url', 'shade_description_original', 'id',\n",
              "       'validation', 'img_name'],\n",
              "      dtype='object')"
            ]
          },
          "metadata": {},
          "execution_count": 45
        }
      ]
    },
    {
      "cell_type": "markdown",
      "source": [
        "From the exploratory data analysis, I found that the following file `mac_smoosh_S7GR08.jpg` was corrupted, so I delete the image from the table.\n",
        "\n",
        "I also delete the cases in which the image was not available at the link (errors `404` and `403`)."
      ],
      "metadata": {
        "id": "qoHs8kj3FQGa"
      }
    },
    {
      "cell_type": "code",
      "source": [
        "df.shape"
      ],
      "metadata": {
        "colab": {
          "base_uri": "https://localhost:8080/"
        },
        "id": "QwxGBVcWHRvz",
        "outputId": "ff2259fc-1d34-45bc-ed2b-25e871ee05b0"
      },
      "execution_count": 46,
      "outputs": [
        {
          "output_type": "execute_result",
          "data": {
            "text/plain": [
              "(527, 13)"
            ]
          },
          "metadata": {},
          "execution_count": 46
        }
      ]
    },
    {
      "cell_type": "code",
      "source": [
        "df = df[df.img_name != 'mac_smoosh_S7GR08.jpg']\n",
        "df.shape"
      ],
      "metadata": {
        "colab": {
          "base_uri": "https://localhost:8080/"
        },
        "id": "f9zVzU_qFaHz",
        "outputId": "9c2a29a5-adeb-446e-cdca-bceeb2ba8f0b"
      },
      "execution_count": 47,
      "outputs": [
        {
          "output_type": "execute_result",
          "data": {
            "text/plain": [
              "(526, 13)"
            ]
          },
          "metadata": {},
          "execution_count": 47
        }
      ]
    },
    {
      "cell_type": "code",
      "source": [
        "df = df[df.img_name != '404']\n",
        "df = df[df.img_name != '403']\n",
        "df.shape"
      ],
      "metadata": {
        "colab": {
          "base_uri": "https://localhost:8080/"
        },
        "id": "cLeKE_AtHZME",
        "outputId": "663a9c13-e298-4a47-a084-9ba48a751b11"
      },
      "execution_count": 48,
      "outputs": [
        {
          "output_type": "execute_result",
          "data": {
            "text/plain": [
              "(506, 13)"
            ]
          },
          "metadata": {},
          "execution_count": 48
        }
      ]
    },
    {
      "cell_type": "code",
      "source": [
        "df = df.reset_index(drop=True)"
      ],
      "metadata": {
        "id": "C-uVH0R9RH-4"
      },
      "execution_count": 49,
      "outputs": []
    },
    {
      "cell_type": "markdown",
      "source": [
        "There are also 2 cases that are duplicated. The images have the same name (and thus, the same link)."
      ],
      "metadata": {
        "id": "3gGcFGZoIDYJ"
      }
    },
    {
      "cell_type": "markdown",
      "source": [
        "## Splitting into Train, Validation, Test Sets"
      ],
      "metadata": {
        "id": "PpGHYo6rH-Pt"
      }
    },
    {
      "cell_type": "markdown",
      "source": [
        "Dividing data into training, validation, and test sets helps evaluate model performance, avoid overfitting, and ensure that the model generalizes well to new, unseen data. Training data is used to build the model, validation data to tune hyperparameters, and test data to assess final performance."
      ],
      "metadata": {
        "id": "EX1TLrcy-E2j"
      }
    },
    {
      "cell_type": "code",
      "source": [
        "from sklearn.model_selection import train_test_split\n",
        "\n",
        "# Split data into training and temporary sets (which will be further split into validation and test sets)\n",
        "train_df, temp_df = train_test_split(df, test_size=0.4, random_state=42)\n",
        "\n",
        "# Split the temporary set into validation and test sets\n",
        "validation_df, test_df = train_test_split(temp_df, test_size=0.5, random_state=42)\n",
        "\n",
        "print(f'Training set: {len(train_df)} samples')\n",
        "print(f'Validation set: {len(validation_df)} samples')\n",
        "print(f'Test set: {len(test_df)} samples')"
      ],
      "metadata": {
        "id": "WxtubVfSIDgq",
        "colab": {
          "base_uri": "https://localhost:8080/"
        },
        "outputId": "dafd6703-19a9-4bb6-fe96-dabcc0929fd9"
      },
      "execution_count": 50,
      "outputs": [
        {
          "output_type": "stream",
          "name": "stdout",
          "text": [
            "Training set: 303 samples\n",
            "Validation set: 101 samples\n",
            "Test set: 102 samples\n"
          ]
        }
      ]
    },
    {
      "cell_type": "markdown",
      "source": [
        "## Round 1: Implementing Algorithm & Validating"
      ],
      "metadata": {
        "id": "sM2Gj3amID8G"
      }
    },
    {
      "cell_type": "markdown",
      "source": [
        "I transform the code that I developed to analyze one image into a function. Then, I apply the function to every image and save the average color and peak color into the metadata."
      ],
      "metadata": {
        "id": "Kej6lGuFNDok"
      }
    },
    {
      "cell_type": "code",
      "source": [
        "def analyze_image_colors(image_path, num_clusters=4):\n",
        "    \"\"\"\n",
        "    Analyzes the colors in an image using k-means clustering and converts the dominant color\n",
        "    to CIELAB color space.\n",
        "\n",
        "    Parameters:\n",
        "    - image_path (str): Path to the image file.\n",
        "    - num_clusters (int): Number of clusters for k-means.\n",
        "\n",
        "    Returns:\n",
        "    - tuple: Average color and most frequent color in CIELAB color space.\n",
        "    \"\"\"\n",
        "\n",
        "    # Read the image\n",
        "    im = Image.open(image_path)\n",
        "\n",
        "    # Optionally resize the image to reduce processing time\n",
        "    im = im.resize((150, 150))\n",
        "\n",
        "    # Convert the image to a numpy array\n",
        "    ar = np.asarray(im)\n",
        "\n",
        "    # Variance in color values\n",
        "    sd_color = np.sqrt(np.var(ar))\n",
        "\n",
        "    # Store the shape of the array\n",
        "    shape = ar.shape\n",
        "\n",
        "    # Check the number of channels in the image\n",
        "    if len(shape) == 2:\n",
        "    # No need to convert to RGB; use grayscale values directly\n",
        "      num_channels = 1\n",
        "    elif len(shape) == 3 and shape[2] in [3, 4]:\n",
        "      # RGB or RGBA image\n",
        "      if shape[2] == 4:\n",
        "      # Remove the alpha channel\n",
        "        ar = ar[:, :, :3]\n",
        "      num_channels = 3\n",
        "    else:\n",
        "      raise ValueError(\"Unsupported image format\")\n",
        "\n",
        "    shape = ar.shape\n",
        "\n",
        "    # Reshape the array for clustering\n",
        "    ar = ar.reshape(np.prod(shape[:2]), num_channels).astype(float)\n",
        "\n",
        "    # Reshape the array for clustering\n",
        "    #ar = ar.reshape(np.prod(shape[:2]), shape[2]).astype(float)\n",
        "\n",
        "    # Perform k-means clustering to find color clusters\n",
        "    codes, dist = scipy.cluster.vq.kmeans(ar, num_clusters)\n",
        "\n",
        "    # Assign each pixel to a cluster and count occurrences\n",
        "    vecs, dist = scipy.cluster.vq.vq(ar, codes)\n",
        "    counts, bins = np.histogram(vecs, len(codes))\n",
        "\n",
        "    # Find the index of the most frequent cluster\n",
        "    index_max = np.argmax(counts)\n",
        "    peak = codes[index_max]\n",
        "\n",
        "    # Average over the color of the clusters\n",
        "    columns_average = codes.mean(axis=0)\n",
        "\n",
        "    # Convert the average color from RGB or grayscale to CIELAB\n",
        "    if num_channels == 1:\n",
        "      # For grayscale, directly use the average intensity value\n",
        "      mean_lab = np.array([columns_average.mean(), 0, 0])  # Dummy LAB values\n",
        "      #print('Average color in CIELAB:', mean_lab)\n",
        "    else:\n",
        "      mean_rgb = np.array(columns_average).reshape(1, 1, num_channels) / 255  # Normalize RGB values to [0, 1]\n",
        "      mean_xyz = color.rgb2xyz(mean_rgb)  # Convert to XYZ\n",
        "      mean_lab = color.xyz2lab(mean_xyz)  # Convert to CIELAB\n",
        "      #print('Average color in CIELAB:', mean_lab[0][0])\n",
        "\n",
        "    # Convert the most frequent color from RGB or grayscale to CIELAB\n",
        "    if num_channels == 1:\n",
        "      # For grayscale, directly use the peak intensity value\n",
        "      peak_lab = np.array([peak.mean(), 0, 0])  # Dummy LAB values\n",
        "      #print('Most frequent color in CIELAB:', peak_lab)\n",
        "    else:\n",
        "      peak_rgb = np.array(peak).reshape(1, 1, num_channels) / 255  # Normalize RGB values to [0, 1]\n",
        "      peak_xyz = color.rgb2xyz(peak_rgb)  # Convert to XYZ\n",
        "      peak_lab = color.xyz2lab(peak_xyz)  # Convert to CIELAB\n",
        "      #print('Most frequent color in CIELAB:', peak_lab[0][0])\n",
        "\n",
        "    if num_channels == 1:\n",
        "      return mean_lab, peak_lab, sd_color\n",
        "    else:\n",
        "      return mean_lab[0][0], peak_lab[0][0], sd_color"
      ],
      "metadata": {
        "id": "FsVQRipwIHMK"
      },
      "execution_count": 51,
      "outputs": []
    },
    {
      "cell_type": "markdown",
      "source": [
        "Apply the function to every image:"
      ],
      "metadata": {
        "id": "5oNxNz9yPWsr"
      }
    },
    {
      "cell_type": "code",
      "source": [
        "df['mean_lab'] = pd.Series(dtype='object')\n",
        "df['peak_lab'] = pd.Series(dtype='object')\n",
        "df['sd_color'] = pd.Series(dtype='float')"
      ],
      "metadata": {
        "id": "qrYu5rrSSMrT"
      },
      "execution_count": 52,
      "outputs": []
    },
    {
      "cell_type": "code",
      "source": [
        "for i in range(len(df)):\n",
        "  #print(str(df.img_name[i]))\n",
        "  path = '/content/drive/MyDrive/makeup_img/' + str(df.img_name[i])\n",
        "  colors_output = analyze_image_colors(path)\n",
        "  mean_value = list(colors_output[0])\n",
        "  peak_value = list(colors_output[1])\n",
        "  df.at[i, 'mean_lab'] = mean_value\n",
        "  df.at[i, 'peak_lab'] = peak_value\n",
        "  df.loc[i, 'sd_color'] = colors_output[2]"
      ],
      "metadata": {
        "id": "wxp67SedPZGm"
      },
      "execution_count": 53,
      "outputs": []
    },
    {
      "cell_type": "code",
      "source": [
        "df.mean_lab.info()"
      ],
      "metadata": {
        "colab": {
          "base_uri": "https://localhost:8080/"
        },
        "id": "dmtBjQKK7CUg",
        "outputId": "13109be6-643e-4d05-f658-4da4d153098a"
      },
      "execution_count": 54,
      "outputs": [
        {
          "output_type": "stream",
          "name": "stdout",
          "text": [
            "<class 'pandas.core.series.Series'>\n",
            "RangeIndex: 506 entries, 0 to 505\n",
            "Series name: mean_lab\n",
            "Non-Null Count  Dtype \n",
            "--------------  ----- \n",
            "506 non-null    object\n",
            "dtypes: object(1)\n",
            "memory usage: 4.1+ KB\n"
          ]
        }
      ]
    },
    {
      "cell_type": "code",
      "source": [
        "df.peak_lab.info()"
      ],
      "metadata": {
        "colab": {
          "base_uri": "https://localhost:8080/"
        },
        "id": "fecNFR0N-cJR",
        "outputId": "819b6189-64f4-4df7-caf8-86cf29523e7b"
      },
      "execution_count": 55,
      "outputs": [
        {
          "output_type": "stream",
          "name": "stdout",
          "text": [
            "<class 'pandas.core.series.Series'>\n",
            "RangeIndex: 506 entries, 0 to 505\n",
            "Series name: peak_lab\n",
            "Non-Null Count  Dtype \n",
            "--------------  ----- \n",
            "506 non-null    object\n",
            "dtypes: object(1)\n",
            "memory usage: 4.1+ KB\n"
          ]
        }
      ]
    },
    {
      "cell_type": "code",
      "source": [
        "df.sd_color.info()"
      ],
      "metadata": {
        "colab": {
          "base_uri": "https://localhost:8080/"
        },
        "id": "00JCI2Cs94RR",
        "outputId": "ca1d7704-1c24-4752-c126-5e91cea112d7"
      },
      "execution_count": 56,
      "outputs": [
        {
          "output_type": "stream",
          "name": "stdout",
          "text": [
            "<class 'pandas.core.series.Series'>\n",
            "RangeIndex: 506 entries, 0 to 505\n",
            "Series name: sd_color\n",
            "Non-Null Count  Dtype  \n",
            "--------------  -----  \n",
            "506 non-null    float64\n",
            "dtypes: float64(1)\n",
            "memory usage: 4.1 KB\n"
          ]
        }
      ]
    },
    {
      "cell_type": "code",
      "source": [
        "df.sd_color.describe()"
      ],
      "metadata": {
        "colab": {
          "base_uri": "https://localhost:8080/",
          "height": 335
        },
        "id": "3bUrOL4xAXKp",
        "outputId": "7845f4b7-9f73-49d4-93a4-415f4dfe5aad"
      },
      "execution_count": 57,
      "outputs": [
        {
          "output_type": "execute_result",
          "data": {
            "text/plain": [
              "count    506.000000\n",
              "mean      59.517631\n",
              "std       20.462309\n",
              "min        8.029022\n",
              "25%       43.788828\n",
              "50%       58.027354\n",
              "75%       72.282976\n",
              "max      112.982690\n",
              "Name: sd_color, dtype: float64"
            ],
            "text/html": [
              "<div>\n",
              "<style scoped>\n",
              "    .dataframe tbody tr th:only-of-type {\n",
              "        vertical-align: middle;\n",
              "    }\n",
              "\n",
              "    .dataframe tbody tr th {\n",
              "        vertical-align: top;\n",
              "    }\n",
              "\n",
              "    .dataframe thead th {\n",
              "        text-align: right;\n",
              "    }\n",
              "</style>\n",
              "<table border=\"1\" class=\"dataframe\">\n",
              "  <thead>\n",
              "    <tr style=\"text-align: right;\">\n",
              "      <th></th>\n",
              "      <th>sd_color</th>\n",
              "    </tr>\n",
              "  </thead>\n",
              "  <tbody>\n",
              "    <tr>\n",
              "      <th>count</th>\n",
              "      <td>506.000000</td>\n",
              "    </tr>\n",
              "    <tr>\n",
              "      <th>mean</th>\n",
              "      <td>59.517631</td>\n",
              "    </tr>\n",
              "    <tr>\n",
              "      <th>std</th>\n",
              "      <td>20.462309</td>\n",
              "    </tr>\n",
              "    <tr>\n",
              "      <th>min</th>\n",
              "      <td>8.029022</td>\n",
              "    </tr>\n",
              "    <tr>\n",
              "      <th>25%</th>\n",
              "      <td>43.788828</td>\n",
              "    </tr>\n",
              "    <tr>\n",
              "      <th>50%</th>\n",
              "      <td>58.027354</td>\n",
              "    </tr>\n",
              "    <tr>\n",
              "      <th>75%</th>\n",
              "      <td>72.282976</td>\n",
              "    </tr>\n",
              "    <tr>\n",
              "      <th>max</th>\n",
              "      <td>112.982690</td>\n",
              "    </tr>\n",
              "  </tbody>\n",
              "</table>\n",
              "</div><br><label><b>dtype:</b> float64</label>"
            ]
          },
          "metadata": {},
          "execution_count": 57
        }
      ]
    },
    {
      "cell_type": "code",
      "source": [
        "df.head()"
      ],
      "metadata": {
        "colab": {
          "base_uri": "https://localhost:8080/",
          "height": 556
        },
        "id": "2IJCE2oMM1nX",
        "outputId": "07508e44-9443-4ce0-d4c6-5bbfc754678d"
      },
      "execution_count": 58,
      "outputs": [
        {
          "output_type": "execute_result",
          "data": {
            "text/plain": [
              "   Unnamed: 0  level_0  index category  \\\n",
              "0           0        0      1    blush   \n",
              "1           1        1      2    blush   \n",
              "2           2        2      3    blush   \n",
              "3           3        3      6    blush   \n",
              "4           4        4     13    blush   \n",
              "\n",
              "                                              joined                    brand  \\\n",
              "0                         14e cosmetics blush sunset            14e cosmetics   \n",
              "1               a'pieu juicy-pang water blusher cr01                   a'pieu   \n",
              "2          about-face cheek freak blush balm raunchy               about-face   \n",
              "3  alamar cosmetics colorete concentrate liquid b...         alamar cosmetics   \n",
              "4  anastasia beverly hills stick cream blush peac...  anastasia beverly hills   \n",
              "\n",
              "                             product              shade  \\\n",
              "0                              blush             sunset   \n",
              "1           juicy-pang water blusher               cr01   \n",
              "2             cheek freak blush balm            raunchy   \n",
              "3  colorete concentrate liquid blush  amor de melocoton   \n",
              "4                  stick cream blush        peachy keen   \n",
              "\n",
              "                                             img_url  \\\n",
              "0  https://images.squarespace-cdn.com/content/v1/...   \n",
              "1  https://misshaus.com/cdn/shop/files/juicypangw...   \n",
              "2  https://aboutface.com/cdn/shop/products/CF_PDP...   \n",
              "3  https://alamarcosmetics.com/cdn/shop/products/...   \n",
              "4  https://www.sephora.com/productimages/sku/s247...   \n",
              "\n",
              "  shade_description_original  id  validation                       img_name  \\\n",
              "0                warm peachy   1        True                     Sunset.jpg   \n",
              "1                      peach   2        True  juicypangwaterblusherCR01.png   \n",
              "2                 nude peach   3        True      CF_PDP_Raunchy_swatch.png   \n",
              "3               creamy peach   4        True              Product5_540x.png   \n",
              "4                 soft peach   5        True        s2474427-av-04-zoom.jpg   \n",
              "\n",
              "                                            mean_lab  \\\n",
              "0  [66.58852380011785, 12.013991165505056, 11.397...   \n",
              "1  [77.9584528115023, 21.34906646297241, 12.19519...   \n",
              "2  [64.99980005368049, 24.96126109346031, 20.6970...   \n",
              "3  [54.04044072395696, 9.387643265109102, 17.1388...   \n",
              "4  [69.29394788509994, 18.51960306972472, 9.71182...   \n",
              "\n",
              "                                            peak_lab   sd_color  \n",
              "0  [99.82396122228114, 0.02705588252999158, 0.056...  61.523435  \n",
              "1  [99.83268413824078, 0.012533767436373466, 0.01...  44.900879  \n",
              "2  [99.89412983302098, 0.03107937071972211, 0.112...  56.386499  \n",
              "3  [0.00218713264549919, 0.0027841989377885845, 0...  74.550748  \n",
              "4  [99.89888265934047, 0.0649875290941182, 0.0571...  43.556566  "
            ],
            "text/html": [
              "\n",
              "  <div id=\"df-ee3fa012-171b-4c8d-a127-921e42b55324\" class=\"colab-df-container\">\n",
              "    <div>\n",
              "<style scoped>\n",
              "    .dataframe tbody tr th:only-of-type {\n",
              "        vertical-align: middle;\n",
              "    }\n",
              "\n",
              "    .dataframe tbody tr th {\n",
              "        vertical-align: top;\n",
              "    }\n",
              "\n",
              "    .dataframe thead th {\n",
              "        text-align: right;\n",
              "    }\n",
              "</style>\n",
              "<table border=\"1\" class=\"dataframe\">\n",
              "  <thead>\n",
              "    <tr style=\"text-align: right;\">\n",
              "      <th></th>\n",
              "      <th>Unnamed: 0</th>\n",
              "      <th>level_0</th>\n",
              "      <th>index</th>\n",
              "      <th>category</th>\n",
              "      <th>joined</th>\n",
              "      <th>brand</th>\n",
              "      <th>product</th>\n",
              "      <th>shade</th>\n",
              "      <th>img_url</th>\n",
              "      <th>shade_description_original</th>\n",
              "      <th>id</th>\n",
              "      <th>validation</th>\n",
              "      <th>img_name</th>\n",
              "      <th>mean_lab</th>\n",
              "      <th>peak_lab</th>\n",
              "      <th>sd_color</th>\n",
              "    </tr>\n",
              "  </thead>\n",
              "  <tbody>\n",
              "    <tr>\n",
              "      <th>0</th>\n",
              "      <td>0</td>\n",
              "      <td>0</td>\n",
              "      <td>1</td>\n",
              "      <td>blush</td>\n",
              "      <td>14e cosmetics blush sunset</td>\n",
              "      <td>14e cosmetics</td>\n",
              "      <td>blush</td>\n",
              "      <td>sunset</td>\n",
              "      <td>https://images.squarespace-cdn.com/content/v1/...</td>\n",
              "      <td>warm peachy</td>\n",
              "      <td>1</td>\n",
              "      <td>True</td>\n",
              "      <td>Sunset.jpg</td>\n",
              "      <td>[66.58852380011785, 12.013991165505056, 11.397...</td>\n",
              "      <td>[99.82396122228114, 0.02705588252999158, 0.056...</td>\n",
              "      <td>61.523435</td>\n",
              "    </tr>\n",
              "    <tr>\n",
              "      <th>1</th>\n",
              "      <td>1</td>\n",
              "      <td>1</td>\n",
              "      <td>2</td>\n",
              "      <td>blush</td>\n",
              "      <td>a'pieu juicy-pang water blusher cr01</td>\n",
              "      <td>a'pieu</td>\n",
              "      <td>juicy-pang water blusher</td>\n",
              "      <td>cr01</td>\n",
              "      <td>https://misshaus.com/cdn/shop/files/juicypangw...</td>\n",
              "      <td>peach</td>\n",
              "      <td>2</td>\n",
              "      <td>True</td>\n",
              "      <td>juicypangwaterblusherCR01.png</td>\n",
              "      <td>[77.9584528115023, 21.34906646297241, 12.19519...</td>\n",
              "      <td>[99.83268413824078, 0.012533767436373466, 0.01...</td>\n",
              "      <td>44.900879</td>\n",
              "    </tr>\n",
              "    <tr>\n",
              "      <th>2</th>\n",
              "      <td>2</td>\n",
              "      <td>2</td>\n",
              "      <td>3</td>\n",
              "      <td>blush</td>\n",
              "      <td>about-face cheek freak blush balm raunchy</td>\n",
              "      <td>about-face</td>\n",
              "      <td>cheek freak blush balm</td>\n",
              "      <td>raunchy</td>\n",
              "      <td>https://aboutface.com/cdn/shop/products/CF_PDP...</td>\n",
              "      <td>nude peach</td>\n",
              "      <td>3</td>\n",
              "      <td>True</td>\n",
              "      <td>CF_PDP_Raunchy_swatch.png</td>\n",
              "      <td>[64.99980005368049, 24.96126109346031, 20.6970...</td>\n",
              "      <td>[99.89412983302098, 0.03107937071972211, 0.112...</td>\n",
              "      <td>56.386499</td>\n",
              "    </tr>\n",
              "    <tr>\n",
              "      <th>3</th>\n",
              "      <td>3</td>\n",
              "      <td>3</td>\n",
              "      <td>6</td>\n",
              "      <td>blush</td>\n",
              "      <td>alamar cosmetics colorete concentrate liquid b...</td>\n",
              "      <td>alamar cosmetics</td>\n",
              "      <td>colorete concentrate liquid blush</td>\n",
              "      <td>amor de melocoton</td>\n",
              "      <td>https://alamarcosmetics.com/cdn/shop/products/...</td>\n",
              "      <td>creamy peach</td>\n",
              "      <td>4</td>\n",
              "      <td>True</td>\n",
              "      <td>Product5_540x.png</td>\n",
              "      <td>[54.04044072395696, 9.387643265109102, 17.1388...</td>\n",
              "      <td>[0.00218713264549919, 0.0027841989377885845, 0...</td>\n",
              "      <td>74.550748</td>\n",
              "    </tr>\n",
              "    <tr>\n",
              "      <th>4</th>\n",
              "      <td>4</td>\n",
              "      <td>4</td>\n",
              "      <td>13</td>\n",
              "      <td>blush</td>\n",
              "      <td>anastasia beverly hills stick cream blush peac...</td>\n",
              "      <td>anastasia beverly hills</td>\n",
              "      <td>stick cream blush</td>\n",
              "      <td>peachy keen</td>\n",
              "      <td>https://www.sephora.com/productimages/sku/s247...</td>\n",
              "      <td>soft peach</td>\n",
              "      <td>5</td>\n",
              "      <td>True</td>\n",
              "      <td>s2474427-av-04-zoom.jpg</td>\n",
              "      <td>[69.29394788509994, 18.51960306972472, 9.71182...</td>\n",
              "      <td>[99.89888265934047, 0.0649875290941182, 0.0571...</td>\n",
              "      <td>43.556566</td>\n",
              "    </tr>\n",
              "  </tbody>\n",
              "</table>\n",
              "</div>\n",
              "    <div class=\"colab-df-buttons\">\n",
              "\n",
              "  <div class=\"colab-df-container\">\n",
              "    <button class=\"colab-df-convert\" onclick=\"convertToInteractive('df-ee3fa012-171b-4c8d-a127-921e42b55324')\"\n",
              "            title=\"Convert this dataframe to an interactive table.\"\n",
              "            style=\"display:none;\">\n",
              "\n",
              "  <svg xmlns=\"http://www.w3.org/2000/svg\" height=\"24px\" viewBox=\"0 -960 960 960\">\n",
              "    <path d=\"M120-120v-720h720v720H120Zm60-500h600v-160H180v160Zm220 220h160v-160H400v160Zm0 220h160v-160H400v160ZM180-400h160v-160H180v160Zm440 0h160v-160H620v160ZM180-180h160v-160H180v160Zm440 0h160v-160H620v160Z\"/>\n",
              "  </svg>\n",
              "    </button>\n",
              "\n",
              "  <style>\n",
              "    .colab-df-container {\n",
              "      display:flex;\n",
              "      gap: 12px;\n",
              "    }\n",
              "\n",
              "    .colab-df-convert {\n",
              "      background-color: #E8F0FE;\n",
              "      border: none;\n",
              "      border-radius: 50%;\n",
              "      cursor: pointer;\n",
              "      display: none;\n",
              "      fill: #1967D2;\n",
              "      height: 32px;\n",
              "      padding: 0 0 0 0;\n",
              "      width: 32px;\n",
              "    }\n",
              "\n",
              "    .colab-df-convert:hover {\n",
              "      background-color: #E2EBFA;\n",
              "      box-shadow: 0px 1px 2px rgba(60, 64, 67, 0.3), 0px 1px 3px 1px rgba(60, 64, 67, 0.15);\n",
              "      fill: #174EA6;\n",
              "    }\n",
              "\n",
              "    .colab-df-buttons div {\n",
              "      margin-bottom: 4px;\n",
              "    }\n",
              "\n",
              "    [theme=dark] .colab-df-convert {\n",
              "      background-color: #3B4455;\n",
              "      fill: #D2E3FC;\n",
              "    }\n",
              "\n",
              "    [theme=dark] .colab-df-convert:hover {\n",
              "      background-color: #434B5C;\n",
              "      box-shadow: 0px 1px 3px 1px rgba(0, 0, 0, 0.15);\n",
              "      filter: drop-shadow(0px 1px 2px rgba(0, 0, 0, 0.3));\n",
              "      fill: #FFFFFF;\n",
              "    }\n",
              "  </style>\n",
              "\n",
              "    <script>\n",
              "      const buttonEl =\n",
              "        document.querySelector('#df-ee3fa012-171b-4c8d-a127-921e42b55324 button.colab-df-convert');\n",
              "      buttonEl.style.display =\n",
              "        google.colab.kernel.accessAllowed ? 'block' : 'none';\n",
              "\n",
              "      async function convertToInteractive(key) {\n",
              "        const element = document.querySelector('#df-ee3fa012-171b-4c8d-a127-921e42b55324');\n",
              "        const dataTable =\n",
              "          await google.colab.kernel.invokeFunction('convertToInteractive',\n",
              "                                                    [key], {});\n",
              "        if (!dataTable) return;\n",
              "\n",
              "        const docLinkHtml = 'Like what you see? Visit the ' +\n",
              "          '<a target=\"_blank\" href=https://colab.research.google.com/notebooks/data_table.ipynb>data table notebook</a>'\n",
              "          + ' to learn more about interactive tables.';\n",
              "        element.innerHTML = '';\n",
              "        dataTable['output_type'] = 'display_data';\n",
              "        await google.colab.output.renderOutput(dataTable, element);\n",
              "        const docLink = document.createElement('div');\n",
              "        docLink.innerHTML = docLinkHtml;\n",
              "        element.appendChild(docLink);\n",
              "      }\n",
              "    </script>\n",
              "  </div>\n",
              "\n",
              "\n",
              "<div id=\"df-6b6738fc-e6f1-4b33-ad34-1263dbb2c355\">\n",
              "  <button class=\"colab-df-quickchart\" onclick=\"quickchart('df-6b6738fc-e6f1-4b33-ad34-1263dbb2c355')\"\n",
              "            title=\"Suggest charts\"\n",
              "            style=\"display:none;\">\n",
              "\n",
              "<svg xmlns=\"http://www.w3.org/2000/svg\" height=\"24px\"viewBox=\"0 0 24 24\"\n",
              "     width=\"24px\">\n",
              "    <g>\n",
              "        <path d=\"M19 3H5c-1.1 0-2 .9-2 2v14c0 1.1.9 2 2 2h14c1.1 0 2-.9 2-2V5c0-1.1-.9-2-2-2zM9 17H7v-7h2v7zm4 0h-2V7h2v10zm4 0h-2v-4h2v4z\"/>\n",
              "    </g>\n",
              "</svg>\n",
              "  </button>\n",
              "\n",
              "<style>\n",
              "  .colab-df-quickchart {\n",
              "      --bg-color: #E8F0FE;\n",
              "      --fill-color: #1967D2;\n",
              "      --hover-bg-color: #E2EBFA;\n",
              "      --hover-fill-color: #174EA6;\n",
              "      --disabled-fill-color: #AAA;\n",
              "      --disabled-bg-color: #DDD;\n",
              "  }\n",
              "\n",
              "  [theme=dark] .colab-df-quickchart {\n",
              "      --bg-color: #3B4455;\n",
              "      --fill-color: #D2E3FC;\n",
              "      --hover-bg-color: #434B5C;\n",
              "      --hover-fill-color: #FFFFFF;\n",
              "      --disabled-bg-color: #3B4455;\n",
              "      --disabled-fill-color: #666;\n",
              "  }\n",
              "\n",
              "  .colab-df-quickchart {\n",
              "    background-color: var(--bg-color);\n",
              "    border: none;\n",
              "    border-radius: 50%;\n",
              "    cursor: pointer;\n",
              "    display: none;\n",
              "    fill: var(--fill-color);\n",
              "    height: 32px;\n",
              "    padding: 0;\n",
              "    width: 32px;\n",
              "  }\n",
              "\n",
              "  .colab-df-quickchart:hover {\n",
              "    background-color: var(--hover-bg-color);\n",
              "    box-shadow: 0 1px 2px rgba(60, 64, 67, 0.3), 0 1px 3px 1px rgba(60, 64, 67, 0.15);\n",
              "    fill: var(--button-hover-fill-color);\n",
              "  }\n",
              "\n",
              "  .colab-df-quickchart-complete:disabled,\n",
              "  .colab-df-quickchart-complete:disabled:hover {\n",
              "    background-color: var(--disabled-bg-color);\n",
              "    fill: var(--disabled-fill-color);\n",
              "    box-shadow: none;\n",
              "  }\n",
              "\n",
              "  .colab-df-spinner {\n",
              "    border: 2px solid var(--fill-color);\n",
              "    border-color: transparent;\n",
              "    border-bottom-color: var(--fill-color);\n",
              "    animation:\n",
              "      spin 1s steps(1) infinite;\n",
              "  }\n",
              "\n",
              "  @keyframes spin {\n",
              "    0% {\n",
              "      border-color: transparent;\n",
              "      border-bottom-color: var(--fill-color);\n",
              "      border-left-color: var(--fill-color);\n",
              "    }\n",
              "    20% {\n",
              "      border-color: transparent;\n",
              "      border-left-color: var(--fill-color);\n",
              "      border-top-color: var(--fill-color);\n",
              "    }\n",
              "    30% {\n",
              "      border-color: transparent;\n",
              "      border-left-color: var(--fill-color);\n",
              "      border-top-color: var(--fill-color);\n",
              "      border-right-color: var(--fill-color);\n",
              "    }\n",
              "    40% {\n",
              "      border-color: transparent;\n",
              "      border-right-color: var(--fill-color);\n",
              "      border-top-color: var(--fill-color);\n",
              "    }\n",
              "    60% {\n",
              "      border-color: transparent;\n",
              "      border-right-color: var(--fill-color);\n",
              "    }\n",
              "    80% {\n",
              "      border-color: transparent;\n",
              "      border-right-color: var(--fill-color);\n",
              "      border-bottom-color: var(--fill-color);\n",
              "    }\n",
              "    90% {\n",
              "      border-color: transparent;\n",
              "      border-bottom-color: var(--fill-color);\n",
              "    }\n",
              "  }\n",
              "</style>\n",
              "\n",
              "  <script>\n",
              "    async function quickchart(key) {\n",
              "      const quickchartButtonEl =\n",
              "        document.querySelector('#' + key + ' button');\n",
              "      quickchartButtonEl.disabled = true;  // To prevent multiple clicks.\n",
              "      quickchartButtonEl.classList.add('colab-df-spinner');\n",
              "      try {\n",
              "        const charts = await google.colab.kernel.invokeFunction(\n",
              "            'suggestCharts', [key], {});\n",
              "      } catch (error) {\n",
              "        console.error('Error during call to suggestCharts:', error);\n",
              "      }\n",
              "      quickchartButtonEl.classList.remove('colab-df-spinner');\n",
              "      quickchartButtonEl.classList.add('colab-df-quickchart-complete');\n",
              "    }\n",
              "    (() => {\n",
              "      let quickchartButtonEl =\n",
              "        document.querySelector('#df-6b6738fc-e6f1-4b33-ad34-1263dbb2c355 button');\n",
              "      quickchartButtonEl.style.display =\n",
              "        google.colab.kernel.accessAllowed ? 'block' : 'none';\n",
              "    })();\n",
              "  </script>\n",
              "</div>\n",
              "\n",
              "    </div>\n",
              "  </div>\n"
            ],
            "application/vnd.google.colaboratory.intrinsic+json": {
              "type": "dataframe",
              "variable_name": "df",
              "summary": "{\n  \"name\": \"df\",\n  \"rows\": 506,\n  \"fields\": [\n    {\n      \"column\": \"Unnamed: 0\",\n      \"properties\": {\n        \"dtype\": \"number\",\n        \"std\": 153,\n        \"min\": 0,\n        \"max\": 526,\n        \"num_unique_values\": 506,\n        \"samples\": [\n          180,\n          287,\n          512\n        ],\n        \"semantic_type\": \"\",\n        \"description\": \"\"\n      }\n    },\n    {\n      \"column\": \"level_0\",\n      \"properties\": {\n        \"dtype\": \"number\",\n        \"std\": 156,\n        \"min\": 0,\n        \"max\": 542,\n        \"num_unique_values\": 506,\n        \"samples\": [\n          185,\n          296,\n          525\n        ],\n        \"semantic_type\": \"\",\n        \"description\": \"\"\n      }\n    },\n    {\n      \"column\": \"index\",\n      \"properties\": {\n        \"dtype\": \"number\",\n        \"std\": 171,\n        \"min\": 0,\n        \"max\": 597,\n        \"num_unique_values\": 396,\n        \"samples\": [\n          199,\n          92,\n          589\n        ],\n        \"semantic_type\": \"\",\n        \"description\": \"\"\n      }\n    },\n    {\n      \"column\": \"category\",\n      \"properties\": {\n        \"dtype\": \"category\",\n        \"num_unique_values\": 4,\n        \"samples\": [\n          \"lipstick\",\n          \"lipliner\",\n          \"blush\"\n        ],\n        \"semantic_type\": \"\",\n        \"description\": \"\"\n      }\n    },\n    {\n      \"column\": \"joined\",\n      \"properties\": {\n        \"dtype\": \"string\",\n        \"num_unique_values\": 503,\n        \"samples\": [\n          \"em cosmetics pillow plush blush tickled\",\n          \"makeup obsession isn't it peachy blush palette\",\n          \"r.e.m. beauty eclipse blush & lip stick opening night\"\n        ],\n        \"semantic_type\": \"\",\n        \"description\": \"\"\n      }\n    },\n    {\n      \"column\": \"brand\",\n      \"properties\": {\n        \"dtype\": \"category\",\n        \"num_unique_values\": 153,\n        \"samples\": [\n          \"nyx professional makeup\",\n          \"revlon\",\n          \"vasanti cosmetics\"\n        ],\n        \"semantic_type\": \"\",\n        \"description\": \"\"\n      }\n    },\n    {\n      \"column\": \"product\",\n      \"properties\": {\n        \"dtype\": \"string\",\n        \"num_unique_values\": 343,\n        \"samples\": [\n          \"lip pencil\",\n          \"generation g sheer matte lipstick\",\n          \"pure color hi-lustre lipstick\"\n        ],\n        \"semantic_type\": \"\",\n        \"description\": \"\"\n      }\n    },\n    {\n      \"column\": \"shade\",\n      \"properties\": {\n        \"dtype\": \"string\",\n        \"num_unique_values\": 474,\n        \"samples\": [\n          \"vanessa\",\n          \"money honey\",\n          \"kiss of copper\"\n        ],\n        \"semantic_type\": \"\",\n        \"description\": \"\"\n      }\n    },\n    {\n      \"column\": \"img_url\",\n      \"properties\": {\n        \"dtype\": \"string\",\n        \"num_unique_values\": 500,\n        \"samples\": [\n          \"https://www.sephora.com/productimages/sku/s1892975-main-zoom.jpg?imwidth=48\",\n          \"https://www.revolutionbeauty.com/dw/image/v2/BCZJ_PRD/on/demandware.static/-/Sites-revbe-master-catalog/default/dw9405742b/images/hi-res/1105613_2.jpg\",\n          \"https://www.sephora.com/productimages/sku/s2216349-main-zoom.jpg?imwidth=48\"\n        ],\n        \"semantic_type\": \"\",\n        \"description\": \"\"\n      }\n    },\n    {\n      \"column\": \"shade_description_original\",\n      \"properties\": {\n        \"dtype\": \"string\",\n        \"num_unique_values\": 309,\n        \"samples\": [\n          \"soft rosy mauve\",\n          \"soft golden peach\",\n          \"sheer matte peach\"\n        ],\n        \"semantic_type\": \"\",\n        \"description\": \"\"\n      }\n    },\n    {\n      \"column\": \"id\",\n      \"properties\": {\n        \"dtype\": \"number\",\n        \"std\": 156,\n        \"min\": 1,\n        \"max\": 543,\n        \"num_unique_values\": 506,\n        \"samples\": [\n          186,\n          297,\n          526\n        ],\n        \"semantic_type\": \"\",\n        \"description\": \"\"\n      }\n    },\n    {\n      \"column\": \"validation\",\n      \"properties\": {\n        \"dtype\": \"boolean\",\n        \"num_unique_values\": 1,\n        \"samples\": [\n          true\n        ],\n        \"semantic_type\": \"\",\n        \"description\": \"\"\n      }\n    },\n    {\n      \"column\": \"img_name\",\n      \"properties\": {\n        \"dtype\": \"string\",\n        \"num_unique_values\": 501,\n        \"samples\": [\n          \"s2197671-main-zoom.jpg\"\n        ],\n        \"semantic_type\": \"\",\n        \"description\": \"\"\n      }\n    },\n    {\n      \"column\": \"mean_lab\",\n      \"properties\": {\n        \"dtype\": \"object\",\n        \"semantic_type\": \"\",\n        \"description\": \"\"\n      }\n    },\n    {\n      \"column\": \"peak_lab\",\n      \"properties\": {\n        \"dtype\": \"object\",\n        \"semantic_type\": \"\",\n        \"description\": \"\"\n      }\n    },\n    {\n      \"column\": \"sd_color\",\n      \"properties\": {\n        \"dtype\": \"number\",\n        \"std\": 20.462308800775318,\n        \"min\": 8.029021798450916,\n        \"max\": 112.9826898245916,\n        \"num_unique_values\": 499,\n        \"samples\": [\n          52.84428291458767\n        ],\n        \"semantic_type\": \"\",\n        \"description\": \"\"\n      }\n    }\n  ]\n}"
            }
          },
          "metadata": {},
          "execution_count": 58
        }
      ]
    },
    {
      "cell_type": "markdown",
      "source": [
        "### Save Results"
      ],
      "metadata": {
        "id": "edoK6_aIRYEg"
      }
    },
    {
      "cell_type": "code",
      "source": [
        "df1 = pd.DataFrame(df)"
      ],
      "metadata": {
        "id": "TnWi3BEfQmMf"
      },
      "execution_count": 59,
      "outputs": []
    },
    {
      "cell_type": "code",
      "source": [
        "df1.columns"
      ],
      "metadata": {
        "colab": {
          "base_uri": "https://localhost:8080/"
        },
        "id": "Ce2lB8bpQ3sd",
        "outputId": "3650027c-5911-46f8-e312-680d9905c941"
      },
      "execution_count": 62,
      "outputs": [
        {
          "output_type": "execute_result",
          "data": {
            "text/plain": [
              "Index(['Unnamed: 0', 'level_0', 'index', 'category', 'joined', 'brand',\n",
              "       'product', 'shade', 'img_url', 'shade_description_original', 'id',\n",
              "       'validation', 'img_name', 'mean_lab', 'peak_lab', 'sd_color'],\n",
              "      dtype='object')"
            ]
          },
          "metadata": {},
          "execution_count": 62
        }
      ]
    },
    {
      "cell_type": "code",
      "source": [
        "df1 = df1.drop(['Unnamed: 0', 'level_0', 'index'], axis=1)"
      ],
      "metadata": {
        "id": "Ney6yCFSQrmr"
      },
      "execution_count": 64,
      "outputs": []
    },
    {
      "cell_type": "code",
      "source": [
        "df1.to_csv('/content/drive/My Drive/data_2.csv')"
      ],
      "metadata": {
        "id": "y71ZHrLTCalp"
      },
      "execution_count": 65,
      "outputs": []
    },
    {
      "cell_type": "markdown",
      "source": [
        "### Validation"
      ],
      "metadata": {
        "id": "XkGZ353XI4bP"
      }
    },
    {
      "cell_type": "markdown",
      "source": [
        "I merge the 'ground truth' color value to the validation set. Then, calculate the color distance between the 'ground truth' and the color identify by the algorithm."
      ],
      "metadata": {
        "id": "uobqgr2tKKz3"
      }
    },
    {
      "cell_type": "code",
      "source": [
        "# read metadata\n",
        "metadata = pd.read_csv('/content/drive/MyDrive/data/processed/metadata_ground_truth.csv')\n",
        "\n",
        "#subset data that needs to be merged\n",
        "metadata_mini = metadata[['id', 'ground_truth', 'ground_truth_CIELAB']]\n",
        "\n",
        "# merge metadata and model output\n",
        "df_all = df1.merge(metadata_mini, how = 'left', on='id')"
      ],
      "metadata": {
        "id": "TjRavnB88ym3"
      },
      "execution_count": 72,
      "outputs": []
    },
    {
      "cell_type": "code",
      "source": [
        "df_all.head()"
      ],
      "metadata": {
        "colab": {
          "base_uri": "https://localhost:8080/",
          "height": 539
        },
        "id": "Qh1pzowaR4T1",
        "outputId": "d49b3383-3f1c-4c96-b538-5efc6bdbf8e1"
      },
      "execution_count": 73,
      "outputs": [
        {
          "output_type": "execute_result",
          "data": {
            "text/plain": [
              "  category                                             joined  \\\n",
              "0    blush                         14e cosmetics blush sunset   \n",
              "1    blush               a'pieu juicy-pang water blusher cr01   \n",
              "2    blush          about-face cheek freak blush balm raunchy   \n",
              "3    blush  alamar cosmetics colorete concentrate liquid b...   \n",
              "4    blush  anastasia beverly hills stick cream blush peac...   \n",
              "\n",
              "                     brand                            product  \\\n",
              "0            14e cosmetics                              blush   \n",
              "1                   a'pieu           juicy-pang water blusher   \n",
              "2               about-face             cheek freak blush balm   \n",
              "3         alamar cosmetics  colorete concentrate liquid blush   \n",
              "4  anastasia beverly hills                  stick cream blush   \n",
              "\n",
              "               shade                                            img_url  \\\n",
              "0             sunset  https://images.squarespace-cdn.com/content/v1/...   \n",
              "1               cr01  https://misshaus.com/cdn/shop/files/juicypangw...   \n",
              "2            raunchy  https://aboutface.com/cdn/shop/products/CF_PDP...   \n",
              "3  amor de melocoton  https://alamarcosmetics.com/cdn/shop/products/...   \n",
              "4        peachy keen  https://www.sephora.com/productimages/sku/s247...   \n",
              "\n",
              "  shade_description_original  id  validation                       img_name  \\\n",
              "0                warm peachy   1        True                     Sunset.jpg   \n",
              "1                      peach   2        True  juicypangwaterblusherCR01.png   \n",
              "2                 nude peach   3        True      CF_PDP_Raunchy_swatch.png   \n",
              "3               creamy peach   4        True              Product5_540x.png   \n",
              "4                 soft peach   5        True        s2474427-av-04-zoom.jpg   \n",
              "\n",
              "                                            mean_lab  \\\n",
              "0  [66.58852380011785, 12.013991165505056, 11.397...   \n",
              "1  [77.9584528115023, 21.34906646297241, 12.19519...   \n",
              "2  [64.99980005368049, 24.96126109346031, 20.6970...   \n",
              "3  [54.04044072395696, 9.387643265109102, 17.1388...   \n",
              "4  [69.29394788509994, 18.51960306972472, 9.71182...   \n",
              "\n",
              "                                            peak_lab   sd_color  ground_truth  \\\n",
              "0  [99.82396122228114, 0.02705588252999158, 0.056...  61.523435             1   \n",
              "1  [99.83268413824078, 0.012533767436373466, 0.01...  44.900879             1   \n",
              "2  [99.89412983302098, 0.03107937071972211, 0.112...  56.386499             1   \n",
              "3  [0.00218713264549919, 0.0027841989377885845, 0...  74.550748             1   \n",
              "4  [99.89888265934047, 0.0649875290941182, 0.0571...  43.556566             1   \n",
              "\n",
              "                     ground_truth_CIELAB  \n",
              "0  [38.19553169 47.68982678 36.88843393]  \n",
              "1  [61.88009784 51.78571037 37.06808969]  \n",
              "2  [62.69092851 46.94025593 38.21046511]  \n",
              "3  [74.97378875 27.83931397 24.01907716]  \n",
              "4  [68.14449353 29.27877044 16.28918275]  "
            ],
            "text/html": [
              "\n",
              "  <div id=\"df-58f480b0-1150-462c-9cb7-82b4f48d3d22\" class=\"colab-df-container\">\n",
              "    <div>\n",
              "<style scoped>\n",
              "    .dataframe tbody tr th:only-of-type {\n",
              "        vertical-align: middle;\n",
              "    }\n",
              "\n",
              "    .dataframe tbody tr th {\n",
              "        vertical-align: top;\n",
              "    }\n",
              "\n",
              "    .dataframe thead th {\n",
              "        text-align: right;\n",
              "    }\n",
              "</style>\n",
              "<table border=\"1\" class=\"dataframe\">\n",
              "  <thead>\n",
              "    <tr style=\"text-align: right;\">\n",
              "      <th></th>\n",
              "      <th>category</th>\n",
              "      <th>joined</th>\n",
              "      <th>brand</th>\n",
              "      <th>product</th>\n",
              "      <th>shade</th>\n",
              "      <th>img_url</th>\n",
              "      <th>shade_description_original</th>\n",
              "      <th>id</th>\n",
              "      <th>validation</th>\n",
              "      <th>img_name</th>\n",
              "      <th>mean_lab</th>\n",
              "      <th>peak_lab</th>\n",
              "      <th>sd_color</th>\n",
              "      <th>ground_truth</th>\n",
              "      <th>ground_truth_CIELAB</th>\n",
              "    </tr>\n",
              "  </thead>\n",
              "  <tbody>\n",
              "    <tr>\n",
              "      <th>0</th>\n",
              "      <td>blush</td>\n",
              "      <td>14e cosmetics blush sunset</td>\n",
              "      <td>14e cosmetics</td>\n",
              "      <td>blush</td>\n",
              "      <td>sunset</td>\n",
              "      <td>https://images.squarespace-cdn.com/content/v1/...</td>\n",
              "      <td>warm peachy</td>\n",
              "      <td>1</td>\n",
              "      <td>True</td>\n",
              "      <td>Sunset.jpg</td>\n",
              "      <td>[66.58852380011785, 12.013991165505056, 11.397...</td>\n",
              "      <td>[99.82396122228114, 0.02705588252999158, 0.056...</td>\n",
              "      <td>61.523435</td>\n",
              "      <td>1</td>\n",
              "      <td>[38.19553169 47.68982678 36.88843393]</td>\n",
              "    </tr>\n",
              "    <tr>\n",
              "      <th>1</th>\n",
              "      <td>blush</td>\n",
              "      <td>a'pieu juicy-pang water blusher cr01</td>\n",
              "      <td>a'pieu</td>\n",
              "      <td>juicy-pang water blusher</td>\n",
              "      <td>cr01</td>\n",
              "      <td>https://misshaus.com/cdn/shop/files/juicypangw...</td>\n",
              "      <td>peach</td>\n",
              "      <td>2</td>\n",
              "      <td>True</td>\n",
              "      <td>juicypangwaterblusherCR01.png</td>\n",
              "      <td>[77.9584528115023, 21.34906646297241, 12.19519...</td>\n",
              "      <td>[99.83268413824078, 0.012533767436373466, 0.01...</td>\n",
              "      <td>44.900879</td>\n",
              "      <td>1</td>\n",
              "      <td>[61.88009784 51.78571037 37.06808969]</td>\n",
              "    </tr>\n",
              "    <tr>\n",
              "      <th>2</th>\n",
              "      <td>blush</td>\n",
              "      <td>about-face cheek freak blush balm raunchy</td>\n",
              "      <td>about-face</td>\n",
              "      <td>cheek freak blush balm</td>\n",
              "      <td>raunchy</td>\n",
              "      <td>https://aboutface.com/cdn/shop/products/CF_PDP...</td>\n",
              "      <td>nude peach</td>\n",
              "      <td>3</td>\n",
              "      <td>True</td>\n",
              "      <td>CF_PDP_Raunchy_swatch.png</td>\n",
              "      <td>[64.99980005368049, 24.96126109346031, 20.6970...</td>\n",
              "      <td>[99.89412983302098, 0.03107937071972211, 0.112...</td>\n",
              "      <td>56.386499</td>\n",
              "      <td>1</td>\n",
              "      <td>[62.69092851 46.94025593 38.21046511]</td>\n",
              "    </tr>\n",
              "    <tr>\n",
              "      <th>3</th>\n",
              "      <td>blush</td>\n",
              "      <td>alamar cosmetics colorete concentrate liquid b...</td>\n",
              "      <td>alamar cosmetics</td>\n",
              "      <td>colorete concentrate liquid blush</td>\n",
              "      <td>amor de melocoton</td>\n",
              "      <td>https://alamarcosmetics.com/cdn/shop/products/...</td>\n",
              "      <td>creamy peach</td>\n",
              "      <td>4</td>\n",
              "      <td>True</td>\n",
              "      <td>Product5_540x.png</td>\n",
              "      <td>[54.04044072395696, 9.387643265109102, 17.1388...</td>\n",
              "      <td>[0.00218713264549919, 0.0027841989377885845, 0...</td>\n",
              "      <td>74.550748</td>\n",
              "      <td>1</td>\n",
              "      <td>[74.97378875 27.83931397 24.01907716]</td>\n",
              "    </tr>\n",
              "    <tr>\n",
              "      <th>4</th>\n",
              "      <td>blush</td>\n",
              "      <td>anastasia beverly hills stick cream blush peac...</td>\n",
              "      <td>anastasia beverly hills</td>\n",
              "      <td>stick cream blush</td>\n",
              "      <td>peachy keen</td>\n",
              "      <td>https://www.sephora.com/productimages/sku/s247...</td>\n",
              "      <td>soft peach</td>\n",
              "      <td>5</td>\n",
              "      <td>True</td>\n",
              "      <td>s2474427-av-04-zoom.jpg</td>\n",
              "      <td>[69.29394788509994, 18.51960306972472, 9.71182...</td>\n",
              "      <td>[99.89888265934047, 0.0649875290941182, 0.0571...</td>\n",
              "      <td>43.556566</td>\n",
              "      <td>1</td>\n",
              "      <td>[68.14449353 29.27877044 16.28918275]</td>\n",
              "    </tr>\n",
              "  </tbody>\n",
              "</table>\n",
              "</div>\n",
              "    <div class=\"colab-df-buttons\">\n",
              "\n",
              "  <div class=\"colab-df-container\">\n",
              "    <button class=\"colab-df-convert\" onclick=\"convertToInteractive('df-58f480b0-1150-462c-9cb7-82b4f48d3d22')\"\n",
              "            title=\"Convert this dataframe to an interactive table.\"\n",
              "            style=\"display:none;\">\n",
              "\n",
              "  <svg xmlns=\"http://www.w3.org/2000/svg\" height=\"24px\" viewBox=\"0 -960 960 960\">\n",
              "    <path d=\"M120-120v-720h720v720H120Zm60-500h600v-160H180v160Zm220 220h160v-160H400v160Zm0 220h160v-160H400v160ZM180-400h160v-160H180v160Zm440 0h160v-160H620v160ZM180-180h160v-160H180v160Zm440 0h160v-160H620v160Z\"/>\n",
              "  </svg>\n",
              "    </button>\n",
              "\n",
              "  <style>\n",
              "    .colab-df-container {\n",
              "      display:flex;\n",
              "      gap: 12px;\n",
              "    }\n",
              "\n",
              "    .colab-df-convert {\n",
              "      background-color: #E8F0FE;\n",
              "      border: none;\n",
              "      border-radius: 50%;\n",
              "      cursor: pointer;\n",
              "      display: none;\n",
              "      fill: #1967D2;\n",
              "      height: 32px;\n",
              "      padding: 0 0 0 0;\n",
              "      width: 32px;\n",
              "    }\n",
              "\n",
              "    .colab-df-convert:hover {\n",
              "      background-color: #E2EBFA;\n",
              "      box-shadow: 0px 1px 2px rgba(60, 64, 67, 0.3), 0px 1px 3px 1px rgba(60, 64, 67, 0.15);\n",
              "      fill: #174EA6;\n",
              "    }\n",
              "\n",
              "    .colab-df-buttons div {\n",
              "      margin-bottom: 4px;\n",
              "    }\n",
              "\n",
              "    [theme=dark] .colab-df-convert {\n",
              "      background-color: #3B4455;\n",
              "      fill: #D2E3FC;\n",
              "    }\n",
              "\n",
              "    [theme=dark] .colab-df-convert:hover {\n",
              "      background-color: #434B5C;\n",
              "      box-shadow: 0px 1px 3px 1px rgba(0, 0, 0, 0.15);\n",
              "      filter: drop-shadow(0px 1px 2px rgba(0, 0, 0, 0.3));\n",
              "      fill: #FFFFFF;\n",
              "    }\n",
              "  </style>\n",
              "\n",
              "    <script>\n",
              "      const buttonEl =\n",
              "        document.querySelector('#df-58f480b0-1150-462c-9cb7-82b4f48d3d22 button.colab-df-convert');\n",
              "      buttonEl.style.display =\n",
              "        google.colab.kernel.accessAllowed ? 'block' : 'none';\n",
              "\n",
              "      async function convertToInteractive(key) {\n",
              "        const element = document.querySelector('#df-58f480b0-1150-462c-9cb7-82b4f48d3d22');\n",
              "        const dataTable =\n",
              "          await google.colab.kernel.invokeFunction('convertToInteractive',\n",
              "                                                    [key], {});\n",
              "        if (!dataTable) return;\n",
              "\n",
              "        const docLinkHtml = 'Like what you see? Visit the ' +\n",
              "          '<a target=\"_blank\" href=https://colab.research.google.com/notebooks/data_table.ipynb>data table notebook</a>'\n",
              "          + ' to learn more about interactive tables.';\n",
              "        element.innerHTML = '';\n",
              "        dataTable['output_type'] = 'display_data';\n",
              "        await google.colab.output.renderOutput(dataTable, element);\n",
              "        const docLink = document.createElement('div');\n",
              "        docLink.innerHTML = docLinkHtml;\n",
              "        element.appendChild(docLink);\n",
              "      }\n",
              "    </script>\n",
              "  </div>\n",
              "\n",
              "\n",
              "<div id=\"df-743295ad-a7bc-4eb5-b52e-bf7471a9353f\">\n",
              "  <button class=\"colab-df-quickchart\" onclick=\"quickchart('df-743295ad-a7bc-4eb5-b52e-bf7471a9353f')\"\n",
              "            title=\"Suggest charts\"\n",
              "            style=\"display:none;\">\n",
              "\n",
              "<svg xmlns=\"http://www.w3.org/2000/svg\" height=\"24px\"viewBox=\"0 0 24 24\"\n",
              "     width=\"24px\">\n",
              "    <g>\n",
              "        <path d=\"M19 3H5c-1.1 0-2 .9-2 2v14c0 1.1.9 2 2 2h14c1.1 0 2-.9 2-2V5c0-1.1-.9-2-2-2zM9 17H7v-7h2v7zm4 0h-2V7h2v10zm4 0h-2v-4h2v4z\"/>\n",
              "    </g>\n",
              "</svg>\n",
              "  </button>\n",
              "\n",
              "<style>\n",
              "  .colab-df-quickchart {\n",
              "      --bg-color: #E8F0FE;\n",
              "      --fill-color: #1967D2;\n",
              "      --hover-bg-color: #E2EBFA;\n",
              "      --hover-fill-color: #174EA6;\n",
              "      --disabled-fill-color: #AAA;\n",
              "      --disabled-bg-color: #DDD;\n",
              "  }\n",
              "\n",
              "  [theme=dark] .colab-df-quickchart {\n",
              "      --bg-color: #3B4455;\n",
              "      --fill-color: #D2E3FC;\n",
              "      --hover-bg-color: #434B5C;\n",
              "      --hover-fill-color: #FFFFFF;\n",
              "      --disabled-bg-color: #3B4455;\n",
              "      --disabled-fill-color: #666;\n",
              "  }\n",
              "\n",
              "  .colab-df-quickchart {\n",
              "    background-color: var(--bg-color);\n",
              "    border: none;\n",
              "    border-radius: 50%;\n",
              "    cursor: pointer;\n",
              "    display: none;\n",
              "    fill: var(--fill-color);\n",
              "    height: 32px;\n",
              "    padding: 0;\n",
              "    width: 32px;\n",
              "  }\n",
              "\n",
              "  .colab-df-quickchart:hover {\n",
              "    background-color: var(--hover-bg-color);\n",
              "    box-shadow: 0 1px 2px rgba(60, 64, 67, 0.3), 0 1px 3px 1px rgba(60, 64, 67, 0.15);\n",
              "    fill: var(--button-hover-fill-color);\n",
              "  }\n",
              "\n",
              "  .colab-df-quickchart-complete:disabled,\n",
              "  .colab-df-quickchart-complete:disabled:hover {\n",
              "    background-color: var(--disabled-bg-color);\n",
              "    fill: var(--disabled-fill-color);\n",
              "    box-shadow: none;\n",
              "  }\n",
              "\n",
              "  .colab-df-spinner {\n",
              "    border: 2px solid var(--fill-color);\n",
              "    border-color: transparent;\n",
              "    border-bottom-color: var(--fill-color);\n",
              "    animation:\n",
              "      spin 1s steps(1) infinite;\n",
              "  }\n",
              "\n",
              "  @keyframes spin {\n",
              "    0% {\n",
              "      border-color: transparent;\n",
              "      border-bottom-color: var(--fill-color);\n",
              "      border-left-color: var(--fill-color);\n",
              "    }\n",
              "    20% {\n",
              "      border-color: transparent;\n",
              "      border-left-color: var(--fill-color);\n",
              "      border-top-color: var(--fill-color);\n",
              "    }\n",
              "    30% {\n",
              "      border-color: transparent;\n",
              "      border-left-color: var(--fill-color);\n",
              "      border-top-color: var(--fill-color);\n",
              "      border-right-color: var(--fill-color);\n",
              "    }\n",
              "    40% {\n",
              "      border-color: transparent;\n",
              "      border-right-color: var(--fill-color);\n",
              "      border-top-color: var(--fill-color);\n",
              "    }\n",
              "    60% {\n",
              "      border-color: transparent;\n",
              "      border-right-color: var(--fill-color);\n",
              "    }\n",
              "    80% {\n",
              "      border-color: transparent;\n",
              "      border-right-color: var(--fill-color);\n",
              "      border-bottom-color: var(--fill-color);\n",
              "    }\n",
              "    90% {\n",
              "      border-color: transparent;\n",
              "      border-bottom-color: var(--fill-color);\n",
              "    }\n",
              "  }\n",
              "</style>\n",
              "\n",
              "  <script>\n",
              "    async function quickchart(key) {\n",
              "      const quickchartButtonEl =\n",
              "        document.querySelector('#' + key + ' button');\n",
              "      quickchartButtonEl.disabled = true;  // To prevent multiple clicks.\n",
              "      quickchartButtonEl.classList.add('colab-df-spinner');\n",
              "      try {\n",
              "        const charts = await google.colab.kernel.invokeFunction(\n",
              "            'suggestCharts', [key], {});\n",
              "      } catch (error) {\n",
              "        console.error('Error during call to suggestCharts:', error);\n",
              "      }\n",
              "      quickchartButtonEl.classList.remove('colab-df-spinner');\n",
              "      quickchartButtonEl.classList.add('colab-df-quickchart-complete');\n",
              "    }\n",
              "    (() => {\n",
              "      let quickchartButtonEl =\n",
              "        document.querySelector('#df-743295ad-a7bc-4eb5-b52e-bf7471a9353f button');\n",
              "      quickchartButtonEl.style.display =\n",
              "        google.colab.kernel.accessAllowed ? 'block' : 'none';\n",
              "    })();\n",
              "  </script>\n",
              "</div>\n",
              "\n",
              "    </div>\n",
              "  </div>\n"
            ],
            "application/vnd.google.colaboratory.intrinsic+json": {
              "type": "dataframe",
              "variable_name": "df_all",
              "summary": "{\n  \"name\": \"df_all\",\n  \"rows\": 506,\n  \"fields\": [\n    {\n      \"column\": \"category\",\n      \"properties\": {\n        \"dtype\": \"category\",\n        \"num_unique_values\": 4,\n        \"samples\": [\n          \"lipstick\",\n          \"lipliner\",\n          \"blush\"\n        ],\n        \"semantic_type\": \"\",\n        \"description\": \"\"\n      }\n    },\n    {\n      \"column\": \"joined\",\n      \"properties\": {\n        \"dtype\": \"string\",\n        \"num_unique_values\": 503,\n        \"samples\": [\n          \"em cosmetics pillow plush blush tickled\",\n          \"makeup obsession isn't it peachy blush palette\",\n          \"r.e.m. beauty eclipse blush & lip stick opening night\"\n        ],\n        \"semantic_type\": \"\",\n        \"description\": \"\"\n      }\n    },\n    {\n      \"column\": \"brand\",\n      \"properties\": {\n        \"dtype\": \"category\",\n        \"num_unique_values\": 153,\n        \"samples\": [\n          \"nyx professional makeup\",\n          \"revlon\",\n          \"vasanti cosmetics\"\n        ],\n        \"semantic_type\": \"\",\n        \"description\": \"\"\n      }\n    },\n    {\n      \"column\": \"product\",\n      \"properties\": {\n        \"dtype\": \"string\",\n        \"num_unique_values\": 343,\n        \"samples\": [\n          \"lip pencil\",\n          \"generation g sheer matte lipstick\",\n          \"pure color hi-lustre lipstick\"\n        ],\n        \"semantic_type\": \"\",\n        \"description\": \"\"\n      }\n    },\n    {\n      \"column\": \"shade\",\n      \"properties\": {\n        \"dtype\": \"string\",\n        \"num_unique_values\": 474,\n        \"samples\": [\n          \"vanessa\",\n          \"money honey\",\n          \"kiss of copper\"\n        ],\n        \"semantic_type\": \"\",\n        \"description\": \"\"\n      }\n    },\n    {\n      \"column\": \"img_url\",\n      \"properties\": {\n        \"dtype\": \"string\",\n        \"num_unique_values\": 500,\n        \"samples\": [\n          \"https://www.sephora.com/productimages/sku/s1892975-main-zoom.jpg?imwidth=48\",\n          \"https://www.revolutionbeauty.com/dw/image/v2/BCZJ_PRD/on/demandware.static/-/Sites-revbe-master-catalog/default/dw9405742b/images/hi-res/1105613_2.jpg\",\n          \"https://www.sephora.com/productimages/sku/s2216349-main-zoom.jpg?imwidth=48\"\n        ],\n        \"semantic_type\": \"\",\n        \"description\": \"\"\n      }\n    },\n    {\n      \"column\": \"shade_description_original\",\n      \"properties\": {\n        \"dtype\": \"string\",\n        \"num_unique_values\": 309,\n        \"samples\": [\n          \"soft rosy mauve\",\n          \"soft golden peach\",\n          \"sheer matte peach\"\n        ],\n        \"semantic_type\": \"\",\n        \"description\": \"\"\n      }\n    },\n    {\n      \"column\": \"id\",\n      \"properties\": {\n        \"dtype\": \"number\",\n        \"std\": 156,\n        \"min\": 1,\n        \"max\": 543,\n        \"num_unique_values\": 506,\n        \"samples\": [\n          186,\n          297,\n          526\n        ],\n        \"semantic_type\": \"\",\n        \"description\": \"\"\n      }\n    },\n    {\n      \"column\": \"validation\",\n      \"properties\": {\n        \"dtype\": \"boolean\",\n        \"num_unique_values\": 1,\n        \"samples\": [\n          true\n        ],\n        \"semantic_type\": \"\",\n        \"description\": \"\"\n      }\n    },\n    {\n      \"column\": \"img_name\",\n      \"properties\": {\n        \"dtype\": \"string\",\n        \"num_unique_values\": 501,\n        \"samples\": [\n          \"s2197671-main-zoom.jpg\"\n        ],\n        \"semantic_type\": \"\",\n        \"description\": \"\"\n      }\n    },\n    {\n      \"column\": \"mean_lab\",\n      \"properties\": {\n        \"dtype\": \"object\",\n        \"semantic_type\": \"\",\n        \"description\": \"\"\n      }\n    },\n    {\n      \"column\": \"peak_lab\",\n      \"properties\": {\n        \"dtype\": \"object\",\n        \"semantic_type\": \"\",\n        \"description\": \"\"\n      }\n    },\n    {\n      \"column\": \"sd_color\",\n      \"properties\": {\n        \"dtype\": \"number\",\n        \"std\": 20.462308800775318,\n        \"min\": 8.029021798450916,\n        \"max\": 112.9826898245916,\n        \"num_unique_values\": 499,\n        \"samples\": [\n          52.84428291458767\n        ],\n        \"semantic_type\": \"\",\n        \"description\": \"\"\n      }\n    },\n    {\n      \"column\": \"ground_truth\",\n      \"properties\": {\n        \"dtype\": \"number\",\n        \"std\": 0,\n        \"min\": 0,\n        \"max\": 1,\n        \"num_unique_values\": 2,\n        \"samples\": [\n          0\n        ],\n        \"semantic_type\": \"\",\n        \"description\": \"\"\n      }\n    },\n    {\n      \"column\": \"ground_truth_CIELAB\",\n      \"properties\": {\n        \"dtype\": \"string\",\n        \"num_unique_values\": 465,\n        \"samples\": [\n          \"[69.03903414 26.13813596 22.31254749]\"\n        ],\n        \"semantic_type\": \"\",\n        \"description\": \"\"\n      }\n    }\n  ]\n}"
            }
          },
          "metadata": {},
          "execution_count": 73
        }
      ]
    },
    {
      "cell_type": "markdown",
      "source": [
        "Next, I identify the validation set and calculate the color distance to assess how close the estimate and the ground truth are.\n",
        "\n",
        "To do this, I calculate Delta E (ΔE) which is a metric that quantifies the difference between two colors in the CIELAB color space. It calculates the distance between two points (representing colors) in the three-dimensional CIELAB space, where L* represents lightness, and a* and b* represent color-opponent dimensions.\n",
        "\n",
        "Delta E is measured on a scale of 0 to 100. A lower ΔE value indicates that the two colors are very similar to each other, while a higher ΔE value suggests a more noticeable difference. Delta E is widely used in color matching and quality control to assess how close two colors are to being identical.\n",
        "\n",
        "See also [color difference](https://en.wikipedia.org/wiki/Color_difference) in Wikipedia."
      ],
      "metadata": {
        "id": "0qZAoS1JKlPE"
      }
    },
    {
      "cell_type": "code",
      "source": [
        "from skimage.color import deltaE_ciede2000"
      ],
      "metadata": {
        "id": "GmaMhA1wT9H9"
      },
      "execution_count": 79,
      "outputs": []
    },
    {
      "cell_type": "code",
      "source": [
        "df_all['diff_lab'] = pd.Series(dtype='object')\n",
        "\n",
        "for i in range(len(df_all)):\n",
        "  if df_all.ground_truth[i] == 1:\n",
        "    diff = deltaE_ciede2000(df_all.mean_lab[i], list(map(float, df_all.ground_truth_CIELAB[i].strip('[]').split())))\n",
        "    df_all.loc[i, 'diff_lab'] = diff\n",
        "  else:\n",
        "    df_all.loc[i, 'diff_lab'] = np.nan"
      ],
      "metadata": {
        "id": "mP5yaIfrKmty"
      },
      "execution_count": 105,
      "outputs": []
    },
    {
      "cell_type": "code",
      "source": [
        "df_all.diff_lab.mean()"
      ],
      "metadata": {
        "colab": {
          "base_uri": "https://localhost:8080/"
        },
        "id": "dELPe4NlV85n",
        "outputId": "781621f4-133c-49b6-fded-f1fae4bae769"
      },
      "execution_count": 109,
      "outputs": [
        {
          "output_type": "execute_result",
          "data": {
            "text/plain": [
              "19.324833958901305"
            ]
          },
          "metadata": {},
          "execution_count": 109
        }
      ]
    },
    {
      "cell_type": "markdown",
      "source": [
        "Below is a histogram for Delta E each observation in the validation set. For a ΔE value of 0 indicates that the colors are identical, while values up to 10 suggest that the colors are similar. For color-matching applications, a threshold between 10 and 15 is generally effective (see [Color Difference Estimation](https://medium.com/@bhuwankhatiwada57/color-difference-estimation-using-cie-l-a-b-color-space-b415f97a6b94) and [Delta E - A Survey](https://wisotop.de/assets/2017/DeltaE-%20Survey-2.pdf))\n",
        "\n",
        "The mean Delta E is 19.3.\n",
        "\n",
        "However, the optimal threshold varies depending on the specific application. With more time and funding, in the future, I could conduct tests or surveys with users to determine at what ΔE they perceive a difference as significant. This could help tailor the threshold to real-world preferences."
      ],
      "metadata": {
        "id": "juxHIh90bSfw"
      }
    },
    {
      "cell_type": "code",
      "source": [
        "df_t_v = pd.concat([train_df, validation_df], axis=0)\n",
        "df_t_v.shape"
      ],
      "metadata": {
        "colab": {
          "base_uri": "https://localhost:8080/"
        },
        "id": "So6E6kTihWkj",
        "outputId": "66e3e776-f5f3-4dc8-8fc9-ab77fc028ce0"
      },
      "execution_count": 145,
      "outputs": [
        {
          "output_type": "execute_result",
          "data": {
            "text/plain": [
              "(404, 13)"
            ]
          },
          "metadata": {},
          "execution_count": 145
        }
      ]
    },
    {
      "cell_type": "code",
      "source": [
        "df_val = pd.merge(df_all, df_t_v['id'], how='inner', on='id')\n",
        "df_val.shape"
      ],
      "metadata": {
        "colab": {
          "base_uri": "https://localhost:8080/"
        },
        "id": "90vh5jF8f96w",
        "outputId": "0e3e1e21-b8f5-4cc8-bce4-4ff9f3c3297a"
      },
      "execution_count": 146,
      "outputs": [
        {
          "output_type": "execute_result",
          "data": {
            "text/plain": [
              "(404, 16)"
            ]
          },
          "metadata": {},
          "execution_count": 146
        }
      ]
    },
    {
      "cell_type": "code",
      "source": [
        "df_val.diff_lab.median()"
      ],
      "metadata": {
        "colab": {
          "base_uri": "https://localhost:8080/"
        },
        "id": "gp0xECmGcyZZ",
        "outputId": "c9f54235-7413-427f-a809-163bd0ccff10"
      },
      "execution_count": 147,
      "outputs": [
        {
          "output_type": "execute_result",
          "data": {
            "text/plain": [
              "17.91674791243618"
            ]
          },
          "metadata": {},
          "execution_count": 147
        }
      ]
    },
    {
      "cell_type": "code",
      "source": [
        "df_val.diff_lab.hist(bins=50)"
      ],
      "metadata": {
        "colab": {
          "base_uri": "https://localhost:8080/",
          "height": 448
        },
        "id": "pQysisF7X_R2",
        "outputId": "9e0e7da1-76a3-4569-990c-c306ea0ec35a"
      },
      "execution_count": 148,
      "outputs": [
        {
          "output_type": "execute_result",
          "data": {
            "text/plain": [
              "<Axes: >"
            ]
          },
          "metadata": {},
          "execution_count": 148
        },
        {
          "output_type": "display_data",
          "data": {
            "text/plain": [
              "<Figure size 640x480 with 1 Axes>"
            ],
            "image/png": "[encoded data removed]"
          },
          "metadata": {}
        }
      ]
    },
    {
      "cell_type": "markdown",
      "source": [
        "We can also look at Delta E by product category. Below, we see that 'Delta E' is tends to be larger for 'lipstick', probably because lipstick is in a container and the color of the container is confounded with the color of the makeup.\n",
        "\n",
        "Moreover, looking at the mean Delta E per product, blush has a mean of 16, lipgloss a mean of 19, while lipliner and lipstick have a higher Delta E of 24.4 and 21.4 respectively. The Delta E variance for these two product categories is also considerably higher than for the other categories.\n",
        "\n",
        "Overall, the higher mean and variance of Delta E for lipliner and lipsticks compared to blush suggest that the color measurements for these products are less consistent and less reliable. This variability may be due to the confounding effect of the container color, which can influence the color identified through the k-means algorithm and result in greater discrepancies in color matching.\n",
        "\n",
        "In terms of reliability, this higher variance indicates that the color measurements for lipliner and lipsticks are less stable across different samples, leading to less consistent results.\n",
        "\n",
        "In terms of validity, the presence of confounding colors (e.g., container colors) can affect the accuracy of color measurements, making it harder to accurately represent the true color of the makeup products. This can reduce the validity of the color matching process, as the measurements may not accurately reflect the product’s actual color."
      ],
      "metadata": {
        "id": "n72h3JLudWsB"
      }
    },
    {
      "cell_type": "code",
      "source": [
        "# histogram with delta E by product category\n",
        "# Create a figure and axis\n",
        "fig, ax = plt.subplots()\n",
        "\n",
        "# Group by the 'Group' column and plot a histogram for each group\n",
        "for name, group in df_val.groupby('category'):\n",
        "    ax.hist(group['diff_lab'], bins=10, alpha=0.5, label=name)\n",
        "\n",
        "# Add labels and legend\n",
        "ax.set_xlabel('Value')\n",
        "ax.set_ylabel('Frequency')\n",
        "ax.set_title('Histogram by Product Category')\n",
        "ax.legend(title='Group')\n",
        "\n",
        "# Show the plot\n",
        "plt.show()"
      ],
      "metadata": {
        "colab": {
          "base_uri": "https://localhost:8080/",
          "height": 563
        },
        "id": "2yX8sSTUY0n6",
        "outputId": "c42dfc57-cbc8-4801-d752-f777575b2ea8"
      },
      "execution_count": 149,
      "outputs": [
        {
          "output_type": "stream",
          "name": "stderr",
          "text": [
            "/usr/local/lib/python3.10/dist-packages/numpy/lib/histograms.py:825: RuntimeWarning: invalid value encountered in greater_equal\n",
            "  keep = (tmp_a >= first_edge)\n",
            "/usr/local/lib/python3.10/dist-packages/numpy/lib/histograms.py:826: RuntimeWarning: invalid value encountered in less_equal\n",
            "  keep &= (tmp_a <= last_edge)\n"
          ]
        },
        {
          "output_type": "display_data",
          "data": {
            "text/plain": [
              "<Figure size 640x480 with 1 Axes>"
            ],
            "image/png": "[encoded data removed]"
          },
          "metadata": {}
        }
      ]
    },
    {
      "cell_type": "code",
      "source": [
        "product_deltaE = df_val.diff_lab.groupby(df_val.category).mean()\n",
        "product_deltaE = product_deltaE.reset_index()\n",
        "product_deltaE.columns = ['product category', 'Delta E']\n",
        "\n",
        "print('Table: DeltaE (mean) by Product')\n",
        "product_deltaE"
      ],
      "metadata": {
        "colab": {
          "base_uri": "https://localhost:8080/",
          "height": 193
        },
        "id": "r6wAopf8eT0K",
        "outputId": "90f55cc4-f72c-495a-9e87-1647f2c725ea"
      },
      "execution_count": 158,
      "outputs": [
        {
          "output_type": "stream",
          "name": "stdout",
          "text": [
            "Table: DeltaE (mean) by Product\n"
          ]
        },
        {
          "output_type": "execute_result",
          "data": {
            "text/plain": [
              "  product category    Delta E\n",
              "0            blush  16.457209\n",
              "1         lipgloss  19.108062\n",
              "2         lipliner  24.471992\n",
              "3         lipstick  21.478627"
            ],
            "text/html": [
              "\n",
              "  <div id=\"df-da39c911-ce95-4c18-b24f-35e4182ea86d\" class=\"colab-df-container\">\n",
              "    <div>\n",
              "<style scoped>\n",
              "    .dataframe tbody tr th:only-of-type {\n",
              "        vertical-align: middle;\n",
              "    }\n",
              "\n",
              "    .dataframe tbody tr th {\n",
              "        vertical-align: top;\n",
              "    }\n",
              "\n",
              "    .dataframe thead th {\n",
              "        text-align: right;\n",
              "    }\n",
              "</style>\n",
              "<table border=\"1\" class=\"dataframe\">\n",
              "  <thead>\n",
              "    <tr style=\"text-align: right;\">\n",
              "      <th></th>\n",
              "      <th>product category</th>\n",
              "      <th>Delta E</th>\n",
              "    </tr>\n",
              "  </thead>\n",
              "  <tbody>\n",
              "    <tr>\n",
              "      <th>0</th>\n",
              "      <td>blush</td>\n",
              "      <td>16.457209</td>\n",
              "    </tr>\n",
              "    <tr>\n",
              "      <th>1</th>\n",
              "      <td>lipgloss</td>\n",
              "      <td>19.108062</td>\n",
              "    </tr>\n",
              "    <tr>\n",
              "      <th>2</th>\n",
              "      <td>lipliner</td>\n",
              "      <td>24.471992</td>\n",
              "    </tr>\n",
              "    <tr>\n",
              "      <th>3</th>\n",
              "      <td>lipstick</td>\n",
              "      <td>21.478627</td>\n",
              "    </tr>\n",
              "  </tbody>\n",
              "</table>\n",
              "</div>\n",
              "    <div class=\"colab-df-buttons\">\n",
              "\n",
              "  <div class=\"colab-df-container\">\n",
              "    <button class=\"colab-df-convert\" onclick=\"convertToInteractive('df-da39c911-ce95-4c18-b24f-35e4182ea86d')\"\n",
              "            title=\"Convert this dataframe to an interactive table.\"\n",
              "            style=\"display:none;\">\n",
              "\n",
              "  <svg xmlns=\"http://www.w3.org/2000/svg\" height=\"24px\" viewBox=\"0 -960 960 960\">\n",
              "    <path d=\"M120-120v-720h720v720H120Zm60-500h600v-160H180v160Zm220 220h160v-160H400v160Zm0 220h160v-160H400v160ZM180-400h160v-160H180v160Zm440 0h160v-160H620v160ZM180-180h160v-160H180v160Zm440 0h160v-160H620v160Z\"/>\n",
              "  </svg>\n",
              "    </button>\n",
              "\n",
              "  <style>\n",
              "    .colab-df-container {\n",
              "      display:flex;\n",
              "      gap: 12px;\n",
              "    }\n",
              "\n",
              "    .colab-df-convert {\n",
              "      background-color: #E8F0FE;\n",
              "      border: none;\n",
              "      border-radius: 50%;\n",
              "      cursor: pointer;\n",
              "      display: none;\n",
              "      fill: #1967D2;\n",
              "      height: 32px;\n",
              "      padding: 0 0 0 0;\n",
              "      width: 32px;\n",
              "    }\n",
              "\n",
              "    .colab-df-convert:hover {\n",
              "      background-color: #E2EBFA;\n",
              "      box-shadow: 0px 1px 2px rgba(60, 64, 67, 0.3), 0px 1px 3px 1px rgba(60, 64, 67, 0.15);\n",
              "      fill: #174EA6;\n",
              "    }\n",
              "\n",
              "    .colab-df-buttons div {\n",
              "      margin-bottom: 4px;\n",
              "    }\n",
              "\n",
              "    [theme=dark] .colab-df-convert {\n",
              "      background-color: #3B4455;\n",
              "      fill: #D2E3FC;\n",
              "    }\n",
              "\n",
              "    [theme=dark] .colab-df-convert:hover {\n",
              "      background-color: #434B5C;\n",
              "      box-shadow: 0px 1px 3px 1px rgba(0, 0, 0, 0.15);\n",
              "      filter: drop-shadow(0px 1px 2px rgba(0, 0, 0, 0.3));\n",
              "      fill: #FFFFFF;\n",
              "    }\n",
              "  </style>\n",
              "\n",
              "    <script>\n",
              "      const buttonEl =\n",
              "        document.querySelector('#df-da39c911-ce95-4c18-b24f-35e4182ea86d button.colab-df-convert');\n",
              "      buttonEl.style.display =\n",
              "        google.colab.kernel.accessAllowed ? 'block' : 'none';\n",
              "\n",
              "      async function convertToInteractive(key) {\n",
              "        const element = document.querySelector('#df-da39c911-ce95-4c18-b24f-35e4182ea86d');\n",
              "        const dataTable =\n",
              "          await google.colab.kernel.invokeFunction('convertToInteractive',\n",
              "                                                    [key], {});\n",
              "        if (!dataTable) return;\n",
              "\n",
              "        const docLinkHtml = 'Like what you see? Visit the ' +\n",
              "          '<a target=\"_blank\" href=https://colab.research.google.com/notebooks/data_table.ipynb>data table notebook</a>'\n",
              "          + ' to learn more about interactive tables.';\n",
              "        element.innerHTML = '';\n",
              "        dataTable['output_type'] = 'display_data';\n",
              "        await google.colab.output.renderOutput(dataTable, element);\n",
              "        const docLink = document.createElement('div');\n",
              "        docLink.innerHTML = docLinkHtml;\n",
              "        element.appendChild(docLink);\n",
              "      }\n",
              "    </script>\n",
              "  </div>\n",
              "\n",
              "\n",
              "<div id=\"df-7b9c6839-a9da-45df-9aab-44e9d4e49b71\">\n",
              "  <button class=\"colab-df-quickchart\" onclick=\"quickchart('df-7b9c6839-a9da-45df-9aab-44e9d4e49b71')\"\n",
              "            title=\"Suggest charts\"\n",
              "            style=\"display:none;\">\n",
              "\n",
              "<svg xmlns=\"http://www.w3.org/2000/svg\" height=\"24px\"viewBox=\"0 0 24 24\"\n",
              "     width=\"24px\">\n",
              "    <g>\n",
              "        <path d=\"M19 3H5c-1.1 0-2 .9-2 2v14c0 1.1.9 2 2 2h14c1.1 0 2-.9 2-2V5c0-1.1-.9-2-2-2zM9 17H7v-7h2v7zm4 0h-2V7h2v10zm4 0h-2v-4h2v4z\"/>\n",
              "    </g>\n",
              "</svg>\n",
              "  </button>\n",
              "\n",
              "<style>\n",
              "  .colab-df-quickchart {\n",
              "      --bg-color: #E8F0FE;\n",
              "      --fill-color: #1967D2;\n",
              "      --hover-bg-color: #E2EBFA;\n",
              "      --hover-fill-color: #174EA6;\n",
              "      --disabled-fill-color: #AAA;\n",
              "      --disabled-bg-color: #DDD;\n",
              "  }\n",
              "\n",
              "  [theme=dark] .colab-df-quickchart {\n",
              "      --bg-color: #3B4455;\n",
              "      --fill-color: #D2E3FC;\n",
              "      --hover-bg-color: #434B5C;\n",
              "      --hover-fill-color: #FFFFFF;\n",
              "      --disabled-bg-color: #3B4455;\n",
              "      --disabled-fill-color: #666;\n",
              "  }\n",
              "\n",
              "  .colab-df-quickchart {\n",
              "    background-color: var(--bg-color);\n",
              "    border: none;\n",
              "    border-radius: 50%;\n",
              "    cursor: pointer;\n",
              "    display: none;\n",
              "    fill: var(--fill-color);\n",
              "    height: 32px;\n",
              "    padding: 0;\n",
              "    width: 32px;\n",
              "  }\n",
              "\n",
              "  .colab-df-quickchart:hover {\n",
              "    background-color: var(--hover-bg-color);\n",
              "    box-shadow: 0 1px 2px rgba(60, 64, 67, 0.3), 0 1px 3px 1px rgba(60, 64, 67, 0.15);\n",
              "    fill: var(--button-hover-fill-color);\n",
              "  }\n",
              "\n",
              "  .colab-df-quickchart-complete:disabled,\n",
              "  .colab-df-quickchart-complete:disabled:hover {\n",
              "    background-color: var(--disabled-bg-color);\n",
              "    fill: var(--disabled-fill-color);\n",
              "    box-shadow: none;\n",
              "  }\n",
              "\n",
              "  .colab-df-spinner {\n",
              "    border: 2px solid var(--fill-color);\n",
              "    border-color: transparent;\n",
              "    border-bottom-color: var(--fill-color);\n",
              "    animation:\n",
              "      spin 1s steps(1) infinite;\n",
              "  }\n",
              "\n",
              "  @keyframes spin {\n",
              "    0% {\n",
              "      border-color: transparent;\n",
              "      border-bottom-color: var(--fill-color);\n",
              "      border-left-color: var(--fill-color);\n",
              "    }\n",
              "    20% {\n",
              "      border-color: transparent;\n",
              "      border-left-color: var(--fill-color);\n",
              "      border-top-color: var(--fill-color);\n",
              "    }\n",
              "    30% {\n",
              "      border-color: transparent;\n",
              "      border-left-color: var(--fill-color);\n",
              "      border-top-color: var(--fill-color);\n",
              "      border-right-color: var(--fill-color);\n",
              "    }\n",
              "    40% {\n",
              "      border-color: transparent;\n",
              "      border-right-color: var(--fill-color);\n",
              "      border-top-color: var(--fill-color);\n",
              "    }\n",
              "    60% {\n",
              "      border-color: transparent;\n",
              "      border-right-color: var(--fill-color);\n",
              "    }\n",
              "    80% {\n",
              "      border-color: transparent;\n",
              "      border-right-color: var(--fill-color);\n",
              "      border-bottom-color: var(--fill-color);\n",
              "    }\n",
              "    90% {\n",
              "      border-color: transparent;\n",
              "      border-bottom-color: var(--fill-color);\n",
              "    }\n",
              "  }\n",
              "</style>\n",
              "\n",
              "  <script>\n",
              "    async function quickchart(key) {\n",
              "      const quickchartButtonEl =\n",
              "        document.querySelector('#' + key + ' button');\n",
              "      quickchartButtonEl.disabled = true;  // To prevent multiple clicks.\n",
              "      quickchartButtonEl.classList.add('colab-df-spinner');\n",
              "      try {\n",
              "        const charts = await google.colab.kernel.invokeFunction(\n",
              "            'suggestCharts', [key], {});\n",
              "      } catch (error) {\n",
              "        console.error('Error during call to suggestCharts:', error);\n",
              "      }\n",
              "      quickchartButtonEl.classList.remove('colab-df-spinner');\n",
              "      quickchartButtonEl.classList.add('colab-df-quickchart-complete');\n",
              "    }\n",
              "    (() => {\n",
              "      let quickchartButtonEl =\n",
              "        document.querySelector('#df-7b9c6839-a9da-45df-9aab-44e9d4e49b71 button');\n",
              "      quickchartButtonEl.style.display =\n",
              "        google.colab.kernel.accessAllowed ? 'block' : 'none';\n",
              "    })();\n",
              "  </script>\n",
              "</div>\n",
              "\n",
              "  <div id=\"id_643749d0-1910-47ce-9144-633f020cca90\">\n",
              "    <style>\n",
              "      .colab-df-generate {\n",
              "        background-color: #E8F0FE;\n",
              "        border: none;\n",
              "        border-radius: 50%;\n",
              "        cursor: pointer;\n",
              "        display: none;\n",
              "        fill: #1967D2;\n",
              "        height: 32px;\n",
              "        padding: 0 0 0 0;\n",
              "        width: 32px;\n",
              "      }\n",
              "\n",
              "      .colab-df-generate:hover {\n",
              "        background-color: #E2EBFA;\n",
              "        box-shadow: 0px 1px 2px rgba(60, 64, 67, 0.3), 0px 1px 3px 1px rgba(60, 64, 67, 0.15);\n",
              "        fill: #174EA6;\n",
              "      }\n",
              "\n",
              "      [theme=dark] .colab-df-generate {\n",
              "        background-color: #3B4455;\n",
              "        fill: #D2E3FC;\n",
              "      }\n",
              "\n",
              "      [theme=dark] .colab-df-generate:hover {\n",
              "        background-color: #434B5C;\n",
              "        box-shadow: 0px 1px 3px 1px rgba(0, 0, 0, 0.15);\n",
              "        filter: drop-shadow(0px 1px 2px rgba(0, 0, 0, 0.3));\n",
              "        fill: #FFFFFF;\n",
              "      }\n",
              "    </style>\n",
              "    <button class=\"colab-df-generate\" onclick=\"generateWithVariable('product_deltaE')\"\n",
              "            title=\"Generate code using this dataframe.\"\n",
              "            style=\"display:none;\">\n",
              "\n",
              "  <svg xmlns=\"http://www.w3.org/2000/svg\" height=\"24px\"viewBox=\"0 0 24 24\"\n",
              "       width=\"24px\">\n",
              "    <path d=\"M7,19H8.4L18.45,9,17,7.55,7,17.6ZM5,21V16.75L18.45,3.32a2,2,0,0,1,2.83,0l1.4,1.43a1.91,1.91,0,0,1,.58,1.4,1.91,1.91,0,0,1-.58,1.4L9.25,21ZM18.45,9,17,7.55Zm-12,3A5.31,5.31,0,0,0,4.9,8.1,5.31,5.31,0,0,0,1,6.5,5.31,5.31,0,0,0,4.9,4.9,5.31,5.31,0,0,0,6.5,1,5.31,5.31,0,0,0,8.1,4.9,5.31,5.31,0,0,0,12,6.5,5.46,5.46,0,0,0,6.5,12Z\"/>\n",
              "  </svg>\n",
              "    </button>\n",
              "    <script>\n",
              "      (() => {\n",
              "      const buttonEl =\n",
              "        document.querySelector('#id_643749d0-1910-47ce-9144-633f020cca90 button.colab-df-generate');\n",
              "      buttonEl.style.display =\n",
              "        google.colab.kernel.accessAllowed ? 'block' : 'none';\n",
              "\n",
              "      buttonEl.onclick = () => {\n",
              "        google.colab.notebook.generateWithVariable('product_deltaE');\n",
              "      }\n",
              "      })();\n",
              "    </script>\n",
              "  </div>\n",
              "\n",
              "    </div>\n",
              "  </div>\n"
            ],
            "application/vnd.google.colaboratory.intrinsic+json": {
              "type": "dataframe",
              "variable_name": "product_deltaE",
              "summary": "{\n  \"name\": \"product_deltaE\",\n  \"rows\": 4,\n  \"fields\": [\n    {\n      \"column\": \"product category\",\n      \"properties\": {\n        \"dtype\": \"string\",\n        \"num_unique_values\": 4,\n        \"samples\": [\n          \"lipgloss\",\n          \"lipstick\",\n          \"blush\"\n        ],\n        \"semantic_type\": \"\",\n        \"description\": \"\"\n      }\n    },\n    {\n      \"column\": \"Delta E\",\n      \"properties\": {\n        \"dtype\": \"date\",\n        \"min\": 16.457209156994036,\n        \"max\": 24.471991783981107,\n        \"num_unique_values\": 4,\n        \"samples\": [\n          19.108061674591195,\n          21.47862678004114,\n          16.457209156994036\n        ],\n        \"semantic_type\": \"\",\n        \"description\": \"\"\n      }\n    }\n  ]\n}"
            }
          },
          "metadata": {},
          "execution_count": 158
        }
      ]
    },
    {
      "cell_type": "code",
      "source": [
        "product_deltaE = df_val.diff_lab.groupby(df_val.category).var()\n",
        "product_deltaE = product_deltaE.reset_index()\n",
        "product_deltaE.columns = ['product category', 'Delta E']\n",
        "\n",
        "print('Table: DeltaE (SD) by Product')\n",
        "product_deltaE"
      ],
      "metadata": {
        "colab": {
          "base_uri": "https://localhost:8080/",
          "height": 193
        },
        "id": "7wVxX_TcexGK",
        "outputId": "d97834e5-84cc-49a9-80e5-3190f0d57423"
      },
      "execution_count": 157,
      "outputs": [
        {
          "output_type": "stream",
          "name": "stdout",
          "text": [
            "Table: DeltaE (SD) by Product\n"
          ]
        },
        {
          "output_type": "execute_result",
          "data": {
            "text/plain": [
              "  product category     Delta E\n",
              "0            blush   50.643298\n",
              "1         lipgloss    62.29745\n",
              "2         lipliner  110.389342\n",
              "3         lipstick   75.006309"
            ],
            "text/html": [
              "\n",
              "  <div id=\"df-5b9be275-f2f0-44c5-a503-f80a01693ffe\" class=\"colab-df-container\">\n",
              "    <div>\n",
              "<style scoped>\n",
              "    .dataframe tbody tr th:only-of-type {\n",
              "        vertical-align: middle;\n",
              "    }\n",
              "\n",
              "    .dataframe tbody tr th {\n",
              "        vertical-align: top;\n",
              "    }\n",
              "\n",
              "    .dataframe thead th {\n",
              "        text-align: right;\n",
              "    }\n",
              "</style>\n",
              "<table border=\"1\" class=\"dataframe\">\n",
              "  <thead>\n",
              "    <tr style=\"text-align: right;\">\n",
              "      <th></th>\n",
              "      <th>product category</th>\n",
              "      <th>Delta E</th>\n",
              "    </tr>\n",
              "  </thead>\n",
              "  <tbody>\n",
              "    <tr>\n",
              "      <th>0</th>\n",
              "      <td>blush</td>\n",
              "      <td>50.643298</td>\n",
              "    </tr>\n",
              "    <tr>\n",
              "      <th>1</th>\n",
              "      <td>lipgloss</td>\n",
              "      <td>62.29745</td>\n",
              "    </tr>\n",
              "    <tr>\n",
              "      <th>2</th>\n",
              "      <td>lipliner</td>\n",
              "      <td>110.389342</td>\n",
              "    </tr>\n",
              "    <tr>\n",
              "      <th>3</th>\n",
              "      <td>lipstick</td>\n",
              "      <td>75.006309</td>\n",
              "    </tr>\n",
              "  </tbody>\n",
              "</table>\n",
              "</div>\n",
              "    <div class=\"colab-df-buttons\">\n",
              "\n",
              "  <div class=\"colab-df-container\">\n",
              "    <button class=\"colab-df-convert\" onclick=\"convertToInteractive('df-5b9be275-f2f0-44c5-a503-f80a01693ffe')\"\n",
              "            title=\"Convert this dataframe to an interactive table.\"\n",
              "            style=\"display:none;\">\n",
              "\n",
              "  <svg xmlns=\"http://www.w3.org/2000/svg\" height=\"24px\" viewBox=\"0 -960 960 960\">\n",
              "    <path d=\"M120-120v-720h720v720H120Zm60-500h600v-160H180v160Zm220 220h160v-160H400v160Zm0 220h160v-160H400v160ZM180-400h160v-160H180v160Zm440 0h160v-160H620v160ZM180-180h160v-160H180v160Zm440 0h160v-160H620v160Z\"/>\n",
              "  </svg>\n",
              "    </button>\n",
              "\n",
              "  <style>\n",
              "    .colab-df-container {\n",
              "      display:flex;\n",
              "      gap: 12px;\n",
              "    }\n",
              "\n",
              "    .colab-df-convert {\n",
              "      background-color: #E8F0FE;\n",
              "      border: none;\n",
              "      border-radius: 50%;\n",
              "      cursor: pointer;\n",
              "      display: none;\n",
              "      fill: #1967D2;\n",
              "      height: 32px;\n",
              "      padding: 0 0 0 0;\n",
              "      width: 32px;\n",
              "    }\n",
              "\n",
              "    .colab-df-convert:hover {\n",
              "      background-color: #E2EBFA;\n",
              "      box-shadow: 0px 1px 2px rgba(60, 64, 67, 0.3), 0px 1px 3px 1px rgba(60, 64, 67, 0.15);\n",
              "      fill: #174EA6;\n",
              "    }\n",
              "\n",
              "    .colab-df-buttons div {\n",
              "      margin-bottom: 4px;\n",
              "    }\n",
              "\n",
              "    [theme=dark] .colab-df-convert {\n",
              "      background-color: #3B4455;\n",
              "      fill: #D2E3FC;\n",
              "    }\n",
              "\n",
              "    [theme=dark] .colab-df-convert:hover {\n",
              "      background-color: #434B5C;\n",
              "      box-shadow: 0px 1px 3px 1px rgba(0, 0, 0, 0.15);\n",
              "      filter: drop-shadow(0px 1px 2px rgba(0, 0, 0, 0.3));\n",
              "      fill: #FFFFFF;\n",
              "    }\n",
              "  </style>\n",
              "\n",
              "    <script>\n",
              "      const buttonEl =\n",
              "        document.querySelector('#df-5b9be275-f2f0-44c5-a503-f80a01693ffe button.colab-df-convert');\n",
              "      buttonEl.style.display =\n",
              "        google.colab.kernel.accessAllowed ? 'block' : 'none';\n",
              "\n",
              "      async function convertToInteractive(key) {\n",
              "        const element = document.querySelector('#df-5b9be275-f2f0-44c5-a503-f80a01693ffe');\n",
              "        const dataTable =\n",
              "          await google.colab.kernel.invokeFunction('convertToInteractive',\n",
              "                                                    [key], {});\n",
              "        if (!dataTable) return;\n",
              "\n",
              "        const docLinkHtml = 'Like what you see? Visit the ' +\n",
              "          '<a target=\"_blank\" href=https://colab.research.google.com/notebooks/data_table.ipynb>data table notebook</a>'\n",
              "          + ' to learn more about interactive tables.';\n",
              "        element.innerHTML = '';\n",
              "        dataTable['output_type'] = 'display_data';\n",
              "        await google.colab.output.renderOutput(dataTable, element);\n",
              "        const docLink = document.createElement('div');\n",
              "        docLink.innerHTML = docLinkHtml;\n",
              "        element.appendChild(docLink);\n",
              "      }\n",
              "    </script>\n",
              "  </div>\n",
              "\n",
              "\n",
              "<div id=\"df-71bb389c-adf5-4b9b-9392-6dbc02816ceb\">\n",
              "  <button class=\"colab-df-quickchart\" onclick=\"quickchart('df-71bb389c-adf5-4b9b-9392-6dbc02816ceb')\"\n",
              "            title=\"Suggest charts\"\n",
              "            style=\"display:none;\">\n",
              "\n",
              "<svg xmlns=\"http://www.w3.org/2000/svg\" height=\"24px\"viewBox=\"0 0 24 24\"\n",
              "     width=\"24px\">\n",
              "    <g>\n",
              "        <path d=\"M19 3H5c-1.1 0-2 .9-2 2v14c0 1.1.9 2 2 2h14c1.1 0 2-.9 2-2V5c0-1.1-.9-2-2-2zM9 17H7v-7h2v7zm4 0h-2V7h2v10zm4 0h-2v-4h2v4z\"/>\n",
              "    </g>\n",
              "</svg>\n",
              "  </button>\n",
              "\n",
              "<style>\n",
              "  .colab-df-quickchart {\n",
              "      --bg-color: #E8F0FE;\n",
              "      --fill-color: #1967D2;\n",
              "      --hover-bg-color: #E2EBFA;\n",
              "      --hover-fill-color: #174EA6;\n",
              "      --disabled-fill-color: #AAA;\n",
              "      --disabled-bg-color: #DDD;\n",
              "  }\n",
              "\n",
              "  [theme=dark] .colab-df-quickchart {\n",
              "      --bg-color: #3B4455;\n",
              "      --fill-color: #D2E3FC;\n",
              "      --hover-bg-color: #434B5C;\n",
              "      --hover-fill-color: #FFFFFF;\n",
              "      --disabled-bg-color: #3B4455;\n",
              "      --disabled-fill-color: #666;\n",
              "  }\n",
              "\n",
              "  .colab-df-quickchart {\n",
              "    background-color: var(--bg-color);\n",
              "    border: none;\n",
              "    border-radius: 50%;\n",
              "    cursor: pointer;\n",
              "    display: none;\n",
              "    fill: var(--fill-color);\n",
              "    height: 32px;\n",
              "    padding: 0;\n",
              "    width: 32px;\n",
              "  }\n",
              "\n",
              "  .colab-df-quickchart:hover {\n",
              "    background-color: var(--hover-bg-color);\n",
              "    box-shadow: 0 1px 2px rgba(60, 64, 67, 0.3), 0 1px 3px 1px rgba(60, 64, 67, 0.15);\n",
              "    fill: var(--button-hover-fill-color);\n",
              "  }\n",
              "\n",
              "  .colab-df-quickchart-complete:disabled,\n",
              "  .colab-df-quickchart-complete:disabled:hover {\n",
              "    background-color: var(--disabled-bg-color);\n",
              "    fill: var(--disabled-fill-color);\n",
              "    box-shadow: none;\n",
              "  }\n",
              "\n",
              "  .colab-df-spinner {\n",
              "    border: 2px solid var(--fill-color);\n",
              "    border-color: transparent;\n",
              "    border-bottom-color: var(--fill-color);\n",
              "    animation:\n",
              "      spin 1s steps(1) infinite;\n",
              "  }\n",
              "\n",
              "  @keyframes spin {\n",
              "    0% {\n",
              "      border-color: transparent;\n",
              "      border-bottom-color: var(--fill-color);\n",
              "      border-left-color: var(--fill-color);\n",
              "    }\n",
              "    20% {\n",
              "      border-color: transparent;\n",
              "      border-left-color: var(--fill-color);\n",
              "      border-top-color: var(--fill-color);\n",
              "    }\n",
              "    30% {\n",
              "      border-color: transparent;\n",
              "      border-left-color: var(--fill-color);\n",
              "      border-top-color: var(--fill-color);\n",
              "      border-right-color: var(--fill-color);\n",
              "    }\n",
              "    40% {\n",
              "      border-color: transparent;\n",
              "      border-right-color: var(--fill-color);\n",
              "      border-top-color: var(--fill-color);\n",
              "    }\n",
              "    60% {\n",
              "      border-color: transparent;\n",
              "      border-right-color: var(--fill-color);\n",
              "    }\n",
              "    80% {\n",
              "      border-color: transparent;\n",
              "      border-right-color: var(--fill-color);\n",
              "      border-bottom-color: var(--fill-color);\n",
              "    }\n",
              "    90% {\n",
              "      border-color: transparent;\n",
              "      border-bottom-color: var(--fill-color);\n",
              "    }\n",
              "  }\n",
              "</style>\n",
              "\n",
              "  <script>\n",
              "    async function quickchart(key) {\n",
              "      const quickchartButtonEl =\n",
              "        document.querySelector('#' + key + ' button');\n",
              "      quickchartButtonEl.disabled = true;  // To prevent multiple clicks.\n",
              "      quickchartButtonEl.classList.add('colab-df-spinner');\n",
              "      try {\n",
              "        const charts = await google.colab.kernel.invokeFunction(\n",
              "            'suggestCharts', [key], {});\n",
              "      } catch (error) {\n",
              "        console.error('Error during call to suggestCharts:', error);\n",
              "      }\n",
              "      quickchartButtonEl.classList.remove('colab-df-spinner');\n",
              "      quickchartButtonEl.classList.add('colab-df-quickchart-complete');\n",
              "    }\n",
              "    (() => {\n",
              "      let quickchartButtonEl =\n",
              "        document.querySelector('#df-71bb389c-adf5-4b9b-9392-6dbc02816ceb button');\n",
              "      quickchartButtonEl.style.display =\n",
              "        google.colab.kernel.accessAllowed ? 'block' : 'none';\n",
              "    })();\n",
              "  </script>\n",
              "</div>\n",
              "\n",
              "  <div id=\"id_af8cf363-e75f-426c-a994-e506499711c9\">\n",
              "    <style>\n",
              "      .colab-df-generate {\n",
              "        background-color: #E8F0FE;\n",
              "        border: none;\n",
              "        border-radius: 50%;\n",
              "        cursor: pointer;\n",
              "        display: none;\n",
              "        fill: #1967D2;\n",
              "        height: 32px;\n",
              "        padding: 0 0 0 0;\n",
              "        width: 32px;\n",
              "      }\n",
              "\n",
              "      .colab-df-generate:hover {\n",
              "        background-color: #E2EBFA;\n",
              "        box-shadow: 0px 1px 2px rgba(60, 64, 67, 0.3), 0px 1px 3px 1px rgba(60, 64, 67, 0.15);\n",
              "        fill: #174EA6;\n",
              "      }\n",
              "\n",
              "      [theme=dark] .colab-df-generate {\n",
              "        background-color: #3B4455;\n",
              "        fill: #D2E3FC;\n",
              "      }\n",
              "\n",
              "      [theme=dark] .colab-df-generate:hover {\n",
              "        background-color: #434B5C;\n",
              "        box-shadow: 0px 1px 3px 1px rgba(0, 0, 0, 0.15);\n",
              "        filter: drop-shadow(0px 1px 2px rgba(0, 0, 0, 0.3));\n",
              "        fill: #FFFFFF;\n",
              "      }\n",
              "    </style>\n",
              "    <button class=\"colab-df-generate\" onclick=\"generateWithVariable('product_deltaE')\"\n",
              "            title=\"Generate code using this dataframe.\"\n",
              "            style=\"display:none;\">\n",
              "\n",
              "  <svg xmlns=\"http://www.w3.org/2000/svg\" height=\"24px\"viewBox=\"0 0 24 24\"\n",
              "       width=\"24px\">\n",
              "    <path d=\"M7,19H8.4L18.45,9,17,7.55,7,17.6ZM5,21V16.75L18.45,3.32a2,2,0,0,1,2.83,0l1.4,1.43a1.91,1.91,0,0,1,.58,1.4,1.91,1.91,0,0,1-.58,1.4L9.25,21ZM18.45,9,17,7.55Zm-12,3A5.31,5.31,0,0,0,4.9,8.1,5.31,5.31,0,0,0,1,6.5,5.31,5.31,0,0,0,4.9,4.9,5.31,5.31,0,0,0,6.5,1,5.31,5.31,0,0,0,8.1,4.9,5.31,5.31,0,0,0,12,6.5,5.46,5.46,0,0,0,6.5,12Z\"/>\n",
              "  </svg>\n",
              "    </button>\n",
              "    <script>\n",
              "      (() => {\n",
              "      const buttonEl =\n",
              "        document.querySelector('#id_af8cf363-e75f-426c-a994-e506499711c9 button.colab-df-generate');\n",
              "      buttonEl.style.display =\n",
              "        google.colab.kernel.accessAllowed ? 'block' : 'none';\n",
              "\n",
              "      buttonEl.onclick = () => {\n",
              "        google.colab.notebook.generateWithVariable('product_deltaE');\n",
              "      }\n",
              "      })();\n",
              "    </script>\n",
              "  </div>\n",
              "\n",
              "    </div>\n",
              "  </div>\n"
            ],
            "application/vnd.google.colaboratory.intrinsic+json": {
              "type": "dataframe",
              "variable_name": "product_deltaE",
              "summary": "{\n  \"name\": \"product_deltaE\",\n  \"rows\": 4,\n  \"fields\": [\n    {\n      \"column\": \"product category\",\n      \"properties\": {\n        \"dtype\": \"string\",\n        \"num_unique_values\": 4,\n        \"samples\": [\n          \"lipgloss\",\n          \"lipstick\",\n          \"blush\"\n        ],\n        \"semantic_type\": \"\",\n        \"description\": \"\"\n      }\n    },\n    {\n      \"column\": \"Delta E\",\n      \"properties\": {\n        \"dtype\": \"date\",\n        \"min\": 50.643297904396555,\n        \"max\": 110.38934228405992,\n        \"num_unique_values\": 4,\n        \"samples\": [\n          62.29744998789071,\n          75.00630905221934,\n          50.643297904396555\n        ],\n        \"semantic_type\": \"\",\n        \"description\": \"\"\n      }\n    }\n  ]\n}"
            }
          },
          "metadata": {},
          "execution_count": 157
        }
      ]
    },
    {
      "cell_type": "markdown",
      "source": [
        "## Round 2: Making Changes to the Algorithm to Improve Color Matching for Lipstick and Lipgloss\n",
        "\n",
        "### Focusing on `Peak` Color from Cluster Analysis\n",
        "\n",
        "Many makeup containers and image backgrounds include black or white colors. By comparing the Delta E values of the peak color (most common color) with black and white, I can determine if these colors are incorrectly influencing the color analysis. If black and white are frequently identified, it indicates they might be artifacts rather than actual makeup colors. I will adjust the algorithm to filter out clusters with these colors, enhancing the accuracy of the makeup color detection."
      ],
      "metadata": {
        "id": "k56bqYO1ifKP"
      }
    },
    {
      "cell_type": "markdown",
      "source": [
        "First, I calculate the Delta E between `peak color` and the color black:"
      ],
      "metadata": {
        "id": "uJot_ymJoRHP"
      }
    },
    {
      "cell_type": "code",
      "source": [
        "df_all['diff_peak_black'] = pd.Series(dtype='object')\n",
        "\n",
        "for i in range(len(df_all)):\n",
        "  if df_all.ground_truth[i] == 1:\n",
        "    diff = deltaE_ciede2000(df_all.peak_lab[i], [0,0,0])\n",
        "    df_all.loc[i, 'diff_peak_black'] = diff\n",
        "  else:\n",
        "    df_all.loc[i, 'diff_peak_black'] = np.nan"
      ],
      "metadata": {
        "id": "yeSctkTeoPzg"
      },
      "execution_count": 161,
      "outputs": []
    },
    {
      "cell_type": "markdown",
      "source": [
        "Second, I calculate the Delta E between `peak color` and the color white:"
      ],
      "metadata": {
        "id": "KXQTmBPdoXGI"
      }
    },
    {
      "cell_type": "code",
      "source": [
        "df_all['diff_peak_white'] = pd.Series(dtype='object')\n",
        "\n",
        "for i in range(len(df_all)):\n",
        "  if df_all.ground_truth[i] == 1:\n",
        "    diff = deltaE_ciede2000(df_all.peak_lab[i], [100,0,0])\n",
        "    df_all.loc[i, 'diff_peak_white'] = diff\n",
        "  else:\n",
        "    df_all.loc[i, 'diff_peak_white'] = np.nan"
      ],
      "metadata": {
        "id": "vJcr9HaZoZo1"
      },
      "execution_count": 162,
      "outputs": []
    },
    {
      "cell_type": "markdown",
      "source": [
        "Now, I look at the histograms for Delta E between `peak color` for each image in the validation set and the colors black and white."
      ],
      "metadata": {
        "id": "WbZf76VNo14K"
      }
    },
    {
      "cell_type": "code",
      "source": [
        "df_val = pd.merge(df_all, df_t_v['id'], how='inner', on='id')\n",
        "df_val.shape"
      ],
      "metadata": {
        "colab": {
          "base_uri": "https://localhost:8080/"
        },
        "id": "VCpFj5d5o8iK",
        "outputId": "a417a7f1-cf10-4160-f030-e5b67c2fa7d8"
      },
      "execution_count": 163,
      "outputs": [
        {
          "output_type": "execute_result",
          "data": {
            "text/plain": [
              "(404, 18)"
            ]
          },
          "metadata": {},
          "execution_count": 163
        }
      ]
    },
    {
      "cell_type": "markdown",
      "source": [
        "Below, we see that white is a very common color and while black is less common, it is still a frequent."
      ],
      "metadata": {
        "id": "OzkDNltYp0sr"
      }
    },
    {
      "cell_type": "code",
      "source": [
        "# Create a figure and two subplots side by side\n",
        "fig, axes = plt.subplots(1, 2, figsize=(12, 5))  # 1 row, 2 columns\n",
        "\n",
        "# Plot the first histogram on the left subplot\n",
        "df_val.diff_peak_white.hist(bins=50, ax=axes[0])\n",
        "axes[0].set_title('Difference Peak vs White')\n",
        "\n",
        "# Plot the second histogram on the right subplot\n",
        "df_val.diff_peak_black.hist(bins=50, ax=axes[1])\n",
        "axes[1].set_title('Difference Peak vs Black')\n",
        "\n",
        "# Show the plot\n",
        "plt.tight_layout()  # Adjust layout to prevent overlap\n",
        "plt.show()"
      ],
      "metadata": {
        "colab": {
          "base_uri": "https://localhost:8080/",
          "height": 435
        },
        "id": "GK0gKTjY1aUv",
        "outputId": "5e29477b-18a9-43fc-d187-db5d39718e4f"
      },
      "execution_count": 213,
      "outputs": [
        {
          "output_type": "display_data",
          "data": {
            "text/plain": [
              "<Figure size 1200x500 with 2 Axes>"
            ],
            "image/png": "[encoded data removed]"
          },
          "metadata": {}
        }
      ]
    },
    {
      "cell_type": "markdown",
      "source": [
        "### Improving `analyze_image_colors` function"
      ],
      "metadata": {
        "id": "F9wcDCPFmm-U"
      }
    },
    {
      "cell_type": "markdown",
      "source": [
        "I added this step to the algorithm to improve the accuracy of makeup color detection by filtering out clusters that represent black or white, which are common in container colors and image backgrounds. By calculating the Delta E between the peak color and both black and white, I can identify clusters where the peak color closely matches these non-makeup colors (Delta E < 5). If such a match is found, the corresponding cluster is removed from the analysis, ensuring that the algorithm focuses on identifying actual makeup colors rather than being influenced by irrelevant black or white elements.\n",
        "\n",
        "This is the specific section added:\n",
        "\n",
        "```\n",
        "# Calculate difference between peak & white\n",
        "diff_peak_white = deltaE_ciede2000(codes[index_max], [100,0,0])\n",
        "\n",
        "# Calculate difference between peak & black\n",
        "diff_peak_black = deltaE_ciede2000(codes[index_max], [0,0,0])\n",
        "\n",
        "# Filter out clusters with black or white if Delta E < 5\n",
        "if diff_peak_white < 5:\n",
        "  codes = np.delete(codes, index_max, axis=0)\n",
        "if diff_peak_black < 5:\n",
        "  codes = np.delete(codes, index_max, axis=0)```\n",
        "\n"
      ],
      "metadata": {
        "id": "2ibT7zmss1hm"
      }
    },
    {
      "cell_type": "code",
      "source": [
        "def analyze_image_colors(image_path, num_clusters=4):\n",
        "    \"\"\"\n",
        "    Analyzes the colors in an image using k-means clustering and converts the dominant color\n",
        "    to CIELAB color space.\n",
        "\n",
        "    Parameters:\n",
        "    - image_path (str): Path to the image file.\n",
        "    - num_clusters (int): Number of clusters for k-means.\n",
        "\n",
        "    Returns:\n",
        "    - tuple: Average color and most frequent color in CIELAB color space.\n",
        "    \"\"\"\n",
        "\n",
        "    # Read the image\n",
        "    im = Image.open(image_path)\n",
        "\n",
        "    # Optionally resize the image to reduce processing time\n",
        "    im = im.resize((150, 150))\n",
        "\n",
        "    # Convert the image to a numpy array\n",
        "    ar = np.asarray(im)\n",
        "\n",
        "    # Variance in color values\n",
        "    sd_color = np.sqrt(np.var(ar))\n",
        "\n",
        "    # Store the shape of the array\n",
        "    shape = ar.shape\n",
        "\n",
        "    # Check the number of channels in the image\n",
        "    if len(shape) == 2:\n",
        "    # No need to convert to RGB; use grayscale values directly\n",
        "      num_channels = 1\n",
        "    elif len(shape) == 3 and shape[2] in [3, 4]:\n",
        "      # RGB or RGBA image\n",
        "      if shape[2] == 4:\n",
        "      # Remove the alpha channel\n",
        "        ar = ar[:, :, :3]\n",
        "      num_channels = 3\n",
        "    else:\n",
        "      raise ValueError(\"Unsupported image format\")\n",
        "\n",
        "    shape = ar.shape\n",
        "\n",
        "    # Reshape the array for clustering\n",
        "    ar = ar.reshape(np.prod(shape[:2]), num_channels).astype(float)\n",
        "\n",
        "    # Perform k-means clustering to find color clusters\n",
        "    codes, dist = scipy.cluster.vq.kmeans(ar, num_clusters)\n",
        "\n",
        "    # Assign each pixel to a cluster and count occurrences\n",
        "    vecs, dist = scipy.cluster.vq.vq(ar, codes)\n",
        "    counts, bins = np.histogram(vecs, len(codes))\n",
        "\n",
        "    # Find the index of the most frequent cluster\n",
        "    index_max = np.argmax(counts)\n",
        "    peak = codes[index_max]\n",
        "\n",
        "    # Average over the color of the clusters\n",
        "    columns_average = codes.mean(axis=0)\n",
        "\n",
        "    # Convert the average color from RGB or grayscale to CIELAB\n",
        "    if num_channels == 1:\n",
        "      # Directly use the average intensity value\n",
        "      mean_lab = np.array([columns_average.mean(), 0, 0])  # Dummy LAB values\n",
        "      peak_lab = np.array([peak.mean(), 0, 0])  # Dummy LAB values\n",
        "\n",
        "    else:\n",
        "      # Calculate difference between peak & white\n",
        "      diff_peak_white = deltaE_ciede2000(codes[index_max], [100,0,0])\n",
        "\n",
        "      # Calculate difference between peak & black\n",
        "      diff_peak_black = deltaE_ciede2000(codes[index_max], [0,0,0])\n",
        "\n",
        "      peak_rgb = np.array(peak).reshape(1, 1, num_channels) / 255  # Normalize RGB values to [0, 1]\n",
        "      peak_xyz = color.rgb2xyz(peak_rgb)  # Convert to XYZ\n",
        "      peak_lab = color.xyz2lab(peak_xyz)  # Convert to CIELAB\n",
        "\n",
        "      # Filter out clusters with black or white if Delta E < 5\n",
        "      if diff_peak_white < 5:\n",
        "        codes = np.delete(codes, index_max, axis=0)\n",
        "      if diff_peak_black < 5:\n",
        "        codes = np.delete(codes, index_max, axis=0)\n",
        "\n",
        "      # Average over the color of the clusters after dropping peak\n",
        "      columns_average = codes.mean(axis=0)\n",
        "      mean_rgb = np.array(columns_average).reshape(1, 1, num_channels) / 255  # Normalize RGB values to [0, 1]\n",
        "      mean_xyz = color.rgb2xyz(mean_rgb)  # Convert to XYZ\n",
        "      mean_lab = color.xyz2lab(mean_xyz)  # Convert to CIELAB\n",
        "\n",
        "    if num_channels == 1:\n",
        "      return mean_lab, peak_lab\n",
        "    else:\n",
        "      return mean_lab[0][0], peak_lab[0][0]"
      ],
      "metadata": {
        "id": "Jmx9KKLUirJ7"
      },
      "execution_count": 193,
      "outputs": []
    },
    {
      "cell_type": "code",
      "source": [
        "df_all['mean_lab_2'] = pd.Series(dtype='object')\n",
        "df_all['peak_lab_2'] = pd.Series(dtype='object')"
      ],
      "metadata": {
        "id": "EHyVLSCwsl__"
      },
      "execution_count": 194,
      "outputs": []
    },
    {
      "cell_type": "code",
      "source": [
        "for i in range(len(df)):\n",
        "  #print(str(df.img_name[i]))\n",
        "  path = '/content/drive/MyDrive/makeup_img/' + str(df.img_name[i])\n",
        "  colors_output = analyze_image_colors(path)\n",
        "  mean_value = list(colors_output[0])\n",
        "  peak_value = list(colors_output[1])\n",
        "  df_all.at[i, 'mean_lab_2'] = mean_value\n",
        "  df_all.at[i, 'peak_lab_2'] = peak_value"
      ],
      "metadata": {
        "id": "gg6J9B9JslfT"
      },
      "execution_count": 196,
      "outputs": []
    },
    {
      "cell_type": "code",
      "source": [
        "df['mean_lab_2'].info()"
      ],
      "metadata": {
        "colab": {
          "base_uri": "https://localhost:8080/"
        },
        "id": "LRFyKeKgzCN_",
        "outputId": "eb572485-b4de-4d91-f971-34dbabd95e0c"
      },
      "execution_count": 197,
      "outputs": [
        {
          "output_type": "stream",
          "name": "stdout",
          "text": [
            "<class 'pandas.core.series.Series'>\n",
            "RangeIndex: 506 entries, 0 to 505\n",
            "Series name: mean_lab_2\n",
            "Non-Null Count  Dtype \n",
            "--------------  ----- \n",
            "0 non-null      object\n",
            "dtypes: object(1)\n",
            "memory usage: 4.1+ KB\n"
          ]
        }
      ]
    },
    {
      "cell_type": "code",
      "source": [
        "df['peak_lab_2'].info()"
      ],
      "metadata": {
        "colab": {
          "base_uri": "https://localhost:8080/"
        },
        "id": "Tgj9O4-4zG9L",
        "outputId": "4ada96b8-5276-4389-e263-7e7f41e7e178"
      },
      "execution_count": 198,
      "outputs": [
        {
          "output_type": "stream",
          "name": "stdout",
          "text": [
            "<class 'pandas.core.series.Series'>\n",
            "RangeIndex: 506 entries, 0 to 505\n",
            "Series name: peak_lab_2\n",
            "Non-Null Count  Dtype \n",
            "--------------  ----- \n",
            "0 non-null      object\n",
            "dtypes: object(1)\n",
            "memory usage: 4.1+ KB\n"
          ]
        }
      ]
    },
    {
      "cell_type": "markdown",
      "source": [
        "### Validation"
      ],
      "metadata": {
        "id": "waL_cYIhzbp2"
      }
    },
    {
      "cell_type": "markdown",
      "source": [
        "I follow the same steps as before."
      ],
      "metadata": {
        "id": "9iQO3bw8zjGP"
      }
    },
    {
      "cell_type": "markdown",
      "source": [
        "First, I calculate Delta E between the color output from the algorithm and the 'ground truth' color."
      ],
      "metadata": {
        "id": "zmHo3HAazjGQ"
      }
    },
    {
      "cell_type": "code",
      "source": [
        "df_all['diff_lab_2'] = pd.Series(dtype='object')\n",
        "\n",
        "for i in range(len(df_all)):\n",
        "  if df_all.ground_truth[i] == 1:\n",
        "    diff = deltaE_ciede2000(df_all.mean_lab_2[i], list(map(float, df_all.ground_truth_CIELAB[i].strip('[]').split())))\n",
        "    df_all.loc[i, 'diff_lab_2'] = diff\n",
        "  else:\n",
        "    df_all.loc[i, 'diff_lab_2'] = np.nan"
      ],
      "metadata": {
        "id": "98GG9RLMzjGQ"
      },
      "execution_count": 200,
      "outputs": []
    },
    {
      "cell_type": "markdown",
      "source": [
        "Second, I plot a histogram for previous Delta E (red) and a histogram for the new Delta E (green) for each observation in the validation set.\n",
        "\n",
        "The mean Delta E previously was 19.4, and now it is 19.01 is 17.9, meaning that, on average, the color identified is closer to 'ground truth' than it was previously.\n",
        "\n",
        "The table belows shows a comparison of Delta E values between the two versions of the algorithm (`diff_lab` and `diff_lab_2`). The values represent how many observations fall within specific ranges of Delta E (e.g., 0-5, 5-10, etc.).\n",
        "\n",
        "(0, 10]: Both versions show a significant number of observations in this range, with 55 overlapping between the two versions. However, the second version has 15 cases in this category that the previous version had a higher Delta E (10, 20].\n",
        "(10, 20]: Both versions have 157 observations overlapping in this range. But the second version better captures color in 7 images that had a higher Delta E for the first version.\n",
        "(20, 30] and higher: The observations decrease in both versions, but both versions perform the same.\n",
        "\n",
        "Overall, the second version (diff_lab_2) appears to perform slightly better."
      ],
      "metadata": {
        "id": "cgpvJVEozjGR"
      }
    },
    {
      "cell_type": "code",
      "source": [
        "# Define the bins for the ranges you want to check\n",
        "bins = np.arange(0, 65, 5)  # Bins from 0 to 100 with a step of 10\n",
        "\n",
        "# Use pd.cut to segment and sort data values into bins\n",
        "df_val['diff_lab_bin'] = pd.cut(df_val['diff_lab'], bins)\n",
        "df_val['diff_lab_2_bin'] = pd.cut(df_val['diff_lab_2'], bins)\n",
        "\n",
        "# Create a pivot table to count occurrences within each bin for both variables\n",
        "table = pd.pivot_table(df_val,\n",
        "                       values='diff_lab',\n",
        "                       index='diff_lab_bin',\n",
        "                       columns='diff_lab_2_bin',\n",
        "                       aggfunc='count',\n",
        "                       fill_value=0)\n",
        "\n",
        "# Display the table\n",
        "print(table)"
      ],
      "metadata": {
        "colab": {
          "base_uri": "https://localhost:8080/"
        },
        "id": "EN_IcwED2BFx",
        "outputId": "71f951f5-eeb4-4b9a-d8bb-0f8e17f57e5a"
      },
      "execution_count": 231,
      "outputs": [
        {
          "output_type": "stream",
          "name": "stdout",
          "text": [
            "diff_lab_2_bin  (0, 5]  (5, 10]  (10, 15]  (15, 20]  (20, 25]  (25, 30]  \\\n",
            "diff_lab_bin                                                              \n",
            "(0, 5]              33        1         1         0         0         0   \n",
            "(5, 10]              2       30         1         0         0         0   \n",
            "(10, 15]             3        7        54         2         2         0   \n",
            "(15, 20]             1        2         6        86         8         0   \n",
            "(20, 25]             0        0         2         3        53         4   \n",
            "(25, 30]             0        0         0         1         4        33   \n",
            "(30, 35]             0        0         0         1         1         1   \n",
            "(35, 40]             0        0         0         0         0         0   \n",
            "(40, 45]             0        0         0         0         0         0   \n",
            "(45, 50]             0        0         0         0         0         0   \n",
            "(50, 55]             0        0         0         0         0         0   \n",
            "(55, 60]             0        0         0         0         0         0   \n",
            "\n",
            "diff_lab_2_bin  (30, 35]  (35, 40]  (40, 45]  (45, 50]  (50, 55]  (55, 60]  \n",
            "diff_lab_bin                                                                \n",
            "(0, 5]                 0         0         0         0         0         0  \n",
            "(5, 10]                0         0         0         0         0         0  \n",
            "(10, 15]               0         0         0         0         0         0  \n",
            "(15, 20]               0         0         0         0         0         0  \n",
            "(20, 25]               0         0         0         0         0         0  \n",
            "(25, 30]               0         0         0         0         0         0  \n",
            "(30, 35]              16         0         0         0         0         0  \n",
            "(35, 40]               1         6         0         0         0         0  \n",
            "(40, 45]               1         0         2         0         0         0  \n",
            "(45, 50]               0         0         0         6         0         0  \n",
            "(50, 55]               0         0         0         0         0         0  \n",
            "(55, 60]               0         0         0         0         0         1  \n"
          ]
        }
      ]
    },
    {
      "cell_type": "code",
      "source": [
        "df_val.diff_lab_2.mean()"
      ],
      "metadata": {
        "colab": {
          "base_uri": "https://localhost:8080/"
        },
        "outputId": "77c5c7ee-a1b7-4e75-d83a-753193dd7d97",
        "id": "wVKhDOXMzjGR"
      },
      "execution_count": 227,
      "outputs": [
        {
          "output_type": "execute_result",
          "data": {
            "text/plain": [
              "19.017657416483498"
            ]
          },
          "metadata": {},
          "execution_count": 227
        }
      ]
    },
    {
      "cell_type": "code",
      "source": [
        "# Create a figure and two subplots side by side\n",
        "fig, axes = plt.subplots(1, 2, figsize=(12, 5))  # 1 row, 2 columns\n",
        "\n",
        "# Plot the first histogram on the left subplot\n",
        "df_val.diff_lab.hist(bins= 100, ax=axes[0], color='red')\n",
        "axes[0].set_title('Delta E for Previous Version')\n",
        "\n",
        "# Plot the second histogram on the right subplot\n",
        "df_val.diff_lab_2.hist(bins=100, ax=axes[1], color='green')\n",
        "axes[1].set_title('Delta E for New Version')\n",
        "\n",
        "# Set the same y-axis limits for both histograms\n",
        "y_max = max(axes[0].get_ylim()[1], axes[1].get_ylim()[1])\n",
        "axes[0].set_ylim(0, y_max)\n",
        "axes[1].set_ylim(0, y_max)\n",
        "\n",
        "# Set the same x-axis limits for both histograms\n",
        "x_max = max(axes[0].get_xlim()[1], axes[1].get_xlim()[1])\n",
        "axes[0].set_xlim(0, x_max)\n",
        "axes[1].set_xlim(0, x_max)\n",
        "\n",
        "# Show the plot\n",
        "plt.tight_layout()  # Adjust layout to prevent overlap\n",
        "plt.show()"
      ],
      "metadata": {
        "colab": {
          "base_uri": "https://localhost:8080/",
          "height": 435
        },
        "outputId": "e4d7e8bd-ee27-478a-e00b-3fa4753961eb",
        "id": "fv2d1YuGzjGS"
      },
      "execution_count": 214,
      "outputs": [
        {
          "output_type": "display_data",
          "data": {
            "text/plain": [
              "<Figure size 1200x500 with 2 Axes>"
            ],
            "image/png": "[encoded data removed]"
          },
          "metadata": {}
        }
      ]
    },
    {
      "cell_type": "markdown",
      "source": [
        "We can also look at Delta E by product category. As before, we see that 'Delta E' is tends to be larger for 'lipstick'.\n",
        "\n",
        "However, there has been some improvement.\n",
        "\n",
        "* Blush: Delta E was, on average, 16, and now it is 15.8\n",
        "* Lipgloss: Delta E was, on average, 19, and now it is 18.5\n",
        "* Lipliner: Delta E was, on average, 24.4, now it is 24.2\n",
        "* Lipstick: Delta E was, on average, 21.4, now it is 21.2\n",
        "\n",
        "The Delta E sd decreased considerably, so the color identification is more reliable:\n",
        "\n",
        "* Blush: Decreased from 58.4 to 50.6\n",
        "* Lipgloss: Decreased from 63.2 to 62.2\n",
        "* Lipliner: Decreased from 110.3 to 95.1\n",
        "* Lipstick: Decreased from 77.4 to 75\n"
      ],
      "metadata": {
        "id": "vfJM51SFzjGS"
      }
    },
    {
      "cell_type": "code",
      "source": [
        "# histogram with delta E by product category\n",
        "# Create a figure and axis\n",
        "fig, ax = plt.subplots()\n",
        "\n",
        "# Group by the 'Group' column and plot a histogram for each group\n",
        "for name, group in df_val.groupby('category'):\n",
        "    ax.hist(group['diff_lab_2'], bins=10, alpha=0.5, label=name)\n",
        "\n",
        "# Add labels and legend\n",
        "ax.set_xlabel('Value')\n",
        "ax.set_ylabel('Frequency')\n",
        "ax.set_title('Histogram by Product Category')\n",
        "ax.legend(title='Group')\n",
        "\n",
        "# Show the plot\n",
        "plt.show()"
      ],
      "metadata": {
        "colab": {
          "base_uri": "https://localhost:8080/",
          "height": 563
        },
        "outputId": "b16f587e-f676-447e-8b43-53d9797a3c36",
        "id": "O0IQ-V-gzjGS"
      },
      "execution_count": 218,
      "outputs": [
        {
          "output_type": "stream",
          "name": "stderr",
          "text": [
            "/usr/local/lib/python3.10/dist-packages/numpy/lib/histograms.py:825: RuntimeWarning: invalid value encountered in greater_equal\n",
            "  keep = (tmp_a >= first_edge)\n",
            "/usr/local/lib/python3.10/dist-packages/numpy/lib/histograms.py:826: RuntimeWarning: invalid value encountered in less_equal\n",
            "  keep &= (tmp_a <= last_edge)\n"
          ]
        },
        {
          "output_type": "display_data",
          "data": {
            "text/plain": [
              "<Figure size 640x480 with 1 Axes>"
            ],
            "image/png": "[encoded data removed]"
          },
          "metadata": {}
        }
      ]
    },
    {
      "cell_type": "code",
      "source": [
        "product_deltaE = df_val.diff_lab_2.groupby(df_val.category).mean()\n",
        "product_deltaE = product_deltaE.reset_index()\n",
        "product_deltaE.columns = ['product category', 'Delta E']\n",
        "\n",
        "print('Table: DeltaE (mean) by Product')\n",
        "product_deltaE"
      ],
      "metadata": {
        "colab": {
          "base_uri": "https://localhost:8080/",
          "height": 193
        },
        "outputId": "1be50791-b3ff-43d1-e571-354c7892c5ea",
        "id": "p_7qLftzzjGS"
      },
      "execution_count": 215,
      "outputs": [
        {
          "output_type": "stream",
          "name": "stdout",
          "text": [
            "Table: DeltaE (mean) by Product\n"
          ]
        },
        {
          "output_type": "execute_result",
          "data": {
            "text/plain": [
              "  product category    Delta E\n",
              "0            blush  15.828191\n",
              "1         lipgloss  18.586076\n",
              "2         lipliner  24.233421\n",
              "3         lipstick  21.260096"
            ],
            "text/html": [
              "\n",
              "  <div id=\"df-97682368-d2db-404c-9774-ce40e61bb333\" class=\"colab-df-container\">\n",
              "    <div>\n",
              "<style scoped>\n",
              "    .dataframe tbody tr th:only-of-type {\n",
              "        vertical-align: middle;\n",
              "    }\n",
              "\n",
              "    .dataframe tbody tr th {\n",
              "        vertical-align: top;\n",
              "    }\n",
              "\n",
              "    .dataframe thead th {\n",
              "        text-align: right;\n",
              "    }\n",
              "</style>\n",
              "<table border=\"1\" class=\"dataframe\">\n",
              "  <thead>\n",
              "    <tr style=\"text-align: right;\">\n",
              "      <th></th>\n",
              "      <th>product category</th>\n",
              "      <th>Delta E</th>\n",
              "    </tr>\n",
              "  </thead>\n",
              "  <tbody>\n",
              "    <tr>\n",
              "      <th>0</th>\n",
              "      <td>blush</td>\n",
              "      <td>15.828191</td>\n",
              "    </tr>\n",
              "    <tr>\n",
              "      <th>1</th>\n",
              "      <td>lipgloss</td>\n",
              "      <td>18.586076</td>\n",
              "    </tr>\n",
              "    <tr>\n",
              "      <th>2</th>\n",
              "      <td>lipliner</td>\n",
              "      <td>24.233421</td>\n",
              "    </tr>\n",
              "    <tr>\n",
              "      <th>3</th>\n",
              "      <td>lipstick</td>\n",
              "      <td>21.260096</td>\n",
              "    </tr>\n",
              "  </tbody>\n",
              "</table>\n",
              "</div>\n",
              "    <div class=\"colab-df-buttons\">\n",
              "\n",
              "  <div class=\"colab-df-container\">\n",
              "    <button class=\"colab-df-convert\" onclick=\"convertToInteractive('df-97682368-d2db-404c-9774-ce40e61bb333')\"\n",
              "            title=\"Convert this dataframe to an interactive table.\"\n",
              "            style=\"display:none;\">\n",
              "\n",
              "  <svg xmlns=\"http://www.w3.org/2000/svg\" height=\"24px\" viewBox=\"0 -960 960 960\">\n",
              "    <path d=\"M120-120v-720h720v720H120Zm60-500h600v-160H180v160Zm220 220h160v-160H400v160Zm0 220h160v-160H400v160ZM180-400h160v-160H180v160Zm440 0h160v-160H620v160ZM180-180h160v-160H180v160Zm440 0h160v-160H620v160Z\"/>\n",
              "  </svg>\n",
              "    </button>\n",
              "\n",
              "  <style>\n",
              "    .colab-df-container {\n",
              "      display:flex;\n",
              "      gap: 12px;\n",
              "    }\n",
              "\n",
              "    .colab-df-convert {\n",
              "      background-color: #E8F0FE;\n",
              "      border: none;\n",
              "      border-radius: 50%;\n",
              "      cursor: pointer;\n",
              "      display: none;\n",
              "      fill: #1967D2;\n",
              "      height: 32px;\n",
              "      padding: 0 0 0 0;\n",
              "      width: 32px;\n",
              "    }\n",
              "\n",
              "    .colab-df-convert:hover {\n",
              "      background-color: #E2EBFA;\n",
              "      box-shadow: 0px 1px 2px rgba(60, 64, 67, 0.3), 0px 1px 3px 1px rgba(60, 64, 67, 0.15);\n",
              "      fill: #174EA6;\n",
              "    }\n",
              "\n",
              "    .colab-df-buttons div {\n",
              "      margin-bottom: 4px;\n",
              "    }\n",
              "\n",
              "    [theme=dark] .colab-df-convert {\n",
              "      background-color: #3B4455;\n",
              "      fill: #D2E3FC;\n",
              "    }\n",
              "\n",
              "    [theme=dark] .colab-df-convert:hover {\n",
              "      background-color: #434B5C;\n",
              "      box-shadow: 0px 1px 3px 1px rgba(0, 0, 0, 0.15);\n",
              "      filter: drop-shadow(0px 1px 2px rgba(0, 0, 0, 0.3));\n",
              "      fill: #FFFFFF;\n",
              "    }\n",
              "  </style>\n",
              "\n",
              "    <script>\n",
              "      const buttonEl =\n",
              "        document.querySelector('#df-97682368-d2db-404c-9774-ce40e61bb333 button.colab-df-convert');\n",
              "      buttonEl.style.display =\n",
              "        google.colab.kernel.accessAllowed ? 'block' : 'none';\n",
              "\n",
              "      async function convertToInteractive(key) {\n",
              "        const element = document.querySelector('#df-97682368-d2db-404c-9774-ce40e61bb333');\n",
              "        const dataTable =\n",
              "          await google.colab.kernel.invokeFunction('convertToInteractive',\n",
              "                                                    [key], {});\n",
              "        if (!dataTable) return;\n",
              "\n",
              "        const docLinkHtml = 'Like what you see? Visit the ' +\n",
              "          '<a target=\"_blank\" href=https://colab.research.google.com/notebooks/data_table.ipynb>data table notebook</a>'\n",
              "          + ' to learn more about interactive tables.';\n",
              "        element.innerHTML = '';\n",
              "        dataTable['output_type'] = 'display_data';\n",
              "        await google.colab.output.renderOutput(dataTable, element);\n",
              "        const docLink = document.createElement('div');\n",
              "        docLink.innerHTML = docLinkHtml;\n",
              "        element.appendChild(docLink);\n",
              "      }\n",
              "    </script>\n",
              "  </div>\n",
              "\n",
              "\n",
              "<div id=\"df-372a9567-0c43-453a-b943-5735886ba411\">\n",
              "  <button class=\"colab-df-quickchart\" onclick=\"quickchart('df-372a9567-0c43-453a-b943-5735886ba411')\"\n",
              "            title=\"Suggest charts\"\n",
              "            style=\"display:none;\">\n",
              "\n",
              "<svg xmlns=\"http://www.w3.org/2000/svg\" height=\"24px\"viewBox=\"0 0 24 24\"\n",
              "     width=\"24px\">\n",
              "    <g>\n",
              "        <path d=\"M19 3H5c-1.1 0-2 .9-2 2v14c0 1.1.9 2 2 2h14c1.1 0 2-.9 2-2V5c0-1.1-.9-2-2-2zM9 17H7v-7h2v7zm4 0h-2V7h2v10zm4 0h-2v-4h2v4z\"/>\n",
              "    </g>\n",
              "</svg>\n",
              "  </button>\n",
              "\n",
              "<style>\n",
              "  .colab-df-quickchart {\n",
              "      --bg-color: #E8F0FE;\n",
              "      --fill-color: #1967D2;\n",
              "      --hover-bg-color: #E2EBFA;\n",
              "      --hover-fill-color: #174EA6;\n",
              "      --disabled-fill-color: #AAA;\n",
              "      --disabled-bg-color: #DDD;\n",
              "  }\n",
              "\n",
              "  [theme=dark] .colab-df-quickchart {\n",
              "      --bg-color: #3B4455;\n",
              "      --fill-color: #D2E3FC;\n",
              "      --hover-bg-color: #434B5C;\n",
              "      --hover-fill-color: #FFFFFF;\n",
              "      --disabled-bg-color: #3B4455;\n",
              "      --disabled-fill-color: #666;\n",
              "  }\n",
              "\n",
              "  .colab-df-quickchart {\n",
              "    background-color: var(--bg-color);\n",
              "    border: none;\n",
              "    border-radius: 50%;\n",
              "    cursor: pointer;\n",
              "    display: none;\n",
              "    fill: var(--fill-color);\n",
              "    height: 32px;\n",
              "    padding: 0;\n",
              "    width: 32px;\n",
              "  }\n",
              "\n",
              "  .colab-df-quickchart:hover {\n",
              "    background-color: var(--hover-bg-color);\n",
              "    box-shadow: 0 1px 2px rgba(60, 64, 67, 0.3), 0 1px 3px 1px rgba(60, 64, 67, 0.15);\n",
              "    fill: var(--button-hover-fill-color);\n",
              "  }\n",
              "\n",
              "  .colab-df-quickchart-complete:disabled,\n",
              "  .colab-df-quickchart-complete:disabled:hover {\n",
              "    background-color: var(--disabled-bg-color);\n",
              "    fill: var(--disabled-fill-color);\n",
              "    box-shadow: none;\n",
              "  }\n",
              "\n",
              "  .colab-df-spinner {\n",
              "    border: 2px solid var(--fill-color);\n",
              "    border-color: transparent;\n",
              "    border-bottom-color: var(--fill-color);\n",
              "    animation:\n",
              "      spin 1s steps(1) infinite;\n",
              "  }\n",
              "\n",
              "  @keyframes spin {\n",
              "    0% {\n",
              "      border-color: transparent;\n",
              "      border-bottom-color: var(--fill-color);\n",
              "      border-left-color: var(--fill-color);\n",
              "    }\n",
              "    20% {\n",
              "      border-color: transparent;\n",
              "      border-left-color: var(--fill-color);\n",
              "      border-top-color: var(--fill-color);\n",
              "    }\n",
              "    30% {\n",
              "      border-color: transparent;\n",
              "      border-left-color: var(--fill-color);\n",
              "      border-top-color: var(--fill-color);\n",
              "      border-right-color: var(--fill-color);\n",
              "    }\n",
              "    40% {\n",
              "      border-color: transparent;\n",
              "      border-right-color: var(--fill-color);\n",
              "      border-top-color: var(--fill-color);\n",
              "    }\n",
              "    60% {\n",
              "      border-color: transparent;\n",
              "      border-right-color: var(--fill-color);\n",
              "    }\n",
              "    80% {\n",
              "      border-color: transparent;\n",
              "      border-right-color: var(--fill-color);\n",
              "      border-bottom-color: var(--fill-color);\n",
              "    }\n",
              "    90% {\n",
              "      border-color: transparent;\n",
              "      border-bottom-color: var(--fill-color);\n",
              "    }\n",
              "  }\n",
              "</style>\n",
              "\n",
              "  <script>\n",
              "    async function quickchart(key) {\n",
              "      const quickchartButtonEl =\n",
              "        document.querySelector('#' + key + ' button');\n",
              "      quickchartButtonEl.disabled = true;  // To prevent multiple clicks.\n",
              "      quickchartButtonEl.classList.add('colab-df-spinner');\n",
              "      try {\n",
              "        const charts = await google.colab.kernel.invokeFunction(\n",
              "            'suggestCharts', [key], {});\n",
              "      } catch (error) {\n",
              "        console.error('Error during call to suggestCharts:', error);\n",
              "      }\n",
              "      quickchartButtonEl.classList.remove('colab-df-spinner');\n",
              "      quickchartButtonEl.classList.add('colab-df-quickchart-complete');\n",
              "    }\n",
              "    (() => {\n",
              "      let quickchartButtonEl =\n",
              "        document.querySelector('#df-372a9567-0c43-453a-b943-5735886ba411 button');\n",
              "      quickchartButtonEl.style.display =\n",
              "        google.colab.kernel.accessAllowed ? 'block' : 'none';\n",
              "    })();\n",
              "  </script>\n",
              "</div>\n",
              "\n",
              "  <div id=\"id_82c8ca17-06d1-41c3-86b1-b302fbc9e432\">\n",
              "    <style>\n",
              "      .colab-df-generate {\n",
              "        background-color: #E8F0FE;\n",
              "        border: none;\n",
              "        border-radius: 50%;\n",
              "        cursor: pointer;\n",
              "        display: none;\n",
              "        fill: #1967D2;\n",
              "        height: 32px;\n",
              "        padding: 0 0 0 0;\n",
              "        width: 32px;\n",
              "      }\n",
              "\n",
              "      .colab-df-generate:hover {\n",
              "        background-color: #E2EBFA;\n",
              "        box-shadow: 0px 1px 2px rgba(60, 64, 67, 0.3), 0px 1px 3px 1px rgba(60, 64, 67, 0.15);\n",
              "        fill: #174EA6;\n",
              "      }\n",
              "\n",
              "      [theme=dark] .colab-df-generate {\n",
              "        background-color: #3B4455;\n",
              "        fill: #D2E3FC;\n",
              "      }\n",
              "\n",
              "      [theme=dark] .colab-df-generate:hover {\n",
              "        background-color: #434B5C;\n",
              "        box-shadow: 0px 1px 3px 1px rgba(0, 0, 0, 0.15);\n",
              "        filter: drop-shadow(0px 1px 2px rgba(0, 0, 0, 0.3));\n",
              "        fill: #FFFFFF;\n",
              "      }\n",
              "    </style>\n",
              "    <button class=\"colab-df-generate\" onclick=\"generateWithVariable('product_deltaE')\"\n",
              "            title=\"Generate code using this dataframe.\"\n",
              "            style=\"display:none;\">\n",
              "\n",
              "  <svg xmlns=\"http://www.w3.org/2000/svg\" height=\"24px\"viewBox=\"0 0 24 24\"\n",
              "       width=\"24px\">\n",
              "    <path d=\"M7,19H8.4L18.45,9,17,7.55,7,17.6ZM5,21V16.75L18.45,3.32a2,2,0,0,1,2.83,0l1.4,1.43a1.91,1.91,0,0,1,.58,1.4,1.91,1.91,0,0,1-.58,1.4L9.25,21ZM18.45,9,17,7.55Zm-12,3A5.31,5.31,0,0,0,4.9,8.1,5.31,5.31,0,0,0,1,6.5,5.31,5.31,0,0,0,4.9,4.9,5.31,5.31,0,0,0,6.5,1,5.31,5.31,0,0,0,8.1,4.9,5.31,5.31,0,0,0,12,6.5,5.46,5.46,0,0,0,6.5,12Z\"/>\n",
              "  </svg>\n",
              "    </button>\n",
              "    <script>\n",
              "      (() => {\n",
              "      const buttonEl =\n",
              "        document.querySelector('#id_82c8ca17-06d1-41c3-86b1-b302fbc9e432 button.colab-df-generate');\n",
              "      buttonEl.style.display =\n",
              "        google.colab.kernel.accessAllowed ? 'block' : 'none';\n",
              "\n",
              "      buttonEl.onclick = () => {\n",
              "        google.colab.notebook.generateWithVariable('product_deltaE');\n",
              "      }\n",
              "      })();\n",
              "    </script>\n",
              "  </div>\n",
              "\n",
              "    </div>\n",
              "  </div>\n"
            ],
            "application/vnd.google.colaboratory.intrinsic+json": {
              "type": "dataframe",
              "variable_name": "product_deltaE",
              "summary": "{\n  \"name\": \"product_deltaE\",\n  \"rows\": 4,\n  \"fields\": [\n    {\n      \"column\": \"product category\",\n      \"properties\": {\n        \"dtype\": \"string\",\n        \"num_unique_values\": 4,\n        \"samples\": [\n          \"lipgloss\",\n          \"lipstick\",\n          \"blush\"\n        ],\n        \"semantic_type\": \"\",\n        \"description\": \"\"\n      }\n    },\n    {\n      \"column\": \"Delta E\",\n      \"properties\": {\n        \"dtype\": \"date\",\n        \"min\": 15.828190639404344,\n        \"max\": 24.23342123609203,\n        \"num_unique_values\": 4,\n        \"samples\": [\n          18.586075564422668,\n          21.260095960690183,\n          15.828190639404344\n        ],\n        \"semantic_type\": \"\",\n        \"description\": \"\"\n      }\n    }\n  ]\n}"
            }
          },
          "metadata": {},
          "execution_count": 215
        }
      ]
    },
    {
      "cell_type": "code",
      "source": [
        "product_deltaE = df_val.diff_lab_2.groupby(df_val.category).var()\n",
        "product_deltaE = product_deltaE.reset_index()\n",
        "product_deltaE.columns = ['product category', 'Delta E']\n",
        "\n",
        "print('Table: DeltaE (var) by Product')\n",
        "product_deltaE"
      ],
      "metadata": {
        "colab": {
          "base_uri": "https://localhost:8080/",
          "height": 193
        },
        "outputId": "9f35f132-f655-4fcb-a6a1-099c3b97eb69",
        "id": "70G-6IUWzjGT"
      },
      "execution_count": 238,
      "outputs": [
        {
          "output_type": "stream",
          "name": "stdout",
          "text": [
            "Table: DeltaE (var) by Product\n"
          ]
        },
        {
          "output_type": "execute_result",
          "data": {
            "text/plain": [
              "  product category    Delta E\n",
              "0            blush  58.400358\n",
              "1         lipgloss  63.294599\n",
              "2         lipliner  95.145035\n",
              "3         lipstick  77.443572"
            ],
            "text/html": [
              "\n",
              "  <div id=\"df-33ffc5ce-c478-4fb9-bc1b-308563ccfb86\" class=\"colab-df-container\">\n",
              "    <div>\n",
              "<style scoped>\n",
              "    .dataframe tbody tr th:only-of-type {\n",
              "        vertical-align: middle;\n",
              "    }\n",
              "\n",
              "    .dataframe tbody tr th {\n",
              "        vertical-align: top;\n",
              "    }\n",
              "\n",
              "    .dataframe thead th {\n",
              "        text-align: right;\n",
              "    }\n",
              "</style>\n",
              "<table border=\"1\" class=\"dataframe\">\n",
              "  <thead>\n",
              "    <tr style=\"text-align: right;\">\n",
              "      <th></th>\n",
              "      <th>product category</th>\n",
              "      <th>Delta E</th>\n",
              "    </tr>\n",
              "  </thead>\n",
              "  <tbody>\n",
              "    <tr>\n",
              "      <th>0</th>\n",
              "      <td>blush</td>\n",
              "      <td>58.400358</td>\n",
              "    </tr>\n",
              "    <tr>\n",
              "      <th>1</th>\n",
              "      <td>lipgloss</td>\n",
              "      <td>63.294599</td>\n",
              "    </tr>\n",
              "    <tr>\n",
              "      <th>2</th>\n",
              "      <td>lipliner</td>\n",
              "      <td>95.145035</td>\n",
              "    </tr>\n",
              "    <tr>\n",
              "      <th>3</th>\n",
              "      <td>lipstick</td>\n",
              "      <td>77.443572</td>\n",
              "    </tr>\n",
              "  </tbody>\n",
              "</table>\n",
              "</div>\n",
              "    <div class=\"colab-df-buttons\">\n",
              "\n",
              "  <div class=\"colab-df-container\">\n",
              "    <button class=\"colab-df-convert\" onclick=\"convertToInteractive('df-33ffc5ce-c478-4fb9-bc1b-308563ccfb86')\"\n",
              "            title=\"Convert this dataframe to an interactive table.\"\n",
              "            style=\"display:none;\">\n",
              "\n",
              "  <svg xmlns=\"http://www.w3.org/2000/svg\" height=\"24px\" viewBox=\"0 -960 960 960\">\n",
              "    <path d=\"M120-120v-720h720v720H120Zm60-500h600v-160H180v160Zm220 220h160v-160H400v160Zm0 220h160v-160H400v160ZM180-400h160v-160H180v160Zm440 0h160v-160H620v160ZM180-180h160v-160H180v160Zm440 0h160v-160H620v160Z\"/>\n",
              "  </svg>\n",
              "    </button>\n",
              "\n",
              "  <style>\n",
              "    .colab-df-container {\n",
              "      display:flex;\n",
              "      gap: 12px;\n",
              "    }\n",
              "\n",
              "    .colab-df-convert {\n",
              "      background-color: #E8F0FE;\n",
              "      border: none;\n",
              "      border-radius: 50%;\n",
              "      cursor: pointer;\n",
              "      display: none;\n",
              "      fill: #1967D2;\n",
              "      height: 32px;\n",
              "      padding: 0 0 0 0;\n",
              "      width: 32px;\n",
              "    }\n",
              "\n",
              "    .colab-df-convert:hover {\n",
              "      background-color: #E2EBFA;\n",
              "      box-shadow: 0px 1px 2px rgba(60, 64, 67, 0.3), 0px 1px 3px 1px rgba(60, 64, 67, 0.15);\n",
              "      fill: #174EA6;\n",
              "    }\n",
              "\n",
              "    .colab-df-buttons div {\n",
              "      margin-bottom: 4px;\n",
              "    }\n",
              "\n",
              "    [theme=dark] .colab-df-convert {\n",
              "      background-color: #3B4455;\n",
              "      fill: #D2E3FC;\n",
              "    }\n",
              "\n",
              "    [theme=dark] .colab-df-convert:hover {\n",
              "      background-color: #434B5C;\n",
              "      box-shadow: 0px 1px 3px 1px rgba(0, 0, 0, 0.15);\n",
              "      filter: drop-shadow(0px 1px 2px rgba(0, 0, 0, 0.3));\n",
              "      fill: #FFFFFF;\n",
              "    }\n",
              "  </style>\n",
              "\n",
              "    <script>\n",
              "      const buttonEl =\n",
              "        document.querySelector('#df-33ffc5ce-c478-4fb9-bc1b-308563ccfb86 button.colab-df-convert');\n",
              "      buttonEl.style.display =\n",
              "        google.colab.kernel.accessAllowed ? 'block' : 'none';\n",
              "\n",
              "      async function convertToInteractive(key) {\n",
              "        const element = document.querySelector('#df-33ffc5ce-c478-4fb9-bc1b-308563ccfb86');\n",
              "        const dataTable =\n",
              "          await google.colab.kernel.invokeFunction('convertToInteractive',\n",
              "                                                    [key], {});\n",
              "        if (!dataTable) return;\n",
              "\n",
              "        const docLinkHtml = 'Like what you see? Visit the ' +\n",
              "          '<a target=\"_blank\" href=https://colab.research.google.com/notebooks/data_table.ipynb>data table notebook</a>'\n",
              "          + ' to learn more about interactive tables.';\n",
              "        element.innerHTML = '';\n",
              "        dataTable['output_type'] = 'display_data';\n",
              "        await google.colab.output.renderOutput(dataTable, element);\n",
              "        const docLink = document.createElement('div');\n",
              "        docLink.innerHTML = docLinkHtml;\n",
              "        element.appendChild(docLink);\n",
              "      }\n",
              "    </script>\n",
              "  </div>\n",
              "\n",
              "\n",
              "<div id=\"df-20e9bb55-3c0d-4265-a234-ef52459045ac\">\n",
              "  <button class=\"colab-df-quickchart\" onclick=\"quickchart('df-20e9bb55-3c0d-4265-a234-ef52459045ac')\"\n",
              "            title=\"Suggest charts\"\n",
              "            style=\"display:none;\">\n",
              "\n",
              "<svg xmlns=\"http://www.w3.org/2000/svg\" height=\"24px\"viewBox=\"0 0 24 24\"\n",
              "     width=\"24px\">\n",
              "    <g>\n",
              "        <path d=\"M19 3H5c-1.1 0-2 .9-2 2v14c0 1.1.9 2 2 2h14c1.1 0 2-.9 2-2V5c0-1.1-.9-2-2-2zM9 17H7v-7h2v7zm4 0h-2V7h2v10zm4 0h-2v-4h2v4z\"/>\n",
              "    </g>\n",
              "</svg>\n",
              "  </button>\n",
              "\n",
              "<style>\n",
              "  .colab-df-quickchart {\n",
              "      --bg-color: #E8F0FE;\n",
              "      --fill-color: #1967D2;\n",
              "      --hover-bg-color: #E2EBFA;\n",
              "      --hover-fill-color: #174EA6;\n",
              "      --disabled-fill-color: #AAA;\n",
              "      --disabled-bg-color: #DDD;\n",
              "  }\n",
              "\n",
              "  [theme=dark] .colab-df-quickchart {\n",
              "      --bg-color: #3B4455;\n",
              "      --fill-color: #D2E3FC;\n",
              "      --hover-bg-color: #434B5C;\n",
              "      --hover-fill-color: #FFFFFF;\n",
              "      --disabled-bg-color: #3B4455;\n",
              "      --disabled-fill-color: #666;\n",
              "  }\n",
              "\n",
              "  .colab-df-quickchart {\n",
              "    background-color: var(--bg-color);\n",
              "    border: none;\n",
              "    border-radius: 50%;\n",
              "    cursor: pointer;\n",
              "    display: none;\n",
              "    fill: var(--fill-color);\n",
              "    height: 32px;\n",
              "    padding: 0;\n",
              "    width: 32px;\n",
              "  }\n",
              "\n",
              "  .colab-df-quickchart:hover {\n",
              "    background-color: var(--hover-bg-color);\n",
              "    box-shadow: 0 1px 2px rgba(60, 64, 67, 0.3), 0 1px 3px 1px rgba(60, 64, 67, 0.15);\n",
              "    fill: var(--button-hover-fill-color);\n",
              "  }\n",
              "\n",
              "  .colab-df-quickchart-complete:disabled,\n",
              "  .colab-df-quickchart-complete:disabled:hover {\n",
              "    background-color: var(--disabled-bg-color);\n",
              "    fill: var(--disabled-fill-color);\n",
              "    box-shadow: none;\n",
              "  }\n",
              "\n",
              "  .colab-df-spinner {\n",
              "    border: 2px solid var(--fill-color);\n",
              "    border-color: transparent;\n",
              "    border-bottom-color: var(--fill-color);\n",
              "    animation:\n",
              "      spin 1s steps(1) infinite;\n",
              "  }\n",
              "\n",
              "  @keyframes spin {\n",
              "    0% {\n",
              "      border-color: transparent;\n",
              "      border-bottom-color: var(--fill-color);\n",
              "      border-left-color: var(--fill-color);\n",
              "    }\n",
              "    20% {\n",
              "      border-color: transparent;\n",
              "      border-left-color: var(--fill-color);\n",
              "      border-top-color: var(--fill-color);\n",
              "    }\n",
              "    30% {\n",
              "      border-color: transparent;\n",
              "      border-left-color: var(--fill-color);\n",
              "      border-top-color: var(--fill-color);\n",
              "      border-right-color: var(--fill-color);\n",
              "    }\n",
              "    40% {\n",
              "      border-color: transparent;\n",
              "      border-right-color: var(--fill-color);\n",
              "      border-top-color: var(--fill-color);\n",
              "    }\n",
              "    60% {\n",
              "      border-color: transparent;\n",
              "      border-right-color: var(--fill-color);\n",
              "    }\n",
              "    80% {\n",
              "      border-color: transparent;\n",
              "      border-right-color: var(--fill-color);\n",
              "      border-bottom-color: var(--fill-color);\n",
              "    }\n",
              "    90% {\n",
              "      border-color: transparent;\n",
              "      border-bottom-color: var(--fill-color);\n",
              "    }\n",
              "  }\n",
              "</style>\n",
              "\n",
              "  <script>\n",
              "    async function quickchart(key) {\n",
              "      const quickchartButtonEl =\n",
              "        document.querySelector('#' + key + ' button');\n",
              "      quickchartButtonEl.disabled = true;  // To prevent multiple clicks.\n",
              "      quickchartButtonEl.classList.add('colab-df-spinner');\n",
              "      try {\n",
              "        const charts = await google.colab.kernel.invokeFunction(\n",
              "            'suggestCharts', [key], {});\n",
              "      } catch (error) {\n",
              "        console.error('Error during call to suggestCharts:', error);\n",
              "      }\n",
              "      quickchartButtonEl.classList.remove('colab-df-spinner');\n",
              "      quickchartButtonEl.classList.add('colab-df-quickchart-complete');\n",
              "    }\n",
              "    (() => {\n",
              "      let quickchartButtonEl =\n",
              "        document.querySelector('#df-20e9bb55-3c0d-4265-a234-ef52459045ac button');\n",
              "      quickchartButtonEl.style.display =\n",
              "        google.colab.kernel.accessAllowed ? 'block' : 'none';\n",
              "    })();\n",
              "  </script>\n",
              "</div>\n",
              "\n",
              "  <div id=\"id_de7089a8-5701-4729-acd7-3e4fec6319e0\">\n",
              "    <style>\n",
              "      .colab-df-generate {\n",
              "        background-color: #E8F0FE;\n",
              "        border: none;\n",
              "        border-radius: 50%;\n",
              "        cursor: pointer;\n",
              "        display: none;\n",
              "        fill: #1967D2;\n",
              "        height: 32px;\n",
              "        padding: 0 0 0 0;\n",
              "        width: 32px;\n",
              "      }\n",
              "\n",
              "      .colab-df-generate:hover {\n",
              "        background-color: #E2EBFA;\n",
              "        box-shadow: 0px 1px 2px rgba(60, 64, 67, 0.3), 0px 1px 3px 1px rgba(60, 64, 67, 0.15);\n",
              "        fill: #174EA6;\n",
              "      }\n",
              "\n",
              "      [theme=dark] .colab-df-generate {\n",
              "        background-color: #3B4455;\n",
              "        fill: #D2E3FC;\n",
              "      }\n",
              "\n",
              "      [theme=dark] .colab-df-generate:hover {\n",
              "        background-color: #434B5C;\n",
              "        box-shadow: 0px 1px 3px 1px rgba(0, 0, 0, 0.15);\n",
              "        filter: drop-shadow(0px 1px 2px rgba(0, 0, 0, 0.3));\n",
              "        fill: #FFFFFF;\n",
              "      }\n",
              "    </style>\n",
              "    <button class=\"colab-df-generate\" onclick=\"generateWithVariable('product_deltaE')\"\n",
              "            title=\"Generate code using this dataframe.\"\n",
              "            style=\"display:none;\">\n",
              "\n",
              "  <svg xmlns=\"http://www.w3.org/2000/svg\" height=\"24px\"viewBox=\"0 0 24 24\"\n",
              "       width=\"24px\">\n",
              "    <path d=\"M7,19H8.4L18.45,9,17,7.55,7,17.6ZM5,21V16.75L18.45,3.32a2,2,0,0,1,2.83,0l1.4,1.43a1.91,1.91,0,0,1,.58,1.4,1.91,1.91,0,0,1-.58,1.4L9.25,21ZM18.45,9,17,7.55Zm-12,3A5.31,5.31,0,0,0,4.9,8.1,5.31,5.31,0,0,0,1,6.5,5.31,5.31,0,0,0,4.9,4.9,5.31,5.31,0,0,0,6.5,1,5.31,5.31,0,0,0,8.1,4.9,5.31,5.31,0,0,0,12,6.5,5.46,5.46,0,0,0,6.5,12Z\"/>\n",
              "  </svg>\n",
              "    </button>\n",
              "    <script>\n",
              "      (() => {\n",
              "      const buttonEl =\n",
              "        document.querySelector('#id_de7089a8-5701-4729-acd7-3e4fec6319e0 button.colab-df-generate');\n",
              "      buttonEl.style.display =\n",
              "        google.colab.kernel.accessAllowed ? 'block' : 'none';\n",
              "\n",
              "      buttonEl.onclick = () => {\n",
              "        google.colab.notebook.generateWithVariable('product_deltaE');\n",
              "      }\n",
              "      })();\n",
              "    </script>\n",
              "  </div>\n",
              "\n",
              "    </div>\n",
              "  </div>\n"
            ],
            "application/vnd.google.colaboratory.intrinsic+json": {
              "type": "dataframe",
              "variable_name": "product_deltaE",
              "summary": "{\n  \"name\": \"product_deltaE\",\n  \"rows\": 4,\n  \"fields\": [\n    {\n      \"column\": \"product category\",\n      \"properties\": {\n        \"dtype\": \"string\",\n        \"num_unique_values\": 4,\n        \"samples\": [\n          \"lipgloss\",\n          \"lipstick\",\n          \"blush\"\n        ],\n        \"semantic_type\": \"\",\n        \"description\": \"\"\n      }\n    },\n    {\n      \"column\": \"Delta E\",\n      \"properties\": {\n        \"dtype\": \"date\",\n        \"min\": 58.40035812232877,\n        \"max\": 95.14503545238385,\n        \"num_unique_values\": 4,\n        \"samples\": [\n          63.29459856912437,\n          77.44357192659866,\n          58.40035812232877\n        ],\n        \"semantic_type\": \"\",\n        \"description\": \"\"\n      }\n    }\n  ]\n}"
            }
          },
          "metadata": {},
          "execution_count": 238
        }
      ]
    },
    {
      "cell_type": "code",
      "source": [
        "df_all.to_csv('/content/drive/My Drive/data_4_cluster_output.csv')"
      ],
      "metadata": {
        "id": "rOpVnALmJSkm"
      },
      "execution_count": 240,
      "outputs": []
    },
    {
      "cell_type": "markdown",
      "source": [
        "# Testing the Final Algorithm Iteration"
      ],
      "metadata": {
        "id": "lN2VQ4roI7O-"
      }
    },
    {
      "cell_type": "markdown",
      "source": [
        "In the final stage of the project, I applied the chosen model to the test set to evaluate its performance. This step is crucial to ensure that the model generalizes well to unseen data and maintains its accuracy in identifying and matching makeup colors. By analyzing the results on the test set, I can confirm whether the improvements made during the validation phase translate into reliable performance in real-world scenarios."
      ],
      "metadata": {
        "id": "XF4Z8FYs_zED"
      }
    },
    {
      "cell_type": "code",
      "source": [
        "df_test = pd.merge(df_all, test_df['id'], how='inner', on='id')\n",
        "df_test.shape"
      ],
      "metadata": {
        "id": "uQhLrF6uJsSE",
        "colab": {
          "base_uri": "https://localhost:8080/"
        },
        "outputId": "2c88f2cb-451f-4bb3-fa8b-83467a6c31c0"
      },
      "execution_count": 241,
      "outputs": [
        {
          "output_type": "execute_result",
          "data": {
            "text/plain": [
              "(102, 21)"
            ]
          },
          "metadata": {},
          "execution_count": 241
        }
      ]
    },
    {
      "cell_type": "code",
      "source": [
        "print('The mean Delta E for the validation set is:')\n",
        "round(df_test.diff_lab_2.mean(),2)"
      ],
      "metadata": {
        "colab": {
          "base_uri": "https://localhost:8080/"
        },
        "id": "J8y1U3BsU2Qc",
        "outputId": "a411895a-c1e7-48b2-c0cf-d35e77eb0ee3"
      },
      "execution_count": 249,
      "outputs": [
        {
          "output_type": "stream",
          "name": "stdout",
          "text": [
            "The mean Delta E for the validation set is:\n"
          ]
        },
        {
          "output_type": "execute_result",
          "data": {
            "text/plain": [
              "18.44"
            ]
          },
          "metadata": {},
          "execution_count": 249
        }
      ]
    },
    {
      "cell_type": "code",
      "source": [
        "print('The mean Delta E for the validation set is:')\n",
        "round(df_test.diff_lab_2.median(),2)"
      ],
      "metadata": {
        "colab": {
          "base_uri": "https://localhost:8080/"
        },
        "id": "VHfOiN4PVAb3",
        "outputId": "32a07795-3af9-4858-e799-2710451c8c8b"
      },
      "execution_count": 250,
      "outputs": [
        {
          "output_type": "stream",
          "name": "stdout",
          "text": [
            "The mean Delta E for the validation set is:\n"
          ]
        },
        {
          "output_type": "execute_result",
          "data": {
            "text/plain": [
              "17.16"
            ]
          },
          "metadata": {},
          "execution_count": 250
        }
      ]
    },
    {
      "cell_type": "code",
      "source": [
        "product_deltaE = df_test.diff_lab_2.groupby(df_test.category).mean()\n",
        "product_deltaE = product_deltaE.reset_index()\n",
        "product_deltaE.columns = ['product category', 'Delta E']\n",
        "\n",
        "print('Table: DeltaE (mean) by Product')\n",
        "product_deltaE"
      ],
      "metadata": {
        "colab": {
          "base_uri": "https://localhost:8080/",
          "height": 193
        },
        "id": "z6xUNd2LVGf8",
        "outputId": "173f1ca7-7716-49e1-e3dd-e150e6b1e478"
      },
      "execution_count": 253,
      "outputs": [
        {
          "output_type": "stream",
          "name": "stdout",
          "text": [
            "Table: DeltaE (mean) by Product\n"
          ]
        },
        {
          "output_type": "execute_result",
          "data": {
            "text/plain": [
              "  product category    Delta E\n",
              "0            blush  13.636629\n",
              "1         lipgloss  19.183398\n",
              "2         lipliner   26.51737\n",
              "3         lipstick  21.644616"
            ],
            "text/html": [
              "\n",
              "  <div id=\"df-0ce5e3e1-11dd-4197-abe6-31cbe39b23c0\" class=\"colab-df-container\">\n",
              "    <div>\n",
              "<style scoped>\n",
              "    .dataframe tbody tr th:only-of-type {\n",
              "        vertical-align: middle;\n",
              "    }\n",
              "\n",
              "    .dataframe tbody tr th {\n",
              "        vertical-align: top;\n",
              "    }\n",
              "\n",
              "    .dataframe thead th {\n",
              "        text-align: right;\n",
              "    }\n",
              "</style>\n",
              "<table border=\"1\" class=\"dataframe\">\n",
              "  <thead>\n",
              "    <tr style=\"text-align: right;\">\n",
              "      <th></th>\n",
              "      <th>product category</th>\n",
              "      <th>Delta E</th>\n",
              "    </tr>\n",
              "  </thead>\n",
              "  <tbody>\n",
              "    <tr>\n",
              "      <th>0</th>\n",
              "      <td>blush</td>\n",
              "      <td>13.636629</td>\n",
              "    </tr>\n",
              "    <tr>\n",
              "      <th>1</th>\n",
              "      <td>lipgloss</td>\n",
              "      <td>19.183398</td>\n",
              "    </tr>\n",
              "    <tr>\n",
              "      <th>2</th>\n",
              "      <td>lipliner</td>\n",
              "      <td>26.51737</td>\n",
              "    </tr>\n",
              "    <tr>\n",
              "      <th>3</th>\n",
              "      <td>lipstick</td>\n",
              "      <td>21.644616</td>\n",
              "    </tr>\n",
              "  </tbody>\n",
              "</table>\n",
              "</div>\n",
              "    <div class=\"colab-df-buttons\">\n",
              "\n",
              "  <div class=\"colab-df-container\">\n",
              "    <button class=\"colab-df-convert\" onclick=\"convertToInteractive('df-0ce5e3e1-11dd-4197-abe6-31cbe39b23c0')\"\n",
              "            title=\"Convert this dataframe to an interactive table.\"\n",
              "            style=\"display:none;\">\n",
              "\n",
              "  <svg xmlns=\"http://www.w3.org/2000/svg\" height=\"24px\" viewBox=\"0 -960 960 960\">\n",
              "    <path d=\"M120-120v-720h720v720H120Zm60-500h600v-160H180v160Zm220 220h160v-160H400v160Zm0 220h160v-160H400v160ZM180-400h160v-160H180v160Zm440 0h160v-160H620v160ZM180-180h160v-160H180v160Zm440 0h160v-160H620v160Z\"/>\n",
              "  </svg>\n",
              "    </button>\n",
              "\n",
              "  <style>\n",
              "    .colab-df-container {\n",
              "      display:flex;\n",
              "      gap: 12px;\n",
              "    }\n",
              "\n",
              "    .colab-df-convert {\n",
              "      background-color: #E8F0FE;\n",
              "      border: none;\n",
              "      border-radius: 50%;\n",
              "      cursor: pointer;\n",
              "      display: none;\n",
              "      fill: #1967D2;\n",
              "      height: 32px;\n",
              "      padding: 0 0 0 0;\n",
              "      width: 32px;\n",
              "    }\n",
              "\n",
              "    .colab-df-convert:hover {\n",
              "      background-color: #E2EBFA;\n",
              "      box-shadow: 0px 1px 2px rgba(60, 64, 67, 0.3), 0px 1px 3px 1px rgba(60, 64, 67, 0.15);\n",
              "      fill: #174EA6;\n",
              "    }\n",
              "\n",
              "    .colab-df-buttons div {\n",
              "      margin-bottom: 4px;\n",
              "    }\n",
              "\n",
              "    [theme=dark] .colab-df-convert {\n",
              "      background-color: #3B4455;\n",
              "      fill: #D2E3FC;\n",
              "    }\n",
              "\n",
              "    [theme=dark] .colab-df-convert:hover {\n",
              "      background-color: #434B5C;\n",
              "      box-shadow: 0px 1px 3px 1px rgba(0, 0, 0, 0.15);\n",
              "      filter: drop-shadow(0px 1px 2px rgba(0, 0, 0, 0.3));\n",
              "      fill: #FFFFFF;\n",
              "    }\n",
              "  </style>\n",
              "\n",
              "    <script>\n",
              "      const buttonEl =\n",
              "        document.querySelector('#df-0ce5e3e1-11dd-4197-abe6-31cbe39b23c0 button.colab-df-convert');\n",
              "      buttonEl.style.display =\n",
              "        google.colab.kernel.accessAllowed ? 'block' : 'none';\n",
              "\n",
              "      async function convertToInteractive(key) {\n",
              "        const element = document.querySelector('#df-0ce5e3e1-11dd-4197-abe6-31cbe39b23c0');\n",
              "        const dataTable =\n",
              "          await google.colab.kernel.invokeFunction('convertToInteractive',\n",
              "                                                    [key], {});\n",
              "        if (!dataTable) return;\n",
              "\n",
              "        const docLinkHtml = 'Like what you see? Visit the ' +\n",
              "          '<a target=\"_blank\" href=https://colab.research.google.com/notebooks/data_table.ipynb>data table notebook</a>'\n",
              "          + ' to learn more about interactive tables.';\n",
              "        element.innerHTML = '';\n",
              "        dataTable['output_type'] = 'display_data';\n",
              "        await google.colab.output.renderOutput(dataTable, element);\n",
              "        const docLink = document.createElement('div');\n",
              "        docLink.innerHTML = docLinkHtml;\n",
              "        element.appendChild(docLink);\n",
              "      }\n",
              "    </script>\n",
              "  </div>\n",
              "\n",
              "\n",
              "<div id=\"df-1db847b8-b464-4e83-9ead-13c94d73cea7\">\n",
              "  <button class=\"colab-df-quickchart\" onclick=\"quickchart('df-1db847b8-b464-4e83-9ead-13c94d73cea7')\"\n",
              "            title=\"Suggest charts\"\n",
              "            style=\"display:none;\">\n",
              "\n",
              "<svg xmlns=\"http://www.w3.org/2000/svg\" height=\"24px\"viewBox=\"0 0 24 24\"\n",
              "     width=\"24px\">\n",
              "    <g>\n",
              "        <path d=\"M19 3H5c-1.1 0-2 .9-2 2v14c0 1.1.9 2 2 2h14c1.1 0 2-.9 2-2V5c0-1.1-.9-2-2-2zM9 17H7v-7h2v7zm4 0h-2V7h2v10zm4 0h-2v-4h2v4z\"/>\n",
              "    </g>\n",
              "</svg>\n",
              "  </button>\n",
              "\n",
              "<style>\n",
              "  .colab-df-quickchart {\n",
              "      --bg-color: #E8F0FE;\n",
              "      --fill-color: #1967D2;\n",
              "      --hover-bg-color: #E2EBFA;\n",
              "      --hover-fill-color: #174EA6;\n",
              "      --disabled-fill-color: #AAA;\n",
              "      --disabled-bg-color: #DDD;\n",
              "  }\n",
              "\n",
              "  [theme=dark] .colab-df-quickchart {\n",
              "      --bg-color: #3B4455;\n",
              "      --fill-color: #D2E3FC;\n",
              "      --hover-bg-color: #434B5C;\n",
              "      --hover-fill-color: #FFFFFF;\n",
              "      --disabled-bg-color: #3B4455;\n",
              "      --disabled-fill-color: #666;\n",
              "  }\n",
              "\n",
              "  .colab-df-quickchart {\n",
              "    background-color: var(--bg-color);\n",
              "    border: none;\n",
              "    border-radius: 50%;\n",
              "    cursor: pointer;\n",
              "    display: none;\n",
              "    fill: var(--fill-color);\n",
              "    height: 32px;\n",
              "    padding: 0;\n",
              "    width: 32px;\n",
              "  }\n",
              "\n",
              "  .colab-df-quickchart:hover {\n",
              "    background-color: var(--hover-bg-color);\n",
              "    box-shadow: 0 1px 2px rgba(60, 64, 67, 0.3), 0 1px 3px 1px rgba(60, 64, 67, 0.15);\n",
              "    fill: var(--button-hover-fill-color);\n",
              "  }\n",
              "\n",
              "  .colab-df-quickchart-complete:disabled,\n",
              "  .colab-df-quickchart-complete:disabled:hover {\n",
              "    background-color: var(--disabled-bg-color);\n",
              "    fill: var(--disabled-fill-color);\n",
              "    box-shadow: none;\n",
              "  }\n",
              "\n",
              "  .colab-df-spinner {\n",
              "    border: 2px solid var(--fill-color);\n",
              "    border-color: transparent;\n",
              "    border-bottom-color: var(--fill-color);\n",
              "    animation:\n",
              "      spin 1s steps(1) infinite;\n",
              "  }\n",
              "\n",
              "  @keyframes spin {\n",
              "    0% {\n",
              "      border-color: transparent;\n",
              "      border-bottom-color: var(--fill-color);\n",
              "      border-left-color: var(--fill-color);\n",
              "    }\n",
              "    20% {\n",
              "      border-color: transparent;\n",
              "      border-left-color: var(--fill-color);\n",
              "      border-top-color: var(--fill-color);\n",
              "    }\n",
              "    30% {\n",
              "      border-color: transparent;\n",
              "      border-left-color: var(--fill-color);\n",
              "      border-top-color: var(--fill-color);\n",
              "      border-right-color: var(--fill-color);\n",
              "    }\n",
              "    40% {\n",
              "      border-color: transparent;\n",
              "      border-right-color: var(--fill-color);\n",
              "      border-top-color: var(--fill-color);\n",
              "    }\n",
              "    60% {\n",
              "      border-color: transparent;\n",
              "      border-right-color: var(--fill-color);\n",
              "    }\n",
              "    80% {\n",
              "      border-color: transparent;\n",
              "      border-right-color: var(--fill-color);\n",
              "      border-bottom-color: var(--fill-color);\n",
              "    }\n",
              "    90% {\n",
              "      border-color: transparent;\n",
              "      border-bottom-color: var(--fill-color);\n",
              "    }\n",
              "  }\n",
              "</style>\n",
              "\n",
              "  <script>\n",
              "    async function quickchart(key) {\n",
              "      const quickchartButtonEl =\n",
              "        document.querySelector('#' + key + ' button');\n",
              "      quickchartButtonEl.disabled = true;  // To prevent multiple clicks.\n",
              "      quickchartButtonEl.classList.add('colab-df-spinner');\n",
              "      try {\n",
              "        const charts = await google.colab.kernel.invokeFunction(\n",
              "            'suggestCharts', [key], {});\n",
              "      } catch (error) {\n",
              "        console.error('Error during call to suggestCharts:', error);\n",
              "      }\n",
              "      quickchartButtonEl.classList.remove('colab-df-spinner');\n",
              "      quickchartButtonEl.classList.add('colab-df-quickchart-complete');\n",
              "    }\n",
              "    (() => {\n",
              "      let quickchartButtonEl =\n",
              "        document.querySelector('#df-1db847b8-b464-4e83-9ead-13c94d73cea7 button');\n",
              "      quickchartButtonEl.style.display =\n",
              "        google.colab.kernel.accessAllowed ? 'block' : 'none';\n",
              "    })();\n",
              "  </script>\n",
              "</div>\n",
              "\n",
              "  <div id=\"id_3cdf18e9-66a2-4c2a-acc7-14fbe5a42680\">\n",
              "    <style>\n",
              "      .colab-df-generate {\n",
              "        background-color: #E8F0FE;\n",
              "        border: none;\n",
              "        border-radius: 50%;\n",
              "        cursor: pointer;\n",
              "        display: none;\n",
              "        fill: #1967D2;\n",
              "        height: 32px;\n",
              "        padding: 0 0 0 0;\n",
              "        width: 32px;\n",
              "      }\n",
              "\n",
              "      .colab-df-generate:hover {\n",
              "        background-color: #E2EBFA;\n",
              "        box-shadow: 0px 1px 2px rgba(60, 64, 67, 0.3), 0px 1px 3px 1px rgba(60, 64, 67, 0.15);\n",
              "        fill: #174EA6;\n",
              "      }\n",
              "\n",
              "      [theme=dark] .colab-df-generate {\n",
              "        background-color: #3B4455;\n",
              "        fill: #D2E3FC;\n",
              "      }\n",
              "\n",
              "      [theme=dark] .colab-df-generate:hover {\n",
              "        background-color: #434B5C;\n",
              "        box-shadow: 0px 1px 3px 1px rgba(0, 0, 0, 0.15);\n",
              "        filter: drop-shadow(0px 1px 2px rgba(0, 0, 0, 0.3));\n",
              "        fill: #FFFFFF;\n",
              "      }\n",
              "    </style>\n",
              "    <button class=\"colab-df-generate\" onclick=\"generateWithVariable('product_deltaE')\"\n",
              "            title=\"Generate code using this dataframe.\"\n",
              "            style=\"display:none;\">\n",
              "\n",
              "  <svg xmlns=\"http://www.w3.org/2000/svg\" height=\"24px\"viewBox=\"0 0 24 24\"\n",
              "       width=\"24px\">\n",
              "    <path d=\"M7,19H8.4L18.45,9,17,7.55,7,17.6ZM5,21V16.75L18.45,3.32a2,2,0,0,1,2.83,0l1.4,1.43a1.91,1.91,0,0,1,.58,1.4,1.91,1.91,0,0,1-.58,1.4L9.25,21ZM18.45,9,17,7.55Zm-12,3A5.31,5.31,0,0,0,4.9,8.1,5.31,5.31,0,0,0,1,6.5,5.31,5.31,0,0,0,4.9,4.9,5.31,5.31,0,0,0,6.5,1,5.31,5.31,0,0,0,8.1,4.9,5.31,5.31,0,0,0,12,6.5,5.46,5.46,0,0,0,6.5,12Z\"/>\n",
              "  </svg>\n",
              "    </button>\n",
              "    <script>\n",
              "      (() => {\n",
              "      const buttonEl =\n",
              "        document.querySelector('#id_3cdf18e9-66a2-4c2a-acc7-14fbe5a42680 button.colab-df-generate');\n",
              "      buttonEl.style.display =\n",
              "        google.colab.kernel.accessAllowed ? 'block' : 'none';\n",
              "\n",
              "      buttonEl.onclick = () => {\n",
              "        google.colab.notebook.generateWithVariable('product_deltaE');\n",
              "      }\n",
              "      })();\n",
              "    </script>\n",
              "  </div>\n",
              "\n",
              "    </div>\n",
              "  </div>\n"
            ],
            "application/vnd.google.colaboratory.intrinsic+json": {
              "type": "dataframe",
              "variable_name": "product_deltaE",
              "summary": "{\n  \"name\": \"product_deltaE\",\n  \"rows\": 4,\n  \"fields\": [\n    {\n      \"column\": \"product category\",\n      \"properties\": {\n        \"dtype\": \"string\",\n        \"num_unique_values\": 4,\n        \"samples\": [\n          \"lipgloss\",\n          \"lipstick\",\n          \"blush\"\n        ],\n        \"semantic_type\": \"\",\n        \"description\": \"\"\n      }\n    },\n    {\n      \"column\": \"Delta E\",\n      \"properties\": {\n        \"dtype\": \"date\",\n        \"min\": 13.636629042898015,\n        \"max\": 26.517370215778516,\n        \"num_unique_values\": 4,\n        \"samples\": [\n          19.183397775156067,\n          21.6446157276212,\n          13.636629042898015\n        ],\n        \"semantic_type\": \"\",\n        \"description\": \"\"\n      }\n    }\n  ]\n}"
            }
          },
          "metadata": {},
          "execution_count": 253
        }
      ]
    },
    {
      "cell_type": "markdown",
      "source": [
        "In summary, the results show the following:\n",
        "\n",
        "- Blush: Delta E was 15.8, on average, for the validation set, and for the testing set it is 13.6.\n",
        "- Lipgloss: Delta E was 18.5 for the validation set, and for the test set it is 19.1.\n",
        "- Lipliner: Delta E was, on average, 24.2 for the validation set, and for the test set it is  26.5. Liplinear is also the one with the highest variance in Delta E.\n",
        "- Lipstick: Delta E was, on average, 21.2 for the validation set, and now for the test set, it is 21.6.\n",
        "\n",
        "# Conclusion\n",
        "\n",
        "The results indicate that the model performs consistently across the validation and test sets for most makeup types, with minor variations in Delta E. The decrease in Delta E for blush from 15.8 to 13.6 suggests improved accuracy in color matching for this product. However, lipgloss and lipstick show slightly higher Delta E values in the test set, indicating consistent but not improved performance. Lipliner, with the highest Delta E and variance, highlights a challenge in accurately capturing the color due to possibly greater variability or confounding factors in the test images. Overall, while the model shows strong generalization for blush and reasonable stability for lipgloss and lipstick, further refinement may be needed for lipliner to reduce variability and improve color accuracy."
      ],
      "metadata": {
        "id": "AlZNHG2nVx8F"
      }
    }
  ]
}