{
  "nbformat": 4,
  "nbformat_minor": 0,
  "metadata": {
    "colab": {
      "provenance": [],
      "mount_file_id": "1bdMkiwigrrqL6tL5s4AzASBlzTCHpMpq",
      "authorship_tag": "ABX9TyOH/5OW6pfMPDoai32Z6PWn",
      "include_colab_link": true
    },
    "kernelspec": {
      "name": "python3",
      "display_name": "Python 3"
    },
    "language_info": {
      "name": "python"
    }
  },
  "cells": [
    {
      "cell_type": "markdown",
      "metadata": {
        "id": "view-in-github",
        "colab_type": "text"
      },
      "source": [
        "<a href=\"https://colab.research.google.com/github/ConstanzaSchibber/capstone_colors/blob/main/notebooks/1_DataEngineering.ipynb\" target=\"_parent\"><img src=\"https://colab.research.google.com/assets/colab-badge.svg\" alt=\"Open In Colab\"/></a>"
      ]
    },
    {
      "cell_type": "markdown",
      "source": [
        "# Notebook 1: Data Pipeline, Data Wrangling, Exploratory Data Analysis\n",
        "\n",
        "\n"
      ],
      "metadata": {
        "id": "kjIDsb1XujLX"
      }
    },
    {
      "cell_type": "markdown",
      "source": [
        "# Libraries"
      ],
      "metadata": {
        "id": "ldX6FAO4uu1m"
      }
    },
    {
      "cell_type": "markdown",
      "source": [
        "Creating requirements for environment."
      ],
      "metadata": {
        "id": "LVXdUUeO4FfV"
      }
    },
    {
      "cell_type": "code",
      "source": [
        "!pip freeze > requirements.txt\n",
        "!pip list --format=freeze > requirements.txt"
      ],
      "metadata": {
        "id": "QJsbBnHq3vOI"
      },
      "execution_count": 2,
      "outputs": []
    },
    {
      "cell_type": "markdown",
      "source": [
        "Importing libraries."
      ],
      "metadata": {
        "id": "pwmuQc7E4J9e"
      }
    },
    {
      "cell_type": "code",
      "source": [
        "import os\n",
        "from getpass import getpass\n",
        "import urllib\n",
        "import requests"
      ],
      "metadata": {
        "id": "a1dHls-z3hF7"
      },
      "execution_count": 34,
      "outputs": []
    },
    {
      "cell_type": "code",
      "source": [
        "import pandas as pd\n",
        "import matplotlib.pyplot as plt\n",
        "import seaborn as sns"
      ],
      "metadata": {
        "id": "Nf_ZwikS342L"
      },
      "execution_count": 4,
      "outputs": []
    },
    {
      "cell_type": "code",
      "source": [
        "import glob"
      ],
      "metadata": {
        "id": "-wKsK_qWm1te"
      },
      "execution_count": 183,
      "outputs": []
    },
    {
      "cell_type": "code",
      "source": [
        "from PIL import Image"
      ],
      "metadata": {
        "id": "3T1J-t80ni5u"
      },
      "execution_count": 186,
      "outputs": []
    },
    {
      "cell_type": "code",
      "source": [
        "!pip install validators"
      ],
      "metadata": {
        "colab": {
          "base_uri": "https://localhost:8080/"
        },
        "id": "I0OOu5THQZFO",
        "outputId": "55f518f0-7e92-4b28-a60a-874ff06fdfd0"
      },
      "execution_count": 117,
      "outputs": [
        {
          "output_type": "stream",
          "name": "stdout",
          "text": [
            "Collecting validators\n",
            "  Downloading validators-0.33.0-py3-none-any.whl.metadata (3.8 kB)\n",
            "Downloading validators-0.33.0-py3-none-any.whl (43 kB)\n",
            "\u001b[?25l   \u001b[90m━━━━━━━━━━━━━━━━━━━━━━━━━━━━━━━━━━━━━━━━\u001b[0m \u001b[32m0.0/43.3 kB\u001b[0m \u001b[31m?\u001b[0m eta \u001b[36m-:--:--\u001b[0m\r\u001b[2K   \u001b[90m━━━━━━━━━━━━━━━━━━━━━━━━━━━━━━━━━━━━━━━━\u001b[0m \u001b[32m43.3/43.3 kB\u001b[0m \u001b[31m1.8 MB/s\u001b[0m eta \u001b[36m0:00:00\u001b[0m\n",
            "\u001b[?25hInstalling collected packages: validators\n",
            "Successfully installed validators-0.33.0\n"
          ]
        }
      ]
    },
    {
      "cell_type": "code",
      "source": [
        "import validators"
      ],
      "metadata": {
        "id": "0P1W06qzQX_n"
      },
      "execution_count": 118,
      "outputs": []
    },
    {
      "cell_type": "code",
      "source": [
        "from google.colab import drive\n",
        "drive.mount('/content/drive', force_remount=True)"
      ],
      "metadata": {
        "colab": {
          "base_uri": "https://localhost:8080/"
        },
        "id": "pCqSMTA1eVJM",
        "outputId": "778654e3-aaa5-4b55-d5e4-7138fe3ee448"
      },
      "execution_count": 171,
      "outputs": [
        {
          "output_type": "stream",
          "name": "stdout",
          "text": [
            "Mounted at /content/drive\n"
          ]
        }
      ]
    },
    {
      "cell_type": "markdown",
      "source": [
        "# Reading & Wrangling Data"
      ],
      "metadata": {
        "id": "eYhxi7Xl7hdP"
      }
    },
    {
      "cell_type": "code",
      "source": [
        "df_1 = pd.read_csv('/content/drive/MyDrive/mauve products - products.csv')\n",
        "df_1.columns"
      ],
      "metadata": {
        "colab": {
          "base_uri": "https://localhost:8080/"
        },
        "id": "YiUYYAR37jNG",
        "outputId": "cb762519-15af-4579-9f02-1dff2717cc60"
      },
      "execution_count": 172,
      "outputs": [
        {
          "output_type": "execute_result",
          "data": {
            "text/plain": [
              "Index(['category', 'joined', 'brand', 'product', 'shade', 'shade_description',\n",
              "       'shade_description_original', 'img_url', 'discontinued', 'clean',\n",
              "       'bipoc-founded', 'skin_tones_1', 'skin_tones_2', 'undertones_1',\n",
              "       'finish_1', 'finish_2', 'finish_3', 'descriptor_1', 'descriptor_2',\n",
              "       'intensity_1', 'intensity_2', 'intensity_3', 'muted_1', 'muted_2',\n",
              "       'shimmer_1', 'shimmer_2', 'shimmer_3', 'adaptive'],\n",
              "      dtype='object')"
            ]
          },
          "metadata": {},
          "execution_count": 172
        }
      ]
    },
    {
      "cell_type": "code",
      "source": [
        "# read images and save in a folder\n",
        "df_1 = df_1[df_1.img_url.notna()]\n",
        "df_1.shape"
      ],
      "metadata": {
        "colab": {
          "base_uri": "https://localhost:8080/"
        },
        "id": "gjWKkw1o8GnL",
        "outputId": "45cb3e60-3fba-46da-9a9d-d389f9a3fef4"
      },
      "execution_count": 12,
      "outputs": [
        {
          "output_type": "execute_result",
          "data": {
            "text/plain": [
              "(269, 28)"
            ]
          },
          "metadata": {},
          "execution_count": 12
        }
      ]
    },
    {
      "cell_type": "code",
      "source": [
        "df_2 = pd.read_csv('/content/drive/MyDrive/peach_products - Sheet1.csv')\n",
        "df_2.columns"
      ],
      "metadata": {
        "colab": {
          "base_uri": "https://localhost:8080/"
        },
        "id": "Y6JJ4u3--Vxd",
        "outputId": "58240c3c-021c-4f70-a9d7-589d774e02a0"
      },
      "execution_count": 13,
      "outputs": [
        {
          "output_type": "execute_result",
          "data": {
            "text/plain": [
              "Index(['category', 'joined', 'brand', 'product', 'shade', 'clean',\n",
              "       'bipoc-founded', 'image', 'shade_description_original',\n",
              "       'shade_description', 'shade_description_colors_only',\n",
              "       'secondary_colors_1', 'skin_tones_1', 'skin_tones_2', 'undertones_1',\n",
              "       'undertones_2', 'descriptor_1', 'intensity_1', 'intensity_2', 'muted_1',\n",
              "       'finish_1', 'finish_2', 'finish_3', 'shimmer_1', 'shimmer_2',\n",
              "       'shimmer_3', 'adaptive'],\n",
              "      dtype='object')"
            ]
          },
          "metadata": {},
          "execution_count": 13
        }
      ]
    },
    {
      "cell_type": "code",
      "source": [
        "# read images and save in a folder\n",
        "df_2 = df_2[df_2.image.notna()]\n",
        "df_2.shape"
      ],
      "metadata": {
        "colab": {
          "base_uri": "https://localhost:8080/"
        },
        "id": "YpDxXkg7-e6g",
        "outputId": "e837eecb-b176-46d7-a43d-5a6bcd20b25b"
      },
      "execution_count": 15,
      "outputs": [
        {
          "output_type": "execute_result",
          "data": {
            "text/plain": [
              "(274, 27)"
            ]
          },
          "metadata": {},
          "execution_count": 15
        }
      ]
    },
    {
      "cell_type": "code",
      "source": [
        "df_mauve = df_1[['category',\n",
        "                 'joined',\n",
        "                 'brand',\n",
        "                 'product',\n",
        "                 'shade',\n",
        "                'img_url',\n",
        "                 'shade_description_original']]"
      ],
      "metadata": {
        "id": "FL8y_tZyAA__"
      },
      "execution_count": 24,
      "outputs": []
    },
    {
      "cell_type": "code",
      "source": [
        "df_peach = df_2[['category',\n",
        "                 'joined',\n",
        "                 'brand',\n",
        "                 'product',\n",
        "                 'shade',\n",
        "                 'image',\n",
        "                 'shade_description_original']]"
      ],
      "metadata": {
        "id": "dQk7o1M2Agmn"
      },
      "execution_count": 25,
      "outputs": []
    },
    {
      "cell_type": "code",
      "source": [
        "df_peach = df_peach.rename({'image': 'img_url'}, axis=1)"
      ],
      "metadata": {
        "id": "mGUUxbmpAoz4"
      },
      "execution_count": 26,
      "outputs": []
    },
    {
      "cell_type": "code",
      "source": [
        "df = pd.concat([df_peach, df_mauve], axis=0)"
      ],
      "metadata": {
        "id": "8Andx7Tfu1bk"
      },
      "execution_count": 27,
      "outputs": []
    },
    {
      "cell_type": "code",
      "source": [
        "df.shape"
      ],
      "metadata": {
        "colab": {
          "base_uri": "https://localhost:8080/"
        },
        "id": "J09W_0SnBDvx",
        "outputId": "41f6fa9a-9d18-4361-c18b-38d28aab3ccd"
      },
      "execution_count": 28,
      "outputs": [
        {
          "output_type": "execute_result",
          "data": {
            "text/plain": [
              "(543, 7)"
            ]
          },
          "metadata": {},
          "execution_count": 28
        }
      ]
    },
    {
      "cell_type": "code",
      "source": [
        "df.head()"
      ],
      "metadata": {
        "colab": {
          "base_uri": "https://localhost:8080/",
          "height": 539
        },
        "id": "f5ErgzDzBFd9",
        "outputId": "00045244-72f2-493d-d45f-aa4ce78ddc2c"
      },
      "execution_count": 29,
      "outputs": [
        {
          "output_type": "execute_result",
          "data": {
            "text/plain": [
              "   category                                             joined  \\\n",
              "1     blush                         14e cosmetics blush sunset   \n",
              "2     blush               a'pieu juicy-pang water blusher cr01   \n",
              "3     blush          about-face cheek freak blush balm raunchy   \n",
              "6     blush  alamar cosmetics colorete concentrate liquid b...   \n",
              "13    blush  anastasia beverly hills stick cream blush peac...   \n",
              "\n",
              "                      brand                            product  \\\n",
              "1             14e cosmetics                              blush   \n",
              "2                    a'pieu           juicy-pang water blusher   \n",
              "3                about-face             cheek freak blush balm   \n",
              "6          alamar cosmetics  colorete concentrate liquid blush   \n",
              "13  anastasia beverly hills                  stick cream blush   \n",
              "\n",
              "                shade                                            img_url  \\\n",
              "1              sunset  https://images.squarespace-cdn.com/content/v1/...   \n",
              "2                cr01  https://misshaus.com/cdn/shop/files/juicypangw...   \n",
              "3             raunchy  https://aboutface.com/cdn/shop/products/CF_PDP...   \n",
              "6   amor de melocoton  https://alamarcosmetics.com/cdn/shop/products/...   \n",
              "13        peachy keen  https://www.sephora.com/productimages/sku/s247...   \n",
              "\n",
              "   shade_description_original  \n",
              "1                 warm peachy  \n",
              "2                       peach  \n",
              "3                  nude peach  \n",
              "6                creamy peach  \n",
              "13                 soft peach  "
            ],
            "text/html": [
              "\n",
              "  <div id=\"df-f9fa4254-1fbe-4b12-bc5c-144ca3c8838e\" class=\"colab-df-container\">\n",
              "    <div>\n",
              "<style scoped>\n",
              "    .dataframe tbody tr th:only-of-type {\n",
              "        vertical-align: middle;\n",
              "    }\n",
              "\n",
              "    .dataframe tbody tr th {\n",
              "        vertical-align: top;\n",
              "    }\n",
              "\n",
              "    .dataframe thead th {\n",
              "        text-align: right;\n",
              "    }\n",
              "</style>\n",
              "<table border=\"1\" class=\"dataframe\">\n",
              "  <thead>\n",
              "    <tr style=\"text-align: right;\">\n",
              "      <th></th>\n",
              "      <th>category</th>\n",
              "      <th>joined</th>\n",
              "      <th>brand</th>\n",
              "      <th>product</th>\n",
              "      <th>shade</th>\n",
              "      <th>img_url</th>\n",
              "      <th>shade_description_original</th>\n",
              "    </tr>\n",
              "  </thead>\n",
              "  <tbody>\n",
              "    <tr>\n",
              "      <th>1</th>\n",
              "      <td>blush</td>\n",
              "      <td>14e cosmetics blush sunset</td>\n",
              "      <td>14e cosmetics</td>\n",
              "      <td>blush</td>\n",
              "      <td>sunset</td>\n",
              "      <td>https://images.squarespace-cdn.com/content/v1/...</td>\n",
              "      <td>warm peachy</td>\n",
              "    </tr>\n",
              "    <tr>\n",
              "      <th>2</th>\n",
              "      <td>blush</td>\n",
              "      <td>a'pieu juicy-pang water blusher cr01</td>\n",
              "      <td>a'pieu</td>\n",
              "      <td>juicy-pang water blusher</td>\n",
              "      <td>cr01</td>\n",
              "      <td>https://misshaus.com/cdn/shop/files/juicypangw...</td>\n",
              "      <td>peach</td>\n",
              "    </tr>\n",
              "    <tr>\n",
              "      <th>3</th>\n",
              "      <td>blush</td>\n",
              "      <td>about-face cheek freak blush balm raunchy</td>\n",
              "      <td>about-face</td>\n",
              "      <td>cheek freak blush balm</td>\n",
              "      <td>raunchy</td>\n",
              "      <td>https://aboutface.com/cdn/shop/products/CF_PDP...</td>\n",
              "      <td>nude peach</td>\n",
              "    </tr>\n",
              "    <tr>\n",
              "      <th>6</th>\n",
              "      <td>blush</td>\n",
              "      <td>alamar cosmetics colorete concentrate liquid b...</td>\n",
              "      <td>alamar cosmetics</td>\n",
              "      <td>colorete concentrate liquid blush</td>\n",
              "      <td>amor de melocoton</td>\n",
              "      <td>https://alamarcosmetics.com/cdn/shop/products/...</td>\n",
              "      <td>creamy peach</td>\n",
              "    </tr>\n",
              "    <tr>\n",
              "      <th>13</th>\n",
              "      <td>blush</td>\n",
              "      <td>anastasia beverly hills stick cream blush peac...</td>\n",
              "      <td>anastasia beverly hills</td>\n",
              "      <td>stick cream blush</td>\n",
              "      <td>peachy keen</td>\n",
              "      <td>https://www.sephora.com/productimages/sku/s247...</td>\n",
              "      <td>soft peach</td>\n",
              "    </tr>\n",
              "  </tbody>\n",
              "</table>\n",
              "</div>\n",
              "    <div class=\"colab-df-buttons\">\n",
              "\n",
              "  <div class=\"colab-df-container\">\n",
              "    <button class=\"colab-df-convert\" onclick=\"convertToInteractive('df-f9fa4254-1fbe-4b12-bc5c-144ca3c8838e')\"\n",
              "            title=\"Convert this dataframe to an interactive table.\"\n",
              "            style=\"display:none;\">\n",
              "\n",
              "  <svg xmlns=\"http://www.w3.org/2000/svg\" height=\"24px\" viewBox=\"0 -960 960 960\">\n",
              "    <path d=\"M120-120v-720h720v720H120Zm60-500h600v-160H180v160Zm220 220h160v-160H400v160Zm0 220h160v-160H400v160ZM180-400h160v-160H180v160Zm440 0h160v-160H620v160ZM180-180h160v-160H180v160Zm440 0h160v-160H620v160Z\"/>\n",
              "  </svg>\n",
              "    </button>\n",
              "\n",
              "  <style>\n",
              "    .colab-df-container {\n",
              "      display:flex;\n",
              "      gap: 12px;\n",
              "    }\n",
              "\n",
              "    .colab-df-convert {\n",
              "      background-color: #E8F0FE;\n",
              "      border: none;\n",
              "      border-radius: 50%;\n",
              "      cursor: pointer;\n",
              "      display: none;\n",
              "      fill: #1967D2;\n",
              "      height: 32px;\n",
              "      padding: 0 0 0 0;\n",
              "      width: 32px;\n",
              "    }\n",
              "\n",
              "    .colab-df-convert:hover {\n",
              "      background-color: #E2EBFA;\n",
              "      box-shadow: 0px 1px 2px rgba(60, 64, 67, 0.3), 0px 1px 3px 1px rgba(60, 64, 67, 0.15);\n",
              "      fill: #174EA6;\n",
              "    }\n",
              "\n",
              "    .colab-df-buttons div {\n",
              "      margin-bottom: 4px;\n",
              "    }\n",
              "\n",
              "    [theme=dark] .colab-df-convert {\n",
              "      background-color: #3B4455;\n",
              "      fill: #D2E3FC;\n",
              "    }\n",
              "\n",
              "    [theme=dark] .colab-df-convert:hover {\n",
              "      background-color: #434B5C;\n",
              "      box-shadow: 0px 1px 3px 1px rgba(0, 0, 0, 0.15);\n",
              "      filter: drop-shadow(0px 1px 2px rgba(0, 0, 0, 0.3));\n",
              "      fill: #FFFFFF;\n",
              "    }\n",
              "  </style>\n",
              "\n",
              "    <script>\n",
              "      const buttonEl =\n",
              "        document.querySelector('#df-f9fa4254-1fbe-4b12-bc5c-144ca3c8838e button.colab-df-convert');\n",
              "      buttonEl.style.display =\n",
              "        google.colab.kernel.accessAllowed ? 'block' : 'none';\n",
              "\n",
              "      async function convertToInteractive(key) {\n",
              "        const element = document.querySelector('#df-f9fa4254-1fbe-4b12-bc5c-144ca3c8838e');\n",
              "        const dataTable =\n",
              "          await google.colab.kernel.invokeFunction('convertToInteractive',\n",
              "                                                    [key], {});\n",
              "        if (!dataTable) return;\n",
              "\n",
              "        const docLinkHtml = 'Like what you see? Visit the ' +\n",
              "          '<a target=\"_blank\" href=https://colab.research.google.com/notebooks/data_table.ipynb>data table notebook</a>'\n",
              "          + ' to learn more about interactive tables.';\n",
              "        element.innerHTML = '';\n",
              "        dataTable['output_type'] = 'display_data';\n",
              "        await google.colab.output.renderOutput(dataTable, element);\n",
              "        const docLink = document.createElement('div');\n",
              "        docLink.innerHTML = docLinkHtml;\n",
              "        element.appendChild(docLink);\n",
              "      }\n",
              "    </script>\n",
              "  </div>\n",
              "\n",
              "\n",
              "<div id=\"df-65b68387-cb8a-4caa-afd5-8618bc55618a\">\n",
              "  <button class=\"colab-df-quickchart\" onclick=\"quickchart('df-65b68387-cb8a-4caa-afd5-8618bc55618a')\"\n",
              "            title=\"Suggest charts\"\n",
              "            style=\"display:none;\">\n",
              "\n",
              "<svg xmlns=\"http://www.w3.org/2000/svg\" height=\"24px\"viewBox=\"0 0 24 24\"\n",
              "     width=\"24px\">\n",
              "    <g>\n",
              "        <path d=\"M19 3H5c-1.1 0-2 .9-2 2v14c0 1.1.9 2 2 2h14c1.1 0 2-.9 2-2V5c0-1.1-.9-2-2-2zM9 17H7v-7h2v7zm4 0h-2V7h2v10zm4 0h-2v-4h2v4z\"/>\n",
              "    </g>\n",
              "</svg>\n",
              "  </button>\n",
              "\n",
              "<style>\n",
              "  .colab-df-quickchart {\n",
              "      --bg-color: #E8F0FE;\n",
              "      --fill-color: #1967D2;\n",
              "      --hover-bg-color: #E2EBFA;\n",
              "      --hover-fill-color: #174EA6;\n",
              "      --disabled-fill-color: #AAA;\n",
              "      --disabled-bg-color: #DDD;\n",
              "  }\n",
              "\n",
              "  [theme=dark] .colab-df-quickchart {\n",
              "      --bg-color: #3B4455;\n",
              "      --fill-color: #D2E3FC;\n",
              "      --hover-bg-color: #434B5C;\n",
              "      --hover-fill-color: #FFFFFF;\n",
              "      --disabled-bg-color: #3B4455;\n",
              "      --disabled-fill-color: #666;\n",
              "  }\n",
              "\n",
              "  .colab-df-quickchart {\n",
              "    background-color: var(--bg-color);\n",
              "    border: none;\n",
              "    border-radius: 50%;\n",
              "    cursor: pointer;\n",
              "    display: none;\n",
              "    fill: var(--fill-color);\n",
              "    height: 32px;\n",
              "    padding: 0;\n",
              "    width: 32px;\n",
              "  }\n",
              "\n",
              "  .colab-df-quickchart:hover {\n",
              "    background-color: var(--hover-bg-color);\n",
              "    box-shadow: 0 1px 2px rgba(60, 64, 67, 0.3), 0 1px 3px 1px rgba(60, 64, 67, 0.15);\n",
              "    fill: var(--button-hover-fill-color);\n",
              "  }\n",
              "\n",
              "  .colab-df-quickchart-complete:disabled,\n",
              "  .colab-df-quickchart-complete:disabled:hover {\n",
              "    background-color: var(--disabled-bg-color);\n",
              "    fill: var(--disabled-fill-color);\n",
              "    box-shadow: none;\n",
              "  }\n",
              "\n",
              "  .colab-df-spinner {\n",
              "    border: 2px solid var(--fill-color);\n",
              "    border-color: transparent;\n",
              "    border-bottom-color: var(--fill-color);\n",
              "    animation:\n",
              "      spin 1s steps(1) infinite;\n",
              "  }\n",
              "\n",
              "  @keyframes spin {\n",
              "    0% {\n",
              "      border-color: transparent;\n",
              "      border-bottom-color: var(--fill-color);\n",
              "      border-left-color: var(--fill-color);\n",
              "    }\n",
              "    20% {\n",
              "      border-color: transparent;\n",
              "      border-left-color: var(--fill-color);\n",
              "      border-top-color: var(--fill-color);\n",
              "    }\n",
              "    30% {\n",
              "      border-color: transparent;\n",
              "      border-left-color: var(--fill-color);\n",
              "      border-top-color: var(--fill-color);\n",
              "      border-right-color: var(--fill-color);\n",
              "    }\n",
              "    40% {\n",
              "      border-color: transparent;\n",
              "      border-right-color: var(--fill-color);\n",
              "      border-top-color: var(--fill-color);\n",
              "    }\n",
              "    60% {\n",
              "      border-color: transparent;\n",
              "      border-right-color: var(--fill-color);\n",
              "    }\n",
              "    80% {\n",
              "      border-color: transparent;\n",
              "      border-right-color: var(--fill-color);\n",
              "      border-bottom-color: var(--fill-color);\n",
              "    }\n",
              "    90% {\n",
              "      border-color: transparent;\n",
              "      border-bottom-color: var(--fill-color);\n",
              "    }\n",
              "  }\n",
              "</style>\n",
              "\n",
              "  <script>\n",
              "    async function quickchart(key) {\n",
              "      const quickchartButtonEl =\n",
              "        document.querySelector('#' + key + ' button');\n",
              "      quickchartButtonEl.disabled = true;  // To prevent multiple clicks.\n",
              "      quickchartButtonEl.classList.add('colab-df-spinner');\n",
              "      try {\n",
              "        const charts = await google.colab.kernel.invokeFunction(\n",
              "            'suggestCharts', [key], {});\n",
              "      } catch (error) {\n",
              "        console.error('Error during call to suggestCharts:', error);\n",
              "      }\n",
              "      quickchartButtonEl.classList.remove('colab-df-spinner');\n",
              "      quickchartButtonEl.classList.add('colab-df-quickchart-complete');\n",
              "    }\n",
              "    (() => {\n",
              "      let quickchartButtonEl =\n",
              "        document.querySelector('#df-65b68387-cb8a-4caa-afd5-8618bc55618a button');\n",
              "      quickchartButtonEl.style.display =\n",
              "        google.colab.kernel.accessAllowed ? 'block' : 'none';\n",
              "    })();\n",
              "  </script>\n",
              "</div>\n",
              "\n",
              "    </div>\n",
              "  </div>\n"
            ],
            "application/vnd.google.colaboratory.intrinsic+json": {
              "type": "dataframe",
              "variable_name": "df",
              "summary": "{\n  \"name\": \"df\",\n  \"rows\": 543,\n  \"fields\": [\n    {\n      \"column\": \"category\",\n      \"properties\": {\n        \"dtype\": \"category\",\n        \"num_unique_values\": 4,\n        \"samples\": [\n          \"lipstick\",\n          \"lipliner\",\n          \"blush\"\n        ],\n        \"semantic_type\": \"\",\n        \"description\": \"\"\n      }\n    },\n    {\n      \"column\": \"joined\",\n      \"properties\": {\n        \"dtype\": \"string\",\n        \"num_unique_values\": 539,\n        \"samples\": [\n          \"danessa myricks beauty colorfix glaze cupcake\",\n          \"mac cosmetics powder blush sunbasque\",\n          \"anastasia beverly hills liquid lipstick dusty rose\"\n        ],\n        \"semantic_type\": \"\",\n        \"description\": \"\"\n      }\n    },\n    {\n      \"column\": \"brand\",\n      \"properties\": {\n        \"dtype\": \"category\",\n        \"num_unique_values\": 159,\n        \"samples\": [\n          \"dapop\",\n          \"wonderskin\",\n          \"ilia\"\n        ],\n        \"semantic_type\": \"\",\n        \"description\": \"\"\n      }\n    },\n    {\n      \"column\": \"product\",\n      \"properties\": {\n        \"dtype\": \"string\",\n        \"num_unique_values\": 362,\n        \"samples\": [\n          \"matte crush lipstick pencil\",\n          \"pure nude baked blush\",\n          \"color cassette liquid blush lip\"\n        ],\n        \"semantic_type\": \"\",\n        \"description\": \"\"\n      }\n    },\n    {\n      \"column\": \"shade\",\n      \"properties\": {\n        \"dtype\": \"string\",\n        \"num_unique_values\": 504,\n        \"samples\": [\n          \"808 dirty shirley\",\n          \"creme brulee\",\n          \"pieta\"\n        ],\n        \"semantic_type\": \"\",\n        \"description\": \"\"\n      }\n    },\n    {\n      \"column\": \"img_url\",\n      \"properties\": {\n        \"dtype\": \"string\",\n        \"num_unique_values\": 537,\n        \"samples\": [\n          \"https://www.sephora.com/productimages/sku/s2297760-main-zoom.jpg?imwidth=1224\",\n          \"https://slimages.macysassets.com/is/image/MCY/products/5/optimized/15135905_fpx.tif?op_sharpen=1&wid=500&hei=611&fit=fit,1&fmt=webp\",\n          \"https://aboutface.com/cdn/shop/products/NotYourBaby.png?v=1672950096&width=1280\"\n        ],\n        \"semantic_type\": \"\",\n        \"description\": \"\"\n      }\n    },\n    {\n      \"column\": \"shade_description_original\",\n      \"properties\": {\n        \"dtype\": \"string\",\n        \"num_unique_values\": 330,\n        \"samples\": [\n          \"soft golden peach\",\n          \"bright peachy pearl\",\n          \"coral peach shimmer\"\n        ],\n        \"semantic_type\": \"\",\n        \"description\": \"\"\n      }\n    }\n  ]\n}"
            }
          },
          "metadata": {},
          "execution_count": 29
        }
      ]
    },
    {
      "cell_type": "code",
      "source": [
        "df = df.reset_index()"
      ],
      "metadata": {
        "id": "c1Hm7TOiKMmd"
      },
      "execution_count": 92,
      "outputs": []
    },
    {
      "cell_type": "code",
      "source": [
        "df['id'] = df.index + 1"
      ],
      "metadata": {
        "id": "wgTwJpcnB5Ze"
      },
      "execution_count": 93,
      "outputs": []
    },
    {
      "cell_type": "markdown",
      "source": [
        "# Collecting Images"
      ],
      "metadata": {
        "id": "amSArkpau15W"
      }
    },
    {
      "cell_type": "markdown",
      "source": [
        "## Validate URLs"
      ],
      "metadata": {
        "id": "TVjuLN3URWvO"
      }
    },
    {
      "cell_type": "markdown",
      "source": [
        "I validate the URLs in case the data is not an URL. I find that a few cases had something that was not a URL."
      ],
      "metadata": {
        "id": "OAki-2cOlQ3w"
      }
    },
    {
      "cell_type": "code",
      "source": [
        "df['validation'] = '0'\n",
        "\n",
        "for i in range(len(df)):\n",
        "  url = df.loc[i, 'img_url']\n",
        "  df.loc[i, 'validation'] = validators.url(url)"
      ],
      "metadata": {
        "id": "dTkmu0e8RVbV"
      },
      "execution_count": 123,
      "outputs": []
    },
    {
      "cell_type": "markdown",
      "source": [
        "Here we see that 527 rows have a valid URL and others do not for a number of reasons:"
      ],
      "metadata": {
        "id": "ZlZKUNlVVbB6"
      }
    },
    {
      "cell_type": "code",
      "source": [
        "df['validation'].value_counts()"
      ],
      "metadata": {
        "colab": {
          "base_uri": "https://localhost:8080/",
          "height": 961
        },
        "id": "dL-IUtygUfh3",
        "outputId": "a6c34b9e-f86d-493c-ad52-1152c02975d3"
      },
      "execution_count": 124,
      "outputs": [
        {
          "output_type": "execute_result",
          "data": {
            "text/plain": [
              "validation\n",
              "True                                                                                                                                                                                                                                            527\n",
              "ValidationError(func=url, args={'reason': \"bad query field: '$md$'\", 'value': 'https://images.ulta.com/is/image/Ulta/2544328sm?$md$&id=NDNaY0&fmt=jpg&fit=constrain,1&wid=260&hei=65&op_sharpen=1&resMode=bilin'})                                1\n",
              "ValidationError(func=url, args={'reason': \"bad query field: '$md$'\", 'value': 'https://images.ulta.com/is/image/Ulta/2304144sm?$md$&id=bp_at3&fmt=jpg&fit=constrain,1&wid=260&hei=352&op_sharpen=1&resMode=bilin'})                               1\n",
              "ValidationError(func=url, args={'reason': \"bad query field: '$md$'\", 'value': 'https://images.ulta.com/is/image/Ulta/2547931sm?$md$&id=W6Man0&fmt=jpg&fit=constrain,1&wid=260&hei=228&op_sharpen=1&resMode=bilin'})                               1\n",
              "ValidationError(func=url, args={'reason': \"bad query field: '$md$'\", 'value': 'https://images.ulta.com/is/image/Ulta/2553699sm?$md$&id=lDcb80&fmt=jpg&fit=constrain,1&wid=260&hei=257&op_sharpen=1&resMode=bilin'})                               1\n",
              "ValidationError(func=url, args={'reason': \"bad query field: '$md$'\", 'value': 'https://images.ulta.com/is/image/Ulta/2554320sm?$md$&id=q7NaV1&fmt=jpg&fit=constrain,1&wid=260&hei=248&op_sharpen=1&resMode=bilin'})                               1\n",
              "ValidationError(func=url, args={'reason': \"bad query field: '$md$'\", 'value': 'https://images.ulta.com/is/image/Ulta/2303705sm?$md$&id=mqGaR2&fmt=jpg&fit=constrain,1&wid=260&hei=209&op_sharpen=1&resMode=bilin'})                               1\n",
              "ValidationError(func=url, args={'reason': \"bad query field: '$md$'\", 'value': 'https://images.ulta.com/is/image/Ulta/2303706sm?$md$&id=1goaZ3&fmt=jpg&fit=constrain,1&wid=260&hei=209&op_sharpen=1&resMode=bilin'})                               1\n",
              "ValidationError(func=url, args={'reason': \"bad query field: '$md$'\", 'value': 'https://images.ulta.com/is/image/Ulta/2299243sm?$md$&id=hVhak2&fmt=jpg&fit=constrain,1&wid=260&hei=205&op_sharpen=1&resMode=bilin'})                               1\n",
              "ValidationError(func=url, args={'reason': \"bad query field: '$filtersm$'\", 'value': 'https://images.bloomingdalesassets.com/is/image/BLM/products/0/optimized/13338810_fpx.tif?op_sharpen=1&wid=700&fit=fit,1&$filtersm$&fmt=webp'})              1\n",
              "ValidationError(func=url, args={'reason': \"bad query field: '$md$'\", 'value': 'https://images.ulta.com/is/image/Ulta/2299256sm?$md$&id=UnHa82&fmt=jpg&fit=constrain,1&wid=1000&hei=1000&op_sharpen=1&resMode=bilin'})                             1\n",
              "ValidationError(func=url, args={'reason': \"bad query field: '$md$'\", 'value': 'https://images.ulta.com/is/image/Ulta/2521619sm?$md$&id=pDDay0&fmt=jpg&fit=constrain,1&wid=231&hei=359&op_sharpen=1&resMode=bilin'})                               1\n",
              "ValidationError(func=url, args={'reason': \"bad query field: '$n_960w$'\", 'value': 'https://images.asos-media.com/products/mac-electric-wonder-satin-lipstick-feelin-sedimental/12172518-1-feelinsedimental?$n_960w$&wid=952&fit=constrain'})      1\n",
              "ValidationError(func=url, args={'reason': \"bad query field: '$filtersm$'\", 'value': 'https://images.bloomingdalesassets.com/is/image/BLM/products/2/optimized/11355682_fpx.tif?op_sharpen=1&wid=700&fit=fit,1&$filtersm$&fmt=webp'})              1\n",
              "ValidationError(func=url, args={'value': 'NO IMG URL'})                                                                                                                                                                                           1\n",
              "ValidationError(func=url, args={'reason': \"bad query field: '$filterxlrg$'\", 'value': 'https://slimages.macysassets.com/is/image/MCY/products/6/optimized/3388676_fpx.tif?op_sharpen=1&wid=1230&hei=1500&fit=fit,1&$filterxlrg$&fmt=webp'})       1\n",
              "ValidationError(func=url, args={'reason': \"bad query field: '$md$'\", 'value': 'https://images.ulta.com/is/image/Ulta/2550890sm?$md$&id=YWDbE2&fmt=jpg&fit=constrain,1&wid=260&hei=194&op_sharpen=1&resMode=bilin'})                               1\n",
              "Name: count, dtype: int64"
            ],
            "text/html": [
              "<div>\n",
              "<style scoped>\n",
              "    .dataframe tbody tr th:only-of-type {\n",
              "        vertical-align: middle;\n",
              "    }\n",
              "\n",
              "    .dataframe tbody tr th {\n",
              "        vertical-align: top;\n",
              "    }\n",
              "\n",
              "    .dataframe thead th {\n",
              "        text-align: right;\n",
              "    }\n",
              "</style>\n",
              "<table border=\"1\" class=\"dataframe\">\n",
              "  <thead>\n",
              "    <tr style=\"text-align: right;\">\n",
              "      <th></th>\n",
              "      <th>count</th>\n",
              "    </tr>\n",
              "    <tr>\n",
              "      <th>validation</th>\n",
              "      <th></th>\n",
              "    </tr>\n",
              "  </thead>\n",
              "  <tbody>\n",
              "    <tr>\n",
              "      <th>True</th>\n",
              "      <td>527</td>\n",
              "    </tr>\n",
              "    <tr>\n",
              "      <th>ValidationError(func=url, args={'reason': \"bad query field: '$md$'\", 'value': 'https://images.ulta.com/is/image/Ulta/2544328sm?$md$&amp;id=NDNaY0&amp;fmt=jpg&amp;fit=constrain,1&amp;wid=260&amp;hei=65&amp;op_sharpen=1&amp;resMode=bilin'})</th>\n",
              "      <td>1</td>\n",
              "    </tr>\n",
              "    <tr>\n",
              "      <th>ValidationError(func=url, args={'reason': \"bad query field: '$md$'\", 'value': 'https://images.ulta.com/is/image/Ulta/2304144sm?$md$&amp;id=bp_at3&amp;fmt=jpg&amp;fit=constrain,1&amp;wid=260&amp;hei=352&amp;op_sharpen=1&amp;resMode=bilin'})</th>\n",
              "      <td>1</td>\n",
              "    </tr>\n",
              "    <tr>\n",
              "      <th>ValidationError(func=url, args={'reason': \"bad query field: '$md$'\", 'value': 'https://images.ulta.com/is/image/Ulta/2547931sm?$md$&amp;id=W6Man0&amp;fmt=jpg&amp;fit=constrain,1&amp;wid=260&amp;hei=228&amp;op_sharpen=1&amp;resMode=bilin'})</th>\n",
              "      <td>1</td>\n",
              "    </tr>\n",
              "    <tr>\n",
              "      <th>ValidationError(func=url, args={'reason': \"bad query field: '$md$'\", 'value': 'https://images.ulta.com/is/image/Ulta/2553699sm?$md$&amp;id=lDcb80&amp;fmt=jpg&amp;fit=constrain,1&amp;wid=260&amp;hei=257&amp;op_sharpen=1&amp;resMode=bilin'})</th>\n",
              "      <td>1</td>\n",
              "    </tr>\n",
              "    <tr>\n",
              "      <th>ValidationError(func=url, args={'reason': \"bad query field: '$md$'\", 'value': 'https://images.ulta.com/is/image/Ulta/2554320sm?$md$&amp;id=q7NaV1&amp;fmt=jpg&amp;fit=constrain,1&amp;wid=260&amp;hei=248&amp;op_sharpen=1&amp;resMode=bilin'})</th>\n",
              "      <td>1</td>\n",
              "    </tr>\n",
              "    <tr>\n",
              "      <th>ValidationError(func=url, args={'reason': \"bad query field: '$md$'\", 'value': 'https://images.ulta.com/is/image/Ulta/2303705sm?$md$&amp;id=mqGaR2&amp;fmt=jpg&amp;fit=constrain,1&amp;wid=260&amp;hei=209&amp;op_sharpen=1&amp;resMode=bilin'})</th>\n",
              "      <td>1</td>\n",
              "    </tr>\n",
              "    <tr>\n",
              "      <th>ValidationError(func=url, args={'reason': \"bad query field: '$md$'\", 'value': 'https://images.ulta.com/is/image/Ulta/2303706sm?$md$&amp;id=1goaZ3&amp;fmt=jpg&amp;fit=constrain,1&amp;wid=260&amp;hei=209&amp;op_sharpen=1&amp;resMode=bilin'})</th>\n",
              "      <td>1</td>\n",
              "    </tr>\n",
              "    <tr>\n",
              "      <th>ValidationError(func=url, args={'reason': \"bad query field: '$md$'\", 'value': 'https://images.ulta.com/is/image/Ulta/2299243sm?$md$&amp;id=hVhak2&amp;fmt=jpg&amp;fit=constrain,1&amp;wid=260&amp;hei=205&amp;op_sharpen=1&amp;resMode=bilin'})</th>\n",
              "      <td>1</td>\n",
              "    </tr>\n",
              "    <tr>\n",
              "      <th>ValidationError(func=url, args={'reason': \"bad query field: '$filtersm$'\", 'value': 'https://images.bloomingdalesassets.com/is/image/BLM/products/0/optimized/13338810_fpx.tif?op_sharpen=1&amp;wid=700&amp;fit=fit,1&amp;$filtersm$&amp;fmt=webp'})</th>\n",
              "      <td>1</td>\n",
              "    </tr>\n",
              "    <tr>\n",
              "      <th>ValidationError(func=url, args={'reason': \"bad query field: '$md$'\", 'value': 'https://images.ulta.com/is/image/Ulta/2299256sm?$md$&amp;id=UnHa82&amp;fmt=jpg&amp;fit=constrain,1&amp;wid=1000&amp;hei=1000&amp;op_sharpen=1&amp;resMode=bilin'})</th>\n",
              "      <td>1</td>\n",
              "    </tr>\n",
              "    <tr>\n",
              "      <th>ValidationError(func=url, args={'reason': \"bad query field: '$md$'\", 'value': 'https://images.ulta.com/is/image/Ulta/2521619sm?$md$&amp;id=pDDay0&amp;fmt=jpg&amp;fit=constrain,1&amp;wid=231&amp;hei=359&amp;op_sharpen=1&amp;resMode=bilin'})</th>\n",
              "      <td>1</td>\n",
              "    </tr>\n",
              "    <tr>\n",
              "      <th>ValidationError(func=url, args={'reason': \"bad query field: '$n_960w$'\", 'value': 'https://images.asos-media.com/products/mac-electric-wonder-satin-lipstick-feelin-sedimental/12172518-1-feelinsedimental?$n_960w$&amp;wid=952&amp;fit=constrain'})</th>\n",
              "      <td>1</td>\n",
              "    </tr>\n",
              "    <tr>\n",
              "      <th>ValidationError(func=url, args={'reason': \"bad query field: '$filtersm$'\", 'value': 'https://images.bloomingdalesassets.com/is/image/BLM/products/2/optimized/11355682_fpx.tif?op_sharpen=1&amp;wid=700&amp;fit=fit,1&amp;$filtersm$&amp;fmt=webp'})</th>\n",
              "      <td>1</td>\n",
              "    </tr>\n",
              "    <tr>\n",
              "      <th>ValidationError(func=url, args={'value': 'NO IMG URL'})</th>\n",
              "      <td>1</td>\n",
              "    </tr>\n",
              "    <tr>\n",
              "      <th>ValidationError(func=url, args={'reason': \"bad query field: '$filterxlrg$'\", 'value': 'https://slimages.macysassets.com/is/image/MCY/products/6/optimized/3388676_fpx.tif?op_sharpen=1&amp;wid=1230&amp;hei=1500&amp;fit=fit,1&amp;$filterxlrg$&amp;fmt=webp'})</th>\n",
              "      <td>1</td>\n",
              "    </tr>\n",
              "    <tr>\n",
              "      <th>ValidationError(func=url, args={'reason': \"bad query field: '$md$'\", 'value': 'https://images.ulta.com/is/image/Ulta/2550890sm?$md$&amp;id=YWDbE2&amp;fmt=jpg&amp;fit=constrain,1&amp;wid=260&amp;hei=194&amp;op_sharpen=1&amp;resMode=bilin'})</th>\n",
              "      <td>1</td>\n",
              "    </tr>\n",
              "  </tbody>\n",
              "</table>\n",
              "</div><br><label><b>dtype:</b> int64</label>"
            ]
          },
          "metadata": {},
          "execution_count": 124
        }
      ]
    },
    {
      "cell_type": "code",
      "source": [
        "df.shape"
      ],
      "metadata": {
        "colab": {
          "base_uri": "https://localhost:8080/"
        },
        "id": "6BadHElOUpc7",
        "outputId": "934254a8-c293-4a51-bd75-56fb62d224b1"
      },
      "execution_count": 125,
      "outputs": [
        {
          "output_type": "execute_result",
          "data": {
            "text/plain": [
              "(543, 11)"
            ]
          },
          "metadata": {},
          "execution_count": 125
        }
      ]
    },
    {
      "cell_type": "code",
      "source": [
        "df = df[df.validation == True]"
      ],
      "metadata": {
        "id": "qSC7VP30Uly9"
      },
      "execution_count": 126,
      "outputs": []
    },
    {
      "cell_type": "code",
      "source": [
        "df = df.reset_index()"
      ],
      "metadata": {
        "id": "fFKOJRlUU1Ks"
      },
      "execution_count": 130,
      "outputs": []
    },
    {
      "cell_type": "code",
      "source": [
        "df.shape"
      ],
      "metadata": {
        "colab": {
          "base_uri": "https://localhost:8080/"
        },
        "id": "g8oSHQx2Uqn8",
        "outputId": "2c3ed184-1227-4938-da6d-cd924cbd1499"
      },
      "execution_count": 131,
      "outputs": [
        {
          "output_type": "execute_result",
          "data": {
            "text/plain": [
              "(527, 12)"
            ]
          },
          "metadata": {},
          "execution_count": 131
        }
      ]
    },
    {
      "cell_type": "markdown",
      "source": [
        "## Download Images"
      ],
      "metadata": {
        "id": "NDgwIAQ_Z16D"
      }
    },
    {
      "cell_type": "code",
      "source": [
        "def download(dest_folder: str):\n",
        "  '''\n",
        "  This function takes the images from the URL and saves them\n",
        "  The file saved uses the filename from the URL because files have\n",
        "  different extensions. The exception is ULTA urls, because they\n",
        "  did not provide a file name so I created a file name.\n",
        "  I save the name of the image in a column in the original table\n",
        "  for linking image and data of the product. If an URL was broken,\n",
        "  I save that error code in the table to identify products with a broken\n",
        "  URL.\n",
        "  '''\n",
        "\n",
        "  # create folder if it does not exist\n",
        "  #if not os.path.exists(dest_folder):\n",
        "   #     os.makedirs(dest_folder)\n",
        "\n",
        "  df['img_name'] = '0'\n",
        "\n",
        "  for i in range(len(df)):\n",
        "    url = df.loc[i, 'img_url']\n",
        "    # request\n",
        "    headers = {'User-Agent': 'Mozilla/5.0 (Windows NT 6.1; WOW64) AppleWebKit/537.36 (KHTML, like Gecko) Chrome/56.0.2924.76 Safari/537.36', \"Upgrade-Insecure-Requests\": \"1\",\"DNT\": \"1\",\"Accept\": \"text/html,application/xhtml+xml,application/xml;q=0.9,*/*;q=0.8\",\"Accept-Language\": \"en-US,en;q=0.5\",\"Accept-Encoding\": \"gzip, deflate\"}\n",
        "    r = requests.get(url, headers = headers)\n",
        "\n",
        "    # Ulta has no name attached\n",
        "    source =  url.split('//')[1].split('/')[0].split('.')[1]\n",
        "\n",
        "    if r.ok:\n",
        "\n",
        "      if source != 'ulta':\n",
        "        # create file name and extension\n",
        "        file_name = url.split('/')[-1].split('.')[0]\n",
        "        file_type = url.split('/')[-1].split('.')[-1][0:3]\n",
        "        # where the file will be saved\n",
        "        file_path = dest_folder + '/' + file_name + '.' + file_type\n",
        "        # save file name to row\n",
        "        df.loc[i, 'img_name'] = file_name + '.' + file_type\n",
        "        # save image\n",
        "        print(\"saving to\", file_path)\n",
        "        open(file_path, 'wb').write(r.content)\n",
        "\n",
        "      elif source == 'ulta':\n",
        "        # create file name and extension\n",
        "        file_name = 'ulta' + str(i)\n",
        "        file_type = 'jpg'\n",
        "        # where the file will be saved\n",
        "        file_path = dest_folder + '/' + file_name + '.' + file_type\n",
        "        # save file name to row\n",
        "        df.loc[i, 'img_name'] = file_name + '.' + file_type\n",
        "        # save image\n",
        "        print(\"saving to\", file_path)\n",
        "        open(file_path, 'wb').write(r.content)\n",
        "\n",
        "    else:  # HTTP status code 4XX/5XX\n",
        "      print(\"Download failed: status code {}\\n{}\".format(r.status_code, r.text))\n",
        "      df.loc[i, 'img_name'] = r.status_code\n"
      ],
      "metadata": {
        "id": "iym_2vQCEuIB"
      },
      "execution_count": 182,
      "outputs": []
    },
    {
      "cell_type": "code",
      "source": [
        "download('/content/drive/My Drive/makeup_img')"
      ],
      "metadata": {
        "id": "Y1SZV924Jrjd"
      },
      "execution_count": 214,
      "outputs": []
    },
    {
      "cell_type": "markdown",
      "source": [
        " Count number of files in directory:"
      ],
      "metadata": {
        "id": "vpb8dcM5gHRt"
      }
    },
    {
      "cell_type": "code",
      "source": [
        "_, _, files = next(os.walk('/content/drive/My Drive/makeup_img'))\n",
        "file_count = len(files)\n",
        "print('There are: ' + str(file_count) + ' files.')"
      ],
      "metadata": {
        "colab": {
          "base_uri": "https://localhost:8080/"
        },
        "id": "mnSR8Q_qf0bh",
        "outputId": "01f03870-8ab8-477e-8db9-4828f607be0e"
      },
      "execution_count": 178,
      "outputs": [
        {
          "output_type": "stream",
          "name": "stdout",
          "text": [
            "There are: 501 files.\n"
          ]
        }
      ]
    },
    {
      "cell_type": "markdown",
      "source": [
        "# Are all of the files images?"
      ],
      "metadata": {
        "id": "-8DjWmn4gr1O"
      }
    },
    {
      "cell_type": "markdown",
      "source": [
        "The next step is to check if all of the files are images. I write a function and then, run the function in the folder where all of the files were saved."
      ],
      "metadata": {
        "id": "qZ9a4XLIgv0T"
      }
    },
    {
      "cell_type": "code",
      "source": [
        "def check_img(filename):\n",
        "    '''\n",
        "    This function checks if a file is an image or not, and if it is corrupted\n",
        "    '''\n",
        "    try:\n",
        "        im = Image.open(filename)\n",
        "        im.verify()\n",
        "        im.close()\n",
        "        im = Image.open(filename)\n",
        "        im.transpose(Image.FLIP_LEFT_RIGHT)\n",
        "        im.close()\n",
        "        return True\n",
        "    except:\n",
        "        print(filename,'corrupted')\n",
        "        return False\n"
      ],
      "metadata": {
        "id": "lAcp7ViFgq3Q"
      },
      "execution_count": 185,
      "outputs": []
    },
    {
      "cell_type": "markdown",
      "source": [
        "Running the function to all of the files, I find that one of the images is corrupted. When trying to open the image, it is a one line of HTML code."
      ],
      "metadata": {
        "id": "evyxyef1nRrS"
      }
    },
    {
      "cell_type": "code",
      "source": [
        "for file in glob.glob('/content/drive/My Drive/makeup_img/'+'*'):\n",
        "  if not check_img(file):\n",
        "    print('do something')"
      ],
      "metadata": {
        "colab": {
          "base_uri": "https://localhost:8080/"
        },
        "id": "VcCWulS_mHqH",
        "outputId": "e7a38399-dac3-4f64-dbf0-392d6d4633c7"
      },
      "execution_count": 184,
      "outputs": [
        {
          "output_type": "stream",
          "name": "stdout",
          "text": [
            "/content/drive/My Drive/makeup_img/mac_smoosh_S7GR08.jpg corrupted\n",
            "do something\n"
          ]
        }
      ]
    },
    {
      "cell_type": "markdown",
      "source": [
        "# Exploratory Data Analysis"
      ],
      "metadata": {
        "id": "SnEuJtl1u52j"
      }
    },
    {
      "cell_type": "code",
      "source": [
        "df['category'].value_counts().plot.bar()"
      ],
      "metadata": {
        "id": "_DDoEByGu8DV",
        "colab": {
          "base_uri": "https://localhost:8080/",
          "height": 506
        },
        "outputId": "30e45537-3a9c-4845-c645-010726ccfe02"
      },
      "execution_count": 190,
      "outputs": [
        {
          "output_type": "execute_result",
          "data": {
            "text/plain": [
              "<Axes: xlabel='category'>"
            ]
          },
          "metadata": {},
          "execution_count": 190
        },
        {
          "output_type": "display_data",
          "data": {
            "text/plain": [
              "<Figure size 640x480 with 1 Axes>"
            ],
            "image/png": "[encoded data removed]"
          },
          "metadata": {}
        }
      ]
    },
    {
      "cell_type": "code",
      "source": [
        "brands_count = pd.DataFrame(df['brand'].value_counts())\n",
        "brands_count = brands_count.reset_index()\n",
        "brands_count.columns = ['brand', 'total']\n",
        "\n",
        "print('Percentage of brands with more than 10 products:')\n",
        "\n",
        "print(round(len(brands_count[brands_count.total > 10].brand.unique())/len(brands_count.brand.unique())*100,2))\n",
        "\n",
        "print('\\n')\n",
        "print('Percentage of brands with more than 2 products:')\n",
        "print(round(len(brands_count[brands_count.total > 1].brand.unique())/len(brands_count.brand.unique())*100,2))\n",
        "\n",
        "print('\\n')\n",
        "print('Number of brands with 1 products')\n",
        "print(round(len(brands_count[brands_count.total == 1].brand.unique())/len(brands_count.brand.unique())*100,2))\n"
      ],
      "metadata": {
        "colab": {
          "base_uri": "https://localhost:8080/"
        },
        "id": "2r1mLNCe9jaR",
        "outputId": "6cca90fa-94b4-4d62-be07-9634c36a765f"
      },
      "execution_count": 212,
      "outputs": [
        {
          "output_type": "stream",
          "name": "stdout",
          "text": [
            "Percentage of brands with more than 10 products:\n",
            "6.29\n",
            "\n",
            "\n",
            "Percentage of brands with more than 2 products:\n",
            "59.12\n",
            "\n",
            "\n",
            "Number of brands with 1 products\n",
            "40.88\n"
          ]
        }
      ]
    },
    {
      "cell_type": "code",
      "source": [
        "len(df['brand'].unique())"
      ],
      "metadata": {
        "colab": {
          "base_uri": "https://localhost:8080/"
        },
        "id": "n6XR9eyd9qKL",
        "outputId": "56ef6c5b-5816-46ca-b4fe-9cb54eb46b0b"
      },
      "execution_count": 213,
      "outputs": [
        {
          "output_type": "execute_result",
          "data": {
            "text/plain": [
              "159"
            ]
          },
          "metadata": {},
          "execution_count": 213
        }
      ]
    }
  ]
}