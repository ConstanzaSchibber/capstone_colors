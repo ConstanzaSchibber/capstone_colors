{
  "nbformat": 4,
  "nbformat_minor": 0,
  "metadata": {
    "colab": {
      "provenance": [],
      "authorship_tag": "ABX9TyMc/dbPmFyzFORoQ4cnia2C",
      "include_colab_link": true
    },
    "kernelspec": {
      "name": "python3",
      "display_name": "Python 3"
    },
    "language_info": {
      "name": "python"
    }
  },
  "cells": [
    {
      "cell_type": "markdown",
      "metadata": {
        "id": "view-in-github",
        "colab_type": "text"
      },
      "source": [
        "<a href=\"https://colab.research.google.com/github/ConstanzaSchibber/capstone_colors/blob/main/notebooks/3_Data_Annotation.ipynb\" target=\"_parent\"><img src=\"https://colab.research.google.com/assets/colab-badge.svg\" alt=\"Open In Colab\"/></a>"
      ]
    },
    {
      "cell_type": "markdown",
      "source": [
        "# Data Annotation: How to Validate Model Results?\n",
        "\n",
        "In this project, due to the absence of labeled data, I manually crop each image to focus solely on the makeup area—for instance, isolating just the lipstick in an image.\n",
        "\n",
        "In the notebook, the cropped section is then analyzed to determine the average CIELAB color, which serves as a close approximation to the 'ground truth' color. Data annotation is a necessary step to ensure accurate color analysis, as it allows for more precise comparison and evaluation of the results."
      ],
      "metadata": {
        "id": "0tLpL1EYqO1S"
      }
    },
    {
      "cell_type": "markdown",
      "source": [
        "# Libraries"
      ],
      "metadata": {
        "id": "jka9AtneqNwA"
      }
    },
    {
      "cell_type": "code",
      "execution_count": 2,
      "metadata": {
        "id": "iiDg7Igep3bY"
      },
      "outputs": [],
      "source": [
        "!pip freeze > requirements3.txt\n",
        "!pip list --format=freeze > requirements3.txt"
      ]
    },
    {
      "cell_type": "code",
      "source": [
        "import os\n",
        "import pandas as pd\n",
        "import matplotlib.pyplot as plt\n",
        "import seaborn as sns\n",
        "import glob\n",
        "from PIL import Image\n",
        "import numpy as np\n",
        "import cv2\n",
        "from skimage.color import rgb2lab, lab2rgb"
      ],
      "metadata": {
        "id": "HlWhxjVmqAtL"
      },
      "execution_count": 17,
      "outputs": []
    },
    {
      "cell_type": "markdown",
      "source": [
        "# Reading Data & Identifying Images with a Ground Truth Color Value"
      ],
      "metadata": {
        "id": "lRlrAonjs6K-"
      }
    },
    {
      "cell_type": "code",
      "source": [
        "# Mount Drive\n",
        "from google.colab import drive\n",
        "\n",
        "# Mount Google Drive to access files stored there\n",
        "# The 'force_remount=True' option ensures that the drive is remounted even if it is already mounted\n",
        "drive.mount('/content/drive', force_remount=True)"
      ],
      "metadata": {
        "colab": {
          "base_uri": "https://localhost:8080/"
        },
        "id": "kw0d1-kZs8RF",
        "outputId": "6d79992d-5761-4eb9-e39a-eb96ca4ed438"
      },
      "execution_count": 1,
      "outputs": [
        {
          "output_type": "stream",
          "name": "stdout",
          "text": [
            "Mounted at /content/drive\n"
          ]
        }
      ]
    },
    {
      "cell_type": "markdown",
      "source": [
        "I was not able to get the makeup color from all of the images because a number of images showed the container without the color of the actual makeup (e.g., lipstick). Thus, a small number of images will not have ground truth value.\n",
        "\n",
        "To identify the data with ground truth value, I create a new variable in the metadata indicating coded 1 if there is a ground truth value and 0 if there is not. To do so, I use the list of cropped image files."
      ],
      "metadata": {
        "id": "sPHptP1TtPyD"
      }
    },
    {
      "cell_type": "code",
      "source": [
        "# Metadata\n",
        "metadata = pd.read_csv('/content/drive/MyDrive/data/processed/data_1.csv')\n",
        "metadata.columns"
      ],
      "metadata": {
        "colab": {
          "base_uri": "https://localhost:8080/"
        },
        "id": "gmFYcueTtMAI",
        "outputId": "68b2bc2a-3567-4edd-dfd1-509048aca475"
      },
      "execution_count": 4,
      "outputs": [
        {
          "output_type": "execute_result",
          "data": {
            "text/plain": [
              "Index(['Unnamed: 0', 'level_0', 'index', 'category', 'joined', 'brand',\n",
              "       'product', 'shade', 'img_url', 'shade_description_original', 'id',\n",
              "       'validation', 'img_name'],\n",
              "      dtype='object')"
            ]
          },
          "metadata": {},
          "execution_count": 4
        }
      ]
    },
    {
      "cell_type": "code",
      "source": [
        "# List of cropped images\n",
        "folder_path = '/content/drive/MyDrive/data/processed/makeup_img_ground_truth'\n",
        "files = glob.glob(os.path.join(folder_path, '*'))  # List all files with full paths\n",
        "\n",
        "# The file names without the extension because some extensions changed when the image was cropped\n",
        "files = [os.path.splitext(os.path.basename(f))[0] for f in files]\n",
        "\n",
        "# Print a few filenames\n",
        "print(files[1:10])"
      ],
      "metadata": {
        "colab": {
          "base_uri": "https://localhost:8080/"
        },
        "id": "I5lywBUnwo5F",
        "outputId": "e111155d-9594-46d1-a986-4958bfa9f856"
      },
      "execution_count": 36,
      "outputs": [
        {
          "output_type": "stream",
          "name": "stdout",
          "text": [
            "['ulta250', 'ulta433', 's2427938-main-zoom', 'CF_PDP_Raunchy_swatch', 'juicypangwaterblusherCR01', 'Sunset', 'ulta8', 's2474427-av-04-zoom', 'ulta6']\n"
          ]
        }
      ]
    },
    {
      "cell_type": "code",
      "source": [
        "# ground truth dummy\n",
        "metadata['ground_truth'] = pd.Series(dtype='object')\n",
        "\n",
        "# checking if each image has a cropped version\n",
        "for i in range(len(metadata)):\n",
        "  if metadata['img_name'][i].split('.')[0] in files:\n",
        "    metadata.loc[i, 'ground_truth'] = 1\n",
        "  else:\n",
        "    metadata.loc[i, 'ground_truth'] = 0\n"
      ],
      "metadata": {
        "id": "NbiIKoAyw_Po"
      },
      "execution_count": 10,
      "outputs": []
    },
    {
      "cell_type": "markdown",
      "source": [
        "Below, we observe that 88.8% of the images in the dataset have a corresponding ground truth value. The remaining images lack ground truth values, but this is due to factors unrelated to the color itself, such as incomplete data (e.g., the image had the packaging but did not show the makeup color.) Therefore, the absence of ground truth for these images should not significantly impact the overall analysis, as it doesn't introduce any bias related to the color properties being studied."
      ],
      "metadata": {
        "id": "hLHkeLfy0bnS"
      }
    },
    {
      "cell_type": "code",
      "source": [
        "round(metadata.ground_truth.value_counts()/len(metadata)*100, 2)"
      ],
      "metadata": {
        "colab": {
          "base_uri": "https://localhost:8080/",
          "height": 178
        },
        "id": "ZUsd5y190Y9G",
        "outputId": "3f0a18ff-2969-4782-f0e8-0edf30565079"
      },
      "execution_count": 14,
      "outputs": [
        {
          "output_type": "execute_result",
          "data": {
            "text/plain": [
              "ground_truth\n",
              "1    88.8\n",
              "0    11.2\n",
              "Name: count, dtype: float64"
            ],
            "text/html": [
              "<div>\n",
              "<style scoped>\n",
              "    .dataframe tbody tr th:only-of-type {\n",
              "        vertical-align: middle;\n",
              "    }\n",
              "\n",
              "    .dataframe tbody tr th {\n",
              "        vertical-align: top;\n",
              "    }\n",
              "\n",
              "    .dataframe thead th {\n",
              "        text-align: right;\n",
              "    }\n",
              "</style>\n",
              "<table border=\"1\" class=\"dataframe\">\n",
              "  <thead>\n",
              "    <tr style=\"text-align: right;\">\n",
              "      <th></th>\n",
              "      <th>count</th>\n",
              "    </tr>\n",
              "    <tr>\n",
              "      <th>ground_truth</th>\n",
              "      <th></th>\n",
              "    </tr>\n",
              "  </thead>\n",
              "  <tbody>\n",
              "    <tr>\n",
              "      <th>1</th>\n",
              "      <td>88.8</td>\n",
              "    </tr>\n",
              "    <tr>\n",
              "      <th>0</th>\n",
              "      <td>11.2</td>\n",
              "    </tr>\n",
              "  </tbody>\n",
              "</table>\n",
              "</div><br><label><b>dtype:</b> float64</label>"
            ]
          },
          "metadata": {},
          "execution_count": 14
        }
      ]
    },
    {
      "cell_type": "markdown",
      "source": [
        "# Ground Truth CIELAB Color Value"
      ],
      "metadata": {
        "id": "lrAzjeLauEaz"
      }
    },
    {
      "cell_type": "code",
      "source": [
        "# store CIELAB color\n",
        "metadata['ground_truth_CIELAB'] = pd.Series(dtype='object')\n",
        "\n",
        "# extract color and save it for\n",
        "for i in range(len(metadata)):\n",
        "  if metadata['ground_truth'][i] == 1:\n",
        "    # load image\n",
        "    # file path\n",
        "    directory = '/content/drive/MyDrive/data/processed/makeup_img_ground_truth/'\n",
        "    filename = metadata['img_name'][i].split('.')[0]\n",
        "    file_path = glob.glob(os.path.join(directory, filename + '.*'))\n",
        "\n",
        "    # read image\n",
        "    swatch = cv2.imread(file_path[0])\n",
        "\n",
        "    # convert to Lab color space\n",
        "    swatch = cv2.cvtColor(swatch, cv2.COLOR_BGR2RGB)\n",
        "    img_lab = rgb2lab(swatch)\n",
        "\n",
        "    # extract the average\n",
        "    mean_swatch = img_lab.mean(axis=0).mean(axis=0)\n",
        "    metadata.at[i, 'ground_truth_CIELAB'] = mean_swatch"
      ],
      "metadata": {
        "id": "1kg3_n3HuIbe"
      },
      "execution_count": 32,
      "outputs": []
    },
    {
      "cell_type": "code",
      "source": [
        "metadata.ground_truth_CIELAB.info()"
      ],
      "metadata": {
        "colab": {
          "base_uri": "https://localhost:8080/"
        },
        "id": "Ss-5XFmp57bq",
        "outputId": "9335981c-5c1d-45cd-d2e7-a139e78d1a4f"
      },
      "execution_count": 34,
      "outputs": [
        {
          "output_type": "stream",
          "name": "stdout",
          "text": [
            "<class 'pandas.core.series.Series'>\n",
            "RangeIndex: 527 entries, 0 to 526\n",
            "Series name: ground_truth_CIELAB\n",
            "Non-Null Count  Dtype \n",
            "--------------  ----- \n",
            "468 non-null    object\n",
            "dtypes: object(1)\n",
            "memory usage: 4.2+ KB\n"
          ]
        }
      ]
    },
    {
      "cell_type": "code",
      "source": [
        "metadata.to_csv('/content/drive/My Drive/metadata_ground_truth.csv')"
      ],
      "metadata": {
        "id": "gu5JkZhf6CWb"
      },
      "execution_count": 35,
      "outputs": []
    }
  ]
}