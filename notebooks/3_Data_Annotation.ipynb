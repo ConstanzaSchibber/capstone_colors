{
  "nbformat": 4,
  "nbformat_minor": 0,
  "metadata": {
    "colab": {
      "provenance": [],
      "authorship_tag": "ABX9TyOyOQnzZ1VQ9SevPeNn2Ipx",
      "include_colab_link": true
    },
    "kernelspec": {
      "name": "python3",
      "display_name": "Python 3"
    },
    "language_info": {
      "name": "python"
    }
  },
  "cells": [
    {
      "cell_type": "markdown",
      "metadata": {
        "id": "view-in-github",
        "colab_type": "text"
      },
      "source": [
        "<a href=\"https://colab.research.google.com/github/ConstanzaSchibber/capstone_colors/blob/main/notebooks/3_Data_Annotation.ipynb\" target=\"_parent\"><img src=\"https://colab.research.google.com/assets/colab-badge.svg\" alt=\"Open In Colab\"/></a>"
      ]
    },
    {
      "cell_type": "markdown",
      "source": [
        "# Data Annotation: How to Validate Model Results?\n",
        "\n",
        "In this project, due to the absence of labeled data, I manually crop each image to focus solely on the makeup area—for instance, isolating just the lipstick in an image.\n",
        "\n",
        "In the notebook, the cropped section is then analyzed to determine the average CIELAB color, which serves as a close approximation to the 'ground truth' color. Data annotation is a necessary step to ensure accurate color analysis, as it allows for more precise comparison and evaluation of the results."
      ],
      "metadata": {
        "id": "0tLpL1EYqO1S"
      }
    },
    {
      "cell_type": "markdown",
      "source": [
        "# Libraries"
      ],
      "metadata": {
        "id": "jka9AtneqNwA"
      }
    },
    {
      "cell_type": "code",
      "execution_count": 2,
      "metadata": {
        "id": "iiDg7Igep3bY"
      },
      "outputs": [],
      "source": [
        "!pip freeze > requirements3.txt\n",
        "!pip list --format=freeze > requirements3.txt"
      ]
    },
    {
      "cell_type": "code",
      "source": [
        "import os\n",
        "import pandas as pd\n",
        "import matplotlib.pyplot as plt\n",
        "import seaborn as sns\n",
        "import glob\n",
        "from PIL import Image\n",
        "import numpy as np\n",
        "import cv2\n",
        "from skimage.color import rgb2lab, lab2rgb"
      ],
      "metadata": {
        "id": "HlWhxjVmqAtL"
      },
      "execution_count": 17,
      "outputs": []
    },
    {
      "cell_type": "markdown",
      "source": [
        "# Reading Data & Identifying Images with a Ground Truth Color Value"
      ],
      "metadata": {
        "id": "lRlrAonjs6K-"
      }
    },
    {
      "cell_type": "code",
      "source": [
        "# Mount Drive\n",
        "from google.colab import drive\n",
        "\n",
        "# Mount Google Drive to access files stored there\n",
        "# The 'force_remount=True' option ensures that the drive is remounted even if it is already mounted\n",
        "drive.mount('/content/drive', force_remount=True)"
      ],
      "metadata": {
        "colab": {
          "base_uri": "https://localhost:8080/"
        },
        "id": "kw0d1-kZs8RF",
        "outputId": "6d79992d-5761-4eb9-e39a-eb96ca4ed438"
      },
      "execution_count": 1,
      "outputs": [
        {
          "output_type": "stream",
          "name": "stdout",
          "text": [
            "Mounted at /content/drive\n"
          ]
        }
      ]
    },
    {
      "cell_type": "markdown",
      "source": [
        "I was not able to get the makeup color from all of the images because a number of images showed the container without the color of the actual makeup (e.g., lipstick). Thus, a small number of images will not have ground truth value.\n",
        "\n",
        "To identify the data with ground truth value, I create a new variable in the metadata indicating coded 1 if there is a ground truth value and 0 if there is not. To do so, I use the list of cropped image files."
      ],
      "metadata": {
        "id": "sPHptP1TtPyD"
      }
    },
    {
      "cell_type": "code",
      "source": [
        "# Metadata\n",
        "metadata = pd.read_csv('/content/drive/MyDrive/data/processed/data_1.csv')\n",
        "metadata.columns"
      ],
      "metadata": {
        "colab": {
          "base_uri": "https://localhost:8080/"
        },
        "id": "gmFYcueTtMAI",
        "outputId": "68b2bc2a-3567-4edd-dfd1-509048aca475"
      },
      "execution_count": 4,
      "outputs": [
        {
          "output_type": "execute_result",
          "data": {
            "text/plain": [
              "Index(['Unnamed: 0', 'level_0', 'index', 'category', 'joined', 'brand',\n",
              "       'product', 'shade', 'img_url', 'shade_description_original', 'id',\n",
              "       'validation', 'img_name'],\n",
              "      dtype='object')"
            ]
          },
          "metadata": {},
          "execution_count": 4
        }
      ]
    },
    {
      "cell_type": "code",
      "source": [
        "# List of cropped images\n",
        "folder_path = '/content/drive/MyDrive/data/processed/makeup_img_ground_truth'\n",
        "files = glob.glob(os.path.join(folder_path, '*'))  # List all files with full paths\n",
        "\n",
        "# The file names without the extension because some extensions changed when the image was cropped\n",
        "files = [os.path.splitext(os.path.basename(f))[0] for f in files]\n",
        "\n",
        "print(files)"
      ],
      "metadata": {
        "colab": {
          "base_uri": "https://localhost:8080/"
        },
        "id": "I5lywBUnwo5F",
        "outputId": "524d3a48-647d-4a02-fa7e-5623619fb890"
      },
      "execution_count": 6,
      "outputs": [
        {
          "output_type": "stream",
          "name": "stdout",
          "text": [
            "['ulta232', 'ulta250', 'ulta433', 's2427938-main-zoom', 'CF_PDP_Raunchy_swatch', 'juicypangwaterblusherCR01', 'Sunset', 'ulta8', 's2474427-av-04-zoom', 'ulta6', 'Product5_540x', 'ulta14', '00000000_zi_dcd6941f-7cfd-4fc8-99ef-84dad24047f0__02_ai', 'ulta7', 's2410009-main-zoom', '71dCGKXNjwL', 'BOUNCE_Blush_PlayfulPeach_Swatch_v1_RGB', 'ulta13', 'LiquidBlushLip_Tempo_1024x1024', 'CHEEK-GELEE_SWATCH_Lively_1200x', 's2115871-main-zoom', 'CHEEK_SHADE_SMITTEN_Elephant_copy_1', '4LyjpbQeBAGrzzEpwZZs', 'Morning-Vibes-PPB-Target-Pre-Fall-Half-Closed_800x1200', 'ulta23', '0a1c6623-93fb-4e6e-a940-c7ddda5d0949', 'Poppi-Instant-Crush-Matte-Blush-Inline-Half-Closed', 'ulta25', 'Watercolour-Liquid-Blush-Angel-3', 'Wish-Me-Luck-PPB-Target-Pre-Fall-Half-Closed_800x1200', 'fresh-n-peachy_2_800x1200', 'ulta30', 'Watercolour-Liquid-Blush-Crush-3', 'Watercolour-Liquid-Illuminator-Elegance-3', 'Watercolour-Liquid-Blush-Gentle-3', 'Watercolour-Liquid-Blush-Caress-3', 'Watercolour-Liquid-Blush-Chelsea-3', 'Watercolour-Liquid-Blush-Glamour-3', 'Watercolour-Liquid-Illuminator-Grace-3', '83747_SWATCH_V4_R', 'BLUSHSWATCH_TAKEMETOTHEPEACH_720x', 'ulta42', 's2760957-main-zoom', 'FB30004_FB3047_smear_650x', 'ulta45', 's2700961-av-2-zoom', 'flower_pdp_face_blush-bomb-color-drops_alt-img_swatches_spiced_720x', 'ulta50', 's2199479-main-zoom', 's2649382-av-9-zoom', 'COLOR_CORAL_PEACH_SMEAR', 'Glowish-Blush-Texture-01HealthyPeach', 'ulta55', 'Hourglass_VanishBlushStick_Sacred_Swatch_1800x1800', 'LOTTSOFLOVE_700x', 'PPBlush_Swatch_VelvetPetal_PDP_2000x', 'ulta68', 's2288447-av-01-zoom', 's2289270-av-01-zoom', 'ulta61', 'ulta63', 'ulta65', 'ulta64', 'mac-cinderella-iridescent-powder', 'ulta70', 'mac_sku_M22017_1x1_4', 'Higher_Standards_Open_CLASSY___Swatch_300dpi', '15135905_fpx', 'mac_sku_M4RM18_640x600_0', 'mac_sku_M4RM07_640x600_0', 'mac_sku_M4RM10_640x600_0', 's1972645-main-zoom', '1105613_2', 'manasi-7-all-over-colour-densuke-002_1800x', 'ulta81', 's2229565-main-zoom', 'ulta79', 's2743763-av-2-zoom', 'NABL0176F_1', 's2328870-main-zoom', 's652347-main-zoom', 's2756344-av-1-zoom', 's2417699-av-01-zoom', 's1909571-main-zoom', 's1897917-main-zoom', 'ulta90', 's2742567-av-1-zoom', 's2281764-main-zoom', '0730852148871', 'Bloom_swatch2_1000x', 's2354140-av-02-zoom', 'ulta102', 'ulta106', 'ulta107', 'ulta108', 'Surratt-Artistique-Blush-Angelique-SB016-09_02_4e1741da-8952-43de-b01d-d9a70b6a9536', 'Surratt-Artistique-Blush-Peau-De-Peche-SB016-19_02_d850a8fb-95c5-4e04-8c07-aee76e092e61', 's1604917-main-zoom', 's2475002-main-zoom', 's2436665-main-zoom', 'ulta115', 'rougestick-power-swatch', '500082_Supernatural-StickBlush_Nude_20Peach_Swatch', 'ulta118', 'ulta122', 's2747301-av-2-zoom', 's2434124-main-zoom', 'ulta124', 's2519254-av-01-zoom', 's1875327-main-zoom', 'c46b3c60-9f38-4786-b560-626b869a87d6', 'ulta128', 'Runway-Royalty-1-Packshot', 'ulta129', 's2458933-av-07-zoom', 'glow-kiss-packshot', 'SCL001-Wonderwand-Lipstick-Swatch-Dreamer', 'Bali', 's2116879-main-zoom', 's1674787-main-zoom', 'el_sku_GRFX49_640x640_1', 's2244119-main-zoom', '51Q26ohDHSL', 'el_sku_GRRC01_640x640_0', 'ulta141', 'Emolyne_Lipstick_Fes_02-scaled-1440x1912', 'el_sku_G7YA07_640x640_1', 'el_sku_GRFW22_640x640_1', '0_GenG_Cake', 'el_sku_GRFW01_640x640_1', 'uglvaewA_PeachMatte_1534x', 's2738839-av-2-zoom', 'ulta152', 's2327336-main-zoom', 'ulta153', '11-3Liquid-Lipstick-Swatch-Gemini-WebResize_29e1729b-2c7a-412b-99a6-1c2462bb506b', 'ulta158', 's2699098-av-19-zoom', 'ulta159', 'ulta160', 'ulta163', 's2312502-main-zoom', 's2759835-av-9-zoom', 's2229300-main-zoom', 'MatteLiquidLip_PDP_HERO_PEPTALK_88437223-6abe-4bc5-94b4-4a4dc14d64cc_1400x@2x', 's2169290-main-zoom', 's2243244-main-zoom', 'Nudestix-MagneticMatte-Eye-SunsetPeach-2_5ad91f84-1554-4b97-9117-b28d8b4764ba', '61kHKIj62nS', 'PMG_LIPFETISH_SMEAR_SHEER_PASSION_FLOWER_LABEL', 'PMG_LIPS_LIQUILUST_NUDECABARET_SMEAR_LABELED_0adc6a5f-1a7c-4284-99d2-e8040cfab0b9', 'Swatch_June_700x', 'swatch-praise', 'ulta174', 'ulta175', 'Destined', 'Narcissus-Enchanted-Lip-Sheer-Swirl--2000px', 's2066355-main-zoom', 's1990019-main-zoom', 'Infinity_Point_Lipstick_Peach_Tea_00004', 's2140754-main-zoom', 's2633857-av-7-zoom', 's2304236-main-zoom', 'SOSHE_CeramideLipSilk_Swatch_02_Withlove_1346x', 'Stay-All-Day-Liquid-Lipstick---Romanza-_SWATCH', 'ulta189', '02PeachyKinda_24a39db8-14fb-450e-b88b-13dcb476f5ad', '888066010719_1', '6-12-peachy_keen_transparent_hi_res', 's2541761-av-25-zoom', 'BLT_AMOUR_SWATCH', 'p_550x550', 'zoeva-powerful-lip-twist-hestia-swatch', 'zoeva-velvet-love-matte-hyaluronic-long-lasting-lipstick-parda', '41LRscZYcaL', 's2567857-av-2-zoom', 's2675676-av-3-zoom', 's1755644-main-zoom', 'ulta204', 'hlg003_vega-swatch', 'ulta207', 'ulta210', 'ulta206', 'ulta208', 'ulta209', 'ulta212', 'ulta215', 'ulta211', 's1143262-main-zoom', 'ulta214', 's2351633-main-zoom', 's2245082-main-zoom', '200113-code-8-417-gloss-cap-off-copy', 'ulta219', 'PLAYFUL-SW_1024x1024@2x', 'ulta220', 's2200616-main-zoom', 's2217032-main-zoom', 's2297810-main-zoom', 'LM_SP22_LipGlace_CherryBlossom_TX_2000x2000_R72', 's2325967-main-zoom', 'ulta229', 'ulta231', 'ulta230', 'ulta233', 'ulta146', 'ulta103', 'ulta109', 'chameleon-blush-4g', 'Truly-Liquid-Blush', 'ollie-need-is-love-blush-10g', 'ulta17', 'ulta12.jpg', '1CBM_Fruit_Pigmented_Blush_Mauvette_Swatch_1260x', '22e8f1ed-b8eb-4ed0-b818-09ecebf14fa7', '31qsJEbvH3L', '71gfYSJTcgL', '71iwX-0I+YL', '81cgYfnAcGL', '91iTrFsBH+L', '518frXl5+vL', '611zD5P5xrL', '1080_2024_PDPs_Lip_Oil_All-Heart_282', '20676_1', '1054021_MF_Lipstick_Inspire_840187703697_w_pack_1200x1200', '8960839', '13323809-1664908327245316', '6810500300882-Flirt-Alert-PPBlushCompact-FlirtAlert-3', 'Apricot-Dream-Lipgloss', 'AxiologyMultistick-2-Cream_Joy_web_95199c0a-03f8-403f-b682-db09c7998457_990x', 'bb_sku_E80E34_1x1_1', 'bb_sku_E80E41_1x1_1', 'BellaLS_Badge_480x', 'Blush_Shade_Chart-Moddy_Mauve', 'BOUNCE_Blush_FlirtyRose_Swatch_v1_RGB', 'Bounce-and-Blur-Powder-Blush-Pink-Sky-by-bareMinerals-for-Women-0-19-oz-Blush_c66d2de7-48c7-47ab-8756-24c7eb1c2942', 'CF-NUDEGLAZES-CUPCAKE-1200_ecd7471e-632a-463d-90a8-426ec546c6a9_1200x', 'chill-pink', 'COLORFIXMATTE-ALLURE-CREMEBRULEE_7196f09c-7a4b-4a8a-94d0-8ef10c6d8a59', 'Cool-BFF-Lippie-Pencil-Macro', 'el_sku_G39702_640x640_1', 'el_sku_GRFW05_640x640_1', 'el_sku_GRFW15_640x640_1', 'el_sku_GRFW16_640x640_1', 'el_sku_PKTJ13_640x640_1', 'el_sku_PKTJ16_640x640_1', 'el_sku_R8FC17_640x640_1', 'Fearlesslipglosswithaward_590x', 'Infinity_Point_Lipstick_Deja_vu_00002', 'JonesRoad_LipAndCheeck_MauveRose_01', 'KJC_LLPRP_23_Cappuccino_Swatch_800x', 'Lip_Definer_01_105012_02_940x940__1___1', 'LipStick_RedChina_Swatch_web_compact', 'LipVapour_MoonlitMauve_Swatch_web_compact', 'Liquid_Lipstick_New_Mod_00001', 'Loyal-Liquid-Blush', 'mac_sku_S4W907_640x600_0', 'mac_sku_SK5HAL_640x600_0', 'MAKE_PDP_Swatches_MysticMauve_1090x1244', 'manasi-7-all-over-colour-sisserou-002_1800x', 'MatteLiquidLip_PDP_2_JEALOUSY_1400x@2x', 'MOB_SWATCH_MLS-shade1', 'Morphe-2024-Huephoric-Shades-Intoxicated', 'NEEN_GOING_ROUGE_CREAM_CHEEK_LIP_GEM_HERO_800x800_crop_center', 'NEEN_GOING_ROUGE_CREAM_CHEEK_LIP_GO_HERO_800x800_crop_center', 'NotYourBaby', 'ogee_lipstick_amnesia-_1_750x', 'OGEE-LIPOIL-SWATCH-MAGNOLIA-8_750x', 'PDP-2048x2048-LIPGLAZE-Angelica-swatch', 'pillow_plush_blush_open_tickled', 's1687300-main-zoom', 's1687458-main-zoom', 's1687474-main-zoom', 's1691278-main-zoom', 's1691328-main-zoom', 's1777267-main-zoom', 's1787167-main-zoom', 's1845700-main-zoom', 's1787209-main-zoom', 's1845718-main-zoom', 's1845726-main-zoom', 's1892975-main-zoom', 's1899517-main-zoom', 's1900521-main-zoom', 's1928399-main-zoom', 's1950120-main-zoom', 's1969492-main-zoom', 's1972116-main-zoom', 's1974823-main-zoom', 's2029494-main-zoom', 's2037745-main-zoom', 's2040541-main-zoom', 's2066256-main-zoom', 's2067437-main-zoom', 's2067460-main-zoom', 's2067478-main-zoom', 's2139871-main-zoom', 's2152965-main-zoom', 's2169308-main-zoom', 's2169332-main-zoom', 's2177152-main-zoom', 's2178309-main-zoom', 's2185528-main-zoom', 's2185882-main-zoom', 's2187979-main-zoom', 's2195923-main-zoom', 's2197671-main-zoom', 's2199974-main-zoom', 's2216349-main-zoom', 's2216356-main-zoom', 's2216539-main-zoom', 's2216570-main-zoom', 's2221299-main-zoom', 's2226710-main-zoom', 's2226736-main-zoom', 's2228781-main-zoom', 's2237733-main-zoom', 's2243194-main-zoom', 's2243285-main-zoom', 's2243400-main-zoom', 's2256121-main-zoom', 's2256329-main-zoom', 's2259695-main-zoom', 's2297018-main-zoom', 's2297760-main-zoom', 's2304186-main-zoom', 's2312528-main-zoom', 's2312882-main-zoom', 's2327344-main-zoom', 's2337582-main-zoom', 's2340529-main-zoom', 's2352730-main-zoom', 's2354116-main-zoom', 's2372480-main-zoom', 's2379501-main-zoom', 's2418606-main-zoom', 's2418655-av-14-zoom', 's2426732-main-zoom', 's2451532-main-zoom', 's2593804-main-zoom', 's2629400-av-5-zoom', 's2690618-av-2-zoom', 's2744712-av-3-zoom', 's2748325-main-zoom', 'SADSheerAzalea-Swatch', 'Shaken-Flexi-Slick-Alt-swatch', 'ShineOn_20Sesame', 'SL_SWATCH_723031b1-0450-4364-8d01-a757c7536115_800x_crop_top', 'st_1024x1024', 'SUMR-WU46_V2', 'Swatch_SpaDay_1200x', 'ulta235', 'ulta237', 'ulta238', 'ulta251', 'ulta253', 'ulta256', 'ulta257', 'ulta259', 'ulta260', 'ulta262', 'ulta263', 'ulta267', 'ulta279', 'ulta287', 'ulta292', 'ulta297', 'ulta304', 'ulta306', 'ulta313', 'ulta314', 'ulta315', 'ulta317', 'ulta330', 'ulta334', 'ulta331', 'ulta335', 'ulta336', 'ulta340', 'ulta342', 'ulta343', 'ulta344', 'ulta345', 'ulta346', 'ulta347', 'ulta351', 'ulta352', 'ulta353', 'ulta354', 'ulta355', 'ulta357', 'ulta360', 'ulta363', 'ulta364', 'ulta361', 'ulta365', 'ulta366', 'ulta367', 'ulta371', 'ulta372', 'ulta380', 'ulta387', 'ulta388', 'ulta390', 'ulta396', 'ulta397', 'ulta398', 'ulta399', 'ulta402', 'ulta403', 'ulta407', 'ulta415', 'ulta416', 'ulta420', 'ulta421', 'ulta422', 'ulta427', 'ulta430', 'ulta446', 'ulta450', 'ulta451', 'ulta452', 'ulta453', 'ulta454', 'ulta456', 'ulta460', 'ulta462', 'ulta467', 'ulta468', 'ulta469', 'ulta471', 'ulta472', 'ulta474', 'ulta475', 'ulta476', 'ulta483', 'ulta484', 'ulta485', 'ulta487', 'ulta488', 'ulta489', 'ulta490', 'ulta494', 'ulta499', 'ulta500', 'ulta501', 'ulta502', 'ulta503', 'ulta505', 'ulta510', 'ulta511', 'ulta512', 'ulta515', 'ulta523', 'ulta524', 'ulta525', 'Whisperlipglosswithaward_590x', 'zb_p', 's2417640-av-01-zoom', 's2414050-main-zoom', 's2411106-main-zoom', 's2411072-main-zoom', 's2411056-main-zoom', 's2411015-main-zoom', 's2409902-main-zoom', 's2399293-main-zoom', 's1498641-main-zoom']\n"
          ]
        }
      ]
    },
    {
      "cell_type": "code",
      "source": [
        "metadata['img_name'][0].split('.')[0]"
      ],
      "metadata": {
        "colab": {
          "base_uri": "https://localhost:8080/",
          "height": 35
        },
        "id": "u1NlQ43i0Lqs",
        "outputId": "de71a602-19cc-4de8-f69c-232ae069a874"
      },
      "execution_count": 8,
      "outputs": [
        {
          "output_type": "execute_result",
          "data": {
            "text/plain": [
              "'Sunset'"
            ],
            "application/vnd.google.colaboratory.intrinsic+json": {
              "type": "string"
            }
          },
          "metadata": {},
          "execution_count": 8
        }
      ]
    },
    {
      "cell_type": "code",
      "source": [
        "# ground truth dummy\n",
        "metadata['ground_truth'] = pd.Series(dtype='object')\n",
        "\n",
        "# checking if each image has a cropped version\n",
        "for i in range(len(metadata)):\n",
        "  if metadata['img_name'][i].split('.')[0] in files:\n",
        "    metadata.loc[i, 'ground_truth'] = 1\n",
        "  else:\n",
        "    metadata.loc[i, 'ground_truth'] = 0\n"
      ],
      "metadata": {
        "id": "NbiIKoAyw_Po"
      },
      "execution_count": 10,
      "outputs": []
    },
    {
      "cell_type": "markdown",
      "source": [
        "Below, we observe that 88.8% of the images in the dataset have a corresponding ground truth value. The remaining images lack ground truth values, but this is due to factors unrelated to the color itself, such as incomplete data (e.g., the image had the packaging but did not show the makeup color.) Therefore, the absence of ground truth for these images should not significantly impact the overall analysis, as it doesn't introduce any bias related to the color properties being studied."
      ],
      "metadata": {
        "id": "hLHkeLfy0bnS"
      }
    },
    {
      "cell_type": "code",
      "source": [
        "round(metadata.ground_truth.value_counts()/len(metadata)*100, 2)"
      ],
      "metadata": {
        "colab": {
          "base_uri": "https://localhost:8080/",
          "height": 178
        },
        "id": "ZUsd5y190Y9G",
        "outputId": "3f0a18ff-2969-4782-f0e8-0edf30565079"
      },
      "execution_count": 14,
      "outputs": [
        {
          "output_type": "execute_result",
          "data": {
            "text/plain": [
              "ground_truth\n",
              "1    88.8\n",
              "0    11.2\n",
              "Name: count, dtype: float64"
            ],
            "text/html": [
              "<div>\n",
              "<style scoped>\n",
              "    .dataframe tbody tr th:only-of-type {\n",
              "        vertical-align: middle;\n",
              "    }\n",
              "\n",
              "    .dataframe tbody tr th {\n",
              "        vertical-align: top;\n",
              "    }\n",
              "\n",
              "    .dataframe thead th {\n",
              "        text-align: right;\n",
              "    }\n",
              "</style>\n",
              "<table border=\"1\" class=\"dataframe\">\n",
              "  <thead>\n",
              "    <tr style=\"text-align: right;\">\n",
              "      <th></th>\n",
              "      <th>count</th>\n",
              "    </tr>\n",
              "    <tr>\n",
              "      <th>ground_truth</th>\n",
              "      <th></th>\n",
              "    </tr>\n",
              "  </thead>\n",
              "  <tbody>\n",
              "    <tr>\n",
              "      <th>1</th>\n",
              "      <td>88.8</td>\n",
              "    </tr>\n",
              "    <tr>\n",
              "      <th>0</th>\n",
              "      <td>11.2</td>\n",
              "    </tr>\n",
              "  </tbody>\n",
              "</table>\n",
              "</div><br><label><b>dtype:</b> float64</label>"
            ]
          },
          "metadata": {},
          "execution_count": 14
        }
      ]
    },
    {
      "cell_type": "markdown",
      "source": [
        "# Ground Truth CIELAB Color Value"
      ],
      "metadata": {
        "id": "lrAzjeLauEaz"
      }
    },
    {
      "cell_type": "code",
      "source": [
        "# store CIELAB color\n",
        "metadata['ground_truth_CIELAB'] = pd.Series(dtype='object')\n",
        "\n",
        "# extract color and save it for\n",
        "for i in range(len(metadata)):\n",
        "  if metadata['ground_truth'][i] == 1:\n",
        "    # load image\n",
        "    # file path\n",
        "    directory = '/content/drive/MyDrive/data/processed/makeup_img_ground_truth/'\n",
        "    filename = metadata['img_name'][i].split('.')[0]\n",
        "    file_path = glob.glob(os.path.join(directory, filename + '.*'))\n",
        "\n",
        "    # read image\n",
        "    swatch = cv2.imread(file_path[0])\n",
        "\n",
        "    # convert to Lab color space\n",
        "    swatch = cv2.cvtColor(swatch, cv2.COLOR_BGR2RGB)\n",
        "    img_lab = rgb2lab(swatch)\n",
        "\n",
        "    # extract the average\n",
        "    mean_swatch = img_lab.mean(axis=0).mean(axis=0)\n",
        "    metadata.at[i, 'ground_truth_CIELAB'] = mean_swatch"
      ],
      "metadata": {
        "id": "1kg3_n3HuIbe"
      },
      "execution_count": 32,
      "outputs": []
    },
    {
      "cell_type": "code",
      "source": [
        "metadata.ground_truth_CIELAB.info()"
      ],
      "metadata": {
        "colab": {
          "base_uri": "https://localhost:8080/"
        },
        "id": "Ss-5XFmp57bq",
        "outputId": "9335981c-5c1d-45cd-d2e7-a139e78d1a4f"
      },
      "execution_count": 34,
      "outputs": [
        {
          "output_type": "stream",
          "name": "stdout",
          "text": [
            "<class 'pandas.core.series.Series'>\n",
            "RangeIndex: 527 entries, 0 to 526\n",
            "Series name: ground_truth_CIELAB\n",
            "Non-Null Count  Dtype \n",
            "--------------  ----- \n",
            "468 non-null    object\n",
            "dtypes: object(1)\n",
            "memory usage: 4.2+ KB\n"
          ]
        }
      ]
    },
    {
      "cell_type": "code",
      "source": [
        "metadata.to_csv('/content/drive/My Drive/metadata_ground_truth.csv')"
      ],
      "metadata": {
        "id": "gu5JkZhf6CWb"
      },
      "execution_count": 35,
      "outputs": []
    }
  ]
}