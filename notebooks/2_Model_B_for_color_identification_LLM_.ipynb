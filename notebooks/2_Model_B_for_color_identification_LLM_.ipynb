{
  "nbformat": 4,
  "nbformat_minor": 0,
  "metadata": {
    "colab": {
      "provenance": [],
      "authorship_tag": "ABX9TyPnVjMNYy1pM8sfwk3+sZxH",
      "include_colab_link": true
    },
    "kernelspec": {
      "name": "python3",
      "display_name": "Python 3"
    },
    "language_info": {
      "name": "python"
    }
  },
  "cells": [
    {
      "cell_type": "markdown",
      "metadata": {
        "id": "view-in-github",
        "colab_type": "text"
      },
      "source": [
        "<a href=\"https://colab.research.google.com/github/ConstanzaSchibber/capstone_colors/blob/main/notebooks/2_Model_B_for_color_identification_LLM_.ipynb\" target=\"_parent\"><img src=\"https://colab.research.google.com/assets/colab-badge.svg\" alt=\"Open In Colab\"/></a>"
      ]
    },
    {
      "cell_type": "markdown",
      "source": [
        "# Model B: Identifying CIELAB Shade with Multimodal Large Language Model `Claude`\n",
        "\n",
        "This notebook demonstrates the use of Claude, a multimodal large language model, to identify and analyze the CIELAB color values of makeup shades from images. CIELAB is a color space that closely represents human vision, making it ideal for precise color analysis in the cosmetics industry.\n",
        "\n",
        "We'll explore how Claude can:\n",
        "\n",
        "1. Process and interpret images of makeup products\n",
        "2. Estimate CIELAB color values for lipsticks, blush, and other cosmetics\n",
        "3. Provide color analysis and descriptions\n",
        "\n",
        "This approach combines advanced computer vision capabilities with natural language processing, offering a powerful tool for color matching and product development in the beauty industry."
      ],
      "metadata": {
        "id": "fW1WCXA_Yiqv"
      }
    },
    {
      "cell_type": "markdown",
      "source": [
        "# Libraries"
      ],
      "metadata": {
        "id": "Ib7c9sihdyqt"
      }
    },
    {
      "cell_type": "code",
      "source": [
        "from IPython.display import Image"
      ],
      "metadata": {
        "id": "uCNQGOdR6bKz"
      },
      "execution_count": null,
      "outputs": []
    },
    {
      "cell_type": "code",
      "source": [
        "import cv2\n",
        "import numpy as np\n",
        "import pandas as pd\n",
        "import glob\n",
        "from PIL import Image\n",
        "import time"
      ],
      "metadata": {
        "id": "A-0OyKls_hGA"
      },
      "execution_count": null,
      "outputs": []
    },
    {
      "cell_type": "code",
      "execution_count": null,
      "metadata": {
        "colab": {
          "base_uri": "https://localhost:8080/"
        },
        "id": "JD_uQEF01G_h",
        "outputId": "4b5c20fd-ec80-4dea-f8ce-5b3f0e74381f"
      },
      "outputs": [
        {
          "output_type": "stream",
          "name": "stdout",
          "text": [
            "Collecting anthropic\n",
            "  Downloading anthropic-0.34.1-py3-none-any.whl.metadata (18 kB)\n",
            "Requirement already satisfied: anyio<5,>=3.5.0 in /usr/local/lib/python3.10/dist-packages (from anthropic) (3.7.1)\n",
            "Requirement already satisfied: distro<2,>=1.7.0 in /usr/lib/python3/dist-packages (from anthropic) (1.7.0)\n",
            "Collecting httpx<1,>=0.23.0 (from anthropic)\n",
            "  Downloading httpx-0.27.0-py3-none-any.whl.metadata (7.2 kB)\n",
            "Collecting jiter<1,>=0.4.0 (from anthropic)\n",
            "  Downloading jiter-0.5.0-cp310-cp310-manylinux_2_17_x86_64.manylinux2014_x86_64.whl.metadata (3.6 kB)\n",
            "Requirement already satisfied: pydantic<3,>=1.9.0 in /usr/local/lib/python3.10/dist-packages (from anthropic) (2.8.2)\n",
            "Requirement already satisfied: sniffio in /usr/local/lib/python3.10/dist-packages (from anthropic) (1.3.1)\n",
            "Requirement already satisfied: tokenizers>=0.13.0 in /usr/local/lib/python3.10/dist-packages (from anthropic) (0.19.1)\n",
            "Requirement already satisfied: typing-extensions<5,>=4.7 in /usr/local/lib/python3.10/dist-packages (from anthropic) (4.12.2)\n",
            "Requirement already satisfied: idna>=2.8 in /usr/local/lib/python3.10/dist-packages (from anyio<5,>=3.5.0->anthropic) (3.7)\n",
            "Requirement already satisfied: exceptiongroup in /usr/local/lib/python3.10/dist-packages (from anyio<5,>=3.5.0->anthropic) (1.2.2)\n",
            "Requirement already satisfied: certifi in /usr/local/lib/python3.10/dist-packages (from httpx<1,>=0.23.0->anthropic) (2024.7.4)\n",
            "Collecting httpcore==1.* (from httpx<1,>=0.23.0->anthropic)\n",
            "  Downloading httpcore-1.0.5-py3-none-any.whl.metadata (20 kB)\n",
            "Collecting h11<0.15,>=0.13 (from httpcore==1.*->httpx<1,>=0.23.0->anthropic)\n",
            "  Downloading h11-0.14.0-py3-none-any.whl.metadata (8.2 kB)\n",
            "Requirement already satisfied: annotated-types>=0.4.0 in /usr/local/lib/python3.10/dist-packages (from pydantic<3,>=1.9.0->anthropic) (0.7.0)\n",
            "Requirement already satisfied: pydantic-core==2.20.1 in /usr/local/lib/python3.10/dist-packages (from pydantic<3,>=1.9.0->anthropic) (2.20.1)\n",
            "Requirement already satisfied: huggingface-hub<1.0,>=0.16.4 in /usr/local/lib/python3.10/dist-packages (from tokenizers>=0.13.0->anthropic) (0.23.5)\n",
            "Requirement already satisfied: filelock in /usr/local/lib/python3.10/dist-packages (from huggingface-hub<1.0,>=0.16.4->tokenizers>=0.13.0->anthropic) (3.15.4)\n",
            "Requirement already satisfied: fsspec>=2023.5.0 in /usr/local/lib/python3.10/dist-packages (from huggingface-hub<1.0,>=0.16.4->tokenizers>=0.13.0->anthropic) (2024.6.1)\n",
            "Requirement already satisfied: packaging>=20.9 in /usr/local/lib/python3.10/dist-packages (from huggingface-hub<1.0,>=0.16.4->tokenizers>=0.13.0->anthropic) (24.1)\n",
            "Requirement already satisfied: pyyaml>=5.1 in /usr/local/lib/python3.10/dist-packages (from huggingface-hub<1.0,>=0.16.4->tokenizers>=0.13.0->anthropic) (6.0.2)\n",
            "Requirement already satisfied: requests in /usr/local/lib/python3.10/dist-packages (from huggingface-hub<1.0,>=0.16.4->tokenizers>=0.13.0->anthropic) (2.32.3)\n",
            "Requirement already satisfied: tqdm>=4.42.1 in /usr/local/lib/python3.10/dist-packages (from huggingface-hub<1.0,>=0.16.4->tokenizers>=0.13.0->anthropic) (4.66.5)\n",
            "Requirement already satisfied: charset-normalizer<4,>=2 in /usr/local/lib/python3.10/dist-packages (from requests->huggingface-hub<1.0,>=0.16.4->tokenizers>=0.13.0->anthropic) (3.3.2)\n",
            "Requirement already satisfied: urllib3<3,>=1.21.1 in /usr/local/lib/python3.10/dist-packages (from requests->huggingface-hub<1.0,>=0.16.4->tokenizers>=0.13.0->anthropic) (2.0.7)\n",
            "Downloading anthropic-0.34.1-py3-none-any.whl (891 kB)\n",
            "\u001b[2K   \u001b[90m━━━━━━━━━━━━━━━━━━━━━━━━━━━━━━━━━━━━━━━━\u001b[0m \u001b[32m891.5/891.5 kB\u001b[0m \u001b[31m13.0 MB/s\u001b[0m eta \u001b[36m0:00:00\u001b[0m\n",
            "\u001b[?25hDownloading httpx-0.27.0-py3-none-any.whl (75 kB)\n",
            "\u001b[2K   \u001b[90m━━━━━━━━━━━━━━━━━━━━━━━━━━━━━━━━━━━━━━━━\u001b[0m \u001b[32m75.6/75.6 kB\u001b[0m \u001b[31m4.1 MB/s\u001b[0m eta \u001b[36m0:00:00\u001b[0m\n",
            "\u001b[?25hDownloading httpcore-1.0.5-py3-none-any.whl (77 kB)\n",
            "\u001b[2K   \u001b[90m━━━━━━━━━━━━━━━━━━━━━━━━━━━━━━━━━━━━━━━━\u001b[0m \u001b[32m77.9/77.9 kB\u001b[0m \u001b[31m3.7 MB/s\u001b[0m eta \u001b[36m0:00:00\u001b[0m\n",
            "\u001b[?25hDownloading jiter-0.5.0-cp310-cp310-manylinux_2_17_x86_64.manylinux2014_x86_64.whl (318 kB)\n",
            "\u001b[2K   \u001b[90m━━━━━━━━━━━━━━━━━━━━━━━━━━━━━━━━━━━━━━━━\u001b[0m \u001b[32m318.9/318.9 kB\u001b[0m \u001b[31m16.8 MB/s\u001b[0m eta \u001b[36m0:00:00\u001b[0m\n",
            "\u001b[?25hDownloading h11-0.14.0-py3-none-any.whl (58 kB)\n",
            "\u001b[2K   \u001b[90m━━━━━━━━━━━━━━━━━━━━━━━━━━━━━━━━━━━━━━━━\u001b[0m \u001b[32m58.3/58.3 kB\u001b[0m \u001b[31m3.5 MB/s\u001b[0m eta \u001b[36m0:00:00\u001b[0m\n",
            "\u001b[?25hInstalling collected packages: jiter, h11, httpcore, httpx, anthropic\n",
            "Successfully installed anthropic-0.34.1 h11-0.14.0 httpcore-1.0.5 httpx-0.27.0 jiter-0.5.0\n"
          ]
        }
      ],
      "source": [
        "!pip install anthropic"
      ]
    },
    {
      "cell_type": "code",
      "source": [
        "import anthropic\n",
        "import os"
      ],
      "metadata": {
        "id": "O09rDjS31YJu"
      },
      "execution_count": null,
      "outputs": []
    },
    {
      "cell_type": "code",
      "source": [
        "import base64\n",
        "import requests\n",
        "import os\n",
        "from PIL import Image\n",
        "from io import BytesIO"
      ],
      "metadata": {
        "id": "0Lk8yDWJFJGn"
      },
      "execution_count": null,
      "outputs": []
    },
    {
      "cell_type": "code",
      "source": [
        "import matplotlib.pyplot as plt"
      ],
      "metadata": {
        "id": "4h3OZj7ndiMl"
      },
      "execution_count": null,
      "outputs": []
    },
    {
      "cell_type": "code",
      "source": [
        "from google.colab import drive\n",
        "\n",
        "# Mount Google Drive to access files stored there\n",
        "# The 'force_remount=True' option ensures that the drive is remounted even if it is already mounted\n",
        "drive.mount('/content/drive', force_remount=True)"
      ],
      "metadata": {
        "colab": {
          "base_uri": "https://localhost:8080/"
        },
        "id": "4hPEirgm_cHK",
        "outputId": "5e4db95d-7b82-487d-ade3-bfb52f151f6b"
      },
      "execution_count": null,
      "outputs": [
        {
          "output_type": "stream",
          "name": "stdout",
          "text": [
            "Mounted at /content/drive\n"
          ]
        }
      ]
    },
    {
      "cell_type": "markdown",
      "source": [
        "# Load Metadata"
      ],
      "metadata": {
        "id": "pJ4aZDlirxn4"
      }
    },
    {
      "cell_type": "code",
      "source": [
        "df = pd.read_csv('/content/drive/MyDrive/data_5_cluster_output_v3.csv')\n",
        "df.columns"
      ],
      "metadata": {
        "colab": {
          "base_uri": "https://localhost:8080/"
        },
        "id": "DhUPCfPk_KT6",
        "outputId": "dcac4989-3114-4fcd-f694-69c41b286aff"
      },
      "execution_count": null,
      "outputs": [
        {
          "output_type": "execute_result",
          "data": {
            "text/plain": [
              "Index(['Unnamed: 0.1', 'Unnamed: 0', 'category', 'joined', 'brand', 'product',\n",
              "       'shade', 'img_url', 'shade_description_original', 'id', 'validation',\n",
              "       'img_name', 'mean_lab', 'peak_lab', 'sd_color', 'ground_truth',\n",
              "       'ground_truth_CIELAB', 'diff_lab', 'diff_peak_black', 'diff_peak_white',\n",
              "       'mean_lab_2', 'peak_lab_2', 'diff_lab_2', 'mean_lab_3', 'peak_lab_3',\n",
              "       'diff_lab_3'],\n",
              "      dtype='object')"
            ]
          },
          "metadata": {},
          "execution_count": 11
        }
      ]
    },
    {
      "cell_type": "code",
      "source": [
        "key = ['YOUR_API_KEY'] #from Antropic"
      ],
      "metadata": {
        "id": "_v1hXHgC4CdR"
      },
      "execution_count": null,
      "outputs": []
    },
    {
      "cell_type": "markdown",
      "source": [
        "# Testing an Individual Image"
      ],
      "metadata": {
        "id": "kieflXJ7rsTh"
      }
    },
    {
      "cell_type": "code",
      "source": [
        "i=0"
      ],
      "metadata": {
        "id": "5XyX0G4mAT4s"
      },
      "execution_count": null,
      "outputs": []
    },
    {
      "cell_type": "code",
      "source": [
        "path = '/content/drive/MyDrive/makeup_img/' + str(df.img_name[i])"
      ],
      "metadata": {
        "id": "0NNSzGv1_zJf"
      },
      "execution_count": null,
      "outputs": []
    },
    {
      "cell_type": "code",
      "source": [
        "def resize_image(image_path, max_size=(150, 150)):\n",
        "    with Image.open(image_path) as img:\n",
        "        img.thumbnail(max_size)\n",
        "        buffered = BytesIO()\n",
        "        img.save(buffered, format=\"JPEG\")\n",
        "        return buffered.getvalue()\n",
        "\n",
        "def encode_image(image_bytes):\n",
        "    return base64.b64encode(image_bytes).decode('utf-8')"
      ],
      "metadata": {
        "id": "QNnDOvyRDCvU"
      },
      "execution_count": null,
      "outputs": []
    },
    {
      "cell_type": "code",
      "source": [
        "# Path to your image file\n",
        "image_path = path\n",
        "\n",
        "# Resize and encode the image\n",
        "resized_image = resize_image(image_path)\n",
        "base64_image = encode_image(resized_image)"
      ],
      "metadata": {
        "id": "JAjc2u8F2RMh"
      },
      "execution_count": null,
      "outputs": []
    },
    {
      "cell_type": "code",
      "source": [
        "prompt = 'This image is of makeup, ' + str(df.category[i]) + '. The image may have the container in the image. Provide the approximate CIELAB color for the makeup product, not the container. Only respond with the CIELAB color in a python list format.'"
      ],
      "metadata": {
        "id": "I6sgoosAnqvG"
      },
      "execution_count": null,
      "outputs": []
    },
    {
      "cell_type": "code",
      "source": [
        "# Your API key and the API endpoint\n",
        "api_key = key\n",
        "api_url = \"https://api.anthropic.com/v1/messages\"\n",
        "\n",
        "# Headers for the API request\n",
        "headers = {\n",
        "    \"Content-Type\": \"application/json\",\n",
        "    \"X-API-Key\": api_key,\n",
        "    \"anthropic-version\": \"2023-06-01\"  # Add this line\n",
        "\n",
        "}"
      ],
      "metadata": {
        "id": "cwt3BgXDnnXq"
      },
      "execution_count": null,
      "outputs": []
    },
    {
      "cell_type": "code",
      "source": [
        "# Data for the API request\n",
        "data = {\n",
        "    \"model\": \"claude-3-opus-20240229\",\n",
        "    \"max_tokens\": 1000,\n",
        "    \"messages\": [\n",
        "        {\n",
        "            \"role\": \"user\",\n",
        "            \"content\": [\n",
        "                {\n",
        "                    \"type\": \"image\",\n",
        "                    \"source\": {\n",
        "                        \"type\": \"base64\",\n",
        "                        \"media_type\": \"image/jpeg\",\n",
        "                        \"data\": base64_image\n",
        "                    }\n",
        "                },\n",
        "                {\n",
        "                    \"type\": \"text\",\n",
        "                    \"text\": prompt\n",
        "                }\n",
        "            ]\n",
        "        }\n",
        "    ]\n",
        "}\n",
        "\n",
        "# Sending the request to the API\n",
        "response = requests.post(api_url, json=data, headers=headers)\n",
        "\n",
        "# Printing the response\n",
        "print(response.json())"
      ],
      "metadata": {
        "colab": {
          "base_uri": "https://localhost:8080/"
        },
        "id": "19k5c-6EEIXF",
        "outputId": "46ae6c62-0f26-47f3-8546-4af171eb9f2b"
      },
      "execution_count": null,
      "outputs": [
        {
          "output_type": "stream",
          "name": "stdout",
          "text": [
            "{'id': 'msg_01SFComBNKuLEJgFdXjsdqEx', 'type': 'message', 'role': 'assistant', 'model': 'claude-3-opus-20240229', 'content': [{'type': 'text', 'text': '[44.0, 28.0, 18.0]'}], 'stop_reason': 'end_turn', 'stop_sequence': None, 'usage': {'input_tokens': 81, 'output_tokens': 18}}\n"
          ]
        }
      ]
    },
    {
      "cell_type": "code",
      "source": [
        "response.json()['content'][0]['text']"
      ],
      "metadata": {
        "colab": {
          "base_uri": "https://localhost:8080/",
          "height": 35
        },
        "id": "zVJFjiy6oWfh",
        "outputId": "cb6e2047-51ce-4402-9472-9f3c152e09b4"
      },
      "execution_count": null,
      "outputs": [
        {
          "output_type": "execute_result",
          "data": {
            "text/plain": [
              "'[45, 50, 30]'"
            ],
            "application/vnd.google.colaboratory.intrinsic+json": {
              "type": "string"
            }
          },
          "metadata": {},
          "execution_count": 29
        }
      ]
    },
    {
      "cell_type": "code",
      "source": [
        "df.ground_truth_CIELAB[i]"
      ],
      "metadata": {
        "colab": {
          "base_uri": "https://localhost:8080/",
          "height": 35
        },
        "id": "-1ZWUGKCorhe",
        "outputId": "3345c88e-40dc-4657-f846-00b5ab9a66d7"
      },
      "execution_count": null,
      "outputs": [
        {
          "output_type": "execute_result",
          "data": {
            "text/plain": [
              "'[38.19553169 47.68982678 36.88843393]'"
            ],
            "application/vnd.google.colaboratory.intrinsic+json": {
              "type": "string"
            }
          },
          "metadata": {},
          "execution_count": 30
        }
      ]
    },
    {
      "cell_type": "code",
      "source": [
        "df.mean_lab_3[i]"
      ],
      "metadata": {
        "colab": {
          "base_uri": "https://localhost:8080/",
          "height": 35
        },
        "id": "8ZpvoYRIowhs",
        "outputId": "9f9b47a3-d3b6-47ec-d7cb-28f047b0aad2"
      },
      "execution_count": null,
      "outputs": [
        {
          "output_type": "execute_result",
          "data": {
            "text/plain": [
              "'[55.11311510009591, 17.24767335970273, 16.280531174648672]'"
            ],
            "application/vnd.google.colaboratory.intrinsic+json": {
              "type": "string"
            }
          },
          "metadata": {},
          "execution_count": 33
        }
      ]
    },
    {
      "cell_type": "markdown",
      "source": [
        "# Prompt Engineering\n",
        "\n",
        "Prompt engineering is the process of crafting and refining inputs (prompts) given to a large language model (LLM), to achieve the desired output. It is crucial because the quality of the output is heavily dependent on the clarity, specificity, and context provided in the prompt. Effective prompt engineering ensures that models perform tasks accurately and efficiently, minimizing errors and improving the relevance of the responses.\n",
        "\n",
        "## Prompt 1\n",
        "\n",
        "The initial prompt was straightforward but lacked specificity. By explicitly mentioning the possibility of the container being in the image and directing the model to focus only on the makeup product, it helps narrow down the model's focus, improving the accuracy of the color extraction.\n",
        "\n",
        "Prompt: `This image is of makeup, [input type of product]. The image may have the container. Provide the approximate CIELAB color for the makeup product, not the container. Only respond with the CIELAB color in a python list format. `\n",
        "## Prompt 2 (Used in Round 1)\n",
        "\n",
        "The previous prompt was revised to make the instructions clearer by emphasizing the task of identifying the makeup product's color and ignoring the container. The added context helps the model to better understand the task and reduces the chances of errors in color identification.\n",
        "\n",
        "Prompt:  `Your task is to identify the CIELAB color (or the closest approximation) of the makeup product [input type of product] in the image. The image may include the makeup container, but focus solely on the color of the makeup itself. Respond only with the CIELAB color in a Python list format. `\n",
        "\n",
        "\n",
        "## Prompt 3 (Used in Round 2)\n",
        "\n",
        "After validation, improvement of the prompt was necessary. The changes in this prompt were made to provide more detailed instructions for different types of makeup products, ensuring that the model accurately identifies the specific area to focus on (e.g., the tip of a lipliner or the blush itself). The additional explanation of the CIELAB color format was included to guide the model in providing the response in the correct format because in the first round, some CIELAB colors were in the incorrect range.\n",
        "\n",
        "- Prompt for lipstick: `Your task is to identify the CIELAB color (or the closest approximation) of the lipstick in the image. Lipsticks are in a container, but focus solely on the color of the lipstick itself. Respond only with the CIELAB color in a Python list format. For CIELAB color, L is between 0 and 100, a and b are between -128 and 128.`\n",
        "\n",
        "- Prompt for lipliner: `Your task is to identify the CIELAB color (or the closest approximation) of the pencil in the image. I need the color of the pencil which will be in the tip of the pencil. Respond only with the CIELAB color in a Python list format. For CIELAB color, L is between 0 and 100, a and b are between -128 and 128.`\n",
        "\n",
        "- Prompt for blush: `Your task is to identify the CIELAB color (or the closest approximation) of the blush or foundation in the image. Makeup sometimes comes in containers, but focus solely on the color of the makeup itself. Respond only with the CIELAB color in a Python list format. For CIELAB color, L is between 0 and 100, a and b are between -128 and 128.`\n",
        "\n",
        "- Prompt for lipgloss': `Your task is to identify the CIELAB color (or the closest approximation) of the lipgloss in the image. I need the color of the lipgloss, not the container. Respond only with the CIELAB color in a Python list format. For CIELAB color, L is between 0 and 100, a and b are between -128 and 128.`"
      ],
      "metadata": {
        "id": "JoZ4xr8bvjr4"
      }
    },
    {
      "cell_type": "markdown",
      "source": [
        "# Round 1: Scaling Up"
      ],
      "metadata": {
        "id": "vCiDF6a_r_ki"
      }
    },
    {
      "cell_type": "markdown",
      "source": [
        "The function `resize_image` resizes an image to fit within a specified maximum size and converts it to JPEG format. It returns the image data as a byte stream.\n",
        "\n",
        "- Open the Image: The image is loaded from the given file path using Image.open(image_path).\n",
        "- Resize the Image: The img.thumbnail(max_size) method resizes the image, keeping its aspect ratio intact, so it fits within the max_size dimensions (150x150 by default). This is to improve the speed of the API and because it will consume less tokens, making it cheaper.\n",
        "- Convert to RGB (if necessary): The function checks if the image mode is not \"RGB\". If it's in another mode (e.g., \"RGBA\" or \"P\"), it converts the image to \"RGB\", which is necessary because JPEG doesn't support other modes like \"RGBA\" or \"P\".\n",
        "- Save as JPEG: The image is saved to a BytesIO buffer in JPEG format.\n",
        "Return the Byte Stream: Finally, the function returns the JPEG image data as a byte stream, which can be used directly (e.g., for saving to a file, sending over a network, etc.)."
      ],
      "metadata": {
        "id": "7me3vG5kzjdI"
      }
    },
    {
      "cell_type": "code",
      "source": [
        "def resize_image(image_path, max_size=(150, 150)):\n",
        "    with Image.open(image_path) as img:\n",
        "        img.thumbnail(max_size)\n",
        "\n",
        "        # Convert for png\n",
        "        if img.mode != \"RGB\":\n",
        "          img = img.convert(\"RGB\")\n",
        "\n",
        "        buffered = BytesIO()\n",
        "        img.save(buffered, format=\"JPEG\")\n",
        "        return buffered.getvalue()"
      ],
      "metadata": {
        "id": "J_An128DyZ3E"
      },
      "execution_count": null,
      "outputs": []
    },
    {
      "cell_type": "markdown",
      "source": [
        "The function `encode_image` converts image data into a Base64-encoded string, such that images can be read by the Claude API.\n",
        "\n",
        "- Base64 Encoding: The function takes image_bytes as input, which is the raw binary data of an image.\n",
        "- Encode to Base64: It uses base64.b64encode(image_bytes) to encode the binary image data into a Base64 format, which is a text representation of binary data.\n",
        "Decode to String: The result is then decoded from bytes to a UTF-8 string using .decode('utf-8').\n",
        "- Return the Encoded String: Finally, it returns the Base64-encoded string, which can be used for embedding images in HTML, JSON, or other text-based formats.\n"
      ],
      "metadata": {
        "id": "thbzVrB-0E3L"
      }
    },
    {
      "cell_type": "code",
      "source": [
        "def encode_image(image_bytes):\n",
        "    return base64.b64encode(image_bytes).decode('utf-8')"
      ],
      "metadata": {
        "id": "p-GLHhpBznk0"
      },
      "execution_count": null,
      "outputs": []
    },
    {
      "cell_type": "markdown",
      "source": [
        "The function `apply_claude` function processes an image by resizing and encoding it, then sends a request to the Claude API to identify the CIELAB color of a makeup product in the image. It returns the color in a Python list format.\n",
        "\n",
        "\n",
        "- Wait: The function starts by pausing for 12 seconds using time.sleep(12). This avoids hitting API rate limits of 5 requests per minute. See [rate limits](https://docs.anthropic.com/en/api/rate-limits).\n",
        "\n",
        "- Resize and Encode the Image: The image is resized using `resize_image` and then encoded into a Base64 string using `encode_image`.\n",
        "- Create the Prompt: A text prompt is generated, instructing the LLM to identify the CIELAB color of the makeup product in the image.\n",
        "The category (e.g., \"lipstick\", \"blush\") is included in the prompt to specify the type of makeup.\n",
        "- Prepare API Request Data: A dictionary data is created to structure the API request. The dictionary includes the model name, maximum tokens, and a message containing both the Base64-encoded image and the prompt.\n",
        "- Send the Request: The request is sent to the API using requests.post(), with the data and headers passed as arguments.\n",
        "- Return the Response: A python list with the CIELAB colors.\n"
      ],
      "metadata": {
        "id": "PWeVQ_Ok0XPp"
      }
    },
    {
      "cell_type": "code",
      "source": [
        "def apply_claude(image_path, category, key):\n",
        "    # wait\n",
        "    time.sleep(12)\n",
        "    # Resize and encode the image\n",
        "    resized_image = resize_image(image_path)\n",
        "    base64_image = encode_image(resized_image)\n",
        "\n",
        "\n",
        "\n",
        "    # Your API key and the API endpoint\n",
        "    api_key = key\n",
        "    api_url = \"https://api.anthropic.com/v1/messages\"\n",
        "\n",
        "    # Headers for the API request\n",
        "    headers = {\n",
        "      \"Content-Type\": \"application/json\",\n",
        "      \"X-API-Key\": api_key,\n",
        "      \"anthropic-version\": \"2023-06-01\"  # Add this line\n",
        "      }\n",
        "\n",
        "    # Prompt\n",
        "    prompt = 'Your task is to identify the CIELAB color (or the closest approximation) of the makeup product' + '(' + category + ')' + 'in the image. The image may include the makeup container, but focus solely on the color of the makeup itself. Respond only with the CIELAB color in a Python list format.'\n",
        "\n",
        "    # Data for the API request\n",
        "    data = {\n",
        "      \"model\": \"claude-3-opus-20240229\",\n",
        "      \"max_tokens\": 1000,\n",
        "      \"messages\": [\n",
        "        {\n",
        "            \"role\": \"user\",\n",
        "            \"content\": [\n",
        "                {\n",
        "                    \"type\": \"image\",\n",
        "                    \"source\": {\n",
        "                        \"type\": \"base64\",\n",
        "                        \"media_type\": \"image/jpeg\",\n",
        "                        \"data\": base64_image\n",
        "                    }\n",
        "                },\n",
        "                {\n",
        "                    \"type\": \"text\",\n",
        "                    \"text\": prompt\n",
        "                }\n",
        "            ]\n",
        "          }\n",
        "        ]\n",
        "      }\n",
        "    # Sending the request to the API\n",
        "    response = requests.post(api_url, json=data, headers=headers)\n",
        "\n",
        "    # Return response, list\n",
        "    return response.json()#['content'][0]['text']"
      ],
      "metadata": {
        "id": "TDyVzC0XsHXP"
      },
      "execution_count": null,
      "outputs": []
    },
    {
      "cell_type": "code",
      "source": [
        "df['Claude_CIELAB'] = pd.Series(dtype='object')"
      ],
      "metadata": {
        "id": "X5O_lRW1twjq"
      },
      "execution_count": null,
      "outputs": []
    },
    {
      "cell_type": "code",
      "source": [
        "for i in range(len(df)):\n",
        "    path = '/content/drive/MyDrive/makeup_img/' + str(df.img_name[i])\n",
        "    category = str(df.category[i])\n",
        "    lab_claude = apply_claude(path, category, key)\n",
        "    df.at[i, 'Claude_CIELAB'] = lab_claude"
      ],
      "metadata": {
        "colab": {
          "base_uri": "https://localhost:8080/"
        },
        "id": "LyY5f_Xzti4V",
        "outputId": "af61aee6-3f70-4a76-a2b8-ec01aa90aa9f"
      },
      "execution_count": null,
      "outputs": [
        {
          "metadata": {
            "tags": null
          },
          "name": "stderr",
          "output_type": "stream",
          "text": [
            "/usr/local/lib/python3.10/dist-packages/PIL/Image.py:996: UserWarning: Palette images with Transparency expressed in bytes should be converted to RGBA images\n",
            "  warnings.warn(\n"
          ]
        }
      ]
    },
    {
      "cell_type": "code",
      "source": [
        "df['Claude_message'] = df['Claude_CIELAB']"
      ],
      "metadata": {
        "id": "VNZa_lYaUklE"
      },
      "execution_count": null,
      "outputs": []
    },
    {
      "cell_type": "markdown",
      "source": [
        "The response is in json format:"
      ],
      "metadata": {
        "id": "vu06hnZUWK3Y"
      }
    },
    {
      "cell_type": "code",
      "source": [
        "df.loc[0, 'Claude_message']"
      ],
      "metadata": {
        "colab": {
          "base_uri": "https://localhost:8080/"
        },
        "id": "99YZ2DeFWH3F",
        "outputId": "6d3c54ed-8f83-478c-b8ee-0907a6117001"
      },
      "execution_count": null,
      "outputs": [
        {
          "output_type": "execute_result",
          "data": {
            "text/plain": [
              "{'id': 'msg_01CJPy4evToRqNqyaHyYCXLq',\n",
              " 'type': 'message',\n",
              " 'role': 'assistant',\n",
              " 'model': 'claude-3-opus-20240229',\n",
              " 'content': [{'type': 'text', 'text': '[35, 50, 40]'}],\n",
              " 'stop_reason': 'end_turn',\n",
              " 'stop_sequence': None,\n",
              " 'usage': {'input_tokens': 112, 'output_tokens': 12}}"
            ]
          },
          "metadata": {},
          "execution_count": 93
        }
      ]
    },
    {
      "cell_type": "markdown",
      "source": [
        "Below, I extract color list from json response"
      ],
      "metadata": {
        "id": "FfIedQLBV-rd"
      }
    },
    {
      "cell_type": "code",
      "source": [
        "df['Claude_CIELAB'] = df['Claude_message'].apply(lambda x: x['content'][0]['text'])"
      ],
      "metadata": {
        "id": "6Sf3NWYMUrpf"
      },
      "execution_count": null,
      "outputs": []
    },
    {
      "cell_type": "code",
      "source": [
        "df.loc[0, 'Claude_CIELAB']"
      ],
      "metadata": {
        "colab": {
          "base_uri": "https://localhost:8080/",
          "height": 35
        },
        "id": "Sscr06ekWO66",
        "outputId": "cd2ce4dc-5309-438a-824e-813f4097f4bf"
      },
      "execution_count": null,
      "outputs": [
        {
          "output_type": "execute_result",
          "data": {
            "text/plain": [
              "'[35, 50, 40]'"
            ],
            "application/vnd.google.colaboratory.intrinsic+json": {
              "type": "string"
            }
          },
          "metadata": {},
          "execution_count": 192
        }
      ]
    },
    {
      "cell_type": "markdown",
      "source": [
        "Next, I write a function to test if all of the results in `Claude_CIELAB` are lists. One case, it is not a list, because the result when applying the function is `False`. For this particular object, Claude retuned `'Based on the lipstick color shown in the image, the closest CIELAB color approximation is:\\n\\n[37, 48, 34]'`, so I replace the color with the approximation provided in this message."
      ],
      "metadata": {
        "id": "-AF3mnogaovs"
      }
    },
    {
      "cell_type": "code",
      "source": [
        "def is_list(cell):\n",
        "    try:\n",
        "        ast.literal_eval(cell)\n",
        "    except (SyntaxError, ValueError):\n",
        "        return False\n",
        "    return isinstance(ast.literal_eval(cell), list)"
      ],
      "metadata": {
        "id": "qTET2tTdajvm"
      },
      "execution_count": null,
      "outputs": []
    },
    {
      "cell_type": "code",
      "source": [
        "df['is_list_LLM'] = df['Claude_CIELAB'].apply(is_list)"
      ],
      "metadata": {
        "id": "0kUmpA0-a-wB"
      },
      "execution_count": null,
      "outputs": []
    },
    {
      "cell_type": "code",
      "source": [
        "df['is_list_LLM'].value_counts()/len(df)*100"
      ],
      "metadata": {
        "colab": {
          "base_uri": "https://localhost:8080/",
          "height": 178
        },
        "id": "60MldPWRbH96",
        "outputId": "e5211fef-1364-48bd-813a-5691fb2271e1"
      },
      "execution_count": null,
      "outputs": [
        {
          "output_type": "execute_result",
          "data": {
            "text/plain": [
              "is_list_LLM\n",
              "True     99.802372\n",
              "False     0.197628\n",
              "Name: count, dtype: float64"
            ],
            "text/html": [
              "<div>\n",
              "<style scoped>\n",
              "    .dataframe tbody tr th:only-of-type {\n",
              "        vertical-align: middle;\n",
              "    }\n",
              "\n",
              "    .dataframe tbody tr th {\n",
              "        vertical-align: top;\n",
              "    }\n",
              "\n",
              "    .dataframe thead th {\n",
              "        text-align: right;\n",
              "    }\n",
              "</style>\n",
              "<table border=\"1\" class=\"dataframe\">\n",
              "  <thead>\n",
              "    <tr style=\"text-align: right;\">\n",
              "      <th></th>\n",
              "      <th>count</th>\n",
              "    </tr>\n",
              "    <tr>\n",
              "      <th>is_list_LLM</th>\n",
              "      <th></th>\n",
              "    </tr>\n",
              "  </thead>\n",
              "  <tbody>\n",
              "    <tr>\n",
              "      <th>True</th>\n",
              "      <td>99.802372</td>\n",
              "    </tr>\n",
              "    <tr>\n",
              "      <th>False</th>\n",
              "      <td>0.197628</td>\n",
              "    </tr>\n",
              "  </tbody>\n",
              "</table>\n",
              "</div><br><label><b>dtype:</b> float64</label>"
            ]
          },
          "metadata": {},
          "execution_count": 194
        }
      ]
    },
    {
      "cell_type": "code",
      "source": [
        "print(df[df.is_list_LLM == False].Claude_CIELAB)"
      ],
      "metadata": {
        "colab": {
          "base_uri": "https://localhost:8080/"
        },
        "id": "xxTWW749b8pX",
        "outputId": "adc108c9-3f55-404e-df04-edaf8dc469bf"
      },
      "execution_count": null,
      "outputs": [
        {
          "output_type": "stream",
          "name": "stdout",
          "text": [
            "155    Based on the lipstick color shown in the image...\n",
            "Name: Claude_CIELAB, dtype: object\n"
          ]
        }
      ]
    },
    {
      "cell_type": "code",
      "source": [
        "df.Claude_message[155]"
      ],
      "metadata": {
        "colab": {
          "base_uri": "https://localhost:8080/"
        },
        "id": "_uaQmUpfcX6v",
        "outputId": "4d8dfa05-c5e0-45dd-f9fb-3ca72c60d39b"
      },
      "execution_count": null,
      "outputs": [
        {
          "output_type": "execute_result",
          "data": {
            "text/plain": [
              "{'id': 'msg_01R3n5EDRAnnykQ6Tj84334L',\n",
              " 'type': 'message',\n",
              " 'role': 'assistant',\n",
              " 'model': 'claude-3-opus-20240229',\n",
              " 'content': [{'type': 'text',\n",
              "   'text': 'Based on the lipstick color shown in the image, the closest CIELAB color approximation is:\\n\\n[37, 48, 34]'}],\n",
              " 'stop_reason': 'end_turn',\n",
              " 'stop_sequence': None,\n",
              " 'usage': {'input_tokens': 113, 'output_tokens': 35}}"
            ]
          },
          "metadata": {},
          "execution_count": 122
        }
      ]
    },
    {
      "cell_type": "code",
      "source": [
        "# replace item 155\n",
        "df.at[155, 'Claude_CIELAB'] = '[37, 48, 34]'"
      ],
      "metadata": {
        "id": "KTTRSCHJc0NL"
      },
      "execution_count": null,
      "outputs": []
    },
    {
      "cell_type": "markdown",
      "source": [
        "## Evaluating Model Results"
      ],
      "metadata": {
        "id": "OR-S_wohZezw"
      }
    },
    {
      "cell_type": "code",
      "source": [
        "from sklearn.model_selection import train_test_split\n",
        "\n",
        "# Split data into training and temporary sets (which will be further split into validation and test sets)\n",
        "train_df, val_df = train_test_split(df, test_size=0.4, random_state=42)\n",
        "\n",
        "print(f'Training set: {len(train_df)} samples')\n",
        "print(f'Validation set: {len(val_df)} samples')"
      ],
      "metadata": {
        "colab": {
          "base_uri": "https://localhost:8080/"
        },
        "id": "adPow3bBZt1r",
        "outputId": "0231f00d-45db-451d-d8ed-f0c55467be34"
      },
      "execution_count": null,
      "outputs": [
        {
          "output_type": "stream",
          "name": "stdout",
          "text": [
            "Training set: 303 samples\n",
            "Validation set: 203 samples\n"
          ]
        }
      ]
    },
    {
      "cell_type": "markdown",
      "source": [
        "Next, I identify the validation set and calculate the color distance to assess how close the estimate and the ground truth are.\n",
        "\n",
        "To do this, I calculate Delta E (ΔE) which is a metric that quantifies the difference between two colors in the CIELAB color space. It calculates the distance between two points (representing colors) in the three-dimensional CIELAB space, where L* represents lightness, and a* and b* represent color-opponent dimensions.\n",
        "\n",
        "Delta E is measured on a scale of 0 to 100. A lower ΔE value indicates that the two colors are very similar to each other, while a higher ΔE value suggests a more noticeable difference. Delta E is widely used in color matching and quality control to assess how close two colors are to being identical.\n",
        "\n",
        "See also [color difference](https://en.wikipedia.org/wiki/Color_difference) in Wikipedia."
      ],
      "metadata": {
        "id": "0qZAoS1JKlPE"
      }
    },
    {
      "cell_type": "code",
      "source": [
        "from skimage.color import deltaE_ciede2000\n",
        "import ast"
      ],
      "metadata": {
        "id": "GmaMhA1wT9H9"
      },
      "execution_count": null,
      "outputs": []
    },
    {
      "cell_type": "code",
      "source": [
        "df['diff_llm_lab'] = pd.Series(dtype='object')\n",
        "\n",
        "for i in range(len(df)):\n",
        "  if df.ground_truth[i] == 1:\n",
        "    diff = deltaE_ciede2000(ast.literal_eval(df.Claude_CIELAB[i]), list(map(float, df.ground_truth_CIELAB[i].strip('[]').split())))\n",
        "    df.loc[i, 'diff_llm_lab'] = diff\n",
        "  else:\n",
        "    df.loc[i, 'diff_llm_lab'] = np.nan"
      ],
      "metadata": {
        "id": "mP5yaIfrKmty"
      },
      "execution_count": null,
      "outputs": []
    },
    {
      "cell_type": "code",
      "source": [
        "df.diff_llm_lab.mean()"
      ],
      "metadata": {
        "colab": {
          "base_uri": "https://localhost:8080/"
        },
        "id": "dELPe4NlV85n",
        "outputId": "6fc90fe8-7dea-4acd-befb-a64ca9561f69"
      },
      "execution_count": null,
      "outputs": [
        {
          "output_type": "execute_result",
          "data": {
            "text/plain": [
              "15.763666199636756"
            ]
          },
          "metadata": {},
          "execution_count": 126
        }
      ]
    },
    {
      "cell_type": "markdown",
      "source": [
        "Below is a histogram for Delta E each observation in the validation set. For a ΔE value of 0 indicates that the colors are identical, while values up to 10 suggest that the colors are similar. For color-matching applications, a threshold between 10 and 15 is generally effective (see [Color Difference Estimation](https://medium.com/@bhuwankhatiwada57/color-difference-estimation-using-cie-l-a-b-color-space-b415f97a6b94) and [Delta E - A Survey](https://wisotop.de/assets/2017/DeltaE-%20Survey-2.pdf))\n",
        "\n",
        "The mean Delta E is 15.76 and the median, 12.7.\n",
        "\n",
        "However, the optimal threshold varies depending on the specific application. With more time and funding, in the future, I could conduct tests or surveys with users to determine at what ΔE they perceive a difference as significant. This could help tailor the threshold to real-world preferences."
      ],
      "metadata": {
        "id": "juxHIh90bSfw"
      }
    },
    {
      "cell_type": "code",
      "source": [
        "df_val = pd.merge(df, val_df['id'], how='inner', on='id')\n",
        "df_val.shape"
      ],
      "metadata": {
        "colab": {
          "base_uri": "https://localhost:8080/"
        },
        "id": "90vh5jF8f96w",
        "outputId": "108ff8ff-90b8-4063-e6a3-c5b51aac31db"
      },
      "execution_count": null,
      "outputs": [
        {
          "output_type": "execute_result",
          "data": {
            "text/plain": [
              "(203, 30)"
            ]
          },
          "metadata": {},
          "execution_count": 127
        }
      ]
    },
    {
      "cell_type": "code",
      "source": [
        "df_val.diff_llm_lab.median()"
      ],
      "metadata": {
        "colab": {
          "base_uri": "https://localhost:8080/"
        },
        "id": "gp0xECmGcyZZ",
        "outputId": "82465a39-2cdb-4b4d-9340-4532a46e2e7b"
      },
      "execution_count": null,
      "outputs": [
        {
          "output_type": "execute_result",
          "data": {
            "text/plain": [
              "12.788086337727593"
            ]
          },
          "metadata": {},
          "execution_count": 129
        }
      ]
    },
    {
      "cell_type": "code",
      "source": [
        "df_val.diff_llm_lab.mean()"
      ],
      "metadata": {
        "colab": {
          "base_uri": "https://localhost:8080/"
        },
        "id": "SqFw7tN-dPkZ",
        "outputId": "54bc4643-f331-464c-c4f7-1bce5bdf8554"
      },
      "execution_count": null,
      "outputs": [
        {
          "output_type": "execute_result",
          "data": {
            "text/plain": [
              "16.45594936532544"
            ]
          },
          "metadata": {},
          "execution_count": 130
        }
      ]
    },
    {
      "cell_type": "code",
      "source": [
        "df_val.diff_llm_lab.hist(bins=50)"
      ],
      "metadata": {
        "colab": {
          "base_uri": "https://localhost:8080/",
          "height": 448
        },
        "id": "pQysisF7X_R2",
        "outputId": "21f0d435-6db5-49d3-b73e-e64aaff0a425"
      },
      "execution_count": null,
      "outputs": [
        {
          "output_type": "execute_result",
          "data": {
            "text/plain": [
              "<Axes: >"
            ]
          },
          "metadata": {},
          "execution_count": 132
        },
        {
          "output_type": "display_data",
          "data": {
            "text/plain": [
              "<Figure size 640x480 with 1 Axes>"
            ],
            "image/png": "[encoded data removed]"
          },
          "metadata": {}
        }
      ]
    },
    {
      "cell_type": "markdown",
      "source": [
        "We can also look at Delta E by product category. Below, we see that 'Delta E' is tends to be larger for 'lipstick', probably because lipstick is in a container and the color of the container is confounded with the color of the makeup.\n",
        "\n",
        "Moreover, looking at the mean Delta E per product, blush has a mean of 15.4, lipgloss a mean of 15.5, while lipliner and lipstick have a higher Delta E of 20.8 and 17.5 respectively. The Delta E variance for these all product categories is considerably higher than it was with the Method 1."
      ],
      "metadata": {
        "id": "n72h3JLudWsB"
      }
    },
    {
      "cell_type": "code",
      "source": [
        "# histogram with delta E by product category\n",
        "# Create a figure and axis\n",
        "fig, ax = plt.subplots()\n",
        "\n",
        "# Group by the 'Group' column and plot a histogram for each group\n",
        "for name, group in df_val.groupby('category'):\n",
        "    ax.hist(group['diff_llm_lab'], bins=10, alpha=0.5, label=name)\n",
        "\n",
        "# Add labels and legend\n",
        "ax.set_xlabel('Value')\n",
        "ax.set_ylabel('Frequency')\n",
        "ax.set_title('Histogram by Product Category')\n",
        "ax.legend(title='Group')\n",
        "\n",
        "# Show the plot\n",
        "plt.show()"
      ],
      "metadata": {
        "colab": {
          "base_uri": "https://localhost:8080/",
          "height": 543
        },
        "id": "2yX8sSTUY0n6",
        "outputId": "cf9e3a65-6671-4f65-daf5-44578286ad8f"
      },
      "execution_count": null,
      "outputs": [
        {
          "output_type": "stream",
          "name": "stderr",
          "text": [
            "/usr/local/lib/python3.10/dist-packages/numpy/lib/histograms.py:825: RuntimeWarning: invalid value encountered in greater_equal\n",
            "  keep = (tmp_a >= first_edge)\n",
            "/usr/local/lib/python3.10/dist-packages/numpy/lib/histograms.py:826: RuntimeWarning: invalid value encountered in less_equal\n",
            "  keep &= (tmp_a <= last_edge)\n"
          ]
        },
        {
          "output_type": "display_data",
          "data": {
            "text/plain": [
              "<Figure size 640x480 with 1 Axes>"
            ],
            "image/png": "[encoded data removed]"
          },
          "metadata": {}
        }
      ]
    },
    {
      "cell_type": "code",
      "source": [
        "product_deltaE = df_val.diff_llm_lab.groupby(df_val.category).mean()\n",
        "product_deltaE = product_deltaE.reset_index()\n",
        "product_deltaE.columns = ['product category', 'Delta E']\n",
        "\n",
        "print('Table: DeltaE (mean) by Product')\n",
        "product_deltaE"
      ],
      "metadata": {
        "colab": {
          "base_uri": "https://localhost:8080/",
          "height": 193
        },
        "id": "r6wAopf8eT0K",
        "outputId": "609d5c15-f4af-4514-f25f-a3f13da3a453"
      },
      "execution_count": null,
      "outputs": [
        {
          "output_type": "stream",
          "name": "stdout",
          "text": [
            "Table: DeltaE (mean) by Product\n"
          ]
        },
        {
          "output_type": "execute_result",
          "data": {
            "text/plain": [
              "  product category    Delta E\n",
              "0            blush  15.468511\n",
              "1         lipgloss  15.585626\n",
              "2         lipliner  20.836473\n",
              "3         lipstick   17.58097"
            ],
            "text/html": [
              "\n",
              "  <div id=\"df-cb9e13ec-a0c4-494a-b62f-20dede8df902\" class=\"colab-df-container\">\n",
              "    <div>\n",
              "<style scoped>\n",
              "    .dataframe tbody tr th:only-of-type {\n",
              "        vertical-align: middle;\n",
              "    }\n",
              "\n",
              "    .dataframe tbody tr th {\n",
              "        vertical-align: top;\n",
              "    }\n",
              "\n",
              "    .dataframe thead th {\n",
              "        text-align: right;\n",
              "    }\n",
              "</style>\n",
              "<table border=\"1\" class=\"dataframe\">\n",
              "  <thead>\n",
              "    <tr style=\"text-align: right;\">\n",
              "      <th></th>\n",
              "      <th>product category</th>\n",
              "      <th>Delta E</th>\n",
              "    </tr>\n",
              "  </thead>\n",
              "  <tbody>\n",
              "    <tr>\n",
              "      <th>0</th>\n",
              "      <td>blush</td>\n",
              "      <td>15.468511</td>\n",
              "    </tr>\n",
              "    <tr>\n",
              "      <th>1</th>\n",
              "      <td>lipgloss</td>\n",
              "      <td>15.585626</td>\n",
              "    </tr>\n",
              "    <tr>\n",
              "      <th>2</th>\n",
              "      <td>lipliner</td>\n",
              "      <td>20.836473</td>\n",
              "    </tr>\n",
              "    <tr>\n",
              "      <th>3</th>\n",
              "      <td>lipstick</td>\n",
              "      <td>17.58097</td>\n",
              "    </tr>\n",
              "  </tbody>\n",
              "</table>\n",
              "</div>\n",
              "    <div class=\"colab-df-buttons\">\n",
              "\n",
              "  <div class=\"colab-df-container\">\n",
              "    <button class=\"colab-df-convert\" onclick=\"convertToInteractive('df-cb9e13ec-a0c4-494a-b62f-20dede8df902')\"\n",
              "            title=\"Convert this dataframe to an interactive table.\"\n",
              "            style=\"display:none;\">\n",
              "\n",
              "  <svg xmlns=\"http://www.w3.org/2000/svg\" height=\"24px\" viewBox=\"0 -960 960 960\">\n",
              "    <path d=\"M120-120v-720h720v720H120Zm60-500h600v-160H180v160Zm220 220h160v-160H400v160Zm0 220h160v-160H400v160ZM180-400h160v-160H180v160Zm440 0h160v-160H620v160ZM180-180h160v-160H180v160Zm440 0h160v-160H620v160Z\"/>\n",
              "  </svg>\n",
              "    </button>\n",
              "\n",
              "  <style>\n",
              "    .colab-df-container {\n",
              "      display:flex;\n",
              "      gap: 12px;\n",
              "    }\n",
              "\n",
              "    .colab-df-convert {\n",
              "      background-color: #E8F0FE;\n",
              "      border: none;\n",
              "      border-radius: 50%;\n",
              "      cursor: pointer;\n",
              "      display: none;\n",
              "      fill: #1967D2;\n",
              "      height: 32px;\n",
              "      padding: 0 0 0 0;\n",
              "      width: 32px;\n",
              "    }\n",
              "\n",
              "    .colab-df-convert:hover {\n",
              "      background-color: #E2EBFA;\n",
              "      box-shadow: 0px 1px 2px rgba(60, 64, 67, 0.3), 0px 1px 3px 1px rgba(60, 64, 67, 0.15);\n",
              "      fill: #174EA6;\n",
              "    }\n",
              "\n",
              "    .colab-df-buttons div {\n",
              "      margin-bottom: 4px;\n",
              "    }\n",
              "\n",
              "    [theme=dark] .colab-df-convert {\n",
              "      background-color: #3B4455;\n",
              "      fill: #D2E3FC;\n",
              "    }\n",
              "\n",
              "    [theme=dark] .colab-df-convert:hover {\n",
              "      background-color: #434B5C;\n",
              "      box-shadow: 0px 1px 3px 1px rgba(0, 0, 0, 0.15);\n",
              "      filter: drop-shadow(0px 1px 2px rgba(0, 0, 0, 0.3));\n",
              "      fill: #FFFFFF;\n",
              "    }\n",
              "  </style>\n",
              "\n",
              "    <script>\n",
              "      const buttonEl =\n",
              "        document.querySelector('#df-cb9e13ec-a0c4-494a-b62f-20dede8df902 button.colab-df-convert');\n",
              "      buttonEl.style.display =\n",
              "        google.colab.kernel.accessAllowed ? 'block' : 'none';\n",
              "\n",
              "      async function convertToInteractive(key) {\n",
              "        const element = document.querySelector('#df-cb9e13ec-a0c4-494a-b62f-20dede8df902');\n",
              "        const dataTable =\n",
              "          await google.colab.kernel.invokeFunction('convertToInteractive',\n",
              "                                                    [key], {});\n",
              "        if (!dataTable) return;\n",
              "\n",
              "        const docLinkHtml = 'Like what you see? Visit the ' +\n",
              "          '<a target=\"_blank\" href=https://colab.research.google.com/notebooks/data_table.ipynb>data table notebook</a>'\n",
              "          + ' to learn more about interactive tables.';\n",
              "        element.innerHTML = '';\n",
              "        dataTable['output_type'] = 'display_data';\n",
              "        await google.colab.output.renderOutput(dataTable, element);\n",
              "        const docLink = document.createElement('div');\n",
              "        docLink.innerHTML = docLinkHtml;\n",
              "        element.appendChild(docLink);\n",
              "      }\n",
              "    </script>\n",
              "  </div>\n",
              "\n",
              "\n",
              "<div id=\"df-5f81cc05-80f2-4b2f-afec-67324099eb53\">\n",
              "  <button class=\"colab-df-quickchart\" onclick=\"quickchart('df-5f81cc05-80f2-4b2f-afec-67324099eb53')\"\n",
              "            title=\"Suggest charts\"\n",
              "            style=\"display:none;\">\n",
              "\n",
              "<svg xmlns=\"http://www.w3.org/2000/svg\" height=\"24px\"viewBox=\"0 0 24 24\"\n",
              "     width=\"24px\">\n",
              "    <g>\n",
              "        <path d=\"M19 3H5c-1.1 0-2 .9-2 2v14c0 1.1.9 2 2 2h14c1.1 0 2-.9 2-2V5c0-1.1-.9-2-2-2zM9 17H7v-7h2v7zm4 0h-2V7h2v10zm4 0h-2v-4h2v4z\"/>\n",
              "    </g>\n",
              "</svg>\n",
              "  </button>\n",
              "\n",
              "<style>\n",
              "  .colab-df-quickchart {\n",
              "      --bg-color: #E8F0FE;\n",
              "      --fill-color: #1967D2;\n",
              "      --hover-bg-color: #E2EBFA;\n",
              "      --hover-fill-color: #174EA6;\n",
              "      --disabled-fill-color: #AAA;\n",
              "      --disabled-bg-color: #DDD;\n",
              "  }\n",
              "\n",
              "  [theme=dark] .colab-df-quickchart {\n",
              "      --bg-color: #3B4455;\n",
              "      --fill-color: #D2E3FC;\n",
              "      --hover-bg-color: #434B5C;\n",
              "      --hover-fill-color: #FFFFFF;\n",
              "      --disabled-bg-color: #3B4455;\n",
              "      --disabled-fill-color: #666;\n",
              "  }\n",
              "\n",
              "  .colab-df-quickchart {\n",
              "    background-color: var(--bg-color);\n",
              "    border: none;\n",
              "    border-radius: 50%;\n",
              "    cursor: pointer;\n",
              "    display: none;\n",
              "    fill: var(--fill-color);\n",
              "    height: 32px;\n",
              "    padding: 0;\n",
              "    width: 32px;\n",
              "  }\n",
              "\n",
              "  .colab-df-quickchart:hover {\n",
              "    background-color: var(--hover-bg-color);\n",
              "    box-shadow: 0 1px 2px rgba(60, 64, 67, 0.3), 0 1px 3px 1px rgba(60, 64, 67, 0.15);\n",
              "    fill: var(--button-hover-fill-color);\n",
              "  }\n",
              "\n",
              "  .colab-df-quickchart-complete:disabled,\n",
              "  .colab-df-quickchart-complete:disabled:hover {\n",
              "    background-color: var(--disabled-bg-color);\n",
              "    fill: var(--disabled-fill-color);\n",
              "    box-shadow: none;\n",
              "  }\n",
              "\n",
              "  .colab-df-spinner {\n",
              "    border: 2px solid var(--fill-color);\n",
              "    border-color: transparent;\n",
              "    border-bottom-color: var(--fill-color);\n",
              "    animation:\n",
              "      spin 1s steps(1) infinite;\n",
              "  }\n",
              "\n",
              "  @keyframes spin {\n",
              "    0% {\n",
              "      border-color: transparent;\n",
              "      border-bottom-color: var(--fill-color);\n",
              "      border-left-color: var(--fill-color);\n",
              "    }\n",
              "    20% {\n",
              "      border-color: transparent;\n",
              "      border-left-color: var(--fill-color);\n",
              "      border-top-color: var(--fill-color);\n",
              "    }\n",
              "    30% {\n",
              "      border-color: transparent;\n",
              "      border-left-color: var(--fill-color);\n",
              "      border-top-color: var(--fill-color);\n",
              "      border-right-color: var(--fill-color);\n",
              "    }\n",
              "    40% {\n",
              "      border-color: transparent;\n",
              "      border-right-color: var(--fill-color);\n",
              "      border-top-color: var(--fill-color);\n",
              "    }\n",
              "    60% {\n",
              "      border-color: transparent;\n",
              "      border-right-color: var(--fill-color);\n",
              "    }\n",
              "    80% {\n",
              "      border-color: transparent;\n",
              "      border-right-color: var(--fill-color);\n",
              "      border-bottom-color: var(--fill-color);\n",
              "    }\n",
              "    90% {\n",
              "      border-color: transparent;\n",
              "      border-bottom-color: var(--fill-color);\n",
              "    }\n",
              "  }\n",
              "</style>\n",
              "\n",
              "  <script>\n",
              "    async function quickchart(key) {\n",
              "      const quickchartButtonEl =\n",
              "        document.querySelector('#' + key + ' button');\n",
              "      quickchartButtonEl.disabled = true;  // To prevent multiple clicks.\n",
              "      quickchartButtonEl.classList.add('colab-df-spinner');\n",
              "      try {\n",
              "        const charts = await google.colab.kernel.invokeFunction(\n",
              "            'suggestCharts', [key], {});\n",
              "      } catch (error) {\n",
              "        console.error('Error during call to suggestCharts:', error);\n",
              "      }\n",
              "      quickchartButtonEl.classList.remove('colab-df-spinner');\n",
              "      quickchartButtonEl.classList.add('colab-df-quickchart-complete');\n",
              "    }\n",
              "    (() => {\n",
              "      let quickchartButtonEl =\n",
              "        document.querySelector('#df-5f81cc05-80f2-4b2f-afec-67324099eb53 button');\n",
              "      quickchartButtonEl.style.display =\n",
              "        google.colab.kernel.accessAllowed ? 'block' : 'none';\n",
              "    })();\n",
              "  </script>\n",
              "</div>\n",
              "\n",
              "  <div id=\"id_f0488b7d-d678-4c41-9527-6921e17fa00a\">\n",
              "    <style>\n",
              "      .colab-df-generate {\n",
              "        background-color: #E8F0FE;\n",
              "        border: none;\n",
              "        border-radius: 50%;\n",
              "        cursor: pointer;\n",
              "        display: none;\n",
              "        fill: #1967D2;\n",
              "        height: 32px;\n",
              "        padding: 0 0 0 0;\n",
              "        width: 32px;\n",
              "      }\n",
              "\n",
              "      .colab-df-generate:hover {\n",
              "        background-color: #E2EBFA;\n",
              "        box-shadow: 0px 1px 2px rgba(60, 64, 67, 0.3), 0px 1px 3px 1px rgba(60, 64, 67, 0.15);\n",
              "        fill: #174EA6;\n",
              "      }\n",
              "\n",
              "      [theme=dark] .colab-df-generate {\n",
              "        background-color: #3B4455;\n",
              "        fill: #D2E3FC;\n",
              "      }\n",
              "\n",
              "      [theme=dark] .colab-df-generate:hover {\n",
              "        background-color: #434B5C;\n",
              "        box-shadow: 0px 1px 3px 1px rgba(0, 0, 0, 0.15);\n",
              "        filter: drop-shadow(0px 1px 2px rgba(0, 0, 0, 0.3));\n",
              "        fill: #FFFFFF;\n",
              "      }\n",
              "    </style>\n",
              "    <button class=\"colab-df-generate\" onclick=\"generateWithVariable('product_deltaE')\"\n",
              "            title=\"Generate code using this dataframe.\"\n",
              "            style=\"display:none;\">\n",
              "\n",
              "  <svg xmlns=\"http://www.w3.org/2000/svg\" height=\"24px\"viewBox=\"0 0 24 24\"\n",
              "       width=\"24px\">\n",
              "    <path d=\"M7,19H8.4L18.45,9,17,7.55,7,17.6ZM5,21V16.75L18.45,3.32a2,2,0,0,1,2.83,0l1.4,1.43a1.91,1.91,0,0,1,.58,1.4,1.91,1.91,0,0,1-.58,1.4L9.25,21ZM18.45,9,17,7.55Zm-12,3A5.31,5.31,0,0,0,4.9,8.1,5.31,5.31,0,0,0,1,6.5,5.31,5.31,0,0,0,4.9,4.9,5.31,5.31,0,0,0,6.5,1,5.31,5.31,0,0,0,8.1,4.9,5.31,5.31,0,0,0,12,6.5,5.46,5.46,0,0,0,6.5,12Z\"/>\n",
              "  </svg>\n",
              "    </button>\n",
              "    <script>\n",
              "      (() => {\n",
              "      const buttonEl =\n",
              "        document.querySelector('#id_f0488b7d-d678-4c41-9527-6921e17fa00a button.colab-df-generate');\n",
              "      buttonEl.style.display =\n",
              "        google.colab.kernel.accessAllowed ? 'block' : 'none';\n",
              "\n",
              "      buttonEl.onclick = () => {\n",
              "        google.colab.notebook.generateWithVariable('product_deltaE');\n",
              "      }\n",
              "      })();\n",
              "    </script>\n",
              "  </div>\n",
              "\n",
              "    </div>\n",
              "  </div>\n"
            ],
            "application/vnd.google.colaboratory.intrinsic+json": {
              "type": "dataframe",
              "variable_name": "product_deltaE",
              "summary": "{\n  \"name\": \"product_deltaE\",\n  \"rows\": 4,\n  \"fields\": [\n    {\n      \"column\": \"product category\",\n      \"properties\": {\n        \"dtype\": \"string\",\n        \"num_unique_values\": 4,\n        \"samples\": [\n          \"lipgloss\",\n          \"lipstick\",\n          \"blush\"\n        ],\n        \"semantic_type\": \"\",\n        \"description\": \"\"\n      }\n    },\n    {\n      \"column\": \"Delta E\",\n      \"properties\": {\n        \"dtype\": \"date\",\n        \"min\": 15.46851143894629,\n        \"max\": 20.836473239506105,\n        \"num_unique_values\": 4,\n        \"samples\": [\n          15.585626059299624,\n          17.580970013020018,\n          15.46851143894629\n        ],\n        \"semantic_type\": \"\",\n        \"description\": \"\"\n      }\n    }\n  ]\n}"
            }
          },
          "metadata": {},
          "execution_count": 136
        }
      ]
    },
    {
      "cell_type": "code",
      "source": [
        "product_deltaE = df_val.diff_llm_lab.groupby(df_val.category).var()\n",
        "product_deltaE = product_deltaE.reset_index()\n",
        "product_deltaE.columns = ['product category', 'Delta E']\n",
        "\n",
        "print('Table: DeltaE (SD) by Product')\n",
        "product_deltaE"
      ],
      "metadata": {
        "colab": {
          "base_uri": "https://localhost:8080/",
          "height": 193
        },
        "id": "7wVxX_TcexGK",
        "outputId": "2ade3448-29ce-4ba1-f44b-b61b1ed1466c"
      },
      "execution_count": null,
      "outputs": [
        {
          "output_type": "stream",
          "name": "stdout",
          "text": [
            "Table: DeltaE (SD) by Product\n"
          ]
        },
        {
          "output_type": "execute_result",
          "data": {
            "text/plain": [
              "  product category     Delta E\n",
              "0            blush  145.355918\n",
              "1         lipgloss  169.088025\n",
              "2         lipliner  533.017454\n",
              "3         lipstick  143.483717"
            ],
            "text/html": [
              "\n",
              "  <div id=\"df-cc391ab7-1b79-451a-aa24-6f9bb6a5a5ad\" class=\"colab-df-container\">\n",
              "    <div>\n",
              "<style scoped>\n",
              "    .dataframe tbody tr th:only-of-type {\n",
              "        vertical-align: middle;\n",
              "    }\n",
              "\n",
              "    .dataframe tbody tr th {\n",
              "        vertical-align: top;\n",
              "    }\n",
              "\n",
              "    .dataframe thead th {\n",
              "        text-align: right;\n",
              "    }\n",
              "</style>\n",
              "<table border=\"1\" class=\"dataframe\">\n",
              "  <thead>\n",
              "    <tr style=\"text-align: right;\">\n",
              "      <th></th>\n",
              "      <th>product category</th>\n",
              "      <th>Delta E</th>\n",
              "    </tr>\n",
              "  </thead>\n",
              "  <tbody>\n",
              "    <tr>\n",
              "      <th>0</th>\n",
              "      <td>blush</td>\n",
              "      <td>145.355918</td>\n",
              "    </tr>\n",
              "    <tr>\n",
              "      <th>1</th>\n",
              "      <td>lipgloss</td>\n",
              "      <td>169.088025</td>\n",
              "    </tr>\n",
              "    <tr>\n",
              "      <th>2</th>\n",
              "      <td>lipliner</td>\n",
              "      <td>533.017454</td>\n",
              "    </tr>\n",
              "    <tr>\n",
              "      <th>3</th>\n",
              "      <td>lipstick</td>\n",
              "      <td>143.483717</td>\n",
              "    </tr>\n",
              "  </tbody>\n",
              "</table>\n",
              "</div>\n",
              "    <div class=\"colab-df-buttons\">\n",
              "\n",
              "  <div class=\"colab-df-container\">\n",
              "    <button class=\"colab-df-convert\" onclick=\"convertToInteractive('df-cc391ab7-1b79-451a-aa24-6f9bb6a5a5ad')\"\n",
              "            title=\"Convert this dataframe to an interactive table.\"\n",
              "            style=\"display:none;\">\n",
              "\n",
              "  <svg xmlns=\"http://www.w3.org/2000/svg\" height=\"24px\" viewBox=\"0 -960 960 960\">\n",
              "    <path d=\"M120-120v-720h720v720H120Zm60-500h600v-160H180v160Zm220 220h160v-160H400v160Zm0 220h160v-160H400v160ZM180-400h160v-160H180v160Zm440 0h160v-160H620v160ZM180-180h160v-160H180v160Zm440 0h160v-160H620v160Z\"/>\n",
              "  </svg>\n",
              "    </button>\n",
              "\n",
              "  <style>\n",
              "    .colab-df-container {\n",
              "      display:flex;\n",
              "      gap: 12px;\n",
              "    }\n",
              "\n",
              "    .colab-df-convert {\n",
              "      background-color: #E8F0FE;\n",
              "      border: none;\n",
              "      border-radius: 50%;\n",
              "      cursor: pointer;\n",
              "      display: none;\n",
              "      fill: #1967D2;\n",
              "      height: 32px;\n",
              "      padding: 0 0 0 0;\n",
              "      width: 32px;\n",
              "    }\n",
              "\n",
              "    .colab-df-convert:hover {\n",
              "      background-color: #E2EBFA;\n",
              "      box-shadow: 0px 1px 2px rgba(60, 64, 67, 0.3), 0px 1px 3px 1px rgba(60, 64, 67, 0.15);\n",
              "      fill: #174EA6;\n",
              "    }\n",
              "\n",
              "    .colab-df-buttons div {\n",
              "      margin-bottom: 4px;\n",
              "    }\n",
              "\n",
              "    [theme=dark] .colab-df-convert {\n",
              "      background-color: #3B4455;\n",
              "      fill: #D2E3FC;\n",
              "    }\n",
              "\n",
              "    [theme=dark] .colab-df-convert:hover {\n",
              "      background-color: #434B5C;\n",
              "      box-shadow: 0px 1px 3px 1px rgba(0, 0, 0, 0.15);\n",
              "      filter: drop-shadow(0px 1px 2px rgba(0, 0, 0, 0.3));\n",
              "      fill: #FFFFFF;\n",
              "    }\n",
              "  </style>\n",
              "\n",
              "    <script>\n",
              "      const buttonEl =\n",
              "        document.querySelector('#df-cc391ab7-1b79-451a-aa24-6f9bb6a5a5ad button.colab-df-convert');\n",
              "      buttonEl.style.display =\n",
              "        google.colab.kernel.accessAllowed ? 'block' : 'none';\n",
              "\n",
              "      async function convertToInteractive(key) {\n",
              "        const element = document.querySelector('#df-cc391ab7-1b79-451a-aa24-6f9bb6a5a5ad');\n",
              "        const dataTable =\n",
              "          await google.colab.kernel.invokeFunction('convertToInteractive',\n",
              "                                                    [key], {});\n",
              "        if (!dataTable) return;\n",
              "\n",
              "        const docLinkHtml = 'Like what you see? Visit the ' +\n",
              "          '<a target=\"_blank\" href=https://colab.research.google.com/notebooks/data_table.ipynb>data table notebook</a>'\n",
              "          + ' to learn more about interactive tables.';\n",
              "        element.innerHTML = '';\n",
              "        dataTable['output_type'] = 'display_data';\n",
              "        await google.colab.output.renderOutput(dataTable, element);\n",
              "        const docLink = document.createElement('div');\n",
              "        docLink.innerHTML = docLinkHtml;\n",
              "        element.appendChild(docLink);\n",
              "      }\n",
              "    </script>\n",
              "  </div>\n",
              "\n",
              "\n",
              "<div id=\"df-ca676d25-aeb8-46d4-8bc0-26e9cb1cba63\">\n",
              "  <button class=\"colab-df-quickchart\" onclick=\"quickchart('df-ca676d25-aeb8-46d4-8bc0-26e9cb1cba63')\"\n",
              "            title=\"Suggest charts\"\n",
              "            style=\"display:none;\">\n",
              "\n",
              "<svg xmlns=\"http://www.w3.org/2000/svg\" height=\"24px\"viewBox=\"0 0 24 24\"\n",
              "     width=\"24px\">\n",
              "    <g>\n",
              "        <path d=\"M19 3H5c-1.1 0-2 .9-2 2v14c0 1.1.9 2 2 2h14c1.1 0 2-.9 2-2V5c0-1.1-.9-2-2-2zM9 17H7v-7h2v7zm4 0h-2V7h2v10zm4 0h-2v-4h2v4z\"/>\n",
              "    </g>\n",
              "</svg>\n",
              "  </button>\n",
              "\n",
              "<style>\n",
              "  .colab-df-quickchart {\n",
              "      --bg-color: #E8F0FE;\n",
              "      --fill-color: #1967D2;\n",
              "      --hover-bg-color: #E2EBFA;\n",
              "      --hover-fill-color: #174EA6;\n",
              "      --disabled-fill-color: #AAA;\n",
              "      --disabled-bg-color: #DDD;\n",
              "  }\n",
              "\n",
              "  [theme=dark] .colab-df-quickchart {\n",
              "      --bg-color: #3B4455;\n",
              "      --fill-color: #D2E3FC;\n",
              "      --hover-bg-color: #434B5C;\n",
              "      --hover-fill-color: #FFFFFF;\n",
              "      --disabled-bg-color: #3B4455;\n",
              "      --disabled-fill-color: #666;\n",
              "  }\n",
              "\n",
              "  .colab-df-quickchart {\n",
              "    background-color: var(--bg-color);\n",
              "    border: none;\n",
              "    border-radius: 50%;\n",
              "    cursor: pointer;\n",
              "    display: none;\n",
              "    fill: var(--fill-color);\n",
              "    height: 32px;\n",
              "    padding: 0;\n",
              "    width: 32px;\n",
              "  }\n",
              "\n",
              "  .colab-df-quickchart:hover {\n",
              "    background-color: var(--hover-bg-color);\n",
              "    box-shadow: 0 1px 2px rgba(60, 64, 67, 0.3), 0 1px 3px 1px rgba(60, 64, 67, 0.15);\n",
              "    fill: var(--button-hover-fill-color);\n",
              "  }\n",
              "\n",
              "  .colab-df-quickchart-complete:disabled,\n",
              "  .colab-df-quickchart-complete:disabled:hover {\n",
              "    background-color: var(--disabled-bg-color);\n",
              "    fill: var(--disabled-fill-color);\n",
              "    box-shadow: none;\n",
              "  }\n",
              "\n",
              "  .colab-df-spinner {\n",
              "    border: 2px solid var(--fill-color);\n",
              "    border-color: transparent;\n",
              "    border-bottom-color: var(--fill-color);\n",
              "    animation:\n",
              "      spin 1s steps(1) infinite;\n",
              "  }\n",
              "\n",
              "  @keyframes spin {\n",
              "    0% {\n",
              "      border-color: transparent;\n",
              "      border-bottom-color: var(--fill-color);\n",
              "      border-left-color: var(--fill-color);\n",
              "    }\n",
              "    20% {\n",
              "      border-color: transparent;\n",
              "      border-left-color: var(--fill-color);\n",
              "      border-top-color: var(--fill-color);\n",
              "    }\n",
              "    30% {\n",
              "      border-color: transparent;\n",
              "      border-left-color: var(--fill-color);\n",
              "      border-top-color: var(--fill-color);\n",
              "      border-right-color: var(--fill-color);\n",
              "    }\n",
              "    40% {\n",
              "      border-color: transparent;\n",
              "      border-right-color: var(--fill-color);\n",
              "      border-top-color: var(--fill-color);\n",
              "    }\n",
              "    60% {\n",
              "      border-color: transparent;\n",
              "      border-right-color: var(--fill-color);\n",
              "    }\n",
              "    80% {\n",
              "      border-color: transparent;\n",
              "      border-right-color: var(--fill-color);\n",
              "      border-bottom-color: var(--fill-color);\n",
              "    }\n",
              "    90% {\n",
              "      border-color: transparent;\n",
              "      border-bottom-color: var(--fill-color);\n",
              "    }\n",
              "  }\n",
              "</style>\n",
              "\n",
              "  <script>\n",
              "    async function quickchart(key) {\n",
              "      const quickchartButtonEl =\n",
              "        document.querySelector('#' + key + ' button');\n",
              "      quickchartButtonEl.disabled = true;  // To prevent multiple clicks.\n",
              "      quickchartButtonEl.classList.add('colab-df-spinner');\n",
              "      try {\n",
              "        const charts = await google.colab.kernel.invokeFunction(\n",
              "            'suggestCharts', [key], {});\n",
              "      } catch (error) {\n",
              "        console.error('Error during call to suggestCharts:', error);\n",
              "      }\n",
              "      quickchartButtonEl.classList.remove('colab-df-spinner');\n",
              "      quickchartButtonEl.classList.add('colab-df-quickchart-complete');\n",
              "    }\n",
              "    (() => {\n",
              "      let quickchartButtonEl =\n",
              "        document.querySelector('#df-ca676d25-aeb8-46d4-8bc0-26e9cb1cba63 button');\n",
              "      quickchartButtonEl.style.display =\n",
              "        google.colab.kernel.accessAllowed ? 'block' : 'none';\n",
              "    })();\n",
              "  </script>\n",
              "</div>\n",
              "\n",
              "  <div id=\"id_cf161818-244b-4cf2-b007-ed7d8d5a63ba\">\n",
              "    <style>\n",
              "      .colab-df-generate {\n",
              "        background-color: #E8F0FE;\n",
              "        border: none;\n",
              "        border-radius: 50%;\n",
              "        cursor: pointer;\n",
              "        display: none;\n",
              "        fill: #1967D2;\n",
              "        height: 32px;\n",
              "        padding: 0 0 0 0;\n",
              "        width: 32px;\n",
              "      }\n",
              "\n",
              "      .colab-df-generate:hover {\n",
              "        background-color: #E2EBFA;\n",
              "        box-shadow: 0px 1px 2px rgba(60, 64, 67, 0.3), 0px 1px 3px 1px rgba(60, 64, 67, 0.15);\n",
              "        fill: #174EA6;\n",
              "      }\n",
              "\n",
              "      [theme=dark] .colab-df-generate {\n",
              "        background-color: #3B4455;\n",
              "        fill: #D2E3FC;\n",
              "      }\n",
              "\n",
              "      [theme=dark] .colab-df-generate:hover {\n",
              "        background-color: #434B5C;\n",
              "        box-shadow: 0px 1px 3px 1px rgba(0, 0, 0, 0.15);\n",
              "        filter: drop-shadow(0px 1px 2px rgba(0, 0, 0, 0.3));\n",
              "        fill: #FFFFFF;\n",
              "      }\n",
              "    </style>\n",
              "    <button class=\"colab-df-generate\" onclick=\"generateWithVariable('product_deltaE')\"\n",
              "            title=\"Generate code using this dataframe.\"\n",
              "            style=\"display:none;\">\n",
              "\n",
              "  <svg xmlns=\"http://www.w3.org/2000/svg\" height=\"24px\"viewBox=\"0 0 24 24\"\n",
              "       width=\"24px\">\n",
              "    <path d=\"M7,19H8.4L18.45,9,17,7.55,7,17.6ZM5,21V16.75L18.45,3.32a2,2,0,0,1,2.83,0l1.4,1.43a1.91,1.91,0,0,1,.58,1.4,1.91,1.91,0,0,1-.58,1.4L9.25,21ZM18.45,9,17,7.55Zm-12,3A5.31,5.31,0,0,0,4.9,8.1,5.31,5.31,0,0,0,1,6.5,5.31,5.31,0,0,0,4.9,4.9,5.31,5.31,0,0,0,6.5,1,5.31,5.31,0,0,0,8.1,4.9,5.31,5.31,0,0,0,12,6.5,5.46,5.46,0,0,0,6.5,12Z\"/>\n",
              "  </svg>\n",
              "    </button>\n",
              "    <script>\n",
              "      (() => {\n",
              "      const buttonEl =\n",
              "        document.querySelector('#id_cf161818-244b-4cf2-b007-ed7d8d5a63ba button.colab-df-generate');\n",
              "      buttonEl.style.display =\n",
              "        google.colab.kernel.accessAllowed ? 'block' : 'none';\n",
              "\n",
              "      buttonEl.onclick = () => {\n",
              "        google.colab.notebook.generateWithVariable('product_deltaE');\n",
              "      }\n",
              "      })();\n",
              "    </script>\n",
              "  </div>\n",
              "\n",
              "    </div>\n",
              "  </div>\n"
            ],
            "application/vnd.google.colaboratory.intrinsic+json": {
              "type": "dataframe",
              "variable_name": "product_deltaE",
              "summary": "{\n  \"name\": \"product_deltaE\",\n  \"rows\": 4,\n  \"fields\": [\n    {\n      \"column\": \"product category\",\n      \"properties\": {\n        \"dtype\": \"string\",\n        \"num_unique_values\": 4,\n        \"samples\": [\n          \"lipgloss\",\n          \"lipstick\",\n          \"blush\"\n        ],\n        \"semantic_type\": \"\",\n        \"description\": \"\"\n      }\n    },\n    {\n      \"column\": \"Delta E\",\n      \"properties\": {\n        \"dtype\": \"date\",\n        \"min\": 143.483716809213,\n        \"max\": 533.017453778433,\n        \"num_unique_values\": 4,\n        \"samples\": [\n          169.08802460522455,\n          143.483716809213,\n          145.3559184979625\n        ],\n        \"semantic_type\": \"\",\n        \"description\": \"\"\n      }\n    }\n  ]\n}"
            }
          },
          "metadata": {},
          "execution_count": 137
        }
      ]
    },
    {
      "cell_type": "markdown",
      "source": [
        "Looking at the cases in which the LLM did poorly, some values are outside of the range for CIELAB. The first item on the list has to be betwen 0 and 100, and in this case, many are outside of the range."
      ],
      "metadata": {
        "id": "YDZY9CrUd1WY"
      }
    },
    {
      "cell_type": "code",
      "source": [
        "df_val[df_val.diff_llm_lab > 40][['Claude_CIELAB', 'img_name']]"
      ],
      "metadata": {
        "colab": {
          "base_uri": "https://localhost:8080/",
          "height": 394
        },
        "id": "vDgRVfH9WUqb",
        "outputId": "379add7f-decf-428d-b9ca-32e882208c84"
      },
      "execution_count": null,
      "outputs": [
        {
          "output_type": "execute_result",
          "data": {
            "text/plain": [
              "             Claude_CIELAB                     img_name\n",
              "28            [25, 36, 30]      s2288447-av-01-zoom.jpg\n",
              "46           [152, 95, 97]       Loyal-Liquid-Blush.png\n",
              "47   [0.742, 0.309, 0.309]       chameleon-blush-4g.png\n",
              "71         [233, 157, 177]                  ulta159.jpg\n",
              "88         [164, 117, 117]                  ulta210.jpg\n",
              "111        [170, 100, 100]  el_sku_PKTJ16_640x640_1.jpg\n",
              "119        [220, 180, 170]                  8960839.jpg\n",
              "155     [72.0, 60.0, 40.0]       s2243194-main-zoom.jpg\n",
              "163   [92.45, 9.39, 14.56]       s2243400-main-zoom.jpg\n",
              "189     [36.0, 55.0, 25.0]       s2427938-main-zoom.jpg\n",
              "191        [192, 107, 104]                  ulta499.jpg"
            ],
            "text/html": [
              "\n",
              "  <div id=\"df-ce1ef77e-c121-48a2-a5d5-5db5af417994\" class=\"colab-df-container\">\n",
              "    <div>\n",
              "<style scoped>\n",
              "    .dataframe tbody tr th:only-of-type {\n",
              "        vertical-align: middle;\n",
              "    }\n",
              "\n",
              "    .dataframe tbody tr th {\n",
              "        vertical-align: top;\n",
              "    }\n",
              "\n",
              "    .dataframe thead th {\n",
              "        text-align: right;\n",
              "    }\n",
              "</style>\n",
              "<table border=\"1\" class=\"dataframe\">\n",
              "  <thead>\n",
              "    <tr style=\"text-align: right;\">\n",
              "      <th></th>\n",
              "      <th>Claude_CIELAB</th>\n",
              "      <th>img_name</th>\n",
              "    </tr>\n",
              "  </thead>\n",
              "  <tbody>\n",
              "    <tr>\n",
              "      <th>28</th>\n",
              "      <td>[25, 36, 30]</td>\n",
              "      <td>s2288447-av-01-zoom.jpg</td>\n",
              "    </tr>\n",
              "    <tr>\n",
              "      <th>46</th>\n",
              "      <td>[152, 95, 97]</td>\n",
              "      <td>Loyal-Liquid-Blush.png</td>\n",
              "    </tr>\n",
              "    <tr>\n",
              "      <th>47</th>\n",
              "      <td>[0.742, 0.309, 0.309]</td>\n",
              "      <td>chameleon-blush-4g.png</td>\n",
              "    </tr>\n",
              "    <tr>\n",
              "      <th>71</th>\n",
              "      <td>[233, 157, 177]</td>\n",
              "      <td>ulta159.jpg</td>\n",
              "    </tr>\n",
              "    <tr>\n",
              "      <th>88</th>\n",
              "      <td>[164, 117, 117]</td>\n",
              "      <td>ulta210.jpg</td>\n",
              "    </tr>\n",
              "    <tr>\n",
              "      <th>111</th>\n",
              "      <td>[170, 100, 100]</td>\n",
              "      <td>el_sku_PKTJ16_640x640_1.jpg</td>\n",
              "    </tr>\n",
              "    <tr>\n",
              "      <th>119</th>\n",
              "      <td>[220, 180, 170]</td>\n",
              "      <td>8960839.jpg</td>\n",
              "    </tr>\n",
              "    <tr>\n",
              "      <th>155</th>\n",
              "      <td>[72.0, 60.0, 40.0]</td>\n",
              "      <td>s2243194-main-zoom.jpg</td>\n",
              "    </tr>\n",
              "    <tr>\n",
              "      <th>163</th>\n",
              "      <td>[92.45, 9.39, 14.56]</td>\n",
              "      <td>s2243400-main-zoom.jpg</td>\n",
              "    </tr>\n",
              "    <tr>\n",
              "      <th>189</th>\n",
              "      <td>[36.0, 55.0, 25.0]</td>\n",
              "      <td>s2427938-main-zoom.jpg</td>\n",
              "    </tr>\n",
              "    <tr>\n",
              "      <th>191</th>\n",
              "      <td>[192, 107, 104]</td>\n",
              "      <td>ulta499.jpg</td>\n",
              "    </tr>\n",
              "  </tbody>\n",
              "</table>\n",
              "</div>\n",
              "    <div class=\"colab-df-buttons\">\n",
              "\n",
              "  <div class=\"colab-df-container\">\n",
              "    <button class=\"colab-df-convert\" onclick=\"convertToInteractive('df-ce1ef77e-c121-48a2-a5d5-5db5af417994')\"\n",
              "            title=\"Convert this dataframe to an interactive table.\"\n",
              "            style=\"display:none;\">\n",
              "\n",
              "  <svg xmlns=\"http://www.w3.org/2000/svg\" height=\"24px\" viewBox=\"0 -960 960 960\">\n",
              "    <path d=\"M120-120v-720h720v720H120Zm60-500h600v-160H180v160Zm220 220h160v-160H400v160Zm0 220h160v-160H400v160ZM180-400h160v-160H180v160Zm440 0h160v-160H620v160ZM180-180h160v-160H180v160Zm440 0h160v-160H620v160Z\"/>\n",
              "  </svg>\n",
              "    </button>\n",
              "\n",
              "  <style>\n",
              "    .colab-df-container {\n",
              "      display:flex;\n",
              "      gap: 12px;\n",
              "    }\n",
              "\n",
              "    .colab-df-convert {\n",
              "      background-color: #E8F0FE;\n",
              "      border: none;\n",
              "      border-radius: 50%;\n",
              "      cursor: pointer;\n",
              "      display: none;\n",
              "      fill: #1967D2;\n",
              "      height: 32px;\n",
              "      padding: 0 0 0 0;\n",
              "      width: 32px;\n",
              "    }\n",
              "\n",
              "    .colab-df-convert:hover {\n",
              "      background-color: #E2EBFA;\n",
              "      box-shadow: 0px 1px 2px rgba(60, 64, 67, 0.3), 0px 1px 3px 1px rgba(60, 64, 67, 0.15);\n",
              "      fill: #174EA6;\n",
              "    }\n",
              "\n",
              "    .colab-df-buttons div {\n",
              "      margin-bottom: 4px;\n",
              "    }\n",
              "\n",
              "    [theme=dark] .colab-df-convert {\n",
              "      background-color: #3B4455;\n",
              "      fill: #D2E3FC;\n",
              "    }\n",
              "\n",
              "    [theme=dark] .colab-df-convert:hover {\n",
              "      background-color: #434B5C;\n",
              "      box-shadow: 0px 1px 3px 1px rgba(0, 0, 0, 0.15);\n",
              "      filter: drop-shadow(0px 1px 2px rgba(0, 0, 0, 0.3));\n",
              "      fill: #FFFFFF;\n",
              "    }\n",
              "  </style>\n",
              "\n",
              "    <script>\n",
              "      const buttonEl =\n",
              "        document.querySelector('#df-ce1ef77e-c121-48a2-a5d5-5db5af417994 button.colab-df-convert');\n",
              "      buttonEl.style.display =\n",
              "        google.colab.kernel.accessAllowed ? 'block' : 'none';\n",
              "\n",
              "      async function convertToInteractive(key) {\n",
              "        const element = document.querySelector('#df-ce1ef77e-c121-48a2-a5d5-5db5af417994');\n",
              "        const dataTable =\n",
              "          await google.colab.kernel.invokeFunction('convertToInteractive',\n",
              "                                                    [key], {});\n",
              "        if (!dataTable) return;\n",
              "\n",
              "        const docLinkHtml = 'Like what you see? Visit the ' +\n",
              "          '<a target=\"_blank\" href=https://colab.research.google.com/notebooks/data_table.ipynb>data table notebook</a>'\n",
              "          + ' to learn more about interactive tables.';\n",
              "        element.innerHTML = '';\n",
              "        dataTable['output_type'] = 'display_data';\n",
              "        await google.colab.output.renderOutput(dataTable, element);\n",
              "        const docLink = document.createElement('div');\n",
              "        docLink.innerHTML = docLinkHtml;\n",
              "        element.appendChild(docLink);\n",
              "      }\n",
              "    </script>\n",
              "  </div>\n",
              "\n",
              "\n",
              "<div id=\"df-8ba27070-2cf9-4615-a9c6-87eda179caf5\">\n",
              "  <button class=\"colab-df-quickchart\" onclick=\"quickchart('df-8ba27070-2cf9-4615-a9c6-87eda179caf5')\"\n",
              "            title=\"Suggest charts\"\n",
              "            style=\"display:none;\">\n",
              "\n",
              "<svg xmlns=\"http://www.w3.org/2000/svg\" height=\"24px\"viewBox=\"0 0 24 24\"\n",
              "     width=\"24px\">\n",
              "    <g>\n",
              "        <path d=\"M19 3H5c-1.1 0-2 .9-2 2v14c0 1.1.9 2 2 2h14c1.1 0 2-.9 2-2V5c0-1.1-.9-2-2-2zM9 17H7v-7h2v7zm4 0h-2V7h2v10zm4 0h-2v-4h2v4z\"/>\n",
              "    </g>\n",
              "</svg>\n",
              "  </button>\n",
              "\n",
              "<style>\n",
              "  .colab-df-quickchart {\n",
              "      --bg-color: #E8F0FE;\n",
              "      --fill-color: #1967D2;\n",
              "      --hover-bg-color: #E2EBFA;\n",
              "      --hover-fill-color: #174EA6;\n",
              "      --disabled-fill-color: #AAA;\n",
              "      --disabled-bg-color: #DDD;\n",
              "  }\n",
              "\n",
              "  [theme=dark] .colab-df-quickchart {\n",
              "      --bg-color: #3B4455;\n",
              "      --fill-color: #D2E3FC;\n",
              "      --hover-bg-color: #434B5C;\n",
              "      --hover-fill-color: #FFFFFF;\n",
              "      --disabled-bg-color: #3B4455;\n",
              "      --disabled-fill-color: #666;\n",
              "  }\n",
              "\n",
              "  .colab-df-quickchart {\n",
              "    background-color: var(--bg-color);\n",
              "    border: none;\n",
              "    border-radius: 50%;\n",
              "    cursor: pointer;\n",
              "    display: none;\n",
              "    fill: var(--fill-color);\n",
              "    height: 32px;\n",
              "    padding: 0;\n",
              "    width: 32px;\n",
              "  }\n",
              "\n",
              "  .colab-df-quickchart:hover {\n",
              "    background-color: var(--hover-bg-color);\n",
              "    box-shadow: 0 1px 2px rgba(60, 64, 67, 0.3), 0 1px 3px 1px rgba(60, 64, 67, 0.15);\n",
              "    fill: var(--button-hover-fill-color);\n",
              "  }\n",
              "\n",
              "  .colab-df-quickchart-complete:disabled,\n",
              "  .colab-df-quickchart-complete:disabled:hover {\n",
              "    background-color: var(--disabled-bg-color);\n",
              "    fill: var(--disabled-fill-color);\n",
              "    box-shadow: none;\n",
              "  }\n",
              "\n",
              "  .colab-df-spinner {\n",
              "    border: 2px solid var(--fill-color);\n",
              "    border-color: transparent;\n",
              "    border-bottom-color: var(--fill-color);\n",
              "    animation:\n",
              "      spin 1s steps(1) infinite;\n",
              "  }\n",
              "\n",
              "  @keyframes spin {\n",
              "    0% {\n",
              "      border-color: transparent;\n",
              "      border-bottom-color: var(--fill-color);\n",
              "      border-left-color: var(--fill-color);\n",
              "    }\n",
              "    20% {\n",
              "      border-color: transparent;\n",
              "      border-left-color: var(--fill-color);\n",
              "      border-top-color: var(--fill-color);\n",
              "    }\n",
              "    30% {\n",
              "      border-color: transparent;\n",
              "      border-left-color: var(--fill-color);\n",
              "      border-top-color: var(--fill-color);\n",
              "      border-right-color: var(--fill-color);\n",
              "    }\n",
              "    40% {\n",
              "      border-color: transparent;\n",
              "      border-right-color: var(--fill-color);\n",
              "      border-top-color: var(--fill-color);\n",
              "    }\n",
              "    60% {\n",
              "      border-color: transparent;\n",
              "      border-right-color: var(--fill-color);\n",
              "    }\n",
              "    80% {\n",
              "      border-color: transparent;\n",
              "      border-right-color: var(--fill-color);\n",
              "      border-bottom-color: var(--fill-color);\n",
              "    }\n",
              "    90% {\n",
              "      border-color: transparent;\n",
              "      border-bottom-color: var(--fill-color);\n",
              "    }\n",
              "  }\n",
              "</style>\n",
              "\n",
              "  <script>\n",
              "    async function quickchart(key) {\n",
              "      const quickchartButtonEl =\n",
              "        document.querySelector('#' + key + ' button');\n",
              "      quickchartButtonEl.disabled = true;  // To prevent multiple clicks.\n",
              "      quickchartButtonEl.classList.add('colab-df-spinner');\n",
              "      try {\n",
              "        const charts = await google.colab.kernel.invokeFunction(\n",
              "            'suggestCharts', [key], {});\n",
              "      } catch (error) {\n",
              "        console.error('Error during call to suggestCharts:', error);\n",
              "      }\n",
              "      quickchartButtonEl.classList.remove('colab-df-spinner');\n",
              "      quickchartButtonEl.classList.add('colab-df-quickchart-complete');\n",
              "    }\n",
              "    (() => {\n",
              "      let quickchartButtonEl =\n",
              "        document.querySelector('#df-8ba27070-2cf9-4615-a9c6-87eda179caf5 button');\n",
              "      quickchartButtonEl.style.display =\n",
              "        google.colab.kernel.accessAllowed ? 'block' : 'none';\n",
              "    })();\n",
              "  </script>\n",
              "</div>\n",
              "\n",
              "    </div>\n",
              "  </div>\n"
            ],
            "application/vnd.google.colaboratory.intrinsic+json": {
              "type": "dataframe",
              "summary": "{\n  \"name\": \"df_val[df_val\",\n  \"rows\": 11,\n  \"fields\": [\n    {\n      \"column\": \"Claude_CIELAB\",\n      \"properties\": {\n        \"dtype\": \"string\",\n        \"num_unique_values\": 11,\n        \"samples\": [\n          \"[170, 100, 100]\",\n          \"[25, 36, 30]\",\n          \"[36.0, 55.0, 25.0]\"\n        ],\n        \"semantic_type\": \"\",\n        \"description\": \"\"\n      }\n    },\n    {\n      \"column\": \"img_name\",\n      \"properties\": {\n        \"dtype\": \"string\",\n        \"num_unique_values\": 11,\n        \"samples\": [\n          \"el_sku_PKTJ16_640x640_1.jpg\",\n          \"s2288447-av-01-zoom.jpg\",\n          \"s2427938-main-zoom.jpg\"\n        ],\n        \"semantic_type\": \"\",\n        \"description\": \"\"\n      }\n    }\n  ]\n}"
            }
          },
          "metadata": {},
          "execution_count": 165
        }
      ]
    },
    {
      "cell_type": "code",
      "source": [
        "#df.to_csv('/content/drive/My Drive/df_llm.csv')"
      ],
      "metadata": {
        "id": "ep9OpgQ2VRPx"
      },
      "execution_count": null,
      "outputs": []
    },
    {
      "cell_type": "markdown",
      "source": [],
      "metadata": {
        "id": "eUto19uokp_A"
      }
    },
    {
      "cell_type": "code",
      "source": [
        "import seaborn as sns"
      ],
      "metadata": {
        "id": "2_zdHBDHf9nQ"
      },
      "execution_count": null,
      "outputs": []
    },
    {
      "cell_type": "code",
      "source": [
        "# Create a scatter plot\n",
        "plt.figure(figsize=(8, 6))\n",
        "sns.scatterplot(data=df_val, x=df['diff_llm_lab'], y=df['diff_lab_3'], color='blue')\n",
        "plt.xlabel('Delta E for LLM (Method 2)')\n",
        "plt.ylabel('Delta E for Clustering (Method 1)')\n",
        "plt.title('Comparing Method 1 and Method 2')\n",
        "\n",
        "# Points for the line\n",
        "line_x = [0, 10, 20, 30, 40, 50, 60, 70, 80]\n",
        "line_y = [0, 10, 20, 30, 40, 50, 60, 70, 80]\n",
        "\n",
        "# Plot the line\n",
        "plt.plot(line_x, line_y, color='red', linestyle='-', linewidth=2, marker='o')\n",
        "\n",
        "\n",
        "plt.grid(True)\n",
        "plt.show()"
      ],
      "metadata": {
        "colab": {
          "base_uri": "https://localhost:8080/",
          "height": 564
        },
        "id": "wMGTbVZ1gBJ7",
        "outputId": "8cc39c73-2315-472d-fb0d-fc5be5ab37f7"
      },
      "execution_count": null,
      "outputs": [
        {
          "output_type": "display_data",
          "data": {
            "text/plain": [
              "<Figure size 800x600 with 1 Axes>"
            ],
            "image/png": "[encoded data removed]"
          },
          "metadata": {}
        }
      ]
    },
    {
      "cell_type": "markdown",
      "source": [
        "# Round 2: Improving the Prompt"
      ],
      "metadata": {
        "id": "9wKyjZDIlc5Q"
      }
    },
    {
      "cell_type": "markdown",
      "source": [
        "Here, I add the prompt as an input of the function:"
      ],
      "metadata": {
        "id": "FPiMqbOXltGN"
      }
    },
    {
      "cell_type": "code",
      "source": [
        "def apply_claude(image_path, key, prompt_round):\n",
        "    # wait\n",
        "    time.sleep(12)\n",
        "    # Resize and encode the image\n",
        "    resized_image = resize_image(image_path)\n",
        "    base64_image = encode_image(resized_image)\n",
        "\n",
        "\n",
        "\n",
        "    # Your API key and the API endpoint\n",
        "    api_key = key\n",
        "    api_url = \"https://api.anthropic.com/v1/messages\"\n",
        "\n",
        "    # Headers for the API request\n",
        "    headers = {\n",
        "      \"Content-Type\": \"application/json\",\n",
        "      \"X-API-Key\": api_key,\n",
        "      \"anthropic-version\": \"2023-06-01\"  # Add this line\n",
        "      }\n",
        "\n",
        "    # Prompt\n",
        "    prompt = prompt_round\n",
        "\n",
        "    # Data for the API request\n",
        "    data = {\n",
        "      \"model\": \"claude-3-opus-20240229\",\n",
        "      \"max_tokens\": 1000,\n",
        "      \"messages\": [\n",
        "        {\n",
        "            \"role\": \"user\",\n",
        "            \"content\": [\n",
        "                {\n",
        "                    \"type\": \"image\",\n",
        "                    \"source\": {\n",
        "                        \"type\": \"base64\",\n",
        "                        \"media_type\": \"image/jpeg\",\n",
        "                        \"data\": base64_image\n",
        "                    }\n",
        "                },\n",
        "                {\n",
        "                    \"type\": \"text\",\n",
        "                    \"text\": prompt\n",
        "                }\n",
        "            ]\n",
        "          }\n",
        "        ]\n",
        "      }\n",
        "    # Sending the request to the API\n",
        "    response = requests.post(api_url, json=data, headers=headers)\n",
        "\n",
        "    # Return response, list\n",
        "    return response.json()#['content'][0]['text']"
      ],
      "metadata": {
        "id": "Y5t1aOAUlc5T"
      },
      "execution_count": null,
      "outputs": []
    },
    {
      "cell_type": "markdown",
      "source": [
        "Now, I write a function to develop a more specific prompt for each product, to try to improve the color matching for lipstick and lipliner."
      ],
      "metadata": {
        "id": "mLKojX9GmMnX"
      }
    },
    {
      "cell_type": "code",
      "source": [
        "def prompt_product(category):\n",
        "  if category == 'lipstick':\n",
        "    return 'Your task is to identify the CIELAB color (or the closest approximation) of the lipstick in the image. Lipsticks are in a container, but focus solely on the color of the lipstick itself. Respond only with the CIELAB color in a Python list format. For CIELAB color, L is between 0 and 100, a and b are between -128 and 128.'\n",
        "  if category == 'lipliner':\n",
        "    return 'Your task is to identify the CIELAB color (or the closest approximation) of the pencil in the image. I need the color of the pencil which will be in the tip of the pencil. Respond only with the CIELAB color in a Python list format. For CIELAB color, L is between 0 and 100, a and b are between -128 and 128.'\n",
        "  if category == 'blush':\n",
        "    return 'Your task is to identify the CIELAB color (or the closest approximation) of the blush or foundation in the image. Makeup sometimes comes in containers, but focus solely on the color of the makeup itself. Respond only with the CIELAB color in a Python list format. For CIELAB color, L is between 0 and 100, a and b are between -128 and 128.'\n",
        "  if category == 'lipgloss':\n",
        "    return 'Your task is to identify the CIELAB color (or the closest approximation) of the lipgloss in the image. I need the color of the lipgloss, not the container. Respond only with the CIELAB color in a Python list format. For CIELAB color, L is between 0 and 100, a and b are between -128 and 128.'\n"
      ],
      "metadata": {
        "id": "-Yovt2DXly2K"
      },
      "execution_count": null,
      "outputs": []
    },
    {
      "cell_type": "code",
      "source": [
        "df['Claude_message_2'] = pd.Series(dtype='object')"
      ],
      "metadata": {
        "id": "gVVHAkMZlc5T"
      },
      "execution_count": null,
      "outputs": []
    },
    {
      "cell_type": "code",
      "source": [
        "for i in range(len(df)):\n",
        "    path = '/content/drive/MyDrive/makeup_img/' + str(df.img_name[i])\n",
        "    prompt3 = prompt_product(df.category[i])\n",
        "    lab_claude = apply_claude(path, key, prompt3)\n",
        "    df.at[i, 'Claude_message_2'] = lab_claude"
      ],
      "metadata": {
        "colab": {
          "base_uri": "https://localhost:8080/"
        },
        "outputId": "f59b29d0-43da-488f-f3f5-858da3ecc223",
        "id": "HFkqC4eelc5T"
      },
      "execution_count": null,
      "outputs": [
        {
          "output_type": "stream",
          "name": "stderr",
          "text": [
            "/usr/local/lib/python3.10/dist-packages/PIL/Image.py:996: UserWarning: Palette images with Transparency expressed in bytes should be converted to RGBA images\n",
            "  warnings.warn(\n"
          ]
        }
      ]
    },
    {
      "cell_type": "markdown",
      "source": [
        "Below, I extract color list from json response"
      ],
      "metadata": {
        "id": "Z23ydqxblc5U"
      }
    },
    {
      "cell_type": "code",
      "source": [
        "df['Claude_CIELAB_2'] = df['Claude_message_2'].apply(lambda x: x['content'][0]['text'])"
      ],
      "metadata": {
        "id": "MN0g8jzNlc5V"
      },
      "execution_count": null,
      "outputs": []
    },
    {
      "cell_type": "code",
      "source": [
        "df.loc[0, 'Claude_CIELAB_2']"
      ],
      "metadata": {
        "colab": {
          "base_uri": "https://localhost:8080/",
          "height": 35
        },
        "outputId": "986b32a4-589c-47be-a30d-127712151d87",
        "id": "02tjVAAAlc5V"
      },
      "execution_count": null,
      "outputs": [
        {
          "output_type": "execute_result",
          "data": {
            "text/plain": [
              "'[60, 25, 20]'"
            ],
            "application/vnd.google.colaboratory.intrinsic+json": {
              "type": "string"
            }
          },
          "metadata": {},
          "execution_count": 196
        }
      ]
    },
    {
      "cell_type": "markdown",
      "source": [
        "Next, I apply the function `is_list` to check if all of the values in `Claude_CIELAB` are lists. In the previous round, there was one case that was not a list, but this time, all cases are lists."
      ],
      "metadata": {
        "id": "2c-4voWOlc5V"
      }
    },
    {
      "cell_type": "code",
      "source": [
        "df['is_list_LLM_2'] = df['Claude_CIELAB'].apply(is_list)"
      ],
      "metadata": {
        "id": "9rg5UpAGlc5V"
      },
      "execution_count": null,
      "outputs": []
    },
    {
      "cell_type": "code",
      "source": [
        "df['is_list_LLM_2'].value_counts()/len(df)*100"
      ],
      "metadata": {
        "colab": {
          "base_uri": "https://localhost:8080/",
          "height": 147
        },
        "outputId": "0a6f2834-abae-429a-bec9-c80e41c98554",
        "id": "HHV_KbAElc5V"
      },
      "execution_count": null,
      "outputs": [
        {
          "output_type": "execute_result",
          "data": {
            "text/plain": [
              "is_list_LLM_2\n",
              "True    100.0\n",
              "Name: count, dtype: float64"
            ],
            "text/html": [
              "<div>\n",
              "<style scoped>\n",
              "    .dataframe tbody tr th:only-of-type {\n",
              "        vertical-align: middle;\n",
              "    }\n",
              "\n",
              "    .dataframe tbody tr th {\n",
              "        vertical-align: top;\n",
              "    }\n",
              "\n",
              "    .dataframe thead th {\n",
              "        text-align: right;\n",
              "    }\n",
              "</style>\n",
              "<table border=\"1\" class=\"dataframe\">\n",
              "  <thead>\n",
              "    <tr style=\"text-align: right;\">\n",
              "      <th></th>\n",
              "      <th>count</th>\n",
              "    </tr>\n",
              "    <tr>\n",
              "      <th>is_list_LLM_2</th>\n",
              "      <th></th>\n",
              "    </tr>\n",
              "  </thead>\n",
              "  <tbody>\n",
              "    <tr>\n",
              "      <th>True</th>\n",
              "      <td>100.0</td>\n",
              "    </tr>\n",
              "  </tbody>\n",
              "</table>\n",
              "</div><br><label><b>dtype:</b> float64</label>"
            ]
          },
          "metadata": {},
          "execution_count": 185
        }
      ]
    },
    {
      "cell_type": "markdown",
      "source": [
        "## Evaluating Model Results"
      ],
      "metadata": {
        "id": "bo_v12Jilc5W"
      }
    },
    {
      "cell_type": "markdown",
      "source": [
        "Next, I identify the validation set and calculate the color distance to assess how close the estimate and the ground truth are.\n",
        "\n",
        "To do this, I calculate Delta E (ΔE) which is a metric that quantifies the difference between two colors in the CIELAB color space. It calculates the distance between two points (representing colors) in the three-dimensional CIELAB space, where L* represents lightness, and a* and b* represent color-opponent dimensions.\n",
        "\n",
        "Delta E is measured on a scale of 0 to 100. A lower ΔE value indicates that the two colors are very similar to each other, while a higher ΔE value suggests a more noticeable difference. Delta E is widely used in color matching and quality control to assess how close two colors are to being identical.\n",
        "\n",
        "See also [color difference](https://en.wikipedia.org/wiki/Color_difference) in Wikipedia."
      ],
      "metadata": {
        "id": "ob3MxY3klc5X"
      }
    },
    {
      "cell_type": "code",
      "source": [
        "df['diff_llm_lab_2'] = pd.Series(dtype='object')\n",
        "\n",
        "for i in range(len(df)):\n",
        "  if df.ground_truth[i] == 1:\n",
        "    diff = deltaE_ciede2000(ast.literal_eval(df.Claude_CIELAB_2[i]), list(map(float, df.ground_truth_CIELAB[i].strip('[]').split())))\n",
        "    df.loc[i, 'diff_llm_lab_2'] = diff\n",
        "  else:\n",
        "    df.loc[i, 'diff_llm_lab_2'] = np.nan"
      ],
      "metadata": {
        "id": "M6_hF510lc5X"
      },
      "execution_count": null,
      "outputs": []
    },
    {
      "cell_type": "code",
      "source": [
        "df_val = pd.merge(df, val_df['id'], how='inner', on='id')\n",
        "df_val.shape"
      ],
      "metadata": {
        "colab": {
          "base_uri": "https://localhost:8080/"
        },
        "id": "TGHT-1p0Gwtl",
        "outputId": "d8d2c106-085c-450b-84ca-b4d6ec2cd2cb"
      },
      "execution_count": null,
      "outputs": [
        {
          "output_type": "execute_result",
          "data": {
            "text/plain": [
              "(203, 34)"
            ]
          },
          "metadata": {},
          "execution_count": 200
        }
      ]
    },
    {
      "cell_type": "markdown",
      "source": [
        "In the previous round, the mean for Delta E was 15, and now it went down to 11."
      ],
      "metadata": {
        "id": "YPuSLDolGQu1"
      }
    },
    {
      "cell_type": "code",
      "source": [
        "df_val.diff_llm_lab_2.mean()"
      ],
      "metadata": {
        "colab": {
          "base_uri": "https://localhost:8080/"
        },
        "outputId": "55c77392-5839-4d48-b330-e0b9e3c7c46f",
        "id": "1QaF4X6rlc5X"
      },
      "execution_count": null,
      "outputs": [
        {
          "output_type": "execute_result",
          "data": {
            "text/plain": [
              "11.589597671391237"
            ]
          },
          "metadata": {},
          "execution_count": 201
        }
      ]
    },
    {
      "cell_type": "code",
      "source": [
        "df_val.diff_llm_lab.mean()"
      ],
      "metadata": {
        "colab": {
          "base_uri": "https://localhost:8080/"
        },
        "id": "SPJUu9ciHGBa",
        "outputId": "bcf43279-1582-4fbe-af03-5e7cd27fa854"
      },
      "execution_count": null,
      "outputs": [
        {
          "output_type": "execute_result",
          "data": {
            "text/plain": [
              "16.45594936532544"
            ]
          },
          "metadata": {},
          "execution_count": 206
        }
      ]
    },
    {
      "cell_type": "code",
      "source": [
        "(11.58-16.45)/16.45*100"
      ],
      "metadata": {
        "colab": {
          "base_uri": "https://localhost:8080/"
        },
        "id": "zQHv9CmLHKdZ",
        "outputId": "c344d3c8-c1cf-41e9-ac66-84afbbf1b5ac"
      },
      "execution_count": null,
      "outputs": [
        {
          "output_type": "execute_result",
          "data": {
            "text/plain": [
              "-29.604863221884496"
            ]
          },
          "metadata": {},
          "execution_count": 209
        }
      ]
    },
    {
      "cell_type": "code",
      "source": [
        "(10.5-12.7)/12.7*100"
      ],
      "metadata": {
        "colab": {
          "base_uri": "https://localhost:8080/"
        },
        "id": "t-h20QTvHZxx",
        "outputId": "c0a497ce-6364-49f6-f606-b3d4b88b60f5"
      },
      "execution_count": null,
      "outputs": [
        {
          "output_type": "execute_result",
          "data": {
            "text/plain": [
              "-17.322834645669285"
            ]
          },
          "metadata": {},
          "execution_count": 210
        }
      ]
    },
    {
      "cell_type": "markdown",
      "source": [
        "Below is a histogram for Delta E each observation in the validation set. For a ΔE value of 0 indicates that the colors are identical, while values up to 10 suggest that the colors are similar. For color-matching applications, a threshold between 10 and 15 is generally effective (see [Color Difference Estimation](https://medium.com/@bhuwankhatiwada57/color-difference-estimation-using-cie-l-a-b-color-space-b415f97a6b94) and [Delta E - A Survey](https://wisotop.de/assets/2017/DeltaE-%20Survey-2.pdf))\n",
        "\n",
        "The mean Delta E is 11.8 and the median, 10.5. This means that 50% of the cases are below 10.5.\n",
        "\n",
        "Compared to round 1, the mean decreased from 16.4 to 11.5, which is a 30% decrease. The median decreased from 12.8 to 10.56, which is a 17% decrease. Because the median and the mean are closer togehter now, we see there is a smaller number of cases in the tail of the distributions -- that is, cases predicted that were very far off from the ground truth color.\n"
      ],
      "metadata": {
        "id": "-vVSaCUolc5X"
      }
    },
    {
      "cell_type": "code",
      "source": [
        "df_val.diff_llm_lab_2.median()"
      ],
      "metadata": {
        "colab": {
          "base_uri": "https://localhost:8080/"
        },
        "outputId": "a3dd9fd7-83ff-4744-96c1-eeb7ee2a8df9",
        "id": "eHuMaNyqlc5Y"
      },
      "execution_count": null,
      "outputs": [
        {
          "output_type": "execute_result",
          "data": {
            "text/plain": [
              "10.560885107205264"
            ]
          },
          "metadata": {},
          "execution_count": 202
        }
      ]
    },
    {
      "cell_type": "code",
      "source": [
        "df_val.diff_llm_lab.median()"
      ],
      "metadata": {
        "colab": {
          "base_uri": "https://localhost:8080/"
        },
        "outputId": "0ad4c02e-a375-42b1-d702-70df493f577b",
        "id": "t6WNrhkjlc5Y"
      },
      "execution_count": null,
      "outputs": [
        {
          "output_type": "execute_result",
          "data": {
            "text/plain": [
              "12.788086337727593"
            ]
          },
          "metadata": {},
          "execution_count": 205
        }
      ]
    },
    {
      "cell_type": "code",
      "source": [
        "df_val.diff_llm_lab_2.hist(bins=50)"
      ],
      "metadata": {
        "colab": {
          "base_uri": "https://localhost:8080/",
          "height": 448
        },
        "outputId": "e67d3485-7c77-4c16-c358-58964b57ca21",
        "id": "wayHxH0Zlc5Y"
      },
      "execution_count": null,
      "outputs": [
        {
          "output_type": "execute_result",
          "data": {
            "text/plain": [
              "<Axes: >"
            ]
          },
          "metadata": {},
          "execution_count": 203
        },
        {
          "output_type": "display_data",
          "data": {
            "text/plain": [
              "<Figure size 640x480 with 1 Axes>"
            ],
            "image/png": "[encoded data removed]"
          },
          "metadata": {}
        }
      ]
    },
    {
      "cell_type": "markdown",
      "source": [
        "We can also look at Delta E by product category. Below, we see that 'Delta E' is tends to be larger for 'lipstick', probably because lipstick is in a container and the color of the container is confounded with the color of the makeup.\n",
        "\n",
        "Moreover, looking at the mean Delta E per product:\n",
        "\n",
        "- Blush: Mean Delta E decreased from 15.4 to 9.5\n",
        "- Lipgloss: Mean Delta E decreased fron 15.5 to 12.05\n",
        "- Lipliner: Mean Delta E decreased from 20.8 to 13.3\n",
        "- Lipstick: Mean Delta E decreased from 17.5 to 13.2\n",
        "\n",
        "The Delta E variance for these all product categories decreased considerably."
      ],
      "metadata": {
        "id": "BXT1A6GGlc5Y"
      }
    },
    {
      "cell_type": "code",
      "source": [
        "# histogram with delta E by product category\n",
        "# Create a figure and axis\n",
        "fig, ax = plt.subplots()\n",
        "\n",
        "# Group by the 'Group' column and plot a histogram for each group\n",
        "for name, group in df_val.groupby('category'):\n",
        "    ax.hist(group['diff_llm_lab_2'], bins=10, alpha=0.5, label=name)\n",
        "\n",
        "# Add labels and legend\n",
        "ax.set_xlabel('Value')\n",
        "ax.set_ylabel('Frequency')\n",
        "ax.set_title('Histogram by Product Category')\n",
        "ax.legend(title='Group')\n",
        "\n",
        "# Show the plot\n",
        "plt.show()"
      ],
      "metadata": {
        "colab": {
          "base_uri": "https://localhost:8080/",
          "height": 543
        },
        "outputId": "579f715b-a041-481b-ecfd-3763e30d52cb",
        "id": "1lww_RxAlc5Z"
      },
      "execution_count": null,
      "outputs": [
        {
          "output_type": "stream",
          "name": "stderr",
          "text": [
            "/usr/local/lib/python3.10/dist-packages/numpy/lib/histograms.py:825: RuntimeWarning: invalid value encountered in greater_equal\n",
            "  keep = (tmp_a >= first_edge)\n",
            "/usr/local/lib/python3.10/dist-packages/numpy/lib/histograms.py:826: RuntimeWarning: invalid value encountered in less_equal\n",
            "  keep &= (tmp_a <= last_edge)\n"
          ]
        },
        {
          "output_type": "display_data",
          "data": {
            "text/plain": [
              "<Figure size 640x480 with 1 Axes>"
            ],
            "image/png": "[encoded data removed]"
          },
          "metadata": {}
        }
      ]
    },
    {
      "cell_type": "code",
      "source": [
        "product_deltaE = df_val.diff_llm_lab_2.groupby(df_val.category).mean()\n",
        "product_deltaE = product_deltaE.reset_index()\n",
        "product_deltaE.columns = ['product category', 'Delta E']\n",
        "\n",
        "print('Table: DeltaE (mean) by Product')\n",
        "product_deltaE"
      ],
      "metadata": {
        "colab": {
          "base_uri": "https://localhost:8080/",
          "height": 193
        },
        "outputId": "99524c13-4d25-4ae2-ea7d-a33aac380af0",
        "id": "_z-evb2xlc5Z"
      },
      "execution_count": null,
      "outputs": [
        {
          "output_type": "stream",
          "name": "stdout",
          "text": [
            "Table: DeltaE (mean) by Product\n"
          ]
        },
        {
          "output_type": "execute_result",
          "data": {
            "text/plain": [
              "  product category    Delta E\n",
              "0            blush   9.588244\n",
              "1         lipgloss  12.055304\n",
              "2         lipliner  13.337426\n",
              "3         lipstick  13.203915"
            ],
            "text/html": [
              "\n",
              "  <div id=\"df-716d5108-1118-4963-8c0a-f1654ab05b84\" class=\"colab-df-container\">\n",
              "    <div>\n",
              "<style scoped>\n",
              "    .dataframe tbody tr th:only-of-type {\n",
              "        vertical-align: middle;\n",
              "    }\n",
              "\n",
              "    .dataframe tbody tr th {\n",
              "        vertical-align: top;\n",
              "    }\n",
              "\n",
              "    .dataframe thead th {\n",
              "        text-align: right;\n",
              "    }\n",
              "</style>\n",
              "<table border=\"1\" class=\"dataframe\">\n",
              "  <thead>\n",
              "    <tr style=\"text-align: right;\">\n",
              "      <th></th>\n",
              "      <th>product category</th>\n",
              "      <th>Delta E</th>\n",
              "    </tr>\n",
              "  </thead>\n",
              "  <tbody>\n",
              "    <tr>\n",
              "      <th>0</th>\n",
              "      <td>blush</td>\n",
              "      <td>9.588244</td>\n",
              "    </tr>\n",
              "    <tr>\n",
              "      <th>1</th>\n",
              "      <td>lipgloss</td>\n",
              "      <td>12.055304</td>\n",
              "    </tr>\n",
              "    <tr>\n",
              "      <th>2</th>\n",
              "      <td>lipliner</td>\n",
              "      <td>13.337426</td>\n",
              "    </tr>\n",
              "    <tr>\n",
              "      <th>3</th>\n",
              "      <td>lipstick</td>\n",
              "      <td>13.203915</td>\n",
              "    </tr>\n",
              "  </tbody>\n",
              "</table>\n",
              "</div>\n",
              "    <div class=\"colab-df-buttons\">\n",
              "\n",
              "  <div class=\"colab-df-container\">\n",
              "    <button class=\"colab-df-convert\" onclick=\"convertToInteractive('df-716d5108-1118-4963-8c0a-f1654ab05b84')\"\n",
              "            title=\"Convert this dataframe to an interactive table.\"\n",
              "            style=\"display:none;\">\n",
              "\n",
              "  <svg xmlns=\"http://www.w3.org/2000/svg\" height=\"24px\" viewBox=\"0 -960 960 960\">\n",
              "    <path d=\"M120-120v-720h720v720H120Zm60-500h600v-160H180v160Zm220 220h160v-160H400v160Zm0 220h160v-160H400v160ZM180-400h160v-160H180v160Zm440 0h160v-160H620v160ZM180-180h160v-160H180v160Zm440 0h160v-160H620v160Z\"/>\n",
              "  </svg>\n",
              "    </button>\n",
              "\n",
              "  <style>\n",
              "    .colab-df-container {\n",
              "      display:flex;\n",
              "      gap: 12px;\n",
              "    }\n",
              "\n",
              "    .colab-df-convert {\n",
              "      background-color: #E8F0FE;\n",
              "      border: none;\n",
              "      border-radius: 50%;\n",
              "      cursor: pointer;\n",
              "      display: none;\n",
              "      fill: #1967D2;\n",
              "      height: 32px;\n",
              "      padding: 0 0 0 0;\n",
              "      width: 32px;\n",
              "    }\n",
              "\n",
              "    .colab-df-convert:hover {\n",
              "      background-color: #E2EBFA;\n",
              "      box-shadow: 0px 1px 2px rgba(60, 64, 67, 0.3), 0px 1px 3px 1px rgba(60, 64, 67, 0.15);\n",
              "      fill: #174EA6;\n",
              "    }\n",
              "\n",
              "    .colab-df-buttons div {\n",
              "      margin-bottom: 4px;\n",
              "    }\n",
              "\n",
              "    [theme=dark] .colab-df-convert {\n",
              "      background-color: #3B4455;\n",
              "      fill: #D2E3FC;\n",
              "    }\n",
              "\n",
              "    [theme=dark] .colab-df-convert:hover {\n",
              "      background-color: #434B5C;\n",
              "      box-shadow: 0px 1px 3px 1px rgba(0, 0, 0, 0.15);\n",
              "      filter: drop-shadow(0px 1px 2px rgba(0, 0, 0, 0.3));\n",
              "      fill: #FFFFFF;\n",
              "    }\n",
              "  </style>\n",
              "\n",
              "    <script>\n",
              "      const buttonEl =\n",
              "        document.querySelector('#df-716d5108-1118-4963-8c0a-f1654ab05b84 button.colab-df-convert');\n",
              "      buttonEl.style.display =\n",
              "        google.colab.kernel.accessAllowed ? 'block' : 'none';\n",
              "\n",
              "      async function convertToInteractive(key) {\n",
              "        const element = document.querySelector('#df-716d5108-1118-4963-8c0a-f1654ab05b84');\n",
              "        const dataTable =\n",
              "          await google.colab.kernel.invokeFunction('convertToInteractive',\n",
              "                                                    [key], {});\n",
              "        if (!dataTable) return;\n",
              "\n",
              "        const docLinkHtml = 'Like what you see? Visit the ' +\n",
              "          '<a target=\"_blank\" href=https://colab.research.google.com/notebooks/data_table.ipynb>data table notebook</a>'\n",
              "          + ' to learn more about interactive tables.';\n",
              "        element.innerHTML = '';\n",
              "        dataTable['output_type'] = 'display_data';\n",
              "        await google.colab.output.renderOutput(dataTable, element);\n",
              "        const docLink = document.createElement('div');\n",
              "        docLink.innerHTML = docLinkHtml;\n",
              "        element.appendChild(docLink);\n",
              "      }\n",
              "    </script>\n",
              "  </div>\n",
              "\n",
              "\n",
              "<div id=\"df-527be19e-8570-4b49-a8b3-412158dfb84a\">\n",
              "  <button class=\"colab-df-quickchart\" onclick=\"quickchart('df-527be19e-8570-4b49-a8b3-412158dfb84a')\"\n",
              "            title=\"Suggest charts\"\n",
              "            style=\"display:none;\">\n",
              "\n",
              "<svg xmlns=\"http://www.w3.org/2000/svg\" height=\"24px\"viewBox=\"0 0 24 24\"\n",
              "     width=\"24px\">\n",
              "    <g>\n",
              "        <path d=\"M19 3H5c-1.1 0-2 .9-2 2v14c0 1.1.9 2 2 2h14c1.1 0 2-.9 2-2V5c0-1.1-.9-2-2-2zM9 17H7v-7h2v7zm4 0h-2V7h2v10zm4 0h-2v-4h2v4z\"/>\n",
              "    </g>\n",
              "</svg>\n",
              "  </button>\n",
              "\n",
              "<style>\n",
              "  .colab-df-quickchart {\n",
              "      --bg-color: #E8F0FE;\n",
              "      --fill-color: #1967D2;\n",
              "      --hover-bg-color: #E2EBFA;\n",
              "      --hover-fill-color: #174EA6;\n",
              "      --disabled-fill-color: #AAA;\n",
              "      --disabled-bg-color: #DDD;\n",
              "  }\n",
              "\n",
              "  [theme=dark] .colab-df-quickchart {\n",
              "      --bg-color: #3B4455;\n",
              "      --fill-color: #D2E3FC;\n",
              "      --hover-bg-color: #434B5C;\n",
              "      --hover-fill-color: #FFFFFF;\n",
              "      --disabled-bg-color: #3B4455;\n",
              "      --disabled-fill-color: #666;\n",
              "  }\n",
              "\n",
              "  .colab-df-quickchart {\n",
              "    background-color: var(--bg-color);\n",
              "    border: none;\n",
              "    border-radius: 50%;\n",
              "    cursor: pointer;\n",
              "    display: none;\n",
              "    fill: var(--fill-color);\n",
              "    height: 32px;\n",
              "    padding: 0;\n",
              "    width: 32px;\n",
              "  }\n",
              "\n",
              "  .colab-df-quickchart:hover {\n",
              "    background-color: var(--hover-bg-color);\n",
              "    box-shadow: 0 1px 2px rgba(60, 64, 67, 0.3), 0 1px 3px 1px rgba(60, 64, 67, 0.15);\n",
              "    fill: var(--button-hover-fill-color);\n",
              "  }\n",
              "\n",
              "  .colab-df-quickchart-complete:disabled,\n",
              "  .colab-df-quickchart-complete:disabled:hover {\n",
              "    background-color: var(--disabled-bg-color);\n",
              "    fill: var(--disabled-fill-color);\n",
              "    box-shadow: none;\n",
              "  }\n",
              "\n",
              "  .colab-df-spinner {\n",
              "    border: 2px solid var(--fill-color);\n",
              "    border-color: transparent;\n",
              "    border-bottom-color: var(--fill-color);\n",
              "    animation:\n",
              "      spin 1s steps(1) infinite;\n",
              "  }\n",
              "\n",
              "  @keyframes spin {\n",
              "    0% {\n",
              "      border-color: transparent;\n",
              "      border-bottom-color: var(--fill-color);\n",
              "      border-left-color: var(--fill-color);\n",
              "    }\n",
              "    20% {\n",
              "      border-color: transparent;\n",
              "      border-left-color: var(--fill-color);\n",
              "      border-top-color: var(--fill-color);\n",
              "    }\n",
              "    30% {\n",
              "      border-color: transparent;\n",
              "      border-left-color: var(--fill-color);\n",
              "      border-top-color: var(--fill-color);\n",
              "      border-right-color: var(--fill-color);\n",
              "    }\n",
              "    40% {\n",
              "      border-color: transparent;\n",
              "      border-right-color: var(--fill-color);\n",
              "      border-top-color: var(--fill-color);\n",
              "    }\n",
              "    60% {\n",
              "      border-color: transparent;\n",
              "      border-right-color: var(--fill-color);\n",
              "    }\n",
              "    80% {\n",
              "      border-color: transparent;\n",
              "      border-right-color: var(--fill-color);\n",
              "      border-bottom-color: var(--fill-color);\n",
              "    }\n",
              "    90% {\n",
              "      border-color: transparent;\n",
              "      border-bottom-color: var(--fill-color);\n",
              "    }\n",
              "  }\n",
              "</style>\n",
              "\n",
              "  <script>\n",
              "    async function quickchart(key) {\n",
              "      const quickchartButtonEl =\n",
              "        document.querySelector('#' + key + ' button');\n",
              "      quickchartButtonEl.disabled = true;  // To prevent multiple clicks.\n",
              "      quickchartButtonEl.classList.add('colab-df-spinner');\n",
              "      try {\n",
              "        const charts = await google.colab.kernel.invokeFunction(\n",
              "            'suggestCharts', [key], {});\n",
              "      } catch (error) {\n",
              "        console.error('Error during call to suggestCharts:', error);\n",
              "      }\n",
              "      quickchartButtonEl.classList.remove('colab-df-spinner');\n",
              "      quickchartButtonEl.classList.add('colab-df-quickchart-complete');\n",
              "    }\n",
              "    (() => {\n",
              "      let quickchartButtonEl =\n",
              "        document.querySelector('#df-527be19e-8570-4b49-a8b3-412158dfb84a button');\n",
              "      quickchartButtonEl.style.display =\n",
              "        google.colab.kernel.accessAllowed ? 'block' : 'none';\n",
              "    })();\n",
              "  </script>\n",
              "</div>\n",
              "\n",
              "  <div id=\"id_6e8b198f-44ed-4684-8ec9-a48f03ef94c6\">\n",
              "    <style>\n",
              "      .colab-df-generate {\n",
              "        background-color: #E8F0FE;\n",
              "        border: none;\n",
              "        border-radius: 50%;\n",
              "        cursor: pointer;\n",
              "        display: none;\n",
              "        fill: #1967D2;\n",
              "        height: 32px;\n",
              "        padding: 0 0 0 0;\n",
              "        width: 32px;\n",
              "      }\n",
              "\n",
              "      .colab-df-generate:hover {\n",
              "        background-color: #E2EBFA;\n",
              "        box-shadow: 0px 1px 2px rgba(60, 64, 67, 0.3), 0px 1px 3px 1px rgba(60, 64, 67, 0.15);\n",
              "        fill: #174EA6;\n",
              "      }\n",
              "\n",
              "      [theme=dark] .colab-df-generate {\n",
              "        background-color: #3B4455;\n",
              "        fill: #D2E3FC;\n",
              "      }\n",
              "\n",
              "      [theme=dark] .colab-df-generate:hover {\n",
              "        background-color: #434B5C;\n",
              "        box-shadow: 0px 1px 3px 1px rgba(0, 0, 0, 0.15);\n",
              "        filter: drop-shadow(0px 1px 2px rgba(0, 0, 0, 0.3));\n",
              "        fill: #FFFFFF;\n",
              "      }\n",
              "    </style>\n",
              "    <button class=\"colab-df-generate\" onclick=\"generateWithVariable('product_deltaE')\"\n",
              "            title=\"Generate code using this dataframe.\"\n",
              "            style=\"display:none;\">\n",
              "\n",
              "  <svg xmlns=\"http://www.w3.org/2000/svg\" height=\"24px\"viewBox=\"0 0 24 24\"\n",
              "       width=\"24px\">\n",
              "    <path d=\"M7,19H8.4L18.45,9,17,7.55,7,17.6ZM5,21V16.75L18.45,3.32a2,2,0,0,1,2.83,0l1.4,1.43a1.91,1.91,0,0,1,.58,1.4,1.91,1.91,0,0,1-.58,1.4L9.25,21ZM18.45,9,17,7.55Zm-12,3A5.31,5.31,0,0,0,4.9,8.1,5.31,5.31,0,0,0,1,6.5,5.31,5.31,0,0,0,4.9,4.9,5.31,5.31,0,0,0,6.5,1,5.31,5.31,0,0,0,8.1,4.9,5.31,5.31,0,0,0,12,6.5,5.46,5.46,0,0,0,6.5,12Z\"/>\n",
              "  </svg>\n",
              "    </button>\n",
              "    <script>\n",
              "      (() => {\n",
              "      const buttonEl =\n",
              "        document.querySelector('#id_6e8b198f-44ed-4684-8ec9-a48f03ef94c6 button.colab-df-generate');\n",
              "      buttonEl.style.display =\n",
              "        google.colab.kernel.accessAllowed ? 'block' : 'none';\n",
              "\n",
              "      buttonEl.onclick = () => {\n",
              "        google.colab.notebook.generateWithVariable('product_deltaE');\n",
              "      }\n",
              "      })();\n",
              "    </script>\n",
              "  </div>\n",
              "\n",
              "    </div>\n",
              "  </div>\n"
            ],
            "application/vnd.google.colaboratory.intrinsic+json": {
              "type": "dataframe",
              "variable_name": "product_deltaE",
              "summary": "{\n  \"name\": \"product_deltaE\",\n  \"rows\": 4,\n  \"fields\": [\n    {\n      \"column\": \"product category\",\n      \"properties\": {\n        \"dtype\": \"string\",\n        \"num_unique_values\": 4,\n        \"samples\": [\n          \"lipgloss\",\n          \"lipstick\",\n          \"blush\"\n        ],\n        \"semantic_type\": \"\",\n        \"description\": \"\"\n      }\n    },\n    {\n      \"column\": \"Delta E\",\n      \"properties\": {\n        \"dtype\": \"date\",\n        \"min\": 9.588244452655742,\n        \"max\": 13.337425912067381,\n        \"num_unique_values\": 4,\n        \"samples\": [\n          12.055303866141491,\n          13.203915270648066,\n          9.588244452655742\n        ],\n        \"semantic_type\": \"\",\n        \"description\": \"\"\n      }\n    }\n  ]\n}"
            }
          },
          "metadata": {},
          "execution_count": 212
        }
      ]
    },
    {
      "cell_type": "code",
      "source": [
        "product_deltaE = df_val.diff_llm_lab_2.groupby(df_val.category).var()\n",
        "product_deltaE = product_deltaE.reset_index()\n",
        "product_deltaE.columns = ['product category', 'Delta E']\n",
        "\n",
        "print('Table: DeltaE (SD) by Product')\n",
        "product_deltaE"
      ],
      "metadata": {
        "colab": {
          "base_uri": "https://localhost:8080/",
          "height": 193
        },
        "outputId": "c4b60e1a-63bc-4cf1-8a98-ba27afd0ebd1",
        "id": "IHAVL6edlc5Z"
      },
      "execution_count": null,
      "outputs": [
        {
          "output_type": "stream",
          "name": "stdout",
          "text": [
            "Table: DeltaE (SD) by Product\n"
          ]
        },
        {
          "output_type": "execute_result",
          "data": {
            "text/plain": [
              "  product category    Delta E\n",
              "0            blush  32.686877\n",
              "1         lipgloss   76.26953\n",
              "2         lipliner  48.387181\n",
              "3         lipstick  56.844741"
            ],
            "text/html": [
              "\n",
              "  <div id=\"df-56b9e7ac-cdc2-4c98-bd1d-e53ea57092f7\" class=\"colab-df-container\">\n",
              "    <div>\n",
              "<style scoped>\n",
              "    .dataframe tbody tr th:only-of-type {\n",
              "        vertical-align: middle;\n",
              "    }\n",
              "\n",
              "    .dataframe tbody tr th {\n",
              "        vertical-align: top;\n",
              "    }\n",
              "\n",
              "    .dataframe thead th {\n",
              "        text-align: right;\n",
              "    }\n",
              "</style>\n",
              "<table border=\"1\" class=\"dataframe\">\n",
              "  <thead>\n",
              "    <tr style=\"text-align: right;\">\n",
              "      <th></th>\n",
              "      <th>product category</th>\n",
              "      <th>Delta E</th>\n",
              "    </tr>\n",
              "  </thead>\n",
              "  <tbody>\n",
              "    <tr>\n",
              "      <th>0</th>\n",
              "      <td>blush</td>\n",
              "      <td>32.686877</td>\n",
              "    </tr>\n",
              "    <tr>\n",
              "      <th>1</th>\n",
              "      <td>lipgloss</td>\n",
              "      <td>76.26953</td>\n",
              "    </tr>\n",
              "    <tr>\n",
              "      <th>2</th>\n",
              "      <td>lipliner</td>\n",
              "      <td>48.387181</td>\n",
              "    </tr>\n",
              "    <tr>\n",
              "      <th>3</th>\n",
              "      <td>lipstick</td>\n",
              "      <td>56.844741</td>\n",
              "    </tr>\n",
              "  </tbody>\n",
              "</table>\n",
              "</div>\n",
              "    <div class=\"colab-df-buttons\">\n",
              "\n",
              "  <div class=\"colab-df-container\">\n",
              "    <button class=\"colab-df-convert\" onclick=\"convertToInteractive('df-56b9e7ac-cdc2-4c98-bd1d-e53ea57092f7')\"\n",
              "            title=\"Convert this dataframe to an interactive table.\"\n",
              "            style=\"display:none;\">\n",
              "\n",
              "  <svg xmlns=\"http://www.w3.org/2000/svg\" height=\"24px\" viewBox=\"0 -960 960 960\">\n",
              "    <path d=\"M120-120v-720h720v720H120Zm60-500h600v-160H180v160Zm220 220h160v-160H400v160Zm0 220h160v-160H400v160ZM180-400h160v-160H180v160Zm440 0h160v-160H620v160ZM180-180h160v-160H180v160Zm440 0h160v-160H620v160Z\"/>\n",
              "  </svg>\n",
              "    </button>\n",
              "\n",
              "  <style>\n",
              "    .colab-df-container {\n",
              "      display:flex;\n",
              "      gap: 12px;\n",
              "    }\n",
              "\n",
              "    .colab-df-convert {\n",
              "      background-color: #E8F0FE;\n",
              "      border: none;\n",
              "      border-radius: 50%;\n",
              "      cursor: pointer;\n",
              "      display: none;\n",
              "      fill: #1967D2;\n",
              "      height: 32px;\n",
              "      padding: 0 0 0 0;\n",
              "      width: 32px;\n",
              "    }\n",
              "\n",
              "    .colab-df-convert:hover {\n",
              "      background-color: #E2EBFA;\n",
              "      box-shadow: 0px 1px 2px rgba(60, 64, 67, 0.3), 0px 1px 3px 1px rgba(60, 64, 67, 0.15);\n",
              "      fill: #174EA6;\n",
              "    }\n",
              "\n",
              "    .colab-df-buttons div {\n",
              "      margin-bottom: 4px;\n",
              "    }\n",
              "\n",
              "    [theme=dark] .colab-df-convert {\n",
              "      background-color: #3B4455;\n",
              "      fill: #D2E3FC;\n",
              "    }\n",
              "\n",
              "    [theme=dark] .colab-df-convert:hover {\n",
              "      background-color: #434B5C;\n",
              "      box-shadow: 0px 1px 3px 1px rgba(0, 0, 0, 0.15);\n",
              "      filter: drop-shadow(0px 1px 2px rgba(0, 0, 0, 0.3));\n",
              "      fill: #FFFFFF;\n",
              "    }\n",
              "  </style>\n",
              "\n",
              "    <script>\n",
              "      const buttonEl =\n",
              "        document.querySelector('#df-56b9e7ac-cdc2-4c98-bd1d-e53ea57092f7 button.colab-df-convert');\n",
              "      buttonEl.style.display =\n",
              "        google.colab.kernel.accessAllowed ? 'block' : 'none';\n",
              "\n",
              "      async function convertToInteractive(key) {\n",
              "        const element = document.querySelector('#df-56b9e7ac-cdc2-4c98-bd1d-e53ea57092f7');\n",
              "        const dataTable =\n",
              "          await google.colab.kernel.invokeFunction('convertToInteractive',\n",
              "                                                    [key], {});\n",
              "        if (!dataTable) return;\n",
              "\n",
              "        const docLinkHtml = 'Like what you see? Visit the ' +\n",
              "          '<a target=\"_blank\" href=https://colab.research.google.com/notebooks/data_table.ipynb>data table notebook</a>'\n",
              "          + ' to learn more about interactive tables.';\n",
              "        element.innerHTML = '';\n",
              "        dataTable['output_type'] = 'display_data';\n",
              "        await google.colab.output.renderOutput(dataTable, element);\n",
              "        const docLink = document.createElement('div');\n",
              "        docLink.innerHTML = docLinkHtml;\n",
              "        element.appendChild(docLink);\n",
              "      }\n",
              "    </script>\n",
              "  </div>\n",
              "\n",
              "\n",
              "<div id=\"df-1b2d248d-44a6-45cd-99ed-5a3557b91d1f\">\n",
              "  <button class=\"colab-df-quickchart\" onclick=\"quickchart('df-1b2d248d-44a6-45cd-99ed-5a3557b91d1f')\"\n",
              "            title=\"Suggest charts\"\n",
              "            style=\"display:none;\">\n",
              "\n",
              "<svg xmlns=\"http://www.w3.org/2000/svg\" height=\"24px\"viewBox=\"0 0 24 24\"\n",
              "     width=\"24px\">\n",
              "    <g>\n",
              "        <path d=\"M19 3H5c-1.1 0-2 .9-2 2v14c0 1.1.9 2 2 2h14c1.1 0 2-.9 2-2V5c0-1.1-.9-2-2-2zM9 17H7v-7h2v7zm4 0h-2V7h2v10zm4 0h-2v-4h2v4z\"/>\n",
              "    </g>\n",
              "</svg>\n",
              "  </button>\n",
              "\n",
              "<style>\n",
              "  .colab-df-quickchart {\n",
              "      --bg-color: #E8F0FE;\n",
              "      --fill-color: #1967D2;\n",
              "      --hover-bg-color: #E2EBFA;\n",
              "      --hover-fill-color: #174EA6;\n",
              "      --disabled-fill-color: #AAA;\n",
              "      --disabled-bg-color: #DDD;\n",
              "  }\n",
              "\n",
              "  [theme=dark] .colab-df-quickchart {\n",
              "      --bg-color: #3B4455;\n",
              "      --fill-color: #D2E3FC;\n",
              "      --hover-bg-color: #434B5C;\n",
              "      --hover-fill-color: #FFFFFF;\n",
              "      --disabled-bg-color: #3B4455;\n",
              "      --disabled-fill-color: #666;\n",
              "  }\n",
              "\n",
              "  .colab-df-quickchart {\n",
              "    background-color: var(--bg-color);\n",
              "    border: none;\n",
              "    border-radius: 50%;\n",
              "    cursor: pointer;\n",
              "    display: none;\n",
              "    fill: var(--fill-color);\n",
              "    height: 32px;\n",
              "    padding: 0;\n",
              "    width: 32px;\n",
              "  }\n",
              "\n",
              "  .colab-df-quickchart:hover {\n",
              "    background-color: var(--hover-bg-color);\n",
              "    box-shadow: 0 1px 2px rgba(60, 64, 67, 0.3), 0 1px 3px 1px rgba(60, 64, 67, 0.15);\n",
              "    fill: var(--button-hover-fill-color);\n",
              "  }\n",
              "\n",
              "  .colab-df-quickchart-complete:disabled,\n",
              "  .colab-df-quickchart-complete:disabled:hover {\n",
              "    background-color: var(--disabled-bg-color);\n",
              "    fill: var(--disabled-fill-color);\n",
              "    box-shadow: none;\n",
              "  }\n",
              "\n",
              "  .colab-df-spinner {\n",
              "    border: 2px solid var(--fill-color);\n",
              "    border-color: transparent;\n",
              "    border-bottom-color: var(--fill-color);\n",
              "    animation:\n",
              "      spin 1s steps(1) infinite;\n",
              "  }\n",
              "\n",
              "  @keyframes spin {\n",
              "    0% {\n",
              "      border-color: transparent;\n",
              "      border-bottom-color: var(--fill-color);\n",
              "      border-left-color: var(--fill-color);\n",
              "    }\n",
              "    20% {\n",
              "      border-color: transparent;\n",
              "      border-left-color: var(--fill-color);\n",
              "      border-top-color: var(--fill-color);\n",
              "    }\n",
              "    30% {\n",
              "      border-color: transparent;\n",
              "      border-left-color: var(--fill-color);\n",
              "      border-top-color: var(--fill-color);\n",
              "      border-right-color: var(--fill-color);\n",
              "    }\n",
              "    40% {\n",
              "      border-color: transparent;\n",
              "      border-right-color: var(--fill-color);\n",
              "      border-top-color: var(--fill-color);\n",
              "    }\n",
              "    60% {\n",
              "      border-color: transparent;\n",
              "      border-right-color: var(--fill-color);\n",
              "    }\n",
              "    80% {\n",
              "      border-color: transparent;\n",
              "      border-right-color: var(--fill-color);\n",
              "      border-bottom-color: var(--fill-color);\n",
              "    }\n",
              "    90% {\n",
              "      border-color: transparent;\n",
              "      border-bottom-color: var(--fill-color);\n",
              "    }\n",
              "  }\n",
              "</style>\n",
              "\n",
              "  <script>\n",
              "    async function quickchart(key) {\n",
              "      const quickchartButtonEl =\n",
              "        document.querySelector('#' + key + ' button');\n",
              "      quickchartButtonEl.disabled = true;  // To prevent multiple clicks.\n",
              "      quickchartButtonEl.classList.add('colab-df-spinner');\n",
              "      try {\n",
              "        const charts = await google.colab.kernel.invokeFunction(\n",
              "            'suggestCharts', [key], {});\n",
              "      } catch (error) {\n",
              "        console.error('Error during call to suggestCharts:', error);\n",
              "      }\n",
              "      quickchartButtonEl.classList.remove('colab-df-spinner');\n",
              "      quickchartButtonEl.classList.add('colab-df-quickchart-complete');\n",
              "    }\n",
              "    (() => {\n",
              "      let quickchartButtonEl =\n",
              "        document.querySelector('#df-1b2d248d-44a6-45cd-99ed-5a3557b91d1f button');\n",
              "      quickchartButtonEl.style.display =\n",
              "        google.colab.kernel.accessAllowed ? 'block' : 'none';\n",
              "    })();\n",
              "  </script>\n",
              "</div>\n",
              "\n",
              "  <div id=\"id_f7655939-1e1d-47a9-a7b3-f0a9987c8d5d\">\n",
              "    <style>\n",
              "      .colab-df-generate {\n",
              "        background-color: #E8F0FE;\n",
              "        border: none;\n",
              "        border-radius: 50%;\n",
              "        cursor: pointer;\n",
              "        display: none;\n",
              "        fill: #1967D2;\n",
              "        height: 32px;\n",
              "        padding: 0 0 0 0;\n",
              "        width: 32px;\n",
              "      }\n",
              "\n",
              "      .colab-df-generate:hover {\n",
              "        background-color: #E2EBFA;\n",
              "        box-shadow: 0px 1px 2px rgba(60, 64, 67, 0.3), 0px 1px 3px 1px rgba(60, 64, 67, 0.15);\n",
              "        fill: #174EA6;\n",
              "      }\n",
              "\n",
              "      [theme=dark] .colab-df-generate {\n",
              "        background-color: #3B4455;\n",
              "        fill: #D2E3FC;\n",
              "      }\n",
              "\n",
              "      [theme=dark] .colab-df-generate:hover {\n",
              "        background-color: #434B5C;\n",
              "        box-shadow: 0px 1px 3px 1px rgba(0, 0, 0, 0.15);\n",
              "        filter: drop-shadow(0px 1px 2px rgba(0, 0, 0, 0.3));\n",
              "        fill: #FFFFFF;\n",
              "      }\n",
              "    </style>\n",
              "    <button class=\"colab-df-generate\" onclick=\"generateWithVariable('product_deltaE')\"\n",
              "            title=\"Generate code using this dataframe.\"\n",
              "            style=\"display:none;\">\n",
              "\n",
              "  <svg xmlns=\"http://www.w3.org/2000/svg\" height=\"24px\"viewBox=\"0 0 24 24\"\n",
              "       width=\"24px\">\n",
              "    <path d=\"M7,19H8.4L18.45,9,17,7.55,7,17.6ZM5,21V16.75L18.45,3.32a2,2,0,0,1,2.83,0l1.4,1.43a1.91,1.91,0,0,1,.58,1.4,1.91,1.91,0,0,1-.58,1.4L9.25,21ZM18.45,9,17,7.55Zm-12,3A5.31,5.31,0,0,0,4.9,8.1,5.31,5.31,0,0,0,1,6.5,5.31,5.31,0,0,0,4.9,4.9,5.31,5.31,0,0,0,6.5,1,5.31,5.31,0,0,0,8.1,4.9,5.31,5.31,0,0,0,12,6.5,5.46,5.46,0,0,0,6.5,12Z\"/>\n",
              "  </svg>\n",
              "    </button>\n",
              "    <script>\n",
              "      (() => {\n",
              "      const buttonEl =\n",
              "        document.querySelector('#id_f7655939-1e1d-47a9-a7b3-f0a9987c8d5d button.colab-df-generate');\n",
              "      buttonEl.style.display =\n",
              "        google.colab.kernel.accessAllowed ? 'block' : 'none';\n",
              "\n",
              "      buttonEl.onclick = () => {\n",
              "        google.colab.notebook.generateWithVariable('product_deltaE');\n",
              "      }\n",
              "      })();\n",
              "    </script>\n",
              "  </div>\n",
              "\n",
              "    </div>\n",
              "  </div>\n"
            ],
            "application/vnd.google.colaboratory.intrinsic+json": {
              "type": "dataframe",
              "variable_name": "product_deltaE",
              "summary": "{\n  \"name\": \"product_deltaE\",\n  \"rows\": 4,\n  \"fields\": [\n    {\n      \"column\": \"product category\",\n      \"properties\": {\n        \"dtype\": \"string\",\n        \"num_unique_values\": 4,\n        \"samples\": [\n          \"lipgloss\",\n          \"lipstick\",\n          \"blush\"\n        ],\n        \"semantic_type\": \"\",\n        \"description\": \"\"\n      }\n    },\n    {\n      \"column\": \"Delta E\",\n      \"properties\": {\n        \"dtype\": \"date\",\n        \"min\": 32.68687651221172,\n        \"max\": 76.2695304885734,\n        \"num_unique_values\": 4,\n        \"samples\": [\n          76.2695304885734,\n          56.84474056370729,\n          32.68687651221172\n        ],\n        \"semantic_type\": \"\",\n        \"description\": \"\"\n      }\n    }\n  ]\n}"
            }
          },
          "metadata": {},
          "execution_count": 213
        }
      ]
    },
    {
      "cell_type": "code",
      "source": [
        "df.to_csv('/content/drive/My Drive/df_llm_2.csv')"
      ],
      "metadata": {
        "id": "DL0Z2zUHlc5a"
      },
      "execution_count": null,
      "outputs": []
    },
    {
      "cell_type": "code",
      "source": [
        "import seaborn as sns"
      ],
      "metadata": {
        "id": "UXHwUQEAlc5a"
      },
      "execution_count": null,
      "outputs": []
    },
    {
      "cell_type": "code",
      "source": [
        "# Create a scatter plot\n",
        "plt.figure(figsize=(8, 6))\n",
        "sns.scatterplot(data=df_val, x=df['diff_llm_lab'], y=df['diff_llm_lab_2'], color='blue')\n",
        "plt.xlabel('Delta E for LLM (Prompt 2)')\n",
        "plt.ylabel('Delta E for LLM (Prompt 3)')\n",
        "plt.title('Comparing Method 1 and Method 2')\n",
        "\n",
        "# Points for the line\n",
        "line_x = [0, 10, 20, 30, 40, 50, 60, 70, 80]\n",
        "line_y = [0, 10, 20, 30, 40, 50, 60, 70, 80]\n",
        "\n",
        "# Plot the line\n",
        "plt.plot(line_x, line_y, color='red', linestyle='-', linewidth=2, marker='o')\n",
        "\n",
        "\n",
        "plt.grid(True)\n",
        "plt.show()"
      ],
      "metadata": {
        "colab": {
          "base_uri": "https://localhost:8080/",
          "height": 564
        },
        "outputId": "290647d1-15cd-4233-dcbc-a46c2e5a258a",
        "id": "OHmNj9rdlc5a"
      },
      "execution_count": null,
      "outputs": [
        {
          "output_type": "display_data",
          "data": {
            "text/plain": [
              "<Figure size 800x600 with 1 Axes>"
            ],
            "image/png": "[encoded data removed]"
          },
          "metadata": {}
        }
      ]
    },
    {
      "cell_type": "markdown",
      "source": [
        "# Conclusion\n",
        "\n",
        "The prompt used in the second round improved the results in two significant ways:\n",
        "\n",
        "Reliability: The number of cases with a Delta E higher than 40 is now nonexistent, demonstrating a marked increase in the consistency and reliability of the color identification.\n",
        "\n",
        "Accuracy: The prompt refined the accuracy of the model, as 12.85% of the cases that previously had a Delta E above 20 have now shifted to below 20, while only 4.35% of the cases that were below 20 have moved above 20. This results in a net gain of 8% in cases with better color accuracy.\n",
        "\n",
        "Overall, almost 70% of the cases now have a Delta E below 20, and 50% have a Delta E below 15, indicating a substantial improvement in the model's precision. These enhancements not only reduce significant color discrepancies but also bring the results closer to a level of fidelity that is crucial for applications requiring high accuracy in color representation."
      ],
      "metadata": {
        "id": "L_iifIcrJ7o5"
      }
    },
    {
      "cell_type": "code",
      "source": [
        "# Categorize the values\n",
        "prompt1_below15 = df['diff_llm_lab'].apply(lambda x: 'Below 20' if x < 20 else 'Above 20')\n",
        "prompt3_below15 = df['diff_llm_lab_2'].apply(lambda x: 'Below 20' if x < 20 else 'Above 20')\n",
        "\n",
        "# Create the 2x2 table (contingency table)\n",
        "contingency_table = pd.crosstab(prompt1_below15, prompt3_below15)/len(df)*100\n",
        "\n",
        "# Display the table\n",
        "print(round(contingency_table,2))"
      ],
      "metadata": {
        "colab": {
          "base_uri": "https://localhost:8080/"
        },
        "id": "UVSc55iZI1vh",
        "outputId": "6d83891d-2504-42aa-d409-de1ae7e51d2e"
      },
      "execution_count": null,
      "outputs": [
        {
          "output_type": "stream",
          "name": "stdout",
          "text": [
            "diff_llm_lab_2  Above 20  Below 20\n",
            "diff_llm_lab                      \n",
            "Above 20           13.24     12.85\n",
            "Below 20            4.35     69.57\n"
          ]
        }
      ]
    }
  ]
}